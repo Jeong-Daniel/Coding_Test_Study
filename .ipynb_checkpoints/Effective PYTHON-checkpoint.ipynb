{
 "cells": [
  {
   "cell_type": "markdown",
   "id": "1ef67371",
   "metadata": {},
   "source": [
    " ### 30. 리스트를 반환하기보다는 제너레이터를 사용하라"
   ]
  },
  {
   "cell_type": "code",
   "execution_count": 8,
   "id": "cd7ab7df",
   "metadata": {},
   "outputs": [],
   "source": [
    "def index_words(text):\n",
    "    result = []\n",
    "    if text:\n",
    "        result.append(0)\n",
    "    for index, letter in enumerate(text):\n",
    "        if letter == ' ':\n",
    "            result.append(index+1)\n",
    "    return result"
   ]
  },
  {
   "cell_type": "code",
   "execution_count": 9,
   "id": "89944159",
   "metadata": {},
   "outputs": [
    {
     "name": "stdout",
     "output_type": "stream",
     "text": [
      "[0, 8, 18, 27, 37]\n"
     ]
    }
   ],
   "source": [
    "address = '컴퓨터(영어: Computer, 문화어:컴퓨터, 순화어:전산기)는 진공관'\n",
    "result = index_words(address)\n",
    "print(result)"
   ]
  },
  {
   "cell_type": "code",
   "execution_count": 10,
   "id": "47de10b8",
   "metadata": {},
   "outputs": [],
   "source": [
    "def index_words_iter(text):\n",
    "    if text:\n",
    "        yield 0\n",
    "    for index, letter in enumerate(text):\n",
    "        if letter == ' ':\n",
    "            yield index + 1"
   ]
  },
  {
   "cell_type": "code",
   "execution_count": 11,
   "id": "b868835f",
   "metadata": {},
   "outputs": [
    {
     "name": "stdout",
     "output_type": "stream",
     "text": [
      "0\n",
      "8\n"
     ]
    }
   ],
   "source": [
    "it = index_words_iter(address)\n",
    "print(next(it))\n",
    "print(next(it))"
   ]
  },
  {
   "cell_type": "code",
   "execution_count": 13,
   "id": "857ad3aa",
   "metadata": {},
   "outputs": [
    {
     "name": "stdout",
     "output_type": "stream",
     "text": [
      "[0, 8, 18, 27, 37]\n"
     ]
    }
   ],
   "source": [
    "result = list(index_words_iter(address))\n",
    "print(result)"
   ]
  },
  {
   "cell_type": "markdown",
   "id": "92c2700c",
   "metadata": {},
   "source": [
    "한번에 한줄 씩 읽어 한단어씩 출력하는 제너레이터"
   ]
  },
  {
   "cell_type": "code",
   "execution_count": 14,
   "id": "3014a046",
   "metadata": {},
   "outputs": [],
   "source": [
    "def index_file(handle):\n",
    "    offset = 0\n",
    "    for line in handle:\n",
    "        if line:\n",
    "            yield offset\n",
    "        for letter in line:\n",
    "            offset += 1\n",
    "            if letter == ' ':\n",
    "                yield offset"
   ]
  },
  {
   "cell_type": "markdown",
   "id": "d339dc39",
   "metadata": {},
   "source": [
    "### 33. yield from을 사용해 여러 제너레이터를 합성하라"
   ]
  },
  {
   "cell_type": "code",
   "execution_count": 1,
   "id": "4da9a62b",
   "metadata": {},
   "outputs": [],
   "source": [
    "def move(period, speed):\n",
    "    for _ in range(period):\n",
    "        yield speed\n",
    "    \n",
    "def pause(delay):\n",
    "    for _ in range(delay):\n",
    "        yield 0"
   ]
  },
  {
   "cell_type": "code",
   "execution_count": 2,
   "id": "51a6e244",
   "metadata": {},
   "outputs": [],
   "source": [
    "def animate():\n",
    "    for delta in move(4, 5.0):\n",
    "        yield delta\n",
    "    for delta in pause(3):\n",
    "        yield delta\n",
    "    for delta in move(2, 3.0):\n",
    "        yield delta"
   ]
  },
  {
   "cell_type": "code",
   "execution_count": 3,
   "id": "001da651",
   "metadata": {},
   "outputs": [],
   "source": [
    "def render(delta):\n",
    "    print(f'Delta: {delta:.1f}')\n",
    "    #화면에서 이미지를 이동시킨다\n",
    "    \n",
    "def run(func):\n",
    "    for delta in func():\n",
    "        render(delta)"
   ]
  },
  {
   "cell_type": "code",
   "execution_count": 4,
   "id": "d9a51e3d",
   "metadata": {},
   "outputs": [
    {
     "name": "stdout",
     "output_type": "stream",
     "text": [
      "Delta: 5.0\n",
      "Delta: 5.0\n",
      "Delta: 5.0\n",
      "Delta: 5.0\n",
      "Delta: 0.0\n",
      "Delta: 0.0\n",
      "Delta: 0.0\n",
      "Delta: 3.0\n",
      "Delta: 3.0\n"
     ]
    }
   ],
   "source": [
    "run(animate)"
   ]
  },
  {
   "cell_type": "code",
   "execution_count": 5,
   "id": "8d03145e",
   "metadata": {},
   "outputs": [
    {
     "name": "stdout",
     "output_type": "stream",
     "text": [
      "Delta: 5.0\n",
      "Delta: 5.0\n",
      "Delta: 5.0\n",
      "Delta: 5.0\n",
      "Delta: 0.0\n",
      "Delta: 0.0\n",
      "Delta: 0.0\n",
      "Delta: 3.0\n",
      "Delta: 3.0\n"
     ]
    }
   ],
   "source": [
    "def animate_composed():\n",
    "    yield from move(4,5.0)\n",
    "    yield from pause(3)\n",
    "    yield from move(2, 3.0)\n",
    "\n",
    "run(animate_composed)"
   ]
  },
  {
   "cell_type": "code",
   "execution_count": null,
   "id": "5d6b059f",
   "metadata": {},
   "outputs": [],
   "source": []
  }
 ],
 "metadata": {
  "kernelspec": {
   "display_name": "Python 3 (ipykernel)",
   "language": "python",
   "name": "python3"
  },
  "language_info": {
   "codemirror_mode": {
    "name": "ipython",
    "version": 3
   },
   "file_extension": ".py",
   "mimetype": "text/x-python",
   "name": "python",
   "nbconvert_exporter": "python",
   "pygments_lexer": "ipython3",
   "version": "3.9.7"
  }
 },
 "nbformat": 4,
 "nbformat_minor": 5
}
