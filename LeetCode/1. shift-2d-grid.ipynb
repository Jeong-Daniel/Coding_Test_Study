{
 "cells": [
  {
   "cell_type": "markdown",
   "id": "45b5eb2a",
   "metadata": {},
   "source": [
    "4월 11일  \n",
    "### shift-2d-grid\n",
    "https://leetcode.com/problems/shift-2d-grid/submissions/  "
   ]
  },
  {
   "cell_type": "code",
   "execution_count": 95,
   "id": "9996526c",
   "metadata": {},
   "outputs": [],
   "source": [
    "grid = [[3,8,1,9],[19,7,2,5],[4,6,11,10],[12,0,21,13]]\n",
    "k = 4"
   ]
  },
  {
   "cell_type": "code",
   "execution_count": 96,
   "id": "7e5c4884",
   "metadata": {
    "scrolled": true
   },
   "outputs": [],
   "source": [
    "m = len(grid[0])\n",
    "n = len(grid)\n",
    "array = [[0 for _ in range(n)] for _ in range(m)]\n",
    "for num in range(k):\n",
    "    for i in range(n):\n",
    "        for j in range(m):\n",
    "            if (j==(n-1) and i!=(m-1)):\n",
    "                array[i+1][0]=grid[i][j]\n",
    "            elif (j==(n-1) and i==(m-1)):\n",
    "                array[0][0]=grid[i][j]\n",
    "            else:\n",
    "                array[i][j+1]=grid[i][j]"
   ]
  },
  {
   "cell_type": "markdown",
   "id": "a3ab4817",
   "metadata": {},
   "source": [
    "첫번째 아이디어 일단 행렬을 한칸씩 땡기는 것이니 x축과 y축을 훑으면서 전체한칸씩 밀고 그것을 k번 반복하기  \n",
    "\n",
    "문제는 막상 하고보니 3중첩 for문이 되어버리고 갱신해야하는 번거러움 때문에 지나치게 비효율적\n",
    "\n",
    "그래서 생각한게 결국 행렬이 있다면 옆으로 몇칸 이동한 것인가 알고리즘을 짜는건데\n",
    "\n",
    "2차원 행렬을 그냥 리스트로 만들어서 이동시킨 다음에 2차원으로 재조립하는게 빠르겠다는 생각이듬"
   ]
  },
  {
   "cell_type": "code",
   "execution_count": 97,
   "id": "8f86760d",
   "metadata": {},
   "outputs": [],
   "source": [
    "grid = [[3,8,1,9],[19,7,2,5],[4,6,11,10],[12,0,21,13]]\n",
    "k = 4\n",
    "\n",
    "m = len(grid[0])\n",
    "n = len(grid)\n",
    "list1 = sum(grid, [])"
   ]
  },
  {
   "cell_type": "markdown",
   "id": "5bd922ae",
   "metadata": {},
   "source": [
    "sum(grid, [])을 이용하면 간단하게 2차원을 1차원으로 변경 가능"
   ]
  },
  {
   "cell_type": "code",
   "execution_count": 98,
   "id": "b3b89eb6",
   "metadata": {},
   "outputs": [],
   "source": [
    "temp = [0 for _ in range(n*m)]"
   ]
  },
  {
   "cell_type": "markdown",
   "id": "d98c54ba",
   "metadata": {},
   "source": [
    "값을 담기 위해 비어있는 행렬 생성"
   ]
  },
  {
   "cell_type": "code",
   "execution_count": 99,
   "id": "b1e06969",
   "metadata": {},
   "outputs": [],
   "source": [
    "for i in range(n*m):\n",
    "    temp[(i+k)%(n*m)] = list1[i]"
   ]
  },
  {
   "cell_type": "markdown",
   "id": "497606c8",
   "metadata": {},
   "source": [
    "옆으로 k만큼 이동한 값을 집어 넣으면"
   ]
  },
  {
   "cell_type": "code",
   "execution_count": 100,
   "id": "e287dfc0",
   "metadata": {
    "scrolled": true
   },
   "outputs": [
    {
     "data": {
      "text/plain": [
       "[12, 0, 21, 13, 3, 8, 1, 9, 19, 7, 2, 5, 4, 6, 11, 10]"
      ]
     },
     "execution_count": 100,
     "metadata": {},
     "output_type": "execute_result"
    }
   ],
   "source": [
    "temp"
   ]
  },
  {
   "cell_type": "markdown",
   "id": "b46b2400",
   "metadata": {},
   "source": [
    "이렇게 k번 만큼 이동한 값 만들어짐"
   ]
  },
  {
   "cell_type": "code",
   "execution_count": 101,
   "id": "bd67cb6b",
   "metadata": {},
   "outputs": [],
   "source": [
    "x_temp = []\n",
    "y_temp = []\n",
    "for i in range(m*n):\n",
    "    x_temp.append(temp[i])\n",
    "    if i%m==(m-1):\n",
    "        y_temp.append(x_temp)\n",
    "        x_temp = []"
   ]
  },
  {
   "cell_type": "markdown",
   "id": "578579af",
   "metadata": {},
   "source": [
    "for문과 if문을 이용해서 다시 2차원 행렬로 조립"
   ]
  },
  {
   "cell_type": "code",
   "execution_count": 102,
   "id": "3038f6ff",
   "metadata": {},
   "outputs": [
    {
     "data": {
      "text/plain": [
       "[[12, 0, 21, 13], [3, 8, 1, 9], [19, 7, 2, 5], [4, 6, 11, 10]]"
      ]
     },
     "execution_count": 102,
     "metadata": {},
     "output_type": "execute_result"
    }
   ],
   "source": [
    "y_temp "
   ]
  },
  {
   "cell_type": "markdown",
   "id": "fb382909",
   "metadata": {},
   "source": [
    "테스트 통과"
   ]
  }
 ],
 "metadata": {
  "kernelspec": {
   "display_name": "Python 3 (ipykernel)",
   "language": "python",
   "name": "python3"
  },
  "language_info": {
   "codemirror_mode": {
    "name": "ipython",
    "version": 3
   },
   "file_extension": ".py",
   "mimetype": "text/x-python",
   "name": "python",
   "nbconvert_exporter": "python",
   "pygments_lexer": "ipython3",
   "version": "3.9.7"
  }
 },
 "nbformat": 4,
 "nbformat_minor": 5
}
