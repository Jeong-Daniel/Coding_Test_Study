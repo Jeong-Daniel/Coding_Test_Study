{
 "cells": [
  {
   "cell_type": "markdown",
   "id": "a4fd5c43",
   "metadata": {},
   "source": [
    "2. Find and Replace Pattern(890)\n",
    "https://leetcode.com/problems/find-and-replace-pattern/"
   ]
  },
  {
   "cell_type": "markdown",
   "id": "109c5f7e",
   "metadata": {},
   "source": [
    "Given a list of strings words and a string pattern, return a list of words[i] that match pattern. You may return the answer in any order.\n",
    "string형태로 words와 pattern이 주어지면 패턴과 일치하는 words[i]를 반환합니다. 순서는 상관없습니다.\n",
    "\n",
    "A word matches the pattern if there exists a permutation of letters p so that after replacing every letter x in the pattern with p(x), we get the desired word.\n",
    "문자 p에 대해서 순열이 존재한다면 단어가 패턴과 일치하므로 패턴의 모든 문자 x를 p(x)로 바꾼 후 원하는 단어를 얻을 수 있습니다.\n",
    "\n",
    "Recall that a permutation of letters is a bijection from letters to letters: every letter maps to another letter, and no two letters map to the same letter.\n",
    "\n",
    "Example)\n",
    "Input: words = [\"abc\",\"deq\",\"mee\",\"aqq\",\"dkd\",\"ccc\"], pattern = \"abb\"\n",
    "Output: [\"mee\",\"aqq\"]\n",
    "\"mee\" matches the pattern because there is a permutation {a -> m, b -> e, ...}. \n",
    "\"ccc\" does not match the pattern because {a -> c, b -> c, ...} is not a permutation, since a and b map to the same letter.\n",
    "\n",
    "{a -> m, b -> e, ...} 순열이 있기에 mee는 패턴과 일치합니다.\n",
    "ccc의 경우 {a -> c, b -> c, ...}인데 이는 순열이 아니기 때문입니다.단순히 a와 b가 같은 문자에 매핑되는 것은 순열이 아닙니다\n",
    "\n",
    "* 조건\n",
    "패턴의 길이는 최소 1 최대 20\n",
    "단어의 개수는 1개부터 50개 까지\n",
    "소문자 기준으로"
   ]
  },
  {
   "cell_type": "markdown",
   "id": "6e3411ca",
   "metadata": {},
   "source": [
    "그러니까 이번 문제는 패턴을 주게 되고 단어들을 주게 되면 패턴과 일치한 단어들을 뽑아내야한다. 그런데 여기서 각 단어는 중요하지 않고 말그대로 패턴이 중요하다 즉 패턴이 abb라면 cbb dbb 모두 허용한다는 뜻이다. 그렇다면 가장 먼저 떠오르는 생각은 패턴이 들어온다면 이를 정량적인 형태로 걸러야 겠다"
   ]
  },
  {
   "cell_type": "code",
   "execution_count": 91,
   "id": "7d1e97e1",
   "metadata": {},
   "outputs": [],
   "source": [
    "words = [\"abc\",\"deq\",\"mee\",\"aqq\",\"dkd\",\"ccc\"]\n",
    "pattern = \"abb\""
   ]
  },
  {
   "cell_type": "code",
   "execution_count": 92,
   "id": "d1adf85a",
   "metadata": {},
   "outputs": [],
   "source": [
    "c_dict = dict()\n",
    "check = []\n",
    "count = 0"
   ]
  },
  {
   "cell_type": "code",
   "execution_count": 93,
   "id": "63e797b8",
   "metadata": {},
   "outputs": [],
   "source": [
    "for i in range(len(pattern)):\n",
    "    if pattern[i] not in c_dict:\n",
    "        c_dict[pattern[i]] = count\n",
    "        check.append(count)\n",
    "        count+=1\n",
    "    else:\n",
    "        check.append(c_dict[pattern[i]])"
   ]
  },
  {
   "cell_type": "markdown",
   "id": "92c74d00",
   "metadata": {},
   "source": [
    "파이썬의 사전을 사용했다. 첫번째 예제인 abb를 보자  \n",
    "a가 들어왔는데 사전에 있는지 살펴보자 없으니까 추가를 하고 사전에는 a:0으로 넣어주자  \n",
    "그리고 b가 들어 왔는데 마찬가지로 사전에 없으니 b:1로 넣어주자  \n",
    "마지막으로 b가 들어 왔을때는 사전에 있으니 b의 값인 1을 추가해서 check 패턴을 완성한다.  "
   ]
  },
  {
   "cell_type": "code",
   "execution_count": 94,
   "id": "7410ff01",
   "metadata": {},
   "outputs": [
    {
     "data": {
      "text/plain": [
       "[0, 1, 1]"
      ]
     },
     "execution_count": 94,
     "metadata": {},
     "output_type": "execute_result"
    }
   ],
   "source": [
    "check"
   ]
  },
  {
   "cell_type": "markdown",
   "id": "6a885c75",
   "metadata": {},
   "source": [
    "예상했던대로 작동한다. 이부분만 함수화 시켜보자"
   ]
  },
  {
   "cell_type": "code",
   "execution_count": 95,
   "id": "da3e44ac",
   "metadata": {},
   "outputs": [],
   "source": [
    "def check_f(pattern):\n",
    "    c_dict = dict()\n",
    "    check = []\n",
    "    count = 0\n",
    "    for i in range(len(pattern)):\n",
    "        if pattern[i] not in c_dict:\n",
    "            c_dict[pattern[i]] = count\n",
    "            check.append(count)\n",
    "            count+=1\n",
    "        else:\n",
    "            check.append(c_dict[pattern[i]])\n",
    "    return check"
   ]
  },
  {
   "cell_type": "code",
   "execution_count": 96,
   "id": "bf9e8194",
   "metadata": {},
   "outputs": [
    {
     "name": "stdout",
     "output_type": "stream",
     "text": [
      "[0, 1, 1]\n"
     ]
    }
   ],
   "source": [
    "c_pattern = check_f(pattern)\n",
    "print(c_pattern)"
   ]
  },
  {
   "cell_type": "markdown",
   "id": "83000cee",
   "metadata": {},
   "source": [
    "함수도 정상적으로 작동한다.\n",
    "\n",
    "그리고 word를 쭉 돌면서 리턴값이 같은 녀석들만 따로 모아서 return해주면 되겠다."
   ]
  },
  {
   "cell_type": "code",
   "execution_count": 97,
   "id": "818c6547",
   "metadata": {},
   "outputs": [],
   "source": [
    "re_list = []\n",
    "for i in range(len(words)):\n",
    "    if c_pattern == check_f(words[i]):\n",
    "        re_list.append(words[i])"
   ]
  },
  {
   "cell_type": "code",
   "execution_count": 98,
   "id": "2fc2173d",
   "metadata": {},
   "outputs": [
    {
     "data": {
      "text/plain": [
       "['mee', 'aqq']"
      ]
     },
     "execution_count": 98,
     "metadata": {},
     "output_type": "execute_result"
    }
   ],
   "source": [
    "re_list"
   ]
  },
  {
   "cell_type": "markdown",
   "id": "103646f6",
   "metadata": {},
   "source": [
    "리스트가 정상적으로 반환되었다. 테스트 통과 덤으로 속도는 상위 97.9%  \n",
    "전체 테스트 케이스 한번만에 통과한거는 되게 오랜만이네"
   ]
  },
  {
   "cell_type": "markdown",
   "id": "f028305e",
   "metadata": {},
   "source": [
    "![테스트통과](./2_test_time.png)"
   ]
  },
  {
   "cell_type": "markdown",
   "id": "3fe0f572",
   "metadata": {},
   "source": [
    "그런데 늘 정답지 보고있으면 되게 지저분하게 풀었다. "
   ]
  },
  {
   "cell_type": "code",
   "execution_count": null,
   "id": "cad2b42e",
   "metadata": {},
   "outputs": [],
   "source": []
  }
 ],
 "metadata": {
  "kernelspec": {
   "display_name": "Python 3 (ipykernel)",
   "language": "python",
   "name": "python3"
  },
  "language_info": {
   "codemirror_mode": {
    "name": "ipython",
    "version": 3
   },
   "file_extension": ".py",
   "mimetype": "text/x-python",
   "name": "python",
   "nbconvert_exporter": "python",
   "pygments_lexer": "ipython3",
   "version": "3.9.7"
  }
 },
 "nbformat": 4,
 "nbformat_minor": 5
}
