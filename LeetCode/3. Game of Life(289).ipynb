{
 "cells": [
  {
   "cell_type": "markdown",
   "id": "e02c0659",
   "metadata": {},
   "source": [
    "Game of Life(289)\n",
    "https://leetcode.com/problems/game-of-life/\n",
    "\n",
    "The board is made up of an m x n grid of cells, where each cell has an initial state: live (represented by a 1) or dead (represented by a 0). Each cell interacts with its eight neighbors (horizontal, vertical, diagonal) using the following four rules (taken from the above Wikipedia article):\n",
    "보드는 셀의 MxN그리드로 구성되며 초기상태 생존 1 죽음 0으로 표시를 가지게 됩니다. 각 셀들은 네가지 규칙을 사용하여 8개의 이웃과 상호작용 합니다.\n",
    "\n",
    "Any live cell with fewer than two live neighbors dies as if caused by under-population.\n",
    "Any live cell with two or three live neighbors lives on to the next generation.\n",
    "Any live cell with more than three live neighbors dies, as if by over-population.\n",
    "Any dead cell with exactly three live neighbors becomes a live cell, as if by reproduction.\n",
    "The next state is created by applying the above rules simultaneously to every cell in the current state, where births and deaths occur simultaneously. Given the current state of the m x n grid board, return the next state.\n",
    "\n",
    "1. 살아 있는 이웃이 2명 미만이라면 세포는 인구 부족으로 인해 사망합니다. (이웃이 최소 2개 이상)\n",
    "2. 두세명의 살아있는 이웃을 가진 살아있는 세포는 모두 다음 세대로 살아갑니다.\n",
    "3. 4개 이상의 살아 있는 이웃을 가진 살아 있는 세포는 인구 과잉에 의해 죽습니다. (하지만 이웃이 3개가 넘어가면 안됨)\n",
    "4. 하지만 정확하게 3개의 살아있는 이웃을 가진 죽은 세포는 살아날 수 있습니다.\n",
    "위 규칙을 가지고 그리드의 다음 세대가 어떤 상태를 지니는지 구합니다"
   ]
  },
  {
   "cell_type": "markdown",
   "id": "9f80ceb3",
   "metadata": {},
   "source": [
    "최종적인 형태를 구하는 것은 아니고 말 그대로 다음 세대에는 어떻게 표시되는가 궁금한 것이다.  \n",
    "사실상 문제를 간단하게 풀기보다 모든셀을 순회하면서 조건을 확인하고 조건에 따라서 변환을 해야 겠다\n",
    "\n",
    "첫번째 생각 셀이 죽은경우와 살은 경우 분리해서 조건문 만들기\n",
    "\n",
    "일단 셀이 살아 있을때 두가지 경우가 있다. (정확히는 3가지)\n",
    "1. 이웃의 개수가 2개 미만이다 -> 죽음(0)으로 변경\n",
    "2. 이웃의 개수가 4개 이상이다 -> 죽음으로 변경\n",
    "3. 그대로 둔다.\n",
    "\n",
    "셀이 죽은 경우에는 한가지다\n",
    "1. 이웃이 정확히 3개가 있다. -> 생존(1)으로 변경\n",
    "2. 그대로 둔다.\n",
    "\n",
    "이제 각 셀을 순회할때 코드를 짜야한다.\n",
    "\n",
    "대충 표로 그려보자면 우리가 구하고자하는 [i,j]셀이라고 하자\n",
    "분명히 이런 판 순회하는거 문제 자주 나와서 풀어본 기억은 있는데 내가 고민해서 푼게 아니고 답지를 본거다보니 기억이 안난다."
   ]
  },
  {
   "cell_type": "code",
   "execution_count": 79,
   "id": "84d10c7e",
   "metadata": {},
   "outputs": [],
   "source": [
    "board = [[0,1,0],[0,0,1],[1,1,1],[0,0,0]]"
   ]
  },
  {
   "cell_type": "code",
   "execution_count": 80,
   "id": "bfc83c0d",
   "metadata": {
    "scrolled": true
   },
   "outputs": [
    {
     "name": "stdout",
     "output_type": "stream",
     "text": [
      "3 4\n"
     ]
    }
   ],
   "source": [
    "y = len(board)\n",
    "x = len(board[0])\n",
    "print(x,y)"
   ]
  },
  {
   "cell_type": "markdown",
   "id": "600d83a5",
   "metadata": {},
   "source": [
    "기본적인 틀은 만들어 졌는데 순회할때 값을 어떻게 찾으러 다니는가?  \n",
    "일단 지금 떠오르는거는 모든 케이스는 9까지로 귀결이 되니... 결국 효율적인 방법은 당장 떠오르지 않으니 하드코딩을 해보자\n",
    "\n",
    "이중for문과 9개의 조건문에 한번더 이중 조건문이 들어가는거를 보면 확실히 이렇게 푸는 문제는 아닌거 같다"
   ]
  },
  {
   "cell_type": "code",
   "execution_count": 81,
   "id": "165d8d81",
   "metadata": {},
   "outputs": [
    {
     "ename": "IndentationError",
     "evalue": "unexpected indent (Temp/ipykernel_27016/3034628011.py, line 4)",
     "output_type": "error",
     "traceback": [
      "\u001b[1;36m  File \u001b[1;32m\"C:\\Users\\dhjun\\AppData\\Local\\Temp/ipykernel_27016/3034628011.py\"\u001b[1;36m, line \u001b[1;32m4\u001b[0m\n\u001b[1;33m    if (i==0):\u001b[0m\n\u001b[1;37m    ^\u001b[0m\n\u001b[1;31mIndentationError\u001b[0m\u001b[1;31m:\u001b[0m unexpected indent\n"
     ]
    }
   ],
   "source": [
    "def check(bod,i,j):\n",
    "    y = len(bod)\n",
    "    x = len(bod[0])\n",
    "        if (i==0):\n",
    "            if j==0:\n",
    "                return bod[i+1][j]+bod[i][j+1]+bod[i+1][j+1]\n",
    "            else if j==y:\n",
    "                return bod[i-1][j]+bod[i-1][j+1]+bod[i][j+1]\n",
    "            else:\n",
    "                return bod[i-1][j]+bod[i-1][j+1]+bod[i][j+1]+bod[i+1][j]+bod[i+1][j+1]\n",
    "        else if i==x:\n",
    "            if j==0:\n",
    "                return bod[i-1][j]+bod[i-1][j+1]+bod[i][j+1]\n",
    "            else if j==y:\n",
    "                    \n",
    "            else:\n",
    "                \n",
    "        else:\n",
    "            if j==0:\n",
    "                \n",
    "            else if j==y:\n",
    "                    \n",
    "            else:"
   ]
  },
  {
   "cell_type": "markdown",
   "id": "a07eab16",
   "metadata": {},
   "source": [
    "이거 9가지 조건 따지고 있다가 뇌정지가 왔다. 다시 생각해보자  \n",
    "그냥 for문으로 주위를 순회하면 되는데 문제는 out of range 범위를 벗어나는 경우를 따지려고 했는데 가만 생각해보니 그러면 그냥 한칸 더 큰 틀을 만들어서 여백부분을 0으로 채우면 되는것 아닌가? 영향을 받는다고해도 그부분은 제거를 하면 되겠다는 생각이 들었다. 다시 보자"
   ]
  },
  {
   "cell_type": "code",
   "execution_count": 82,
   "id": "a5c6d487",
   "metadata": {
    "scrolled": true
   },
   "outputs": [
    {
     "name": "stdout",
     "output_type": "stream",
     "text": [
      "3 4\n",
      "6 5\n"
     ]
    }
   ],
   "source": [
    "y = len(board)\n",
    "x = len(board[0])\n",
    "temp_1 = [[0 for j in range(x+2)] for i in range(y+2)]\n",
    "temp_2 = [[0 for j in range(x+2)] for i in range(y+2)]\n",
    "print(x,y)\n",
    "print(len(temp_1), len(temp_1[0]))"
   ]
  },
  {
   "cell_type": "markdown",
   "id": "2a4138e1",
   "metadata": {},
   "source": [
    "두칸 더 큰 틀이 만들어 졌다. 우리가 얻은 board를 temp_1에다가 부어버리자"
   ]
  },
  {
   "cell_type": "code",
   "execution_count": 83,
   "id": "7b85197e",
   "metadata": {},
   "outputs": [
    {
     "name": "stdout",
     "output_type": "stream",
     "text": [
      "[[0, 0, 0, 0, 0], [0, 0, 0, 0, 0], [0, 0, 0, 0, 0], [0, 0, 0, 0, 0], [0, 0, 0, 0, 0], [0, 0, 0, 0, 0]]\n"
     ]
    }
   ],
   "source": [
    "print(temp_1)"
   ]
  },
  {
   "cell_type": "code",
   "execution_count": 84,
   "id": "863cdf9c",
   "metadata": {
    "scrolled": true
   },
   "outputs": [
    {
     "name": "stdout",
     "output_type": "stream",
     "text": [
      "[[0, 1, 0], [0, 0, 1], [1, 1, 1], [0, 0, 0]]\n"
     ]
    }
   ],
   "source": [
    "print(board)"
   ]
  },
  {
   "cell_type": "markdown",
   "id": "00dbb08a",
   "metadata": {},
   "source": [
    "다만 문제는 numpy와는 다르게 파이썬 기본라이브러리에서는 슬라이싱을 제대로 지원하지 않는다."
   ]
  },
  {
   "cell_type": "code",
   "execution_count": 91,
   "id": "31750739",
   "metadata": {},
   "outputs": [],
   "source": [
    "for i in range(y):\n",
    "    for j in range(x):\n",
    "        temp_1[i+1][j+1]=board[i][j]"
   ]
  },
  {
   "cell_type": "code",
   "execution_count": 92,
   "id": "8cd1c658",
   "metadata": {
    "scrolled": true
   },
   "outputs": [
    {
     "data": {
      "text/plain": [
       "[[0, 0, 0, 0, 0],\n",
       " [0, 0, 1, 0, 0],\n",
       " [0, 0, 0, 1, 0],\n",
       " [0, 1, 1, 1, 0],\n",
       " [0, 0, 0, 0, 0],\n",
       " [0, 0, 0, 0, 0]]"
      ]
     },
     "execution_count": 92,
     "metadata": {},
     "output_type": "execute_result"
    }
   ],
   "source": [
    "temp_1"
   ]
  },
  {
   "cell_type": "markdown",
   "id": "3dc85d0c",
   "metadata": {},
   "source": [
    "temp_1에서 주변을 더한다음 판단"
   ]
  },
  {
   "cell_type": "code",
   "execution_count": 95,
   "id": "509f2a7f",
   "metadata": {},
   "outputs": [],
   "source": [
    "for i in range(1,x-1):\n",
    "    for j in range(1,y-1):\n",
    "        check = (temp_1[i-1][j-1]+temp_1[i][j-1]+temp_1[i+1][j-1]\n",
    "        +temp_1[i-1][j]+temp_1[i+1][j]+temp_1[i-1][j+1]+temp_1[i][j+1]+temp_1[i+1][j+1])\n",
    "        if temp_1[i][j]==1:\n",
    "            if (check<2)or(check>4):\n",
    "                temp_1[i][j]=0\n",
    "        else:\n",
    "            if check==3:\n",
    "                temp_1[i][j]=1"
   ]
  },
  {
   "cell_type": "code",
   "execution_count": 96,
   "id": "16ba2ef7",
   "metadata": {},
   "outputs": [
    {
     "data": {
      "text/plain": [
       "[[0, 0, 0, 0, 0],\n",
       " [0, 0, 0, 0, 0],\n",
       " [0, 0, 0, 1, 0],\n",
       " [0, 1, 1, 1, 0],\n",
       " [0, 0, 0, 0, 0],\n",
       " [0, 0, 0, 0, 0]]"
      ]
     },
     "execution_count": 96,
     "metadata": {},
     "output_type": "execute_result"
    }
   ],
   "source": [
    "temp_1"
   ]
  },
  {
   "cell_type": "markdown",
   "id": "5e5f0ec4",
   "metadata": {},
   "source": [
    "... 이거는 pass"
   ]
  },
  {
   "cell_type": "code",
   "execution_count": null,
   "id": "a4fd2b00",
   "metadata": {},
   "outputs": [],
   "source": []
  }
 ],
 "metadata": {
  "kernelspec": {
   "display_name": "Python 3 (ipykernel)",
   "language": "python",
   "name": "python3"
  },
  "language_info": {
   "codemirror_mode": {
    "name": "ipython",
    "version": 3
   },
   "file_extension": ".py",
   "mimetype": "text/x-python",
   "name": "python",
   "nbconvert_exporter": "python",
   "pygments_lexer": "ipython3",
   "version": "3.9.7"
  }
 },
 "nbformat": 4,
 "nbformat_minor": 5
}
