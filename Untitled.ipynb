{
 "cells": [
  {
   "cell_type": "code",
   "execution_count": 64,
   "id": "3ef3a03e",
   "metadata": {},
   "outputs": [
    {
     "data": {
      "text/plain": [
       "[[2, 2, 1, 2, 0, 0],\n",
       " [1, 1, 0, 2, 0, 0],\n",
       " [2, 2, 1, 0, 0, 0],\n",
       " [2, 2, 0, 0, 0, 0],\n",
       " [2, 2, 0, 0, 0, 0]]"
      ]
     },
     "execution_count": 64,
     "metadata": {},
     "output_type": "execute_result"
    }
   ],
   "source": [
    "histogram = [[0,0,0,0,0],[0,0,0,0,0],[2,2,0,0,0],[1,0,1,0,0],[2,1,2,2,2],[2,1,2,2,2]]\n",
    "histogram = list(map(list, zip(*histogram[::-1])))\n",
    "y_len = len(histogram)\n",
    "x_len = len(histogram[0])\n",
    "histogram"
   ]
  },
  {
   "cell_type": "code",
   "execution_count": 77,
   "id": "47bb01ac",
   "metadata": {},
   "outputs": [],
   "source": [
    "stack = []\n",
    "for y in range(y_len):\n",
    "    check = 0\n",
    "    for x in range(1, x_len+1):\n",
    "        num = histogram[y][-x]\n",
    "        if num == 0:\n",
    "            if check!=0:\n",
    "                check=0\n",
    "                continue\n",
    "            continue\n",
    "        if num == 1 and check==0:\n",
    "            break\n",
    "        if num == 2 and check==0:\n",
    "            check+=2\n",
    "        elif num == 2:\n",
    "            check+=1\n",
    "        if num == 1 and check:\n",
    "            break\n",
    "    if check!=0:\n",
    "        stack.append(check)"
   ]
  },
  {
   "cell_type": "code",
   "execution_count": 78,
   "id": "797f4357",
   "metadata": {},
   "outputs": [
    {
     "data": {
      "text/plain": [
       "[2, 3, 3]"
      ]
     },
     "execution_count": 78,
     "metadata": {},
     "output_type": "execute_result"
    }
   ],
   "source": [
    "stack"
   ]
  },
  {
   "cell_type": "code",
   "execution_count": 79,
   "id": "4c4a915e",
   "metadata": {
    "scrolled": false
   },
   "outputs": [
    {
     "name": "stdout",
     "output_type": "stream",
     "text": [
      "18\n"
     ]
    }
   ],
   "source": [
    "answer = 1\n",
    "for i in stack:\n",
    "    answer *= i\n",
    "print(answer)"
   ]
  },
  {
   "cell_type": "markdown",
   "id": "28952cf8",
   "metadata": {},
   "source": [
    "### 문제 2번"
   ]
  },
  {
   "cell_type": "code",
   "execution_count": 154,
   "id": "32941181",
   "metadata": {},
   "outputs": [
    {
     "ename": "KeyboardInterrupt",
     "evalue": "",
     "output_type": "error",
     "traceback": [
      "\u001b[1;31m---------------------------------------------------------------------------\u001b[0m",
      "\u001b[1;31mKeyboardInterrupt\u001b[0m                         Traceback (most recent call last)",
      "\u001b[1;32m~\\AppData\\Local\\Temp/ipykernel_26524/346194486.py\u001b[0m in \u001b[0;36m<module>\u001b[1;34m\u001b[0m\n\u001b[0;32m     16\u001b[0m     \u001b[0mcheck\u001b[0m\u001b[1;33m[\u001b[0m\u001b[0mmin_index\u001b[0m\u001b[1;33m+\u001b[0m\u001b[1;36m1\u001b[0m\u001b[1;33m]\u001b[0m\u001b[1;33m+=\u001b[0m\u001b[1;36m1\u001b[0m\u001b[1;33m\u001b[0m\u001b[1;33m\u001b[0m\u001b[0m\n\u001b[0;32m     17\u001b[0m     \u001b[0manswer\u001b[0m\u001b[1;33m[\u001b[0m\u001b[0mmin_index\u001b[0m\u001b[1;33m-\u001b[0m\u001b[1;36m1\u001b[0m\u001b[1;33m]\u001b[0m\u001b[1;33m+=\u001b[0m\u001b[1;36m1\u001b[0m\u001b[1;33m\u001b[0m\u001b[1;33m\u001b[0m\u001b[0m\n\u001b[1;32m---> 18\u001b[1;33m     \u001b[1;32mif\u001b[0m \u001b[0mcheck\u001b[0m\u001b[1;33m[\u001b[0m\u001b[1;36m0\u001b[0m\u001b[1;33m]\u001b[0m \u001b[1;33m==\u001b[0m \u001b[0mcheck\u001b[0m\u001b[1;33m[\u001b[0m\u001b[1;36m1\u001b[0m\u001b[1;33m]\u001b[0m \u001b[1;33m==\u001b[0m \u001b[0mcheck\u001b[0m\u001b[1;33m[\u001b[0m\u001b[1;36m2\u001b[0m\u001b[1;33m]\u001b[0m\u001b[1;33m:\u001b[0m\u001b[1;33m\u001b[0m\u001b[1;33m\u001b[0m\u001b[0m\n\u001b[0m\u001b[0;32m     19\u001b[0m         \u001b[1;32mbreak\u001b[0m\u001b[1;33m\u001b[0m\u001b[1;33m\u001b[0m\u001b[0m\n\u001b[0;32m     20\u001b[0m \u001b[0mprint\u001b[0m\u001b[1;33m(\u001b[0m\u001b[0manswer\u001b[0m\u001b[1;33m)\u001b[0m\u001b[1;33m\u001b[0m\u001b[1;33m\u001b[0m\u001b[0m\n",
      "\u001b[1;31mKeyboardInterrupt\u001b[0m: "
     ]
    }
   ],
   "source": [
    "queue = [3,3,3,3,3,3]\n",
    "check = [0,0,0]\n",
    "check[0] = queue.count(1)\n",
    "check[1] = queue.count(2)\n",
    "check[2] = queue.count(3)\n",
    "\n",
    "from collections import deque\n",
    "queue = deque(queue)\n",
    "answer = [0,0,0]\n",
    "\n",
    "while True:\n",
    "    min_index = check.index(min(check))\n",
    "    temp = queue.popleft()-1\n",
    "    queue.append(min_index+1)\n",
    "    check[temp]-=1\n",
    "    check[min_index+1]+=1\n",
    "    answer[min_index-1]+=1\n",
    "    if check[0] == check[1] == check[2]:\n",
    "        break\n",
    "print(answer)"
   ]
  },
  {
   "cell_type": "code",
   "execution_count": 188,
   "id": "6074258f",
   "metadata": {},
   "outputs": [],
   "source": [
    "queue = [3,3,3,3,3,3]\n",
    "check = [0,0,0]\n",
    "check[0] = queue.count(1)\n",
    "check[1] = queue.count(2)\n",
    "check[2] = queue.count(3)\n",
    "from collections import deque\n",
    "queue = deque(queue)\n",
    "answer = [0,0,0]"
   ]
  },
  {
   "cell_type": "code",
   "execution_count": 192,
   "id": "1dc0a9bc",
   "metadata": {},
   "outputs": [
    {
     "name": "stdout",
     "output_type": "stream",
     "text": [
      "[2, 2, 2] deque([3, 3, 1, 2, 1, 2])\n",
      "[2, 2, 0]\n"
     ]
    }
   ],
   "source": [
    "min_index = check.index(min(check))\n",
    "temp = queue.popleft()-1\n",
    "queue.append(min_index+1)\n",
    "check[temp]-=1\n",
    "check[min_index]+=1\n",
    "answer[min_index]+=1\n",
    "print(check,queue)\n",
    "print(answer)"
   ]
  },
  {
   "cell_type": "code",
   "execution_count": 186,
   "id": "c4637814",
   "metadata": {},
   "outputs": [
    {
     "data": {
      "text/plain": [
       "0"
      ]
     },
     "execution_count": 186,
     "metadata": {},
     "output_type": "execute_result"
    }
   ],
   "source": [
    "min_index"
   ]
  },
  {
   "cell_type": "code",
   "execution_count": null,
   "id": "31764c38",
   "metadata": {},
   "outputs": [],
   "source": []
  }
 ],
 "metadata": {
  "kernelspec": {
   "display_name": "Python 3 (ipykernel)",
   "language": "python",
   "name": "python3"
  },
  "language_info": {
   "codemirror_mode": {
    "name": "ipython",
    "version": 3
   },
   "file_extension": ".py",
   "mimetype": "text/x-python",
   "name": "python",
   "nbconvert_exporter": "python",
   "pygments_lexer": "ipython3",
   "version": "3.9.7"
  }
 },
 "nbformat": 4,
 "nbformat_minor": 5
}
