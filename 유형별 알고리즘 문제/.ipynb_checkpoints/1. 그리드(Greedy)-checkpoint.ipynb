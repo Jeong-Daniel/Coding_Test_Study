{
 "cells": [
  {
   "cell_type": "markdown",
   "id": "9fffdcf9",
   "metadata": {},
   "source": [
    "### 1. 모험가 길드"
   ]
  },
  {
   "cell_type": "code",
   "execution_count": 22,
   "id": "57bdbd1f",
   "metadata": {},
   "outputs": [
    {
     "name": "stdout",
     "output_type": "stream",
     "text": [
      "5\n",
      "2 3 2 2 1\n"
     ]
    }
   ],
   "source": [
    "num = int(input())\n",
    "member = list(map(int, input().split()))"
   ]
  },
  {
   "cell_type": "code",
   "execution_count": 23,
   "id": "00332967",
   "metadata": {},
   "outputs": [],
   "source": [
    "member.sort()"
   ]
  },
  {
   "cell_type": "code",
   "execution_count": 25,
   "id": "378dadea",
   "metadata": {},
   "outputs": [],
   "source": [
    "result = 0\n",
    "#그룹의 수\n",
    "count = 0\n",
    "#현재 그룹에 포함된 모험가의 수"
   ]
  },
  {
   "cell_type": "code",
   "execution_count": 27,
   "id": "f5a731f3",
   "metadata": {},
   "outputs": [
    {
     "name": "stdout",
     "output_type": "stream",
     "text": [
      "2\n"
     ]
    }
   ],
   "source": [
    "for i in member:\n",
    "    #공포도를 낮은 것부터 하나씩 확인\n",
    "    count += 1\n",
    "    if count >= i: #현재 그룹에 포함된 모험가의 수가 현재의 공포도 이상이라면 그룹 결성\n",
    "        result += 1 #총 그룹의 수 증가시키기\n",
    "        count = 0 #현재 그룹에 포함된 모험가의 수 초기화\n",
    "print(result)"
   ]
  },
  {
   "cell_type": "code",
   "execution_count": 28,
   "id": "fd352e86",
   "metadata": {},
   "outputs": [
    {
     "name": "stdout",
     "output_type": "stream",
     "text": [
      "1\n",
      "2\n",
      "2\n",
      "2\n",
      "3\n"
     ]
    }
   ],
   "source": [
    "for i in member:\n",
    "    print(i)"
   ]
  },
  {
   "cell_type": "markdown",
   "id": "982b765a",
   "metadata": {},
   "source": [
    "### 2. 문자열 뒤집기"
   ]
  },
  {
   "cell_type": "code",
   "execution_count": 36,
   "id": "9e25425c",
   "metadata": {},
   "outputs": [
    {
     "name": "stdout",
     "output_type": "stream",
     "text": [
      "0001100\n",
      "1\n"
     ]
    }
   ],
   "source": [
    "data = input()\n",
    "count0 = 0\n",
    "count1 = 1\n",
    "#전부 0 또는 1로 바꾸는 경우를 계산하기 위함\n",
    "\n",
    "if data[0]=='1':\n",
    "    count0 += 1\n",
    "else:\n",
    "    count1 +=1\n",
    "    \n",
    "#두번째 원소부터 모든 원소를 확인하며\n",
    "for i in range(len(data)-1):\n",
    "    if data[i] != data[i+1]:\n",
    "        #다음 수에서 1로 바뀌는 경우\n",
    "        if data[i+1] == '1':\n",
    "            count0 += 1\n",
    "        #다음 수에서 0으로 바뀌는 경우\n",
    "        else:\n",
    "            count1 += 1\n",
    "\n",
    "print(min(count0,count1))"
   ]
  },
  {
   "cell_type": "code",
   "execution_count": 34,
   "id": "8e066952",
   "metadata": {},
   "outputs": [
    {
     "data": {
      "text/plain": [
       "1"
      ]
     },
     "execution_count": 34,
     "metadata": {},
     "output_type": "execute_result"
    }
   ],
   "source": [
    "num_list[3]"
   ]
  },
  {
   "cell_type": "code",
   "execution_count": 8,
   "id": "14ee2c47",
   "metadata": {},
   "outputs": [],
   "source": [
    "matrix = [[1,2,3],[4,5,6],[7,8,9]]\n",
    "flat = [x for row in matrix for x in row]"
   ]
  },
  {
   "cell_type": "code",
   "execution_count": 9,
   "id": "8a62c30b",
   "metadata": {},
   "outputs": [
    {
     "data": {
      "text/plain": [
       "[1, 2, 3, 4, 5, 6, 7, 8, 9]"
      ]
     },
     "execution_count": 9,
     "metadata": {},
     "output_type": "execute_result"
    }
   ],
   "source": [
    "flat"
   ]
  },
  {
   "cell_type": "code",
   "execution_count": 11,
   "id": "01464f75",
   "metadata": {},
   "outputs": [
    {
     "data": {
      "text/plain": [
       "[[1, 4, 9], [16, 25, 36], [49, 64, 81]]"
      ]
     },
     "execution_count": 11,
     "metadata": {},
     "output_type": "execute_result"
    }
   ],
   "source": [
    "squared = [[x**2 for x in row] for row in matrix]\n",
    "squared"
   ]
  },
  {
   "cell_type": "markdown",
   "id": "cf146120",
   "metadata": {},
   "source": [
    "### 3. 곱하기 혹은 더하기"
   ]
  },
  {
   "cell_type": "code",
   "execution_count": 33,
   "id": "bc2c1cba",
   "metadata": {},
   "outputs": [
    {
     "name": "stdout",
     "output_type": "stream",
     "text": [
      "02984\n"
     ]
    }
   ],
   "source": [
    "data = input()"
   ]
  },
  {
   "cell_type": "code",
   "execution_count": 36,
   "id": "1489b254",
   "metadata": {},
   "outputs": [
    {
     "name": "stdout",
     "output_type": "stream",
     "text": [
      "576\n"
     ]
    }
   ],
   "source": [
    "count = 1\n",
    "for x in data:\n",
    "    if x!='0':\n",
    "        count = int(x)*count\n",
    "    elif x=='1':\n",
    "        count = int(x)+count\n",
    "    else:\n",
    "        continue\n",
    "print(count)"
   ]
  },
  {
   "cell_type": "markdown",
   "id": "86b6f7f0",
   "metadata": {},
   "source": [
    "### 4. 만들 수 없는 금액"
   ]
  },
  {
   "cell_type": "code",
   "execution_count": 37,
   "id": "735f0c86",
   "metadata": {},
   "outputs": [
    {
     "name": "stdout",
     "output_type": "stream",
     "text": [
      "5\n",
      "3 2 1 1 9\n"
     ]
    }
   ],
   "source": [
    "num = int(input())\n",
    "num_list = list(map(int,input().split()))"
   ]
  },
  {
   "cell_type": "code",
   "execution_count": 91,
   "id": "b3ce7df3",
   "metadata": {},
   "outputs": [
    {
     "name": "stdout",
     "output_type": "stream",
     "text": [
      "8\n"
     ]
    }
   ],
   "source": [
    "from itertools import combinations\n",
    "\n",
    "x = [0 for x in range(100)]\n",
    "\n",
    "for i in range(len(num_list)):\n",
    "    a = list(combinations(num_list, i))\n",
    "    number = len(a)\n",
    "    for j in range(number):\n",
    "        temp = sum(a[j])\n",
    "        x[temp]=1\n",
    "\n",
    "for k in range(len(x)):\n",
    "    if x[1+k]==0:\n",
    "        print(k+1)\n",
    "        break"
   ]
  },
  {
   "cell_type": "code",
   "execution_count": 93,
   "id": "c0ebef78",
   "metadata": {},
   "outputs": [
    {
     "name": "stdout",
     "output_type": "stream",
     "text": [
      "4\n",
      "1 2 3 8\n",
      "1\n",
      "2\n",
      "4\n",
      "7\n"
     ]
    }
   ],
   "source": [
    "n = int(input())\n",
    "data = list(map(int, input().split()))\n",
    "data.sort()\n",
    "\n",
    "target = 1\n",
    "for x in data:\n",
    "    #만들 수 없는 금액을 찾았을 때 반복 종료\n",
    "    if target < x:\n",
    "        break\n",
    "    print(target)\n",
    "    target += x\n",
    "\n",
    "#만들 수 없는 금액 출력\n",
    "print(target)"
   ]
  },
  {
   "cell_type": "markdown",
   "id": "a5d49255",
   "metadata": {},
   "source": [
    "### 볼링공 고르기"
   ]
  },
  {
   "cell_type": "code",
   "execution_count": 166,
   "id": "b9879436",
   "metadata": {
    "scrolled": true
   },
   "outputs": [
    {
     "name": "stdout",
     "output_type": "stream",
     "text": [
      "8 5\n",
      "1 5 4 3 2 4 5 2\n"
     ]
    }
   ],
   "source": [
    "n, m = map(int, input().split())\n",
    "num_list = list(map(int,input().split()))"
   ]
  },
  {
   "cell_type": "code",
   "execution_count": 167,
   "id": "df5440f2",
   "metadata": {},
   "outputs": [],
   "source": [
    "A = list(combinations(num_list,2))"
   ]
  },
  {
   "cell_type": "code",
   "execution_count": 168,
   "id": "bc5c3b93",
   "metadata": {
    "scrolled": true
   },
   "outputs": [],
   "source": [
    "result = []\n",
    "for i in range(len(A)):\n",
    "    if A[i][0] != A[i][1]:\n",
    "        result.append(A[i])"
   ]
  },
  {
   "cell_type": "code",
   "execution_count": 169,
   "id": "4ad38fe0",
   "metadata": {},
   "outputs": [
    {
     "data": {
      "text/plain": [
       "[(1, 5),\n",
       " (1, 4),\n",
       " (1, 3),\n",
       " (1, 2),\n",
       " (1, 4),\n",
       " (1, 5),\n",
       " (1, 2),\n",
       " (5, 4),\n",
       " (5, 3),\n",
       " (5, 2),\n",
       " (5, 4),\n",
       " (5, 2),\n",
       " (4, 3),\n",
       " (4, 2),\n",
       " (4, 5),\n",
       " (4, 2),\n",
       " (3, 2),\n",
       " (3, 4),\n",
       " (3, 5),\n",
       " (3, 2),\n",
       " (2, 4),\n",
       " (2, 5),\n",
       " (4, 5),\n",
       " (4, 2),\n",
       " (5, 2)]"
      ]
     },
     "execution_count": 169,
     "metadata": {},
     "output_type": "execute_result"
    }
   ],
   "source": [
    "result"
   ]
  },
  {
   "cell_type": "code",
   "execution_count": 170,
   "id": "fa047393",
   "metadata": {},
   "outputs": [
    {
     "data": {
      "text/plain": [
       "25"
      ]
     },
     "execution_count": 170,
     "metadata": {},
     "output_type": "execute_result"
    }
   ],
   "source": [
    "len(result)"
   ]
  },
  {
   "cell_type": "code",
   "execution_count": 171,
   "id": "5cca1e8d",
   "metadata": {},
   "outputs": [
    {
     "name": "stdout",
     "output_type": "stream",
     "text": [
      "8\n",
      "Time elapsed:  0.000270799999270821\n"
     ]
    }
   ],
   "source": [
    "from timeit import default_timer as timer\n",
    "from datetime import timedelta\n",
    "\n",
    "start = timer()\n",
    "\n",
    "#n, m = map(int, input().split())\n",
    "#num_list = list(map(int,input().split()))\n",
    "\n",
    "n=5\n",
    "m=3\n",
    "num_list = [1,2,2,3,3]\n",
    "\n",
    "A = list(combinations(num_list,2))\n",
    "\n",
    "result = []\n",
    "for i in range(len(A)):\n",
    "    if A[i][0] != A[i][1]:\n",
    "        result.append(A[i])\n",
    "        \n",
    "print(len(result))\n",
    "\n",
    "end = timer()\n",
    "\n",
    "print(\"Time elapsed: \", end - start)"
   ]
  },
  {
   "cell_type": "code",
   "execution_count": 173,
   "id": "0364ffa2",
   "metadata": {},
   "outputs": [
    {
     "name": "stdout",
     "output_type": "stream",
     "text": [
      "8\n",
      "Time elapsed:  0.0003211999992345227\n"
     ]
    }
   ],
   "source": [
    "from timeit import default_timer as timer\n",
    "from datetime import timedelta\n",
    "\n",
    "start = timer()\n",
    "\n",
    "#n, m = map(int, input().split())\n",
    "#num_list = list(map(int,input().split()))\n",
    "\n",
    "n=5\n",
    "m=3\n",
    "data = [1,2,2,3,3]\n",
    "\n",
    "#1부터 10까지의 무게를 담을 수 있는 리스트\n",
    "array = [0] * 11\n",
    "for x in data:\n",
    "    #각 무게에 해당하는 볼링공의 개수 카운트\n",
    "    array[x] += 1\n",
    "\n",
    "result = 0\n",
    "#1부터 m까지의 각 무게에 대하여 처리\n",
    "for i in range(1,m+1):\n",
    "    n -= array[i]\n",
    "    #무게가 1인 볼링공의 개수(A가 선택할 수 있는 개수) 제외\n",
    "    result += array[i] * n #B가 선택하는 경우의 수와 곱하기\n",
    "    \n",
    "print(result)\n",
    "\n",
    "end = timer()\n",
    "\n",
    "print(\"Time elapsed: \", end - start)"
   ]
  },
  {
   "cell_type": "markdown",
   "id": "606cc245",
   "metadata": {},
   "source": [
    "### 무지의 먹방 라이브"
   ]
  },
  {
   "cell_type": "code",
   "execution_count": 31,
   "id": "a81f1fbc",
   "metadata": {},
   "outputs": [],
   "source": [
    "food_times = [8,6,4]\n",
    "k = 15"
   ]
  },
  {
   "cell_type": "code",
   "execution_count": 206,
   "id": "97086490",
   "metadata": {},
   "outputs": [
    {
     "name": "stdout",
     "output_type": "stream",
     "text": [
      "[2, 1, 2]\n",
      "2\n",
      "[2, 0, 2]\n",
      "3\n",
      "[2, 0, 1]\n",
      "1\n",
      "[1, 0, 1]\n",
      "2\n",
      "[1, 0, 0]\n",
      "1\n"
     ]
    }
   ],
   "source": [
    "cur=0\n",
    "for i in range(k):\n",
    "    if sum(food_times)==0:\n",
    "        print(-1)\n",
    "        break\n",
    "    if food_times[cur]==0:\n",
    "        cur+=1\n",
    "    food_times[cur] = food_times[cur]-1\n",
    "    cur+=1\n",
    "    cur=cur%len(food_times)\n",
    "    print(food_times)\n",
    "    print(cur+1)"
   ]
  },
  {
   "cell_type": "code",
   "execution_count": 4,
   "id": "a1d5220d",
   "metadata": {},
   "outputs": [],
   "source": [
    "import heapq\n",
    "q=[]\n",
    "for i in range(len(food_times)):\n",
    "    heapq.heappush(q, (food_times[i], i+1))"
   ]
  },
  {
   "cell_type": "code",
   "execution_count": 5,
   "id": "179a5dc1",
   "metadata": {},
   "outputs": [
    {
     "data": {
      "text/plain": [
       "[(1, 2), (3, 1), (2, 3)]"
      ]
     },
     "execution_count": 5,
     "metadata": {},
     "output_type": "execute_result"
    }
   ],
   "source": [
    "q"
   ]
  },
  {
   "cell_type": "code",
   "execution_count": 9,
   "id": "5d51939b",
   "metadata": {},
   "outputs": [],
   "source": [
    "enumerate(food_times)"
   ]
  },
  {
   "cell_type": "code",
   "execution_count": 26,
   "id": "2804505f",
   "metadata": {},
   "outputs": [
    {
     "data": {
      "text/plain": [
       "[(0, 3), (1, 1), (2, 2)]"
      ]
     },
     "execution_count": 26,
     "metadata": {},
     "output_type": "execute_result"
    }
   ],
   "source": [
    "q=[]\n",
    "for index,value in enumerate(food_times):\n",
    "    heapq.heappush(q, (index,value))\n",
    "q"
   ]
  },
  {
   "cell_type": "code",
   "execution_count": 36,
   "id": "194d2e44",
   "metadata": {},
   "outputs": [],
   "source": [
    "import heapq\n",
    "\n",
    "def solution(food_times, k):\n",
    "    #전체 음식을 먹는 시간보다 k가 크거나 같다면 -1\n",
    "    if sum(food_times) <= k:\n",
    "        return -1\n",
    "    \n",
    "    #시간이 작은 음식부터 빼야하므로 우선순위 큐를 사용\n",
    "    q = []\n",
    "    for index,value in enumerate(food_times):\n",
    "        #음식시간, 음식 번호 형태로 큐에 삽입\n",
    "        print(value)\n",
    "        heapq.heappush(q, (value,index+1))\n",
    "    print(q)\n",
    "        \n",
    "    sum_value = 0 #먹기 위해 사용한 시간\n",
    "    previous = 0 #직전에 다 먹은 음식 시간\n",
    "    \n",
    "    length = len(food_times) #남은 음식의 개수\n",
    "    \n",
    "    #sum_value + (현재의 음식 시간 - 이전 음식 시간) * 현재 음식 개수와 k비교\n",
    "    while sum_value + ((q[0][0] - previous)*length) <= k:\n",
    "        now = heapq.heappop(q)[0]\n",
    "        sum_value += (now-previous)*length\n",
    "        length -= 1 #다먹은 음식 제외\n",
    "        previous = now #이전 음식 시간 재설정\n",
    "        \n",
    "    #남은 음식 중에서 몇 번 째 음식인지 확인하여 출력\n",
    "    result = sorted(q,key=lambda x:x[1] ) #음식의 번호 기준으로 정렬\n",
    "    return result[(k-sum_value)%length][1]"
   ]
  },
  {
   "cell_type": "code",
   "execution_count": 37,
   "id": "940e84c5",
   "metadata": {},
   "outputs": [
    {
     "name": "stdout",
     "output_type": "stream",
     "text": [
      "8\n",
      "6\n",
      "4\n",
      "[(4, 3), (8, 1), (6, 2)]\n"
     ]
    },
    {
     "data": {
      "text/plain": [
       "2"
      ]
     },
     "execution_count": 37,
     "metadata": {},
     "output_type": "execute_result"
    }
   ],
   "source": [
    "solution(food_times, k)"
   ]
  },
  {
   "cell_type": "code",
   "execution_count": 44,
   "id": "557a78f0",
   "metadata": {},
   "outputs": [],
   "source": [
    "q =[]\n",
    "for index,value in enumerate(food_times):\n",
    "    #음식시간, 음식 번호 형태로 큐에 삽입\n",
    "    heapq.heappush(q, (value,index+1))"
   ]
  },
  {
   "cell_type": "code",
   "execution_count": 45,
   "id": "10a14c7d",
   "metadata": {},
   "outputs": [
    {
     "data": {
      "text/plain": [
       "4"
      ]
     },
     "execution_count": 45,
     "metadata": {},
     "output_type": "execute_result"
    }
   ],
   "source": [
    "heapq.heappop(q)[0]"
   ]
  },
  {
   "cell_type": "code",
   "execution_count": 48,
   "id": "e9240d1e",
   "metadata": {},
   "outputs": [],
   "source": [
    "result = sorted(q,key=lambda x:x[1]) #음식의 번호 기준으로 정렬"
   ]
  },
  {
   "cell_type": "code",
   "execution_count": 49,
   "id": "7d83ecb4",
   "metadata": {},
   "outputs": [
    {
     "data": {
      "text/plain": [
       "[(8, 1), (6, 2)]"
      ]
     },
     "execution_count": 49,
     "metadata": {},
     "output_type": "execute_result"
    }
   ],
   "source": [
    "result"
   ]
  }
 ],
 "metadata": {
  "kernelspec": {
   "display_name": "Python 3 (ipykernel)",
   "language": "python",
   "name": "python3"
  },
  "language_info": {
   "codemirror_mode": {
    "name": "ipython",
    "version": 3
   },
   "file_extension": ".py",
   "mimetype": "text/x-python",
   "name": "python",
   "nbconvert_exporter": "python",
   "pygments_lexer": "ipython3",
   "version": "3.9.7"
  }
 },
 "nbformat": 4,
 "nbformat_minor": 5
}
