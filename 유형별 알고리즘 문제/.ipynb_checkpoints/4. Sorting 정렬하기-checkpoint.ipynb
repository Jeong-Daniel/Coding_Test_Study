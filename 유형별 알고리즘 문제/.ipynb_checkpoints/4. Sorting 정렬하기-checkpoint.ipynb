{
 "cells": [
  {
   "cell_type": "markdown",
   "id": "e61759ad",
   "metadata": {},
   "source": [
    "### 국영수"
   ]
  },
  {
   "cell_type": "code",
   "execution_count": 2,
   "id": "5cd4499e",
   "metadata": {},
   "outputs": [],
   "source": [
    "score_list = [['Junkyu', 50, 60, 100],\n",
    "['Sangkeun', 80, 60, 50],\n",
    "['Sunyoung', 80, 70, 100],\n",
    "['Soong', 50, 60, 90],\n",
    "['Haebin', 50, 60, 100],\n",
    "['Kangsoo', 60, 80, 100],\n",
    "['Donghyuk', 80, 60, 100],\n",
    "['Sei', 70, 70, 70],\n",
    "['Wonseob', 70, 70, 90],\n",
    "['Sanghyun', 70, 70, 80],\n",
    "['nsj', 80, 80, 80],\n",
    "['Taewhan', 50, 60, 90]]"
   ]
  },
  {
   "cell_type": "code",
   "execution_count": 7,
   "id": "d589e7f7",
   "metadata": {},
   "outputs": [],
   "source": [
    "score_list.sort(key=lambda x:x[1], reverse=True)"
   ]
  },
  {
   "cell_type": "code",
   "execution_count": 12,
   "id": "62b996fe",
   "metadata": {},
   "outputs": [
    {
     "name": "stdout",
     "output_type": "stream",
     "text": [
      "12\n",
      "Donghyuk\n",
      "Sangkeun\n",
      "Sunyoung\n",
      "nsj\n",
      "Wonseob\n",
      "Sanghyun\n",
      "Sei\n",
      "Kangsoo\n",
      "Haebin\n",
      "Junkyu\n",
      "Soong\n",
      "Taewhan\n"
     ]
    }
   ],
   "source": [
    "n = int(input())\n",
    "students = [] #학생 정보를 담을 리스트\n",
    "\n",
    "#모든 학생 정보를 입력받기\n",
    "for _ in range(n):\n",
    "    students.append(input().split())\n",
    "    \n",
    "students.sort(key=lambda x: (-int(x[1]), int(x[2]), -int(x[3]), x[0]))\n",
    "\n",
    "#정렬된 학생 정보에서 이름만 출력\n",
    "for student in students:\n",
    "    print(student[0])"
   ]
  },
  {
   "cell_type": "markdown",
   "id": "10ebb273",
   "metadata": {},
   "source": [
    "### 안테나"
   ]
  },
  {
   "cell_type": "code",
   "execution_count": 14,
   "id": "08d3b516",
   "metadata": {},
   "outputs": [
    {
     "name": "stdout",
     "output_type": "stream",
     "text": [
      "5\n",
      "1 4 5 7 9\n"
     ]
    }
   ],
   "source": [
    "n = int(input())\n",
    "house_list = list(map(int,input().split()))\n",
    "house_list.sort()"
   ]
  },
  {
   "cell_type": "code",
   "execution_count": 15,
   "id": "db9505b5",
   "metadata": {},
   "outputs": [],
   "source": [
    "k = int((house_list[0]+house_list[-1])/2)\n",
    "print(k)"
   ]
  },
  {
   "cell_type": "markdown",
   "id": "1654c783",
   "metadata": {},
   "source": [
    "### 실패율"
   ]
  },
  {
   "cell_type": "code",
   "execution_count": 79,
   "id": "2dcf93b9",
   "metadata": {},
   "outputs": [],
   "source": [
    "n = 5\n",
    "stages = [2,1,2,6,2,4,3,3]"
   ]
  },
  {
   "cell_type": "code",
   "execution_count": 80,
   "id": "1e57d11f",
   "metadata": {},
   "outputs": [],
   "source": [
    "user_num = len(stages)"
   ]
  },
  {
   "cell_type": "code",
   "execution_count": 81,
   "id": "8c6bc96e",
   "metadata": {},
   "outputs": [
    {
     "data": {
      "text/plain": [
       "[0, 0, 0, 0, 0, 0, 0]"
      ]
     },
     "execution_count": 81,
     "metadata": {},
     "output_type": "execute_result"
    }
   ],
   "source": [
    "new_list = [0]*(n+2)\n",
    "new_list"
   ]
  },
  {
   "cell_type": "code",
   "execution_count": 82,
   "id": "efcaab96",
   "metadata": {},
   "outputs": [],
   "source": [
    "for i in range(len(stages)):\n",
    "    k = stages[i]\n",
    "    new_list[k]=new_list[k]+1"
   ]
  },
  {
   "cell_type": "code",
   "execution_count": 83,
   "id": "c3dc73a0",
   "metadata": {
    "scrolled": false
   },
   "outputs": [
    {
     "data": {
      "text/plain": [
       "[0, 1, 3, 2, 1, 0, 1]"
      ]
     },
     "execution_count": 83,
     "metadata": {},
     "output_type": "execute_result"
    }
   ],
   "source": [
    "new_list"
   ]
  },
  {
   "cell_type": "code",
   "execution_count": 87,
   "id": "bceefe44",
   "metadata": {},
   "outputs": [],
   "source": [
    "fail_count = []\n",
    "for j in range(n):\n",
    "    fail_num = new_list[j+1]/user_num\n",
    "    user_num = user_num-new_list[j+1]\n",
    "    fail_count.append((j+1,fail_num))"
   ]
  },
  {
   "cell_type": "code",
   "execution_count": 90,
   "id": "acd13302",
   "metadata": {},
   "outputs": [
    {
     "data": {
      "text/plain": [
       "[(3, 0.5), (4, 0.5), (2, 0.42857142857142855), (1, 0.125), (5, 0.0)]"
      ]
     },
     "execution_count": 90,
     "metadata": {},
     "output_type": "execute_result"
    }
   ],
   "source": [
    "fail_count.sort(key=lambda x:x[1], reverse=True)\n",
    "fail_count"
   ]
  },
  {
   "cell_type": "code",
   "execution_count": null,
   "id": "8f9bf4dc",
   "metadata": {},
   "outputs": [],
   "source": []
  }
 ],
 "metadata": {
  "kernelspec": {
   "display_name": "Python 3 (ipykernel)",
   "language": "python",
   "name": "python3"
  },
  "language_info": {
   "codemirror_mode": {
    "name": "ipython",
    "version": 3
   },
   "file_extension": ".py",
   "mimetype": "text/x-python",
   "name": "python",
   "nbconvert_exporter": "python",
   "pygments_lexer": "ipython3",
   "version": "3.9.7"
  }
 },
 "nbformat": 4,
 "nbformat_minor": 5
}
