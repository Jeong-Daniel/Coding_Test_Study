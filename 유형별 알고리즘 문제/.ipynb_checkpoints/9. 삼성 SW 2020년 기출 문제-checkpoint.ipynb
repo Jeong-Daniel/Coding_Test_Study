{
 "cells": [
  {
   "cell_type": "markdown",
   "id": "52cce701",
   "metadata": {},
   "source": [
    "### 46. 아기상어"
   ]
  },
  {
   "cell_type": "code",
   "execution_count": 22,
   "id": "bfa3ebfb",
   "metadata": {},
   "outputs": [
    {
     "name": "stdout",
     "output_type": "stream",
     "text": [
      "4\n",
      "4 3 2 1\n",
      "0 0 0 0\n",
      "0 0 9 0\n",
      "1 2 3 4\n",
      "14\n"
     ]
    }
   ],
   "source": [
    "from collections import deque\n",
    "INF = 1e9 #무한을 의미하는 값으로 10억 설정\n",
    "\n",
    "#맵의 크기 N을 입력받기\n",
    "n = int(input())\n",
    "\n",
    "#전체 모든 칸에 대한 정보 입력\n",
    "array = []\n",
    "for i in range(n):\n",
    "    array.append(list(map(int,input().split())))\n",
    "    \n",
    "#아기 상어의 현재 크기 변수와 현재 위치 변수\n",
    "now_size = 2\n",
    "now_x, now_y = 0, 0\n",
    "\n",
    "#아기 상어의 시작 위치를 찾은 뒤에 그 위치엔 아무것도 없다고 처리\n",
    "for i in range(n):\n",
    "    for j in range(n):\n",
    "        if array[i][j] == 9:\n",
    "            now_x, now_y = i,j\n",
    "            array[now_x][now_y] = 0\n",
    "            \n",
    "dx = [-1,0,1,0]\n",
    "dy = [0,1,0,-1]\n",
    "\n",
    "#모든 위치까지의 '최단 거리만' 계산하는 BFS함수\n",
    "def bfs():\n",
    "    #값이 -1이라면 도달할 수 없다는 의미(초기화)\n",
    "    dist = [[-1]*n for _ in range(n)]\n",
    "    #시작 위치는 도달이 가능하다고 보며 거리는 0\n",
    "    q = deque([(now_x,now_y)])\n",
    "    dist[now_x][now_y] = 0\n",
    "    \n",
    "    while q:\n",
    "        x,y = q.popleft()\n",
    "        for i in range(4):\n",
    "            nx = x + dx[i]\n",
    "            ny = y + dy[i]\n",
    "            if 0 <= nx and nx<n and 0 <= ny and ny < n:\n",
    "                #자신의 크기보다 작거나 같은 경우에 지나갈 수 있음\n",
    "                if dist[nx][ny] == -1 and array[nx][ny] <= now_size:\n",
    "                    dist[nx][ny] = dist[x][y] + 1\n",
    "                    q.append((nx,ny))\n",
    "    #모든 위치까지의 최단 거리 테이블 반환\n",
    "    return dist\n",
    "\n",
    "#최단 거리 테이블이 주어졌을 때, 먹을 물고기를 찾는 함수\n",
    "def find(dist):\n",
    "    x, y = 0,0\n",
    "    min_dist = INF\n",
    "    for i in range(n):\n",
    "        for j in range(n):\n",
    "            #도달이 가능하면서 먹을 수 있는 물고기 일때\n",
    "            if dist[i][j] != -1 and 1 <= array[i][j] and array[i][j] < now_size:\n",
    "                #가장 가까운 물고기 1마리만 선택\n",
    "                if dist[i][j] < min_dist:\n",
    "                    x,y = i,j\n",
    "                    min_dist = dist[i][j]\n",
    "    if min_dist == INF:\n",
    "        #먹을 수 없는 물고기가 없는 경우\n",
    "        return None\n",
    "    else:\n",
    "        return x,y,min_dist #먹을 물고기의 위치와 최단 거리\n",
    "    \n",
    "result = 0 #최종 답안\n",
    "ate = 0 #현재 크기에서 먹은 양\n",
    "\n",
    "while True:\n",
    "    #먹을 수 있는 물고기의 위치 찾기\n",
    "    value = find(bfs())\n",
    "    #먹을 수 있는 물고기가 없는 경우 현재까지의 거리 출력\n",
    "    if value==None:\n",
    "        print(result)\n",
    "        break\n",
    "    else:\n",
    "        #현재 위치 갱신 및 이동 거리 변경\n",
    "        now_x, now_y = value[0], value[1]\n",
    "        result += value[2]\n",
    "        #먹은 위치에는 이제 아무것도 없도록 처리\n",
    "        array[now_x][now_y] = 0\n",
    "        ate += 1\n",
    "        #자신의 현재 크기 이상으로 먹은 경우, 크기 증가\n",
    "        if ate == now_size:\n",
    "            now_size += 1\n",
    "            ate = 0"
   ]
  },
  {
   "cell_type": "markdown",
   "id": "3bddf2d0",
   "metadata": {},
   "source": [
    "### 청소년 상어"
   ]
  },
  {
   "cell_type": "code",
   "execution_count": 40,
   "id": "c1aea8d7",
   "metadata": {},
   "outputs": [
    {
     "name": "stdout",
     "output_type": "stream",
     "text": [
      "7 6 2 3 15 6 9 8\n",
      "3 1 1 8 14 7 10 1\n",
      "6 1 13 6 4 3 11 4\n",
      "16 1 8 7 5 2 12 2\n"
     ]
    }
   ],
   "source": [
    "import copy\n",
    "\n",
    "# 4x4 크기의 정사각형에 존재하는 각 물고기의 번호(없으면 - 1)와 방향 값을 담는 테이블\n",
    "array = [[None]*4 for _ in range(4)]\n",
    "\n",
    "for i in range(4):\n",
    "    data = list(map(int, input().split()))\n",
    "    #매 줄마다 4마리의 물고기를 하나씩 확인하며\n",
    "    for j in range(4):\n",
    "        #각 위치마다 물고기의 번호, 방향을 저장\n",
    "        array[i][j] = [data[j*2], data[j * 2 + 1] - 1]\n",
    "        \n",
    "#8가지 방향에 대한 정의\n",
    "dx = [-1,-1,0,1,1,1,0,-1]\n",
    "dy = [0,-1,-1,-1,0,1,1,1]\n",
    "\n",
    "#현재 위치에서 왼쪽으로 회전된 결과 반환\n",
    "def turn_left(direction):\n",
    "    return (direction + 1)%8\n",
    "\n",
    "result = 0 #최종 결과"
   ]
  },
  {
   "cell_type": "code",
   "execution_count": 41,
   "id": "83b82484",
   "metadata": {},
   "outputs": [
    {
     "name": "stdout",
     "output_type": "stream",
     "text": [
      "33\n"
     ]
    }
   ],
   "source": [
    "#현재 배열에서 특정한 번호의 물고기 위치 찾기\n",
    "def find_fish(array, index):\n",
    "    for i in range(4):\n",
    "        for j in range(4):\n",
    "            if array[i][j][0] == index:\n",
    "                return (i,j)\n",
    "    return None\n",
    "\n",
    "#모든 물고기를 회전 및 이동시키는 함수\n",
    "def move_all_fishes(array, now_x, now_y):\n",
    "    #1번부터 16번까지의 물고기를 차례대로 (낮은번호대로) 확인\n",
    "    for i in range(1,17):\n",
    "        #해당 물고기의 위치 찾기\n",
    "        position = find_fish(array,i)\n",
    "        if position != None:\n",
    "            x,y = position[0], position[1]\n",
    "            direction = array[x][y][1]\n",
    "            #해당 물고기의 방향을 왼쪽으로 계속 회전시키며 이동이 가능한지 확인\n",
    "            for j in range(8):\n",
    "                nx = x + dx[direction]\n",
    "                ny = y + dy[direction]\n",
    "                #해당 방향으로 이동이 가능하다면 이동시키기\n",
    "                if 0 <= nx and nx < 4 and 0 <= ny and ny < 4:\n",
    "                    if not(nx==now_x and ny == now_y):\n",
    "                        array[x][y][1] = direction\n",
    "                        array[x][y], array[nx][ny] = array[nx][ny], array[x][y]\n",
    "                        break\n",
    "                direction = turn_left(direction)\n",
    "                \n",
    "#상어가 현재 위치에서 먹을 수 있는 모든 물고기의 위치 반환\n",
    "def get_possible_positions(array, now_x, now_y):\n",
    "    positions = []\n",
    "    direction = array[now_x][now_y][1]\n",
    "    #현재의 방향으로 계속 이동하기\n",
    "    for i in range(4):\n",
    "        now_x += dx[direction]\n",
    "        now_y += dy[direction]\n",
    "        #범위를 벗어나지 않는지 확인하며\n",
    "        if 0 <= now_x and now_x < 4 and 0 <= now_y and now_y < 4:\n",
    "            #물고기가 존재하는 경우\n",
    "            if array[now_x][now_y][0] != -1:\n",
    "                positions.append((now_x, now_y))\n",
    "    return positions\n",
    "\n",
    "#모든 경우를 탐색하기 위한 DFS함수\n",
    "def dfs(array, now_x, now_y, total):\n",
    "    global result\n",
    "    array = copy.deepcopy(array) #리소스를 통째로 복사\n",
    "    \n",
    "    total += array[now_x][now_y][0] #현재 위치의 물고기 먹기\n",
    "    array[now_x][now_y][0] = -1 #물고기를 먹었으므로 번호 값을 -1로 변환\n",
    "    \n",
    "    move_all_fishes(array, now_x, now_y) #전체 물고기 이동시키기\n",
    "    \n",
    "    #이제 다시 상어가 이동할 차례이므로, 이동 가능한 위치 찾기\n",
    "    positions = get_possible_positions(array, now_x, now_y)\n",
    "    #이동할 수 있는 위치가 하나도 없다면 종료\n",
    "    if len(positions) == 0:\n",
    "        result = max(result, total) #최댓값 지정\n",
    "        return\n",
    "    #모든 이동할 수 있는 위치로 재귀적으로 수행\n",
    "    for next_x, next_y in positions:\n",
    "        dfs(array, next_x, next_y, total)\n",
    "        \n",
    "#청소년 상어의 시작위치(0,0)에서부터 재귀적으로 모든 경우 탐색\n",
    "dfs(array, 0,0,0)\n",
    "print(result)"
   ]
  },
  {
   "cell_type": "markdown",
   "id": "fb5fe746",
   "metadata": {},
   "source": [
    "### 어른상어"
   ]
  },
  {
   "cell_type": "code",
   "execution_count": 45,
   "id": "7812862c",
   "metadata": {},
   "outputs": [
    {
     "name": "stdout",
     "output_type": "stream",
     "text": [
      "5 4 4\n",
      "0 0 0 0 3\n",
      "0 2 0 0 0\n",
      "1 0 0 0 4\n",
      "0 0 0 0 0\n",
      "0 0 0 0 0\n",
      "4 4 3 1\n",
      "2 3 1 4\n",
      "4 1 2 3\n",
      "3 4 2 1\n",
      "4 3 1 2\n",
      "2 4 3 1\n",
      "2 1 3 4\n",
      "3 4 1 2\n",
      "4 1 2 3\n",
      "4 3 2 1\n",
      "1 4 3 2\n",
      "1 3 2 4\n",
      "3 2 1 4\n",
      "3 4 1 2\n",
      "3 2 4 1\n",
      "1 4 2 3\n",
      "1 4 2 3\n",
      "-1\n"
     ]
    }
   ],
   "source": [
    "n,m,k = map(int,input().split())\n",
    "\n",
    "#모든 상어의 위치와 방향 정보를 포함하는 2차원 리스트\n",
    "array = []\n",
    "for i in range(n):\n",
    "    array.append(list(map(int,input().split())))\n",
    "    \n",
    "#모든 상어의 현재 방향 정보\n",
    "directions = list(map(int,input().split()))\n",
    "\n",
    "#각 위치마다 [특정 냄새의 상어 번호, 특정 냄새의 남은 시간을 저장하는 2차원 리스트]\n",
    "smell = [[[0,0]]*n for _ in range(n)]\n",
    "\n",
    "#각 상어의 회전 방향 우선순위 정보\n",
    "priorities = [[] for _ in range(m)]\n",
    "for i in range(m):\n",
    "    for j in range(4):\n",
    "        priorities[i].append(list(map(int,input().split())))\n",
    "        \n",
    "#특정 위치에서 이동 가능한 4가지 방향\n",
    "dx = [-1,1,0,0]\n",
    "dy = [0,0,-1,1]"
   ]
  },
  {
   "cell_type": "code",
   "execution_count": 54,
   "id": "c22ff7cc",
   "metadata": {},
   "outputs": [
    {
     "name": "stdout",
     "output_type": "stream",
     "text": [
      "22\n"
     ]
    }
   ],
   "source": [
    "#모든 냄새 정보를 업데이트\n",
    "def update_smell():\n",
    "    #각 위치를 하나씩 확인하며\n",
    "    for i in range(n):\n",
    "        for j in range(n):\n",
    "            #냄새가 존재하는 경우, 시간을 1만큼 감소시키기\n",
    "            if smell[i][j][1] > 0:\n",
    "                smell[i][j][1] -= 1\n",
    "            #상어가 존재하는 해당 위치의 냄새를 k로 결정\n",
    "            if array[i][j] != 0:\n",
    "                smell[i][j] = [array[i][j], k]\n",
    "                \n",
    "#모든 상어를 이동 시키는 함수\n",
    "def move():\n",
    "    #이동 결과를 담기 위한 임시 결과 테이블 초기화\n",
    "    new_array = [[0]*n for _ in range(n)]\n",
    "    #각 위치를 하나씩 확인하며\n",
    "    for x in range(n):\n",
    "        for y in range(n):\n",
    "            #상어가 존재하는 경우\n",
    "            if array[x][y] != 0:\n",
    "                direction = directions[array[x][y]-1] #현재 상어의 방향\n",
    "                found = False\n",
    "                #일단 냄새가 존재하지 않는 곳이 있는지 확인\n",
    "                for index in range(4):\n",
    "                    nx = x + dx[priorities[array[x][y]-1][direction - 1][index]-1]\n",
    "                    ny = y + dy[priorities[array[x][y]-1][direction - 1][index]-1]\n",
    "                    if 0 <= nx and nx <n and 0 <= ny and ny < n:\n",
    "                        if smell[nx][ny][1] == 0: #냄새가 존재하지 않는 곳이라면\n",
    "                            #해당 상어의 방향 이동시키기\n",
    "                            directions[array[x][y]-1] = priorities[array[x][y]-1][direction-1][index]\n",
    "                            #(만약 이미 다른 상어가 있다면 번호가 낮은 상어가 들어가도록)\n",
    "                            #상어 이동 시키기\n",
    "                            if new_array[nx][ny] == 0:\n",
    "                                new_array[nx][ny] = array[x][y]\n",
    "                            else:\n",
    "                                new_array[nx][ny] = min(new_array[nx][ny], array[x][y])\n",
    "                            found=True\n",
    "                            break\n",
    "                if found:\n",
    "                    continue\n",
    "                #주변에 모두 냄새가 남아 있다면, 자신의 냄새가 있는 곳으로 이동\n",
    "                for index in range(4):\n",
    "                    nx = x + dx[priorities[array[x][y]-1][direction-1][index]-1]\n",
    "                    ny = y + dy[priorities[array[x][y]-1][direction-1][index]-1]\n",
    "                    if 0 <= nx and nx < n and 0 <= ny and ny < n:\n",
    "                        if smell[nx][ny][0] == array[x][y]: #자신의 냄새가 있는 곳이면\n",
    "                            #해당 상어의 방향 이동시키기\n",
    "                            directions[array[x][y]-1] = priorities[array[x][y]-1][direction-1][index]\n",
    "                            #상어 이동시키기\n",
    "                            new_array[nx][ny] = array[x][y]\n",
    "                            break\n",
    "                            \n",
    "    return new_array\n",
    "    \n",
    "time = 0\n",
    "while True:\n",
    "    update_smell() #모든 위치의 냄새를 업데이트\n",
    "    new_array = move()\n",
    "    array = new_array #맵업데이트\n",
    "    time += 1 #시간 증가\n",
    "    \n",
    "    #1번 상어만 남았는지 체크\n",
    "    check = True\n",
    "    for i in range(n):\n",
    "        for j in range(n):\n",
    "            if array[i][j] > 1:\n",
    "                check = False\n",
    "    if check:\n",
    "        print(time)\n",
    "        break\n",
    "    \n",
    "    #1,000초가 지날때까지 끝나지 않는다면 종료\n",
    "    if time >= 1000:\n",
    "        print(-1)\n",
    "        break"
   ]
  },
  {
   "cell_type": "code",
   "execution_count": 1,
   "id": "1049afd5",
   "metadata": {
    "scrolled": true
   },
   "outputs": [
    {
     "name": "stdout",
     "output_type": "stream",
     "text": [
      "5 5\n",
      "#####\n",
      "#..B#\n",
      "#.#.#\n",
      "#RO.#\n",
      "#####\n",
      "1\n"
     ]
    }
   ],
   "source": [
    "n, m = map(int,input().split())\n",
    "map_list = []\n",
    "for _ in range(n):\n",
    "    map_list.append(list(map(str,input())))\n",
    "\n",
    "def move(x, y, dx, dy):\n",
    "    count = 0\n",
    "    nx, ny = x, y\n",
    "    while map_list[nx + dx][ny + dy] != '#' and map_list[nx][ny] != 'O':\n",
    "        nx += dx\n",
    "        ny += dy\n",
    "        count += 1\n",
    "    return nx,  ny, count\n",
    "\n",
    "for r in range(n):\n",
    "    for c in range(m):\n",
    "        if map_list[r][c] == 'R':\n",
    "            rsx, rsy = r, c\n",
    "        if map_list[r][c] == 'B':\n",
    "            bsx, bsy = r, c\n",
    "        if map_list[r][c] == 'O':\n",
    "            ox, oy = r, c      \n",
    "\n",
    "def solution():\n",
    "    visited = {}\n",
    "    moves = [(-1,0),(1,0),(0,-1),(0,1)]\n",
    "    visited[(rsx,rsy)] = 1\n",
    "    count = 0\n",
    "    s = [[rsx,rsy,bsx,bsy,count]]\n",
    "\n",
    "    while s:\n",
    "        rx, ry, bx, by, count = s.pop(0)\n",
    "        if count >= 10:\n",
    "            return -1\n",
    "\n",
    "        for dx, dy in moves:\n",
    "            rrx, rry, rcnt = move(rx,ry,dx,dy)\n",
    "            bbx, bby, bcnt = move(bx,by,dx,dy)\n",
    "\n",
    "            if map_list[bbx][bby] != 'O':\n",
    "                if rrx == ox and rry == oy:\n",
    "                    return cnt + 1\n",
    "\n",
    "                if rrx == bbx and rry == bby:\n",
    "                    if rcnt > bcnt:\n",
    "                        rrx, rry = rrx-dx, rry-dy\n",
    "                    else:\n",
    "                        bbx, bby = bbx-dx, bby-dy\n",
    "\n",
    "                if (rrx,rry,bbx,bby) in visited:\n",
    "                    continue\n",
    "                else:\n",
    "                    visited[(rrx,rry,bbx,bby)] = 1\n",
    "                    s.append([rrx,rry,bbx,bby,count+1])\n",
    "                    # print(\"방문처리 : \", rrx, rry, bbx, bby, cnt+1)\n",
    "    return -1\n",
    "\n",
    "print(solution())"
   ]
  },
  {
   "cell_type": "markdown",
   "id": "f1ed3e28",
   "metadata": {},
   "source": [
    "### 2048"
   ]
  },
  {
   "cell_type": "code",
   "execution_count": 54,
   "id": "edece28b",
   "metadata": {
    "scrolled": true
   },
   "outputs": [
    {
     "name": "stdout",
     "output_type": "stream",
     "text": [
      "3\n",
      "2 2 2\n",
      "4 4 4\n",
      "8 8 8\n"
     ]
    },
    {
     "data": {
      "text/plain": [
       "[[2, 2, 2], [4, 4, 4], [8, 8, 8]]"
      ]
     },
     "execution_count": 54,
     "metadata": {},
     "output_type": "execute_result"
    }
   ],
   "source": [
    "n = int(input())\n",
    "map_list = []\n",
    "for i in range(n):\n",
    "    map_list.append(list(map(int,input().split())))\n",
    "    \n",
    "direction = ['l', 'u', 'r', 'd']\n",
    "\n",
    "map_list"
   ]
  },
  {
   "cell_type": "code",
   "execution_count": 5,
   "id": "8dee3f54",
   "metadata": {},
   "outputs": [],
   "source": [
    "def max_element(matrix):\n",
    "    result = 0\n",
    "    for rows in matrix:\n",
    "        rows.append(result)\n",
    "        result = max(rows)\n",
    "    return result"
   ]
  },
  {
   "cell_type": "code",
   "execution_count": 6,
   "id": "cec77770",
   "metadata": {},
   "outputs": [
    {
     "data": {
      "text/plain": [
       "8"
      ]
     },
     "execution_count": 6,
     "metadata": {},
     "output_type": "execute_result"
    }
   ],
   "source": [
    "max_element(map_list)"
   ]
  },
  {
   "cell_type": "code",
   "execution_count": null,
   "id": "7c3443fe",
   "metadata": {},
   "outputs": [],
   "source": [
    "def move_left(mat):\n",
    "    result = []\n",
    "    for rows in mat:\n",
    "        new_row = []\n",
    "        temp = 0\n",
    "        for num in rows:\n",
    "            if num == 0: continue\n",
    "            if temp == num:\n",
    "                new_row[-1] *= 2\n",
    "                temp = 0\n",
    "            else:\n",
    "                new_row.append(num)\n",
    "                temp = num\n",
    "        new_row += [0] * (len(rows) - len(new_row))\n",
    "        result.append(new_row)\n",
    "\n",
    "    return result\n",
    "\n",
    "\n",
    "def move_up(mat):\n",
    "    result = move_left(list(map(list, zip(*mat))))\n",
    "    return list(map(list, zip(*result)))\n",
    "\n",
    "\n",
    "def move_right(mat):\n",
    "    result = []\n",
    "    result = []\n",
    "    for rows in mat:\n",
    "        rows.reverse()\n",
    "        new_row = []\n",
    "        temp = 0\n",
    "        for num in rows:\n",
    "            if num == 0: continue\n",
    "            if temp == num:\n",
    "                new_row[-1] *= 2\n",
    "                temp = 0\n",
    "            else:\n",
    "                new_row.append(num)\n",
    "                temp = num\n",
    "        new_row += [0] * (len(rows) - len(new_row))\n",
    "        new_row.reverse()\n",
    "        result.append(new_row)\n",
    "    return result\n",
    "\n",
    "\n",
    "def move_down(mat):\n",
    "    result = move_right(list(map(list, zip(*mat))))\n",
    "    return list(map(list, zip(*result)))\n",
    "\n",
    "\n",
    "def dfs(board, n):\n",
    "    global answer\n",
    "    if n == 5:\n",
    "        answer = max(answer, max_element(board))\n",
    "        return\n",
    "\n",
    "    else:\n",
    "        dfs(move_left(board), n+1)\n",
    "        dfs(move_right(board), n+1)\n",
    "        dfs(move_up(board), n+1)\n",
    "        dfs(move_down(board), n+1)\n",
    "\n",
    "\n",
    "answer = 0\n",
    "dfs(original_board, 0)\n",
    "print(answer)"
   ]
  },
  {
   "cell_type": "code",
   "execution_count": 38,
   "id": "b1ced829",
   "metadata": {},
   "outputs": [],
   "source": [
    "temp =  [2,2,2]"
   ]
  },
  {
   "cell_type": "code",
   "execution_count": 85,
   "id": "7580a77e",
   "metadata": {},
   "outputs": [],
   "source": [
    "from collections import deque\n",
    "def move_left(mat):\n",
    "    result = []\n",
    "    for i in range(len(mat)):\n",
    "        q = deque(mat[i])\n",
    "        now = q.popleft()\n",
    "        stack_list = []\n",
    "        stack_list.append(now)\n",
    "        while q:\n",
    "            curr = q.popleft()\n",
    "            if now != curr:\n",
    "                stack_list.append(curr)\n",
    "                now = curr\n",
    "            else:\n",
    "                now = stack_list.pop()*2\n",
    "                stack_list.append(now)        \n",
    "        num = len(mat[i]) - len(stack_list)\n",
    "        num_zero = [0]*num\n",
    "        stack_list += num_zero\n",
    "        result.append(stack_list)\n",
    "    return result"
   ]
  },
  {
   "cell_type": "code",
   "execution_count": 86,
   "id": "9c0e9f8e",
   "metadata": {},
   "outputs": [
    {
     "data": {
      "text/plain": [
       "[[2, 2, 2], [4, 4, 4], [8, 8, 8]]"
      ]
     },
     "execution_count": 86,
     "metadata": {},
     "output_type": "execute_result"
    }
   ],
   "source": [
    "map_list"
   ]
  },
  {
   "cell_type": "code",
   "execution_count": 87,
   "id": "fe2ec272",
   "metadata": {
    "scrolled": false
   },
   "outputs": [
    {
     "data": {
      "text/plain": [
       "[[4, 2, 0], [8, 4, 0], [16, 8, 0]]"
      ]
     },
     "execution_count": 87,
     "metadata": {},
     "output_type": "execute_result"
    }
   ],
   "source": [
    "move_left(map_list)"
   ]
  },
  {
   "cell_type": "code",
   "execution_count": 89,
   "id": "c7a3e448",
   "metadata": {},
   "outputs": [
    {
     "data": {
      "text/plain": [
       "[[2, 2, 2], [4, 4, 4], [8, 8, 8]]"
      ]
     },
     "execution_count": 89,
     "metadata": {},
     "output_type": "execute_result"
    }
   ],
   "source": [
    "map_list"
   ]
  },
  {
   "cell_type": "code",
   "execution_count": 88,
   "id": "d40c1d7c",
   "metadata": {},
   "outputs": [],
   "source": [
    "def move_up(mat):\n",
    "    result = move_left(list(map(list, zip(*mat))))\n",
    "    return list(map(list, zip(*result)))"
   ]
  },
  {
   "cell_type": "code",
   "execution_count": 90,
   "id": "3d61b065",
   "metadata": {},
   "outputs": [
    {
     "data": {
      "text/plain": [
       "[[2, 4, 8], [2, 4, 8], [2, 4, 8]]"
      ]
     },
     "execution_count": 90,
     "metadata": {},
     "output_type": "execute_result"
    }
   ],
   "source": [
    "list(map(list, zip(*map_list)))"
   ]
  },
  {
   "cell_type": "code",
   "execution_count": 102,
   "id": "184920a5",
   "metadata": {},
   "outputs": [
    {
     "name": "stdout",
     "output_type": "stream",
     "text": [
      "[([2, 2, 2],), ([4, 4, 4],), ([8, 8, 8],)]\n",
      "[(2, 4, 8), (2, 4, 8), (2, 4, 8)]\n"
     ]
    }
   ],
   "source": [
    "print(list(zip(map_list)))\n",
    "print(list(zip(*map_list)))"
   ]
  },
  {
   "cell_type": "code",
   "execution_count": 100,
   "id": "d7f3296f",
   "metadata": {},
   "outputs": [
    {
     "name": "stdout",
     "output_type": "stream",
     "text": [
      "[(1, 4), (2, 5), (3, 6)]\n",
      "[(1, 4, 7), (2, 5, 8), (3, 6, 9)]\n"
     ]
    }
   ],
   "source": [
    "x = [1,2,3]\n",
    "y = [4,5,6]\n",
    "z = [7,8,9]\n",
    "\n",
    "print(list(zip(x,y)))\n",
    "print(list(zip(x,y,z)))"
   ]
  },
  {
   "cell_type": "markdown",
   "id": "fb82b4d1",
   "metadata": {},
   "source": [
    "### 시험 감독"
   ]
  },
  {
   "cell_type": "code",
   "execution_count": 153,
   "id": "2e966a2f",
   "metadata": {
    "scrolled": false
   },
   "outputs": [
    {
     "name": "stdout",
     "output_type": "stream",
     "text": [
      "5\n",
      "10 9 10 9 10\n",
      "7 2\n",
      "13\n"
     ]
    }
   ],
   "source": [
    "n = int(input())\n",
    "students = list(map(int,input().split()))\n",
    "b, c = map(int,input().split())\n",
    "\n",
    "result = n\n",
    "for _ in range(n):\n",
    "    students[_] -= b\n",
    "    if students[_] < 0:\n",
    "        continue\n",
    "    div,last = divmod(students[_],c)\n",
    "    result += div\n",
    "    if last>0:\n",
    "        result+=1\n",
    "print(result)"
   ]
  },
  {
   "cell_type": "markdown",
   "id": "ac7f6944",
   "metadata": {},
   "source": [
    "### 주사위 굴리기"
   ]
  },
  {
   "cell_type": "code",
   "execution_count": 154,
   "id": "b3130a33",
   "metadata": {},
   "outputs": [
    {
     "name": "stdout",
     "output_type": "stream",
     "text": [
      "4 2 0 0 8\n",
      "0 2\n",
      "3 4\n",
      "5 6\n",
      "7 8\n",
      "4 4 4 1 3 3 3 2\n"
     ]
    }
   ],
   "source": [
    "n,m,x,y,k = map(int,input().split())\n",
    "map_list = []\n",
    "for i in range(n):\n",
    "    map_list.append(list(map(int,input().split())))\n",
    "moving_lsit = list(map(int,input().split()))"
   ]
  },
  {
   "cell_type": "code",
   "execution_count": null,
   "id": "9e0bebb2",
   "metadata": {},
   "outputs": [],
   "source": [
    "def move(d):\n",
    "    global dice1, dice2, dice3\n",
    "    # 동쪽이동 \n",
    "    # 좌->위 위->우, 우,아래     아래가 좌\n",
    "    if d == 1:\n",
    "        dice2, dice1 = dice1, dice2[::-1]\n",
    "\n",
    "    # 서쪽이동\n",
    "    # 위->좌,   아래->우,    좌-> 아래,    우-> 위\n",
    "    elif d == 2:\n",
    "        dice1, dice2 = dice2, dice1[::-1]\n",
    "\n",
    "    # 북쪽이동\n",
    "    # 위 뒤, 아래 앞         앞 위   뒤 아래\n",
    "    elif d == 3:\n",
    "        dice3, dice1 = dice1, dice3[::-1]\n",
    "\n",
    "    # 남쪽이동\n",
    "    # 위 아래 -> 앞 뒤     앞 뒤 - > 아래 뒤\n",
    "    else:\n",
    "        dice1, dice3 = dice3, dice1[::-1]\n",
    "\n",
    "\n",
    "\n",
    "N, M, sx, sy, K = map(int, input().split())\n",
    "MAP = []\n",
    "for _ in range(N):\n",
    "    MAP.append(list(map(int, input().split())))\n",
    "command = list(map(int,input().split()))\n",
    "\n",
    "def sol():\n",
    "    global MAP, sx, sy\n",
    "    for c in command:\n",
    "        nx, ny = sx + directions[c-1][0], sy + directions[c-1][1]\n",
    "\n",
    "        if nx >= N or ny >= M or nx < 0  or ny < 0:\n",
    "            continue\n",
    "\n",
    "        move(c)\n",
    "\n",
    "        # 주사위값 복사 \n",
    "        if MAP[nx][ny] == 0:\n",
    "            MAP[nx][ny] = dice1[1]\n",
    "        else:\n",
    "            dice1[1] = MAP[nx][ny]\n",
    "            MAP[nx][ny] = 0\n",
    "\n",
    "        sx, sy = nx, ny        \n",
    "        print(dice1[0])\n",
    "\n",
    "if __name__ == '__main__':\n",
    "    sol()"
   ]
  },
  {
   "cell_type": "markdown",
   "id": "38334e68",
   "metadata": {},
   "source": [
    "### 테트로미노"
   ]
  },
  {
   "cell_type": "code",
   "execution_count": 161,
   "id": "406b9467",
   "metadata": {},
   "outputs": [
    {
     "name": "stdout",
     "output_type": "stream",
     "text": [
      "5 5\n",
      "1 2 3 4 5\n",
      "5 4 3 2 1\n",
      "2 3 4 5 6\n",
      "6 5 4 3 2\n",
      "1 2 1 2 1\n"
     ]
    }
   ],
   "source": [
    "n,m = map(int,input().split())\n",
    "map_list = []\n",
    "for i in range(n):\n",
    "    map_list.append(list(map(int,input().split())))"
   ]
  },
  {
   "cell_type": "code",
   "execution_count": 162,
   "id": "63be6d5c",
   "metadata": {
    "scrolled": true
   },
   "outputs": [
    {
     "data": {
      "text/plain": [
       "[[1, 2, 3, 4, 5],\n",
       " [5, 4, 3, 2, 1],\n",
       " [2, 3, 4, 5, 6],\n",
       " [6, 5, 4, 3, 2],\n",
       " [1, 2, 1, 2, 1]]"
      ]
     },
     "execution_count": 162,
     "metadata": {},
     "output_type": "execute_result"
    }
   ],
   "source": [
    "map_list"
   ]
  },
  {
   "cell_type": "code",
   "execution_count": 163,
   "id": "da8dc7dd",
   "metadata": {},
   "outputs": [],
   "source": [
    "#첫번째 사각 박스\n",
    "x,y = 0,0\n",
    "shape_1 = [[x,y],[x,y+1],[x+1,y],[x+1,y+1]]"
   ]
  },
  {
   "cell_type": "code",
   "execution_count": 168,
   "id": "4311b304",
   "metadata": {},
   "outputs": [],
   "source": [
    "#두번째 직선\n",
    "x,y = 0,0\n",
    "shape_2_1 = [[x,y],[x,y+1],[x,y+2],[x,y+3]]\n",
    "shape_2_2 = [[x,y],[x+1,y],[x+2,y],[x+3,y]]"
   ]
  },
  {
   "cell_type": "code",
   "execution_count": 170,
   "id": "6bf9841b",
   "metadata": {},
   "outputs": [],
   "source": [
    "#세번째 ㄴ\n",
    "x,y = 0,0\n",
    "shape_3_1 = [[x,y],[x+1,y],[x+2,y],[x+2,y+1]]\n",
    "shape_3_2 = [[x,y],[x+1,y],[x,y+1],[x,y+2]]\n",
    "shape_3_3 = [[x,y],[x+1,y],[x+1,y+1],[x+1,y++2]]\n",
    "shape_3_4 = [[x,y],[x+1,y],[x+2,y],[x+2,y-1]]\n",
    "shape_3_5 = [[x,y],[x+1,y],[x+1,y-1],[x+1,y-2]]\n",
    "shape_3_6 = [[x,y],[x,y+1],[x+1,y+1],[x+2,y+1]]\n",
    "shape_3_7 = [[x,y],[x+1,y],[x,y+1],[x,y+2]]\n",
    "shape_3_8 = [[x,y],[x+1,y],[x+2,y],[x+2,y+1]]"
   ]
  },
  {
   "cell_type": "code",
   "execution_count": 173,
   "id": "f4ceb05c",
   "metadata": {},
   "outputs": [],
   "source": [
    "#네번째\n",
    "x,y = 0,0\n",
    "shape_4_1 = [[x,y],[x,y+1],[x+1,y+1],[x+1,y+2]]\n",
    "shape_4_2 = [[x,y],[x,y+1],[x-1,y+1],[x-1,y+2]]\n",
    "shape_4_3 = [[x,y],[x,y+1],[x+1,y+1],[x+1,y+2]]\n",
    "shape_4_3 = [[x,y],[x,y+1],[x-1,y+1],[x-1,y+2]]"
   ]
  },
  {
   "cell_type": "code",
   "execution_count": 174,
   "id": "20d996e9",
   "metadata": {},
   "outputs": [],
   "source": [
    "#다섯번째\n",
    "x,y = 0,0\n",
    "shape_5_1 = [[x,y],[x,y+1],[x-1,y+1],[x,y+2]]\n",
    "shape_5_2 = [[x,y],[x,y+1],[x-1,y+1],[x+1,y+1]]\n",
    "shape_5_3 = [[x,y],[x-1,y],[x+1,y],[x,y+1]]\n",
    "shape_5_3 = [[x,y],[x,y+1],[x+1,y+1],[x,y+2]]"
   ]
  },
  {
   "cell_type": "code",
   "execution_count": null,
   "id": "0671982a",
   "metadata": {},
   "outputs": [],
   "source": [
    "for i in range(n):\n",
    "    for j in range(j):\n",
    "        x,y = i,j\n",
    "        shape_1 = [[x,y],[x,y+1],[x+1,y],[x+1,y+1]]"
   ]
  }
 ],
 "metadata": {
  "kernelspec": {
   "display_name": "Python 3 (ipykernel)",
   "language": "python",
   "name": "python3"
  },
  "language_info": {
   "codemirror_mode": {
    "name": "ipython",
    "version": 3
   },
   "file_extension": ".py",
   "mimetype": "text/x-python",
   "name": "python",
   "nbconvert_exporter": "python",
   "pygments_lexer": "ipython3",
   "version": "3.9.7"
  }
 },
 "nbformat": 4,
 "nbformat_minor": 5
}
