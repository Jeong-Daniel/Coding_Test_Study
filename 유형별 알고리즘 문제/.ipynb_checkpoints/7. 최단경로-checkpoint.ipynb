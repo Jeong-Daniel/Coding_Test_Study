{
 "cells": [
  {
   "cell_type": "markdown",
   "id": "476734e8",
   "metadata": {},
   "source": [
    "### 37. 플로이드"
   ]
  },
  {
   "cell_type": "code",
   "execution_count": null,
   "id": "970d8bbe",
   "metadata": {},
   "outputs": [],
   "source": [
    "INF = int(1e9) #무한을 의미하는 값으로 10억을 설정\n",
    "\n",
    "#노드의 개수 및 간선의 개수를 입력받기\n",
    "n = int(input())\n",
    "m = int(input())\n",
    "\n",
    "#2차원 리스트(그래프 표현)을 만들고, 모든 값을 무한으로 초기화\n",
    "graph = [[INF]*(n+1) for _ in range(n+1)]\n",
    "\n",
    "#자기 자신에서 자기 자신으로 가는 비용은 0으로 초기화\n",
    "for a in range(1, n+1):\n",
    "    for b in range(1, n+1):\n",
    "        if a == b:\n",
    "            graph[a][b] = 0\n",
    "\n",
    "#각 간선에 대한 정보를 입력받아, 그 값으로 초기화\n",
    "for _ in range(m):\n",
    "    #A에서 B로 가는 비용은 C라고 설정\n",
    "    a, b, c = map(int, input().split())\n",
    "    #가장 짧은 간선 정보만 저장\n",
    "    if c < graph[a][b]:\n",
    "        graph[a][b] = c\n",
    "\n",
    "#점화식에 따라 플로이드 워셜 알고리즘을 수행\n",
    "for k in range(1, n+1):\n",
    "    for a in range(1, n+1):\n",
    "        for b in range(1, n+1):\n",
    "            graph[a][b] = min(graph[a][b], graph[a][k]+graph[k][b])\n",
    "            \n",
    "#수행된 결과를 출력\n",
    "for a in range(1, n+1):\n",
    "    for b in range(1, n+1):\n",
    "        #도달할 수 없는 경우, 0을 출력\n",
    "        if graph[a][b] == INF:\n",
    "            print(0, end=' ')\n",
    "        #도달할 수 있는 경우 거리를 출력\n",
    "        else:\n",
    "            print(graph[a][b], end = ' ')\n",
    "    print()"
   ]
  },
  {
   "cell_type": "markdown",
   "id": "25d31530",
   "metadata": {},
   "source": [
    "### 38. 정확한 순위"
   ]
  },
  {
   "cell_type": "code",
   "execution_count": 1,
   "id": "2e79ee24",
   "metadata": {
    "scrolled": true
   },
   "outputs": [
    {
     "name": "stdout",
     "output_type": "stream",
     "text": [
      "6 6\n",
      "1 5\n",
      "3 4\n",
      "4 2\n",
      "4 6\n",
      "5 2\n",
      "5 4\n",
      "6\n"
     ]
    }
   ],
   "source": [
    "INF = int(1e9) #무한을 의미하는 값으로 10억을 설정\n",
    "\n",
    "#노드의 개수, 간선의 개수를 입력받기\n",
    "n,m = map(int, input().split())\n",
    "#2차원 리스트(그래프 표현)를 만들고, 모든 값을 무한으로 초기화\n",
    "graph = [[INF]*(n+1) for _ in range(n+1)]\n",
    "\n",
    "#자기 자신에서 자기 자신으로 가는 비용은 0으로 초기화\n",
    "for a in range(1, n+1):\n",
    "    for b in range(1, n+1):\n",
    "        if a == b:\n",
    "            graph[a][b] = 0\n",
    "            \n",
    "#각 간선에 대한 정보를 입력받아, 그 값으로 초기화\n",
    "for _ in range(m):\n",
    "    #A에서 B로 가는 비용을 1로 설정\n",
    "    a, b = map(int, input().split())\n",
    "    graph[a][b] = 1\n",
    "\n",
    "#점화식에 따라 플로이드 워셜 알고리즘을 수행\n",
    "for k in range(1, n+1):\n",
    "    for a in range(1,n+1):\n",
    "        for b in range(1,n+1):\n",
    "            graph[a][b] = min(graph[a][b], graph[a][k], graph[k][b])\n",
    "            \n",
    "result = 0\n",
    "\n",
    "#각 학생을 번호에 따라 한 명씩 확인하여 도달 가능한지 체크\n",
    "for i in range(1,n+1):\n",
    "    count = 0\n",
    "    for j in range(1,n+1):\n",
    "        if graph[i][j] != INF or graph[j][i] != INF:\n",
    "            count += 1\n",
    "    if count == n:\n",
    "        result += 1\n",
    "print(result)"
   ]
  },
  {
   "cell_type": "markdown",
   "id": "093c8dad",
   "metadata": {},
   "source": [
    "### 화성 탐사"
   ]
  },
  {
   "cell_type": "code",
   "execution_count": 38,
   "id": "510d495d",
   "metadata": {
    "scrolled": false
   },
   "outputs": [
    {
     "name": "stdout",
     "output_type": "stream",
     "text": [
      "5\n",
      "3 7 2 0 1\n",
      "2 8 0 9 1\n",
      "1 2 1 8 1\n",
      "9 8 9 2 0\n",
      "3 6 5 1 5\n"
     ]
    }
   ],
   "source": [
    "n = int(input())\n",
    "map_list = []\n",
    "for i in range(n):\n",
    "    map_list.append(list(map(int,input().split())))"
   ]
  },
  {
   "cell_type": "code",
   "execution_count": 39,
   "id": "af4b5ce4",
   "metadata": {},
   "outputs": [],
   "source": [
    "sum_temp_1 = 0\n",
    "sum_temp_2 = 0\n",
    "for i in range(n):\n",
    "    sum_temp_1 += map_list[i][0]\n",
    "    map_list[i][0] = sum_temp_1\n",
    "    sum_temp_2 += map_list[0][i]\n",
    "    map_list[0][i] = sum_temp_2"
   ]
  },
  {
   "cell_type": "code",
   "execution_count": 40,
   "id": "8ae95790",
   "metadata": {},
   "outputs": [
    {
     "name": "stdout",
     "output_type": "stream",
     "text": [
      "20\n"
     ]
    }
   ],
   "source": [
    "for a in range(1,n):\n",
    "    for b in range(1,n):\n",
    "        map_list[a][b]+=min(map_list[a][b-1],map_list[a-1][b])\n",
    "        \n",
    "print(map_list[n-1][n-1])  "
   ]
  },
  {
   "cell_type": "code",
   "execution_count": null,
   "id": "5554bfdc",
   "metadata": {},
   "outputs": [],
   "source": [
    "import heapq\n",
    "import sys\n",
    "input = sys.stdin.readline\n",
    "INF = int(1e9) #무한을 의미하는 값으로 10억을 설정\n",
    "\n",
    "dx = [-1,0,1,0]\n",
    "dy = [0,1,0,-1]\n",
    "\n",
    "#전체 테스트 케이스(Test Case)만큼 반복\n",
    "for tc in range(int(input())):\n",
    "    #노드의 개수를 입력받기\n",
    "    n = int(input())\n",
    "    \n",
    "    "
   ]
  }
 ],
 "metadata": {
  "kernelspec": {
   "display_name": "Python 3 (ipykernel)",
   "language": "python",
   "name": "python3"
  },
  "language_info": {
   "codemirror_mode": {
    "name": "ipython",
    "version": 3
   },
   "file_extension": ".py",
   "mimetype": "text/x-python",
   "name": "python",
   "nbconvert_exporter": "python",
   "pygments_lexer": "ipython3",
   "version": "3.9.7"
  }
 },
 "nbformat": 4,
 "nbformat_minor": 5
}
