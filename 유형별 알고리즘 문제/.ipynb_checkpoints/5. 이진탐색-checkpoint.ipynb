{
 "cells": [
  {
   "cell_type": "markdown",
   "id": "1beb2e4f",
   "metadata": {},
   "source": [
    "### 27 정렬된 배열에서 특정 수의 개수 구하기"
   ]
  },
  {
   "cell_type": "code",
   "execution_count": 23,
   "id": "840e9de1",
   "metadata": {},
   "outputs": [
    {
     "name": "stdout",
     "output_type": "stream",
     "text": [
      "7 2\n",
      "1 1 2 2 2 2 3\n"
     ]
    },
    {
     "ename": "TypeError",
     "evalue": "int() argument must be a string, a bytes-like object or a number, not 'NoneType'",
     "output_type": "error",
     "traceback": [
      "\u001b[1;31m---------------------------------------------------------------------------\u001b[0m",
      "\u001b[1;31mTypeError\u001b[0m                                 Traceback (most recent call last)",
      "\u001b[1;32m~\\AppData\\Local\\Temp/ipykernel_10496/459714338.py\u001b[0m in \u001b[0;36m<module>\u001b[1;34m\u001b[0m\n\u001b[0;32m     52\u001b[0m \u001b[1;33m\u001b[0m\u001b[0m\n\u001b[0;32m     53\u001b[0m \u001b[1;31m#값이 x인 데이터의 개수 계산\u001b[0m\u001b[1;33m\u001b[0m\u001b[1;33m\u001b[0m\u001b[0m\n\u001b[1;32m---> 54\u001b[1;33m \u001b[0mcount\u001b[0m \u001b[1;33m=\u001b[0m \u001b[0mcount_by_value\u001b[0m\u001b[1;33m(\u001b[0m\u001b[0marray\u001b[0m\u001b[1;33m,\u001b[0m\u001b[0mx\u001b[0m\u001b[1;33m)\u001b[0m\u001b[1;33m\u001b[0m\u001b[1;33m\u001b[0m\u001b[0m\n\u001b[0m\u001b[0;32m     55\u001b[0m \u001b[1;33m\u001b[0m\u001b[0m\n\u001b[0;32m     56\u001b[0m \u001b[1;31m#값이 x인 원소가 존재하지 않는 다면\u001b[0m\u001b[1;33m\u001b[0m\u001b[1;33m\u001b[0m\u001b[0m\n",
      "\u001b[1;32m~\\AppData\\Local\\Temp/ipykernel_10496/459714338.py\u001b[0m in \u001b[0;36mcount_by_value\u001b[1;34m(array, x)\u001b[0m\n\u001b[0;32m     12\u001b[0m \u001b[1;33m\u001b[0m\u001b[0m\n\u001b[0;32m     13\u001b[0m     \u001b[1;31m#x가 마지막으로 등장한 인덱스 계산\u001b[0m\u001b[1;33m\u001b[0m\u001b[1;33m\u001b[0m\u001b[0m\n\u001b[1;32m---> 14\u001b[1;33m     \u001b[0mb\u001b[0m \u001b[1;33m=\u001b[0m \u001b[0mint\u001b[0m\u001b[1;33m(\u001b[0m\u001b[0mlast\u001b[0m\u001b[1;33m(\u001b[0m\u001b[0marray\u001b[0m\u001b[1;33m,\u001b[0m \u001b[0mx\u001b[0m\u001b[1;33m,\u001b[0m \u001b[1;36m0\u001b[0m\u001b[1;33m,\u001b[0m \u001b[0mn\u001b[0m\u001b[1;33m-\u001b[0m\u001b[1;36m1\u001b[0m\u001b[1;33m)\u001b[0m\u001b[1;33m)\u001b[0m\u001b[1;33m\u001b[0m\u001b[1;33m\u001b[0m\u001b[0m\n\u001b[0m\u001b[0;32m     15\u001b[0m \u001b[1;33m\u001b[0m\u001b[0m\n\u001b[0;32m     16\u001b[0m     \u001b[1;31m#개수를 반환\u001b[0m\u001b[1;33m\u001b[0m\u001b[1;33m\u001b[0m\u001b[0m\n",
      "\u001b[1;31mTypeError\u001b[0m: int() argument must be a string, a bytes-like object or a number, not 'NoneType'"
     ]
    }
   ],
   "source": [
    "#정렬된 수열에서 값이 x인 원소의 개수를 세는 매서드\n",
    "def count_by_value(array,x):\n",
    "    #데이터의 개수\n",
    "    n = len(array)\n",
    "    \n",
    "    # x가 처음 등장한 인덱스 계산\n",
    "    a = first(array,x,0,n-1)\n",
    "    \n",
    "    #수열에 x가 존재하지 않는 경우\n",
    "    if a == None:\n",
    "        return 0 #값이 x인 원소의 개수는 0개이므로 0반환\n",
    "    \n",
    "    #x가 마지막으로 등장한 인덱스 계산\n",
    "    b = last(array, x, 0, n-1)\n",
    "    \n",
    "    #개수를 반환\n",
    "    return (b - a + 1)\n",
    "\n",
    "#처음 위치를 찾는 이진 탐색 매서드\n",
    "def first(array, target, start, end):\n",
    "    if start > end:\n",
    "        #이진탐색은 인덱스 위치가 바뀌면 종료함\n",
    "        return None\n",
    "    mid = (start+end)//2\n",
    "    #해당 값을 가지는 원소 중에서 가장 왼쪽에 있는 경우에만 인덱스 반환\n",
    "    if (mid==0 or target > array[mid-1]) and array[mid] == target:\n",
    "        return mid\n",
    "    #중간점의 값 보다 찾고자 하는 값이 작거나 같은 경우 왼쪽 확인\n",
    "    elif array[mid] >= target:\n",
    "        return first(array, target, start, mid-1)\n",
    "    #중간점의 값 보다 찾고자 하는 값이 큰 경우 오른쪽 확인\n",
    "    else:\n",
    "        return first(array, target, mid+1, end)\n",
    "    \n",
    "#마지막 위치를 찾는 이진 탐색 매서드\n",
    "def last(array, target, start, end):\n",
    "    if start > end:\n",
    "        return None\n",
    "    mid = (start+end)//2\n",
    "    #해당 값을 가지는 원소 중에서 가장 오른쪽에 있는 경우에만 인덱스 반환\n",
    "    if (mid==n-1 or target < array[mid+1]) and array[mid] == target:\n",
    "        return mid\n",
    "    #중간점의 값 보다 찾고자 하는 값이 작거나 같은 경우 왼쪽 확인\n",
    "    elif array[mid] >= target:\n",
    "        return last(array, target, start, mid-1)\n",
    "    #중간점의 값 보다 찾고자 하는 값이 큰 경우 오른쪽 확인\n",
    "    else:\n",
    "        return last(array, target, mid+1, end)\n",
    "    \n",
    "n, x = map(int,input().split())\n",
    "array = list(map(int,input().split())) #전체 데이터 입력받기\n",
    "\n",
    "#값이 x인 데이터의 개수 계산\n",
    "count = count_by_value(array,x)\n",
    "\n",
    "#값이 x인 원소가 존재하지 않는 다면\n",
    "if count == 0:\n",
    "    print(-1)\n",
    "#값이 x인 원소가 존재한다면\n",
    "else:\n",
    "    print(count)"
   ]
  },
  {
   "cell_type": "code",
   "execution_count": 26,
   "id": "ce9cab73",
   "metadata": {},
   "outputs": [
    {
     "name": "stdout",
     "output_type": "stream",
     "text": [
      "7 2\n",
      "1 1 2 2 2 2 3\n",
      "4\n"
     ]
    }
   ],
   "source": [
    "from bisect import *\n",
    "\n",
    "#값이 [left_value, right_vlaue]인 데이터의 개수를 반환하는 함수\n",
    "def count_by_range(array, left_value, right_value):\n",
    "    right_index = bisect_right(array, right_value)\n",
    "    left_index = bisect_left(array, left_value)\n",
    "    return right_index - left_index\n",
    "\n",
    "n, x = map(int,input().split())\n",
    "array = list(map(int,input().split())) #전체 데이터 입력받기\n",
    "\n",
    "#값이 x인 데이터의 개수 계산\n",
    "count = count_by_range(array,x,x)\n",
    "\n",
    "#값이 x인 원소가 존재하지 않는 다면\n",
    "if count == 0:\n",
    "    print(-1)\n",
    "#값이 x인 원소가 존재한다면\n",
    "else:\n",
    "    print(count)"
   ]
  },
  {
   "cell_type": "markdown",
   "id": "9a7ac699",
   "metadata": {},
   "source": [
    "### 고정점 찾기"
   ]
  },
  {
   "cell_type": "code",
   "execution_count": 34,
   "id": "89c9fcc6",
   "metadata": {},
   "outputs": [],
   "source": [
    "n = 5\n",
    "find_list = [-15,-6,1,3,7]"
   ]
  },
  {
   "cell_type": "code",
   "execution_count": 39,
   "id": "20889562",
   "metadata": {},
   "outputs": [
    {
     "name": "stdout",
     "output_type": "stream",
     "text": [
      "5\n",
      "-15 -6 1 3 7\n",
      "3\n"
     ]
    }
   ],
   "source": [
    "#이진 탐색 소스코드 구현(재귀함수)\n",
    "def binary_search(array, start, end):\n",
    "    if start > end:\n",
    "        return None\n",
    "    mid = (start+end)//2\n",
    "    #고정점을 찾은 경우 인덱스 반환\n",
    "    if array[mid] == mid:\n",
    "        return mid\n",
    "    #중간점이 가리키는 위치의 값보다 중간점이 작은 경우 왼쪽 확인\n",
    "    elif array[mid] > mid:\n",
    "        return binary_search(array, start, mid-1)\n",
    "    #중간점이 가리키는 위치의 값보다 중간점이 큰 경우 오른쪽 확인\n",
    "    else:\n",
    "        return binary_search(array, mid+1, end)\n",
    "    \n",
    "n = int(input())\n",
    "array = list(map(int,input().split()))\n",
    "\n",
    "#이진 탐색(Binary Search) 수행\n",
    "index = binary_search(array,0,n-1)\n",
    "\n",
    "#고정점이 없는 경우 -1출력\n",
    "if index == None:\n",
    "    print(-1)\n",
    "#고정점이 있는 경우 해당 인덱스 출력\n",
    "else:\n",
    "    print(index)"
   ]
  },
  {
   "cell_type": "markdown",
   "id": "b5dde873",
   "metadata": {},
   "source": [
    "### 공유기 설치하기"
   ]
  },
  {
   "cell_type": "code",
   "execution_count": 42,
   "id": "dfd6b84e",
   "metadata": {},
   "outputs": [
    {
     "name": "stdout",
     "output_type": "stream",
     "text": [
      "5 3\n",
      "1\n",
      "2\n",
      "8\n",
      "4\n",
      "9\n",
      "3\n"
     ]
    }
   ],
   "source": [
    "#집의 개수(N)와 공유기의 개수(C)를 입력받기\n",
    "n, c = list(map(int, input().split(' ')))\n",
    "\n",
    "#전체 집의 좌표 정보를 입력받기\n",
    "array = []\n",
    "for _ in range(n):\n",
    "    array.append(int(input()))\n",
    "array.sort() #이진 탐색 수행을 위해 정렬 수행\n",
    "\n",
    "start = array[1] - array[0] #집의 좌표 중에 가장 작은 값\n",
    "end = array[-1] - array[0] #집의 좌표 중에 가장 큰 값\n",
    "\n",
    "while(start <= end):\n",
    "    mid =(start + end)//2 #mid는 가장 인접한 두 공유기 사이의 거리(gap)를 의미\n",
    "    value = array[0]\n",
    "    count = 1\n",
    "    #현재의 mid값을 이용해 공유기를 설치\n",
    "    for i in range(1,n): #앞에서 부터 차근차근 설치\n",
    "        if array[i] >= value + mid:\n",
    "            value = array[i]\n",
    "            count += 1\n",
    "    if count >= c: #C개 이상의 공유기를 설치할 수 있는 경우, 거리를 증가\n",
    "        start = mid + 1\n",
    "        result = mid #최적의 결과를 저장\n",
    "    else:\n",
    "        #C개 이상의 공유기를 설치할 수 없는 경우, 거리를 감소\n",
    "        end = mid - 1\n",
    "\n",
    "print(result)"
   ]
  },
  {
   "cell_type": "markdown",
   "id": "c49470bc",
   "metadata": {},
   "source": [
    "### 가사검색"
   ]
  },
  {
   "cell_type": "code",
   "execution_count": 1,
   "id": "8e905e8f",
   "metadata": {},
   "outputs": [],
   "source": [
    "words = [\"frodo\", \"front\", \"frost\", \"frozen\", \"frame\", \"kakao\"]\n",
    "queries = [\"fro??\", \"????o\", \"fr???\", \"fro???\", \"pro?\"]"
   ]
  },
  {
   "cell_type": "code",
   "execution_count": 2,
   "id": "01059a75",
   "metadata": {},
   "outputs": [
    {
     "data": {
      "text/plain": [
       "'fro??'"
      ]
     },
     "execution_count": 2,
     "metadata": {},
     "output_type": "execute_result"
    }
   ],
   "source": [
    "queries[0]"
   ]
  },
  {
   "cell_type": "code",
   "execution_count": 34,
   "id": "c08e3928",
   "metadata": {},
   "outputs": [],
   "source": [
    "def select_car(stirng):\n",
    "    num = len(stirng)\n",
    "    temp_result = []\n",
    "    for i in range(num):\n",
    "        if stirng[i] != '?':\n",
    "            temp_result.append((i,stirng[i]))\n",
    "\n",
    "    maxnumber = max(temp_result)[0]+1\n",
    "    minnumber = min(temp_result)[0]\n",
    "    \n",
    "    temp_char = ''\n",
    "    for i in range(len(temp_result)):\n",
    "        temp_char+=temp_result[i][1]\n",
    "    \n",
    "    return maxnumber,minnumber,temp_char"
   ]
  },
  {
   "cell_type": "code",
   "execution_count": null,
   "id": "2ddda5f4",
   "metadata": {},
   "outputs": [],
   "source": []
  },
  {
   "cell_type": "code",
   "execution_count": 35,
   "id": "f14baaaa",
   "metadata": {},
   "outputs": [
    {
     "name": "stdout",
     "output_type": "stream",
     "text": [
      "(3, 0, 'fro')\n"
     ]
    }
   ],
   "source": [
    "print(select_car(queries[0]))"
   ]
  },
  {
   "cell_type": "code",
   "execution_count": 32,
   "id": "1533d068",
   "metadata": {},
   "outputs": [
    {
     "data": {
      "text/plain": [
       "'d'"
      ]
     },
     "execution_count": 32,
     "metadata": {},
     "output_type": "execute_result"
    }
   ],
   "source": []
  },
  {
   "cell_type": "code",
   "execution_count": null,
   "id": "89c7b6a9",
   "metadata": {},
   "outputs": [],
   "source": []
  }
 ],
 "metadata": {
  "kernelspec": {
   "display_name": "Python 3 (ipykernel)",
   "language": "python",
   "name": "python3"
  },
  "language_info": {
   "codemirror_mode": {
    "name": "ipython",
    "version": 3
   },
   "file_extension": ".py",
   "mimetype": "text/x-python",
   "name": "python",
   "nbconvert_exporter": "python",
   "pygments_lexer": "ipython3",
   "version": "3.9.7"
  }
 },
 "nbformat": 4,
 "nbformat_minor": 5
}
