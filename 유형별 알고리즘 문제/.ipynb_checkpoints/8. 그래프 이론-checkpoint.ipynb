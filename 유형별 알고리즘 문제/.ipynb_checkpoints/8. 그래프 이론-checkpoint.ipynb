{
 "cells": [
  {
   "cell_type": "markdown",
   "id": "1f970f43",
   "metadata": {},
   "source": [
    "### 41 여행 계획"
   ]
  },
  {
   "cell_type": "code",
   "execution_count": 7,
   "id": "c77e2f8e",
   "metadata": {
    "scrolled": true
   },
   "outputs": [
    {
     "name": "stdout",
     "output_type": "stream",
     "text": [
      "5 4\n",
      "0 1 0 1 1\n",
      "1 0 1 1 0\n",
      "0 1 0 0 0\n",
      "1 1 0 0 0\n",
      "1 0 0 0 0\n",
      "2 3 4 3\n"
     ]
    }
   ],
   "source": [
    "n,m = map(int,input().split())\n",
    "\n",
    "graph_map = []\n",
    "for i in range(n):\n",
    "    graph_map.append(list(map(int,input().split())))\n",
    "\n",
    "travel_list = list(map(int,input().split()))"
   ]
  },
  {
   "cell_type": "code",
   "execution_count": 19,
   "id": "94a306d7",
   "metadata": {},
   "outputs": [
    {
     "data": {
      "text/plain": [
       "[[0, 1, 0, 1, 1],\n",
       " [1, 0, 1, 1, 0],\n",
       " [0, 1, 0, 0, 0],\n",
       " [1, 1, 0, 0, 0],\n",
       " [1, 0, 0, 0, 0]]"
      ]
     },
     "execution_count": 19,
     "metadata": {},
     "output_type": "execute_result"
    }
   ],
   "source": [
    "graph_map"
   ]
  },
  {
   "cell_type": "code",
   "execution_count": 26,
   "id": "8dcb0721",
   "metadata": {},
   "outputs": [
    {
     "data": {
      "text/plain": [
       "[2, 3, 4, 3]"
      ]
     },
     "execution_count": 26,
     "metadata": {},
     "output_type": "execute_result"
    }
   ],
   "source": [
    "travel_list"
   ]
  },
  {
   "cell_type": "code",
   "execution_count": 25,
   "id": "bed0879a",
   "metadata": {},
   "outputs": [
    {
     "name": "stdout",
     "output_type": "stream",
     "text": [
      "NO\n"
     ]
    }
   ],
   "source": [
    "curr = travel_list[0]\n",
    "for i in range(1,m-1):\n",
    "    now = travel_list[i]\n",
    "    if graph_map[curr-1][now-1] != 0:\n",
    "        curr = travel_list[i]\n",
    "    else:\n",
    "        print(\"NO\")\n",
    "        break"
   ]
  },
  {
   "cell_type": "code",
   "execution_count": 23,
   "id": "3dfc65bd",
   "metadata": {},
   "outputs": [
    {
     "data": {
      "text/plain": [
       "[1, 0, 1, 1, 0]"
      ]
     },
     "execution_count": 23,
     "metadata": {},
     "output_type": "execute_result"
    }
   ],
   "source": [
    "graph_map[2-1]"
   ]
  },
  {
   "cell_type": "code",
   "execution_count": 28,
   "id": "f7af8073",
   "metadata": {},
   "outputs": [
    {
     "name": "stdout",
     "output_type": "stream",
     "text": [
      "5 4\n",
      "0 1 0 1 1\n",
      "1 0 1 1 0\n",
      "0 1 0 0 0\n",
      "1 1 0 0 0\n",
      "1 0 0 0 0\n",
      "2 3 4 3\n",
      "YES\n"
     ]
    }
   ],
   "source": [
    "#특정 원소가 속한 집합을 찾기\n",
    "def find_parent(parent,x):\n",
    "    #루트 노드가 아니라면, 루트 노드를 찾을 때까지 재귀적으로 호출\n",
    "    if parent[x] != x:\n",
    "        parent[x] = find_parent(parent, parent[x])\n",
    "    return parent[x]\n",
    "\n",
    "#두 원소가 속한 집합을 찾기\n",
    "def union_parent(parent, a, b):\n",
    "    a = find_parent(parent,a)\n",
    "    b = find_parent(parent,b)\n",
    "    if a < b:\n",
    "        parent[b] = a\n",
    "    else:\n",
    "        parent[a] = b\n",
    "    \n",
    "#여행지의 개수와 여행 계획에 속한 여행지의 개수 입력받기\n",
    "n,m = map(int, input().split())\n",
    "parent = [0]*(n+1) #부모테이블 초기화\n",
    "\n",
    "#부모 테이블상에서 부모를 자기 자신으로 초기화\n",
    "for i in range(i, n+1):\n",
    "    parent[i] = i\n",
    "    \n",
    "#union 연산을 각각 수행\n",
    "for i in range(n):\n",
    "    data = list(map(int, input().split()))\n",
    "    for j in range(n):\n",
    "        if data[j] == 1: #연결된 경우 union 연산 수행\n",
    "            union_parent(parent, i+1, j+1)\n",
    "    \n",
    "#여행 계획 입력받기\n",
    "plan = list(map(int, input().split()))\n",
    "\n",
    "result = True\n",
    "#여행 계획에 속하는 모든 노드의 루트가 동일한지 확인\n",
    "for i in range(m-1):\n",
    "    if find_parent(parent, plan[i]) != find_parent(parent, plan[i+1]):\n",
    "        result = False\n",
    "\n",
    "#여행 계획에 속하는 모든 노드가 서로 연결되어 있는지(루트가 동일한지) 확인\n",
    "if result:\n",
    "    print(\"YES\")\n",
    "else:\n",
    "    print(\"NO\")"
   ]
  },
  {
   "cell_type": "markdown",
   "id": "6b1cddd5",
   "metadata": {},
   "source": [
    "### 42. 탑승구"
   ]
  },
  {
   "cell_type": "code",
   "execution_count": 29,
   "id": "6c2996d7",
   "metadata": {},
   "outputs": [
    {
     "name": "stdout",
     "output_type": "stream",
     "text": [
      "4\n",
      "3\n",
      "4\n",
      "1\n",
      "1\n",
      "2\n"
     ]
    }
   ],
   "source": [
    "#특정 원소가 속한 집합을 찾기\n",
    "def find_parent(parent,x):\n",
    "    #루트 노드가 아니라면, 루트 노드를 찾을 때까지 재귀적으로 호출\n",
    "    if parent[x] != x:\n",
    "        parent[x] = find_parent(parent, parent[x])\n",
    "    return parent[x]\n",
    "\n",
    "#두 원소가 속한 집합을 찾기\n",
    "def union_parent(parent, a, b):\n",
    "    a = find_parent(parent,a)\n",
    "    b = find_parent(parent,b)\n",
    "    if a < b:\n",
    "        parent[b] = a\n",
    "    else:\n",
    "        parent[a] = b\n",
    "        \n",
    "#탑승구의 개수 입력받기\n",
    "g = int(input())\n",
    "#비행기의 개수 입력받기\n",
    "p = int(input())\n",
    "parent = [0] * (g+1) #부모 테이블 초기화\n",
    "\n",
    "#부모 테이블상에서, 부모를 자기 자신으로 초기화\n",
    "for i in range(1,g+1):\n",
    "    parent[i] = i\n",
    "    \n",
    "result = 0\n",
    "for _ in range(p):\n",
    "    data = find_parent(parent, int(input())) #현재 비행기의 탑승구의 루트 확인\n",
    "    if data == 0: #현재 루트가 0이라면 종료\n",
    "        break\n",
    "    union_parent(parent, data, data-1) #그렇지 않다면 바로 왼쪽의 집합과 합치기\n",
    "    result += 1\n",
    "\n",
    "print(result)"
   ]
  },
  {
   "cell_type": "markdown",
   "id": "4503c7df",
   "metadata": {},
   "source": [
    "### 43. 어두운 길"
   ]
  },
  {
   "cell_type": "code",
   "execution_count": 3,
   "id": "de554231",
   "metadata": {},
   "outputs": [
    {
     "name": "stdout",
     "output_type": "stream",
     "text": [
      "7 11\n",
      "0 1 7\n",
      "0 3 5\n",
      "1 2 8\n",
      "1 3 9\n",
      "1 4 7\n",
      "2 4 5\n",
      "3 4 15\n",
      "3 5 6\n",
      "4 5 8\n",
      "4 6 9\n",
      "5 6 11\n",
      "51\n"
     ]
    }
   ],
   "source": [
    "#특정 원소가 속한 집합을 찾기\n",
    "def find_parent(parent, x):\n",
    "    #로트 노드가 아니라면, 로트 노드를 찾을 때까지 재귀적으로 호출\n",
    "    if parent[x] != x:\n",
    "        parent[x] = find_parent(parent, parent[x])\n",
    "    return parent[x]\n",
    "\n",
    "#두 원소가 속한 집합을 찾기\n",
    "def union_parent(parent,a,b):\n",
    "    a = find_parent(parent,a)\n",
    "    b = find_parent(parent,b)\n",
    "    if a < b:\n",
    "        parent[b] = a\n",
    "    else:\n",
    "        parent[a] = b\n",
    "\n",
    "#노드의 개수와 간선의 개수 입력받기\n",
    "n,m = map(int,input().split())\n",
    "parent = [0]*(n+1) #부모 테이블 초기화\n",
    "\n",
    "#모든 간선을 담을 리스트와 최종 비용을 담을 변수\n",
    "edges = []\n",
    "result = 0\n",
    "\n",
    "#부모 테이블상에서, 부모를 자기 자신으로 초기화\n",
    "for i in range(1,n+1):\n",
    "    parent[i] = i\n",
    "    \n",
    "#모든 간선에 대해서 정보를 입력받기\n",
    "for _ in range(m):\n",
    "    x, y, z = map(int,input().split())\n",
    "    #비용순으로 정렬하기 위해서 튜플의 첫 번째 원소를 비용으로 설정\n",
    "    edges.append((z,x,y))\n",
    "    \n",
    "#간선을 비용순으로 정렬\n",
    "edges.sort()\n",
    "total = 0 #전체 가로등 비용\n",
    "\n",
    "#간선을 하나씩 확인하며\n",
    "for edge in edges:\n",
    "    cost, a, b = edge\n",
    "    total += cost\n",
    "    #사이클이 발생하지 않는 경우에만 집합에 포함\n",
    "    if find_parent(parent, a) != find_parent(parent, b):\n",
    "        union_parent(parent, a, b)\n",
    "        result += cost\n",
    "        \n",
    "print(total - result)"
   ]
  },
  {
   "cell_type": "code",
   "execution_count": 4,
   "id": "bf0c71e9",
   "metadata": {},
   "outputs": [
    {
     "name": "stdout",
     "output_type": "stream",
     "text": [
      "5\n",
      "11 -15 -15\n",
      "14 -5 -15\n",
      "-1 -1 -5\n",
      "10 -4 -1\n",
      "19 -4 19\n"
     ]
    }
   ],
   "source": [
    "n = int(input())\n",
    "map_list = []\n",
    "for _ in range(n):\n",
    "    map_list.append(list(map(int,input().split())))"
   ]
  },
  {
   "cell_type": "code",
   "execution_count": 6,
   "id": "fa2d6244",
   "metadata": {},
   "outputs": [],
   "source": [
    "parent = [0]*(n+1)\n",
    "for i in range(1,n+1):\n",
    "    parent[i] = i"
   ]
  },
  {
   "cell_type": "code",
   "execution_count": 20,
   "id": "90a30772",
   "metadata": {},
   "outputs": [],
   "source": [
    "def find_length(a,b):\n",
    "    length = min(abs(a[0]-b[0]),abs(a[1]-b[1]),abs(a[2]-b[2]))\n",
    "    return length\n",
    "\n",
    "#특정 원소가 속한 집합을 찾기\n",
    "def find_parent(parent, x):\n",
    "    #로트 노드가 아니라면, 로트 노드를 찾을 때까지 재귀적으로 호출\n",
    "    if parent[x] != x:\n",
    "        parent[x] = find_parent(parent, parent[x])\n",
    "    return parent[x]\n",
    "\n",
    "#두 원소가 속한 집합을 찾기\n",
    "def union_parent(parent,a,b):\n",
    "    a = find_parent(parent,a)\n",
    "    b = find_parent(parent,b)\n",
    "    if a < b:\n",
    "        parent[b] = a\n",
    "    else:\n",
    "        parent[a] = b"
   ]
  },
  {
   "cell_type": "code",
   "execution_count": 25,
   "id": "bea11a5a",
   "metadata": {},
   "outputs": [],
   "source": [
    "edges = []\n",
    "for i in range(n):\n",
    "    for j in range(i+1,n):\n",
    "        temp_list = find_length(map_list[i],map_list[j])\n",
    "        edges.append((temp_list,i,j))"
   ]
  },
  {
   "cell_type": "code",
   "execution_count": 26,
   "id": "63e32f1d",
   "metadata": {},
   "outputs": [],
   "source": [
    "edges.sort()"
   ]
  },
  {
   "cell_type": "code",
   "execution_count": 27,
   "id": "5d410102",
   "metadata": {},
   "outputs": [
    {
     "data": {
      "text/plain": [
       "[(0, 0, 1),\n",
       " (0, 3, 4),\n",
       " (1, 0, 3),\n",
       " (1, 1, 3),\n",
       " (1, 1, 4),\n",
       " (3, 2, 3),\n",
       " (3, 2, 4),\n",
       " (4, 1, 2),\n",
       " (8, 0, 4),\n",
       " (10, 0, 2)]"
      ]
     },
     "execution_count": 27,
     "metadata": {},
     "output_type": "execute_result"
    }
   ],
   "source": [
    "edges"
   ]
  },
  {
   "cell_type": "code",
   "execution_count": 28,
   "id": "e714f07f",
   "metadata": {},
   "outputs": [],
   "source": [
    "result = 0\n",
    "#간선을 하나씩 확인하며\n",
    "for edge in edges:\n",
    "    cost, a, b = edge\n",
    "    #사이클이 발생하지 않는 경우에만 집합에 포함\n",
    "    if find_parent(parent, a) != find_parent(parent, b):\n",
    "        union_parent(parent, a, b)\n",
    "        result += cost"
   ]
  },
  {
   "cell_type": "code",
   "execution_count": 29,
   "id": "d652a31e",
   "metadata": {},
   "outputs": [
    {
     "data": {
      "text/plain": [
       "4"
      ]
     },
     "execution_count": 29,
     "metadata": {},
     "output_type": "execute_result"
    }
   ],
   "source": [
    "result"
   ]
  },
  {
   "cell_type": "code",
   "execution_count": 31,
   "id": "4cdbf3cf",
   "metadata": {
    "scrolled": true
   },
   "outputs": [
    {
     "name": "stdout",
     "output_type": "stream",
     "text": [
      "5\n",
      "11 -15 -15\n",
      "14 -5 -15\n",
      "-1 -1 -5\n",
      "10 -4 -1\n",
      "19 -4 19\n",
      "4\n"
     ]
    }
   ],
   "source": [
    "#특정 원소가 속한 집합을 찾기\n",
    "def find_parent(parnet, x):\n",
    "    #루트 노드가 아니라면, 루트 노드를 찾을 때까지 재귀적으로 호출\n",
    "    if parent[x] != x:\n",
    "        parent[x] = find_parent(parent, parent[x])\n",
    "    return parent[x]\n",
    "\n",
    "#두 원소가 속한 집합을 합치기\n",
    "def union_parent(parent, a,b):\n",
    "    a = find_parent(parent, a)\n",
    "    b = find_parent(parent, b)\n",
    "    if a<b:\n",
    "        parent[b] = a\n",
    "    else:\n",
    "        parent[a] = b\n",
    "        \n",
    "n = int(input())\n",
    "parent = [0]*(n+1)\n",
    "for i in range(1,n+1):\n",
    "    parent[i] = i\n",
    "edges = []\n",
    "result = 0\n",
    "\n",
    "x = []\n",
    "y = []\n",
    "z = []\n",
    "\n",
    "#모든 노드에 대한 좌표 값 입력받기\n",
    "for i in range(1,n+1):\n",
    "    data = list(map(int, input().split()))\n",
    "    x.append((data[0],i))\n",
    "    y.append((data[1],i))\n",
    "    z.append((data[2],i))\n",
    "\n",
    "x.sort()\n",
    "y.sort()\n",
    "z.sort()\n",
    "\n",
    "#인접한 노드들로부터 간선 정보를 추출하여 처리\n",
    "for i in range(n-1):\n",
    "    #비용순으로 정렬하기 위해서 튜플의 첫 번째 원소를 비용으로 설정\n",
    "    edges.append((x[i+1][0]-x[i][0], x[i][1], x[i+1][1]))\n",
    "    edges.append((y[i+1][0]-y[i][0], y[i][1], y[i+1][1]))\n",
    "    edges.append((z[i+1][0]-z[i][0], z[i][1], z[i+1][1]))\n",
    "    \n",
    "#간선을 비용순으로 정렬\n",
    "edges.sort()\n",
    "\n",
    "#간선을 하나씩 확인하며\n",
    "for edge in edges:\n",
    "    cost, a, b = edge\n",
    "    #사이클이 발생하지 않는 경우에만 집합에 포함\n",
    "    if find_parent(parent,a) != find_parent(parent, b):\n",
    "        union_parent(parent, a, b)\n",
    "        result += cost\n",
    "        \n",
    "print(result)"
   ]
  },
  {
   "cell_type": "code",
   "execution_count": 36,
   "id": "b04cf31c",
   "metadata": {},
   "outputs": [
    {
     "data": {
      "text/plain": [
       "[(0, 1, 2),\n",
       " (0, 4, 5),\n",
       " (1, 2, 4),\n",
       " (1, 4, 1),\n",
       " (3, 1, 2),\n",
       " (3, 5, 3),\n",
       " (4, 3, 4),\n",
       " (5, 2, 5),\n",
       " (10, 1, 2),\n",
       " (10, 2, 3),\n",
       " (11, 3, 4),\n",
       " (20, 4, 5)]"
      ]
     },
     "execution_count": 36,
     "metadata": {},
     "output_type": "execute_result"
    }
   ],
   "source": [
    "edges"
   ]
  },
  {
   "cell_type": "markdown",
   "id": "fa8dd9f9",
   "metadata": {},
   "source": [
    "### 45. 최종순위"
   ]
  },
  {
   "cell_type": "code",
   "execution_count": 39,
   "id": "55f7f415",
   "metadata": {},
   "outputs": [
    {
     "name": "stdout",
     "output_type": "stream",
     "text": [
      "3\n",
      "5\n",
      "5 4 3 2 1\n",
      "2\n",
      "2 4\n",
      "3 4\n",
      "5 \n",
      "5 3 \n",
      "5 3 2 \n",
      "5 3 2 4 \n",
      "5 3 2 4 1 \n",
      "3\n",
      "2 3 1\n",
      "0\n",
      "2 \n",
      "2 3 \n",
      "2 3 1 \n",
      "4\n",
      "1 2 3 4\n",
      "3\n",
      "1 2\n",
      "3 4\n",
      "2 3\n"
     ]
    }
   ],
   "source": [
    "from collections import deque\n",
    "\n",
    "#테스트 케이스(Test Case)만큼 반복\n",
    "for tc in range(int(input())):\n",
    "    #노드의 개수 입력받기\n",
    "    n = int(input())\n",
    "    #모든 노드에 대한 진입차수는 0으로 초기화\n",
    "    indegree = [0]*(n+1)\n",
    "    #각 노드에 연결된 간선 정보를 담기 위한 인접 행렬 초기화\n",
    "    graph = [[False]*(n+1) for i in range(n+1)]\n",
    "    #작년 순위 정보 입력\n",
    "    data = list(map(int,input().split()))\n",
    "    #방향 그래프의 간선 정보 초기화\n",
    "    for i in range(n):\n",
    "        for j in range(i+1,n):\n",
    "            graph[data[i]][data[j]] = True\n",
    "            indegree[data[j]] += 1\n",
    "            \n",
    "    #올해 변경된 순위 정보 입력\n",
    "    m = int(input())\n",
    "    for i in range(m):\n",
    "        a,b = map(int,input().split())\n",
    "        #간선의 방향 뒤집기\n",
    "        if graph[a][b]:\n",
    "            graph[a][b] = False\n",
    "            graph[b][a] = True\n",
    "            indegree[a] += 1\n",
    "            indegree[b] -= 1\n",
    "        else:\n",
    "            graph[a][b] = True\n",
    "            graph[b][a] = False\n",
    "            indegree[a] -= 1\n",
    "            indegree[b] += 1\n",
    "            \n",
    "    #위상 정렬(Topology Sort)시작\n",
    "    result = [] #알고리즘 수행 결과를 담을 리스트\n",
    "    q = deque() #큐 기능을 위한 deque 라이브러리를 사용\n",
    "    \n",
    "    #처음 시작할 때는 진입차수가 0인 노드를 큐에 삽입\n",
    "    for i in range(1,n+1):\n",
    "        if indegree[i] == 0:\n",
    "            q.append(i)\n",
    "            \n",
    "    certain = True #위상 정렬 결과가 오직 하나인지의 여부\n",
    "    cycle = False #그래프 내 사이클이 존재하는지 여부\n",
    "    \n",
    "    #정확히 노드의 개수만큼 반복\n",
    "    for i in range(n):\n",
    "        #큐가 비어 있다면 사이클이 발생했다는 의미\n",
    "        if len(q) == 0:\n",
    "            cycle = True\n",
    "            break\n",
    "        \n",
    "        #큐의 원소가 2개 이사이라면 가능한 정렬 결과가 여러 개라는 의미\n",
    "        if len(q) >= 2:\n",
    "            certain = False\n",
    "            break\n",
    "        #큐에서 원소 꺼내기\n",
    "        now = q.popleft()\n",
    "        result.append(now)\n",
    "        #해당 원소와 연결된 노드들의 진입차수에서 1빼기\n",
    "        for i in range(1, n+1):\n",
    "            if graph[now][i]:\n",
    "                indegree[i] -= 1\n",
    "                #새롭게 진입차수가 0이되는 노드를 큐에 삽입\n",
    "                if indegree[i] == 0:\n",
    "                    q.append(i)\n",
    "\n",
    "        #사이클이 발생하는 경우(일관성이 없는 경우)\n",
    "        if cycle:\n",
    "            print(\"IMPOSSIBLE\")\n",
    "        #위상 정렬 결과가 여러 개인 경우\n",
    "        elif not certain:\n",
    "            print(\"?\")\n",
    "        #위상정렬 결과 출력\n",
    "        else:\n",
    "            for i in result:\n",
    "                print(i,end=' ')\n",
    "            print()"
   ]
  },
  {
   "cell_type": "code",
   "execution_count": null,
   "id": "58367318",
   "metadata": {},
   "outputs": [],
   "source": []
  }
 ],
 "metadata": {
  "kernelspec": {
   "display_name": "Python 3 (ipykernel)",
   "language": "python",
   "name": "python3"
  },
  "language_info": {
   "codemirror_mode": {
    "name": "ipython",
    "version": 3
   },
   "file_extension": ".py",
   "mimetype": "text/x-python",
   "name": "python",
   "nbconvert_exporter": "python",
   "pygments_lexer": "ipython3",
   "version": "3.9.7"
  }
 },
 "nbformat": 4,
 "nbformat_minor": 5
}
