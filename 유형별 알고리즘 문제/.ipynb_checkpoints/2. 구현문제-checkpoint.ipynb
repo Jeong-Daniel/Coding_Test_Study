{
 "cells": [
  {
   "cell_type": "markdown",
   "id": "039298f3",
   "metadata": {},
   "source": [
    "### 07 럭키 스트레이트"
   ]
  },
  {
   "cell_type": "code",
   "execution_count": 25,
   "id": "8e6356e8",
   "metadata": {},
   "outputs": [
    {
     "name": "stdout",
     "output_type": "stream",
     "text": [
      "7755\n"
     ]
    }
   ],
   "source": [
    "a = input()"
   ]
  },
  {
   "cell_type": "code",
   "execution_count": 26,
   "id": "a7fd0434",
   "metadata": {},
   "outputs": [],
   "source": [
    "length = int(len(a)/2)"
   ]
  },
  {
   "cell_type": "code",
   "execution_count": 27,
   "id": "133974a3",
   "metadata": {},
   "outputs": [],
   "source": [
    "left = a[0:length]\n",
    "right = a[length:]"
   ]
  },
  {
   "cell_type": "code",
   "execution_count": 28,
   "id": "82b31163",
   "metadata": {},
   "outputs": [
    {
     "name": "stdout",
     "output_type": "stream",
     "text": [
      "READY\n"
     ]
    }
   ],
   "source": [
    "left_sum=0\n",
    "right_sum=0\n",
    "\n",
    "for i in range(length):\n",
    "    left_sum += int(left[i])\n",
    "    right_sum += int(right[i])\n",
    "    \n",
    "if left_sum==right_sum:\n",
    "    print(\"LUCKY\")\n",
    "else:\n",
    "    print(\"READY\")"
   ]
  },
  {
   "cell_type": "markdown",
   "id": "36984bc2",
   "metadata": {},
   "source": [
    "### 08 문자열 재정렬"
   ]
  },
  {
   "cell_type": "code",
   "execution_count": 102,
   "id": "836ac373",
   "metadata": {
    "scrolled": true
   },
   "outputs": [
    {
     "name": "stdout",
     "output_type": "stream",
     "text": [
      "AJKDLSI412K4JSJ9D\n"
     ]
    }
   ],
   "source": [
    "a = input()"
   ]
  },
  {
   "cell_type": "code",
   "execution_count": 108,
   "id": "bcbfa210",
   "metadata": {
    "scrolled": true
   },
   "outputs": [],
   "source": [
    "num_list = ['0','1','2','3','4','5','6','7','8','9']"
   ]
  },
  {
   "cell_type": "code",
   "execution_count": 113,
   "id": "477b0a97",
   "metadata": {
    "scrolled": true
   },
   "outputs": [],
   "source": [
    "new_list=[]\n",
    "sum_list=[]\n",
    "\n",
    "for index,value in enumerate(a):\n",
    "    if value not in num_list:\n",
    "        new_list.append(value)\n",
    "    else:\n",
    "        sum_list.append(int(value))\n",
    "\n",
    "new_list.sort()\n",
    "new_list = ''.join(new_list)\n",
    "new_list+=str(sum(sum_list))"
   ]
  },
  {
   "cell_type": "code",
   "execution_count": 114,
   "id": "1a24ece7",
   "metadata": {},
   "outputs": [
    {
     "data": {
      "text/plain": [
       "'ADDIJJJKKLSS20'"
      ]
     },
     "execution_count": 114,
     "metadata": {},
     "output_type": "execute_result"
    }
   ],
   "source": [
    "new_list"
   ]
  },
  {
   "cell_type": "markdown",
   "id": "43031981",
   "metadata": {},
   "source": [
    "### 09 문자열 압축"
   ]
  },
  {
   "cell_type": "code",
   "execution_count": 10,
   "id": "01c8d485",
   "metadata": {},
   "outputs": [],
   "source": [
    "#a = input()\n",
    "a = \"aabbaccc\""
   ]
  },
  {
   "cell_type": "code",
   "execution_count": 11,
   "id": "fc8284c7",
   "metadata": {},
   "outputs": [],
   "source": [
    "lenght = int(len(a)/2)"
   ]
  },
  {
   "cell_type": "markdown",
   "id": "ab21fb8c",
   "metadata": {},
   "source": [
    "일단 먼저 글자수를 나누어야 할거 같다."
   ]
  },
  {
   "cell_type": "code",
   "execution_count": 45,
   "id": "7a35e577",
   "metadata": {},
   "outputs": [
    {
     "data": {
      "text/plain": [
       "'aabbaccc'"
      ]
     },
     "execution_count": 45,
     "metadata": {},
     "output_type": "execute_result"
    }
   ],
   "source": [
    "a"
   ]
  },
  {
   "cell_type": "code",
   "execution_count": 49,
   "id": "357c47d5",
   "metadata": {},
   "outputs": [],
   "source": [
    "my_list = []\n",
    "for i in range(len(a)):\n",
    "    my_list.append([a[i],a[i],1])"
   ]
  },
  {
   "cell_type": "code",
   "execution_count": 50,
   "id": "d6364d0c",
   "metadata": {
    "scrolled": true
   },
   "outputs": [
    {
     "data": {
      "text/plain": [
       "[['a', 'a', 1],\n",
       " ['a', 'a', 1],\n",
       " ['b', 'b', 1],\n",
       " ['b', 'b', 1],\n",
       " ['a', 'a', 1],\n",
       " ['c', 'c', 1],\n",
       " ['c', 'c', 1],\n",
       " ['c', 'c', 1]]"
      ]
     },
     "execution_count": 50,
     "metadata": {},
     "output_type": "execute_result"
    }
   ],
   "source": [
    "my_list"
   ]
  },
  {
   "cell_type": "code",
   "execution_count": null,
   "id": "2631211c",
   "metadata": {},
   "outputs": [],
   "source": [
    "def parent_union(a,b):\n",
    "    if a[1]==b[1]:\n",
    "        "
   ]
  },
  {
   "cell_type": "code",
   "execution_count": 131,
   "id": "cb4d8abc",
   "metadata": {
    "scrolled": true
   },
   "outputs": [],
   "source": [
    "my_list = []\n",
    "short = 99999\n",
    "for i in range(lenght):\n",
    "    while()\n",
    "    my_list.append(a[])\n",
    "\n",
    "print(short)"
   ]
  },
  {
   "cell_type": "code",
   "execution_count": 8,
   "id": "de89f7a7",
   "metadata": {},
   "outputs": [
    {
     "data": {
      "text/plain": [
       "[[1, 1, 1]]"
      ]
     },
     "execution_count": 8,
     "metadata": {},
     "output_type": "execute_result"
    }
   ],
   "source": [
    "my_list"
   ]
  },
  {
   "cell_type": "code",
   "execution_count": 127,
   "id": "f3f55033",
   "metadata": {},
   "outputs": [
    {
     "data": {
      "text/plain": [
       "'abac'"
      ]
     },
     "execution_count": 127,
     "metadata": {},
     "output_type": "execute_result"
    }
   ],
   "source": [
    "a[::2]"
   ]
  },
  {
   "cell_type": "code",
   "execution_count": null,
   "id": "c8df1e15",
   "metadata": {},
   "outputs": [],
   "source": [
    "def solution(s):\n",
    "    answer = len(s)\n",
    "    #ㅂ개 단위(step)부터 압축 단위를 늘려가며 확인\n",
    "    for step in range(1, len(s)//2+1):\n",
    "        compressed = \"\"\n",
    "        prev = s[0:step] #앞에서부터 step만큼의 문자열 추출\n",
    "        count = 1\n",
    "        #단위(step) 크기만큼 증가시키며 이전 문자열과 비교\n",
    "        for j in range(step, len(s), step):\n",
    "            #이전 상태와 동일하다면 압축 횟수(count) 증가\n",
    "            if prev == s[j:j+step]:\n",
    "                count += 1\n",
    "            #다른 문자열이 나왔다면(더이상 압축하지 못한다면)\n",
    "            else:\n",
    "                compressed += str(count) + prev if count >=2 else prev\n",
    "                prev =s[j:j+step] #다시 상태 초기화\n",
    "                count = 1\n",
    "        #남아 있는 문자열에 대해서 처리\n",
    "        compressed += str(count) + prev if count >=2 else prev\n",
    "        #만들어지는 압축 문자열이 가장 짧은 것이 정답\n",
    "        answer = min(answer, len(compressed))\n",
    "    return answer"
   ]
  },
  {
   "cell_type": "markdown",
   "id": "23874d35",
   "metadata": {},
   "source": [
    "### 10 자물쇠와 열쇠"
   ]
  },
  {
   "cell_type": "code",
   "execution_count": 1,
   "id": "0daba8c6",
   "metadata": {},
   "outputs": [],
   "source": [
    "def rotate_a_matrix_by_90_degree(a):\n",
    "    n = len(a) #행 길이\n",
    "    m = len(a[0]) #열 길이\n",
    "    result = [[0]*n for _ in range(m)] #결과 리스트\n",
    "    for i in range(n):\n",
    "        for j in range(m):\n",
    "            result[j][n-i-1] = a[i][j]\n",
    "    return result\n",
    "\n",
    "#자물쇠의 중간 부분이 모두 1인지 확인\n",
    "def check(new_lock):\n",
    "    lock_length = len(new_lock)//3\n",
    "    for i in range(lock_length, lock_length*2):\n",
    "        for j in range(lock_length, lock_length*2):\n",
    "            if new_lock[i][j] != 1:\n",
    "                return False\n",
    "    return True\n",
    "\n",
    "def solution(key, lock):\n",
    "    n = len(lock)\n",
    "    m = len(lock[0])\n",
    "    #자물쇠의 크기를 기준의 3배로 변환\n",
    "    new_lock = [[0]*(n*3) for _ in range(n*3)]\n",
    "    #새로운 자물쇠의 중앙 부분에 기존의 자물쇠 넣기\n",
    "    for i in range(n):\n",
    "        for j in range(m):\n",
    "            new_lock[i+n][j+m] = lock[i][j]\n",
    "    \n",
    "    #4가지 방향에 대해서 확인\n",
    "    for rotation in range(4):\n",
    "        key = rotate_a_matrix_by_90_degree(key)#열쇠 회전\n",
    "        for x in range(n*2):\n",
    "            for y in range(n*2):\n",
    "                #자물쇠에 열쇠를 끼워 넣기\n",
    "                for i in range(m):\n",
    "                    for j in range(m):\n",
    "                        new_lock[x+i][y+j] += key[i][j]\n",
    "                #새로운 자물쇠에 열쇠가 정확히 들어맞는지 검사\n",
    "                if check(new_lock) == True:\n",
    "                    return True\n",
    "                #자물쇠에서 열쇠를 다시 빼기\n",
    "                for i in range(m):\n",
    "                    for j in range(m):\n",
    "                        new_lock[x+i][y+j] -= key[i][j]\n",
    "    return False"
   ]
  },
  {
   "cell_type": "code",
   "execution_count": 7,
   "id": "00787209",
   "metadata": {},
   "outputs": [
    {
     "name": "stdout",
     "output_type": "stream",
     "text": [
      "6\n",
      "3\n",
      "3 4\n",
      "2 5\n",
      "5 3\n",
      "3\n",
      "3 D\n",
      "15 L\n",
      "17 D\n",
      "9\n"
     ]
    }
   ],
   "source": [
    "n = int(input())\n",
    "k = int(input())\n",
    "data = [[0]*(n+1) for _ in range(n+1)] #맵 정보 입력\n",
    "info = [] #방향 회전 정보\n",
    "\n",
    "#맵 정보(사과는 1 뱀은 2 나머지 0)\n",
    "for _ in range(k):\n",
    "    a, b = map(int,input().split())\n",
    "    data[a][b] = 1\n",
    "    \n",
    "#방향 회전 정보 입력\n",
    "l = int(input())\n",
    "for _ in range(l):\n",
    "    x, c = input().split()\n",
    "    info.append((int(x), c))\n",
    "    \n",
    "#처음에는 오른쪽을 보고 있으므로(동,남,서,북)\n",
    "dx = [0,1,0,-1]\n",
    "dy = [1,0,-1,0]\n",
    "\n",
    "def turn(direction, c):\n",
    "    if c == 'L':\n",
    "        direction = (direction - 1)%4\n",
    "    else:\n",
    "        direction = (direction + 1)%4\n",
    "    return direction\n",
    "\n",
    "def simulate():\n",
    "    x, y = 1, 1 #뱀의 머리 위치\n",
    "    data[x][y] = 2 #뱀이 존재하는 위치는 2로 표시\n",
    "    direction = 0 #처음에는 동쪽을 보고 있음\n",
    "    time = 0 #시작한 뒤에 지난 '초' 시간\n",
    "    index = 0 #다음에 회전할 정보\n",
    "    q = [(x,y)] #뱀이 차지하고 있는 위치 정보(꼬리가 앞쪽)\n",
    "    while True:\n",
    "        nx = x + dx[direction]\n",
    "        ny = y + dy[direction]\n",
    "        \n",
    "        #맵 범위 안에 있고, 뱀의 몸통이 없는 위치라면\n",
    "        if 1 <= nx and nx <= n and 1 <= ny and ny <= n and data[nx][ny] !=2:\n",
    "            #사과가 없다면 이동 후에 꼬리 제거\n",
    "            if data[nx][ny] == 0:\n",
    "                data[nx][ny] = 2\n",
    "                q.append((nx,ny))\n",
    "                px,py = q.pop()\n",
    "                data[px][py] = 0\n",
    "            #사과가 있다면 이동 후에 꼬리 두기\n",
    "            if data[nx][ny] == 1:\n",
    "                data[nx][ny]=2\n",
    "                q.append((nx,ny))\n",
    "       #벽이나 뱀의 모통과 부딪혔다면\n",
    "        else:\n",
    "            time += 1\n",
    "            break\n",
    "        x, y = nx, ny #다음 위치로 이동\n",
    "        time += 1\n",
    "        if index < l and time == info[index][0]: #회전할 시간인 경우 회전\n",
    "            direction = turn(direction, info[index][1])\n",
    "            index += 1\n",
    "    return time\n",
    "\n",
    "print(simulate())"
   ]
  },
  {
   "cell_type": "code",
   "execution_count": 8,
   "id": "9cf62d7a",
   "metadata": {},
   "outputs": [
    {
     "name": "stdout",
     "output_type": "stream",
     "text": [
      "6\n",
      "3\n",
      "3 4\n",
      "2 5\n",
      "5 3\n",
      "3\n",
      "3 D\n",
      "15 L\n",
      "17 D\n"
     ]
    },
    {
     "data": {
      "text/plain": [
       "9"
      ]
     },
     "execution_count": 8,
     "metadata": {},
     "output_type": "execute_result"
    }
   ],
   "source": [
    "n = int(input())\n",
    "k = int(input())\n",
    "data = [[0]*(n+1) for _ in range(n+1)] #맵 정보 입력\n",
    "info = [] #방향 회전 정보\n",
    "\n",
    "#맵 정보(사과는 1 뱀은 2 나머지 0)\n",
    "for _ in range(k):\n",
    "    a, b = map(int,input().split())\n",
    "    data[a][b] = 1\n",
    "    \n",
    "#방향 회전 정보 입력\n",
    "l = int(input())\n",
    "for _ in range(l):\n",
    "    x, c = input().split()\n",
    "    info.append((int(x), c))\n",
    "    \n",
    "#처음에는 오른쪽을 보고 있으므로(동,남,서,북)\n",
    "dx = [0,1,0,-1]\n",
    "dy = [1,0,-1,0]\n",
    "\n",
    "def turn(direction, c):\n",
    "    if c == 'L':\n",
    "        direction = (direction - 1)%4\n",
    "    else:\n",
    "        direction = (direction + 1)%4\n",
    "    return direction\n",
    "\n",
    "def simulate():\n",
    "    x, y = 1, 1 #뱀의 머리 위치\n",
    "    data[x][y] = 2 #뱀이 존재하는 위치는 2로 표시\n",
    "    direction = 0 #처음에는 동쪽을 보고 있음\n",
    "    time = 0 #시작한 뒤에 지난 '초' 시간\n",
    "    index = 0 #다음에 회전할 정보\n",
    "    q = [(x,y)] #뱀이 차지하고 있는 위치 정보(꼬리가 앞쪽)\n",
    "    while True:\n",
    "        nx = x + dx[direction]\n",
    "        ny = y + dy[direction]\n",
    "        \n",
    "        #맵 범위 안에 있고, 뱀의 몸통이 없는 위치라면\n",
    "        if 1 <= nx and nx <= n and 1 <= ny and ny <= n and data[nx][ny] !=2:\n",
    "            #사과가 없다면 이동 후에 꼬리 제거\n",
    "            if data[nx][ny] == 0:\n",
    "                data[nx][ny] = 2\n",
    "                q.append((nx,ny))\n",
    "                px,py = q.pop()\n",
    "                data[px][py] = 0\n",
    "            #사과가 있다면 이동 후에 꼬리 두기\n",
    "            if data[nx][ny] == 1:\n",
    "                data[nx][ny]=2\n",
    "                q.append((nx,ny))\n",
    "       #벽이나 뱀의 모통과 부딪혔다면\n",
    "        else:\n",
    "            time += 1\n",
    "            break\n",
    "        x, y = nx, ny #다음 위치로 이동\n",
    "        time += 1\n",
    "        if index < l and time == info[index][0]: #회전할 시간인 경우 회전\n",
    "            direction = turn(direction, info[index][1])\n",
    "            index += 1\n",
    "    return time\n",
    "\n",
    "simulate()"
   ]
  },
  {
   "cell_type": "code",
   "execution_count": 18,
   "id": "470a2664",
   "metadata": {},
   "outputs": [
    {
     "data": {
      "text/plain": [
       "[(3, 'D'), (15, 'L'), (17, 'D')]"
      ]
     },
     "execution_count": 18,
     "metadata": {},
     "output_type": "execute_result"
    }
   ],
   "source": [
    "info"
   ]
  },
  {
   "cell_type": "markdown",
   "id": "a4a99c27",
   "metadata": {},
   "source": [
    "### 기둥과 보 설치"
   ]
  },
  {
   "cell_type": "code",
   "execution_count": 19,
   "id": "ec791074",
   "metadata": {},
   "outputs": [],
   "source": [
    "n = 5\n",
    "build_frame = [[1,0,0,1],[1,1,1,1],[2,1,0,1],[2,2,1,1],[5,0,0,1],[5,1,0,1],[4,2,1,1],[3,2,1,1]]"
   ]
  },
  {
   "cell_type": "code",
   "execution_count": 24,
   "id": "a8dab205",
   "metadata": {},
   "outputs": [],
   "source": [
    "length = len(build_frame)"
   ]
  },
  {
   "cell_type": "code",
   "execution_count": 21,
   "id": "ac86931f",
   "metadata": {},
   "outputs": [],
   "source": [
    "new_map = [[0]*5 for _ in range(n)]"
   ]
  },
  {
   "cell_type": "code",
   "execution_count": 22,
   "id": "bda34ce8",
   "metadata": {
    "scrolled": false
   },
   "outputs": [
    {
     "data": {
      "text/plain": [
       "[[0, 0, 0, 0, 0],\n",
       " [0, 0, 0, 0, 0],\n",
       " [0, 0, 0, 0, 0],\n",
       " [0, 0, 0, 0, 0],\n",
       " [0, 0, 0, 0, 0]]"
      ]
     },
     "execution_count": 22,
     "metadata": {},
     "output_type": "execute_result"
    }
   ],
   "source": [
    "new_map"
   ]
  },
  {
   "cell_type": "code",
   "execution_count": null,
   "id": "d6ec5379",
   "metadata": {},
   "outputs": [],
   "source": [
    "#기둥을 설치하기 위해서는 기둥이거나 보위거나 바닥이거나\n",
    "#"
   ]
  },
  {
   "cell_type": "code",
   "execution_count": null,
   "id": "9c6cdf47",
   "metadata": {},
   "outputs": [],
   "source": [
    "#먼저 설치하는 타입을 설정 (따라서 해야할일)\n",
    "def build_loc(new_map, build_frame[i]):\n",
    "    \n",
    "    \n",
    "    return new_map"
   ]
  },
  {
   "cell_type": "code",
   "execution_count": 31,
   "id": "725b0395",
   "metadata": {},
   "outputs": [
    {
     "name": "stdout",
     "output_type": "stream",
     "text": [
      "[1, 0]\n",
      "0\n",
      "1\n",
      "[1, 1]\n",
      "1\n",
      "1\n",
      "[2, 1]\n",
      "0\n",
      "1\n",
      "[2, 2]\n",
      "1\n",
      "1\n",
      "[5, 0]\n",
      "0\n",
      "1\n",
      "[5, 1]\n",
      "0\n",
      "1\n",
      "[4, 2]\n",
      "1\n",
      "1\n",
      "[3, 2]\n",
      "1\n",
      "1\n"
     ]
    }
   ],
   "source": [
    "for i in range(length):\n",
    "    loc = build_frame[i][0:2]\n",
    "    print(loc)\n",
    "    types = build_frame[i][2]\n",
    "    print(types)\n",
    "    build_type = build_frame[i][3]\n",
    "    print(build_type)"
   ]
  },
  {
   "cell_type": "code",
   "execution_count": null,
   "id": "f7c85b42",
   "metadata": {},
   "outputs": [],
   "source": []
  }
 ],
 "metadata": {
  "kernelspec": {
   "display_name": "Python 3 (ipykernel)",
   "language": "python",
   "name": "python3"
  },
  "language_info": {
   "codemirror_mode": {
    "name": "ipython",
    "version": 3
   },
   "file_extension": ".py",
   "mimetype": "text/x-python",
   "name": "python",
   "nbconvert_exporter": "python",
   "pygments_lexer": "ipython3",
   "version": "3.9.7"
  }
 },
 "nbformat": 4,
 "nbformat_minor": 5
}
