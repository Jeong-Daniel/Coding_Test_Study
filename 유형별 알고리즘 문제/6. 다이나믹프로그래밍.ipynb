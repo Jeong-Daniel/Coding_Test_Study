{
 "cells": [
  {
   "cell_type": "markdown",
   "id": "3689fb64",
   "metadata": {},
   "source": [
    "### 31 금광"
   ]
  },
  {
   "cell_type": "code",
   "execution_count": 2,
   "id": "92eb4c1c",
   "metadata": {},
   "outputs": [
    {
     "name": "stdout",
     "output_type": "stream",
     "text": [
      "2\n",
      "3 4\n",
      "1 3 3 2 2 1 4 1 0 6 4 7\n",
      "19\n",
      "4 4\n",
      "1 3 1 5 2 2 4 1 5 0 2 3 0 6 1 2\n",
      "16\n"
     ]
    }
   ],
   "source": [
    "#테스트 케이스 입력\n",
    "for tc in range(int(input())):\n",
    "    #금광 정보 입력\n",
    "    n, m = map(int, input().split())\n",
    "    array = list(map(int,input().split()))\n",
    "    \n",
    "    #다이나믹 프로그래밍을 위한 2차원 DP테이블 초기화\n",
    "    dp = []\n",
    "    index = 0\n",
    "    for i in range(n):\n",
    "        dp.append(array[index:index+m])\n",
    "        index += m\n",
    "    \n",
    "    #다이나믹 프로그래밍 진행\n",
    "    for j in range(1,m):\n",
    "        for i in range(n):\n",
    "            #왼쪽에서 오는 경우\n",
    "            if i == 0:\n",
    "                left_up = 0\n",
    "            else:\n",
    "                left_up = dp[i-1][j-1]\n",
    "            #왼쪽아래에서 오는 경우\n",
    "            if i == n - 1:\n",
    "                left_down = 0\n",
    "            else:\n",
    "                left_down = dp[i+1][j-1]\n",
    "            #왼쪽에서 오는 경우\n",
    "            left = dp[i][j-1]\n",
    "            dp[i][j] = dp[i][j] + max(left_up, left_down, left)\n",
    "    \n",
    "    result = 0\n",
    "    for i in range(n):\n",
    "        result = max(result, dp[i][m-1])\n",
    "    \n",
    "    print(result)"
   ]
  },
  {
   "cell_type": "markdown",
   "id": "b76c74e3",
   "metadata": {},
   "source": [
    "### 정수 삼각형"
   ]
  },
  {
   "cell_type": "code",
   "execution_count": 29,
   "id": "cf67dcb6",
   "metadata": {},
   "outputs": [
    {
     "name": "stdout",
     "output_type": "stream",
     "text": [
      "5\n",
      "7\n",
      "3 8\n",
      "8 1 0\n",
      "2 7 4 4\n",
      "4 5 2 6 5\n",
      "30\n"
     ]
    }
   ],
   "source": [
    "#n = 5\n",
    "#num_list = [[7], [3, 8], [8, 1, 0], [2, 7, 4, 4], [4, 5, 2, 6, 5]]\n",
    "n = int(input())\n",
    "num_list= []\n",
    "for i in range(n):\n",
    "    num_list.append(list(map(int,input().split())))\n",
    "for i in range(1,n):\n",
    "    for j in range(len(num_list[i])):\n",
    "        if j == 0:\n",
    "            num_list[i][j] += num_list[i-1][j]\n",
    "        elif j == len(num_list[i])-1:\n",
    "            num_list[i][j] += num_list[i-1][j-1]\n",
    "        else:\n",
    "            num_list[i][j] += max(num_list[i-1][j-1],num_list[i-1][j])\n",
    "print(max(num_list[n-1]))"
   ]
  },
  {
   "cell_type": "markdown",
   "id": "03f09216",
   "metadata": {},
   "source": [
    "### 퇴사"
   ]
  },
  {
   "cell_type": "code",
   "execution_count": 51,
   "id": "6ed5a6ea",
   "metadata": {
    "scrolled": true
   },
   "outputs": [
    {
     "name": "stdout",
     "output_type": "stream",
     "text": [
      "7\n",
      "3 10\n",
      "5 20\n",
      "1 10\n",
      "1 20\n",
      "2 15\n",
      "4 40\n",
      "2 200\n"
     ]
    }
   ],
   "source": [
    "n = int(input())\n",
    "t = [] #각 상담을 완료하는데 걸리는 시간\n",
    "p = [] #각 상담을 완료했을 때 받을 수 있는 금액\n",
    "dp  = [0]*(n+1) #dp를 위한 1차원 테이블 초기화 n+1한 이유는 마지막+1일까지 있을 수 있음\n",
    "max_value = 0\n",
    "\n",
    "for _ in range(n):\n",
    "    x,y = map(int, input().split())\n",
    "    t.append(x)\n",
    "    p.append(y)"
   ]
  },
  {
   "cell_type": "code",
   "execution_count": 54,
   "id": "27a2c9aa",
   "metadata": {},
   "outputs": [
    {
     "data": {
      "text/plain": [
       "[3, 5, 1, 1, 2, 4, 2]"
      ]
     },
     "execution_count": 54,
     "metadata": {},
     "output_type": "execute_result"
    }
   ],
   "source": [
    "t"
   ]
  },
  {
   "cell_type": "code",
   "execution_count": 55,
   "id": "5447e6ac",
   "metadata": {},
   "outputs": [
    {
     "data": {
      "text/plain": [
       "[10, 20, 10, 20, 15, 40, 200]"
      ]
     },
     "execution_count": 55,
     "metadata": {},
     "output_type": "execute_result"
    }
   ],
   "source": [
    "p"
   ]
  },
  {
   "cell_type": "code",
   "execution_count": 62,
   "id": "451fb621",
   "metadata": {},
   "outputs": [
    {
     "name": "stdout",
     "output_type": "stream",
     "text": [
      "315\n",
      "330\n",
      "350\n",
      "315\n",
      "350\n",
      "360\n"
     ]
    }
   ],
   "source": [
    "#리스트를 뒤에서부터 거꾸로 확인\n",
    "for i in range(n-1,-1,-1):\n",
    "    time = t[i] + i\n",
    "    #상담이 기간 안에 끝나는 경우\n",
    "    if time <= n:\n",
    "        #점화식에 맞게, 현재까지의 최고 이익 계산\n",
    "        dp[i] = max(p[i] + dp[time], max_value)\n",
    "        max_value = dp[i]\n",
    "    #상담이 기간을 벗어나는 경우\n",
    "    else:\n",
    "        dp[i] = max_value\n",
    "\n",
    "print(max_value)"
   ]
  },
  {
   "cell_type": "markdown",
   "id": "5f77810e",
   "metadata": {},
   "source": [
    "### 34 병사 배치하기"
   ]
  },
  {
   "cell_type": "code",
   "execution_count": 172,
   "id": "8a54ca57",
   "metadata": {},
   "outputs": [
    {
     "name": "stdout",
     "output_type": "stream",
     "text": [
      "7\n",
      "15 11 4 8 5 2 4\n"
     ]
    }
   ],
   "source": [
    "from collections import deque\n",
    "\n",
    "n = int(input())\n",
    "solider = list(map(int,input().split()))\n",
    "solider = deque(solider)\n",
    "count = 0"
   ]
  },
  {
   "cell_type": "code",
   "execution_count": 173,
   "id": "8967c8a8",
   "metadata": {},
   "outputs": [],
   "source": [
    "now = solider.popleft()\n",
    "new_stack = deque([])\n",
    "new_stack.append(now)"
   ]
  },
  {
   "cell_type": "code",
   "execution_count": 174,
   "id": "795aa45c",
   "metadata": {},
   "outputs": [],
   "source": [
    "while solider:\n",
    "    check = solider.popleft()\n",
    "    if now >= check:\n",
    "        now = check\n",
    "        new_stack.append(now)\n",
    "    else:\n",
    "        new_stack.popleft()\n",
    "        now = check\n",
    "        new_stack.append(now)\n",
    "        count += 1"
   ]
  },
  {
   "cell_type": "code",
   "execution_count": 176,
   "id": "6824ec32",
   "metadata": {},
   "outputs": [
    {
     "data": {
      "text/plain": [
       "2"
      ]
     },
     "execution_count": 176,
     "metadata": {},
     "output_type": "execute_result"
    }
   ],
   "source": [
    "print(count)"
   ]
  },
  {
   "cell_type": "code",
   "execution_count": 3,
   "id": "41d54360",
   "metadata": {},
   "outputs": [
    {
     "name": "stdout",
     "output_type": "stream",
     "text": [
      "7\n",
      "15 11 4 8 5 2 4\n",
      "4 5\n",
      "[1, 1, 1, 1, 1, 1, 1]\n",
      "[1, 1, 2, 1, 1, 1, 1]\n",
      "--------------------------------\n",
      "2 5\n",
      "[1, 1, 2, 1, 1, 1, 1]\n",
      "[1, 1, 2, 1, 1, 1, 1]\n",
      "--------------------------------\n",
      "4 8\n",
      "[1, 1, 2, 1, 1, 1, 1]\n",
      "[1, 1, 2, 2, 1, 1, 1]\n",
      "--------------------------------\n",
      "2 8\n",
      "[1, 1, 2, 2, 1, 1, 1]\n",
      "[1, 1, 2, 2, 1, 1, 1]\n",
      "--------------------------------\n",
      "5 8\n",
      "[1, 1, 2, 2, 1, 1, 1]\n",
      "[1, 1, 2, 3, 1, 1, 1]\n",
      "--------------------------------\n",
      "2 4\n",
      "[1, 1, 2, 3, 1, 1, 1]\n",
      "[1, 1, 2, 3, 2, 1, 1]\n",
      "--------------------------------\n",
      "4 11\n",
      "[1, 1, 2, 3, 2, 1, 1]\n",
      "[1, 1, 2, 3, 2, 2, 1]\n",
      "--------------------------------\n",
      "2 11\n",
      "[1, 1, 2, 3, 2, 2, 1]\n",
      "[1, 1, 2, 3, 2, 2, 1]\n",
      "--------------------------------\n",
      "5 11\n",
      "[1, 1, 2, 3, 2, 2, 1]\n",
      "[1, 1, 2, 3, 2, 3, 1]\n",
      "--------------------------------\n",
      "8 11\n",
      "[1, 1, 2, 3, 2, 3, 1]\n",
      "[1, 1, 2, 3, 2, 4, 1]\n",
      "--------------------------------\n",
      "4 11\n",
      "[1, 1, 2, 3, 2, 4, 1]\n",
      "[1, 1, 2, 3, 2, 4, 1]\n",
      "--------------------------------\n",
      "4 15\n",
      "[1, 1, 2, 3, 2, 4, 1]\n",
      "[1, 1, 2, 3, 2, 4, 2]\n",
      "--------------------------------\n",
      "2 15\n",
      "[1, 1, 2, 3, 2, 4, 2]\n",
      "[1, 1, 2, 3, 2, 4, 2]\n",
      "--------------------------------\n",
      "5 15\n",
      "[1, 1, 2, 3, 2, 4, 2]\n",
      "[1, 1, 2, 3, 2, 4, 3]\n",
      "--------------------------------\n",
      "8 15\n",
      "[1, 1, 2, 3, 2, 4, 3]\n",
      "[1, 1, 2, 3, 2, 4, 4]\n",
      "--------------------------------\n",
      "4 15\n",
      "[1, 1, 2, 3, 2, 4, 4]\n",
      "[1, 1, 2, 3, 2, 4, 4]\n",
      "--------------------------------\n",
      "11 15\n",
      "[1, 1, 2, 3, 2, 4, 4]\n",
      "[1, 1, 2, 3, 2, 4, 5]\n",
      "--------------------------------\n",
      "2\n"
     ]
    }
   ],
   "source": [
    "n = int(input())\n",
    "array = list(map(int, input().split()))\n",
    "#순서를 뒤집어 '가장 긴 증가하는 부분 수열' 문제로 변환\n",
    "array.reverse()\n",
    "\n",
    "#다이나믹 프로그래밍을 위한 1차원 DP 테이블 초기화\n",
    "dp = [1]*n\n",
    "\n",
    "#가장 긴 증가하는 부분 수열(LIS) 알고리즘 수행\n",
    "for i in range(1,n):\n",
    "    for j in range(0,i):\n",
    "        if array[j] < array[i]:\n",
    "            print(array[j],array[i])\n",
    "            print(dp)\n",
    "            dp[i] = max(dp[i], dp[j]+1)\n",
    "            print(dp)\n",
    "            print('--------------------------------')\n",
    "            \n",
    "#열외시켜야하는 병사의 최소 수 출력\n",
    "print(n-max(dp))"
   ]
  },
  {
   "cell_type": "markdown",
   "id": "5f7847e0",
   "metadata": {},
   "source": [
    "### 35 못생긴 수"
   ]
  },
  {
   "cell_type": "code",
   "execution_count": 1,
   "id": "95ecd957",
   "metadata": {},
   "outputs": [
    {
     "name": "stdout",
     "output_type": "stream",
     "text": [
      "11\n",
      "2\n",
      "1 2 4\n",
      "3\n",
      "1 2 6\n",
      "4\n",
      "2 3 6\n",
      "5\n",
      "1 2 10\n",
      "6\n",
      "3 4 8\n",
      "2 3 9\n",
      "8\n",
      "4 5 10\n",
      "9\n",
      "3 4 12\n",
      "10\n",
      "5 6 12\n",
      "2 3 15\n",
      "12\n",
      "6 8 16\n",
      "4 5 15\n",
      "15\n",
      "5 6 18\n",
      "3 4 20\n",
      "15\n"
     ]
    }
   ],
   "source": [
    "n = int(input())\n",
    "\n",
    "ugly = [0]*n #못생긴 수를 담기 위한 테이블(1차원 DP테이블)\n",
    "ugly[0] = 1 #첫번째 못생긴 수는 1\n",
    "\n",
    "#2,3,5배를 위한 인덱스\n",
    "i2 = i3 = i5 = 0\n",
    "#처음에 곱셈값을 초기화\n",
    "next2,next3,next5 = 2,3,5\n",
    "\n",
    "#1부터 n까지의 못생긴 수를 찾기\n",
    "for l in range(1,n):\n",
    "    #가능한 곱셈 결과 중에서 가장 작은 수를 선택\n",
    "    ugly[l] = min(next2,next3,next5)\n",
    "    print(ugly[l])\n",
    "    #인덱스에 따라서 곱셈 결과를 증가\n",
    "    if ugly[l] == next2:\n",
    "        i2 += 1\n",
    "        next2 = ugly[i2] * 2\n",
    "        print(i2,ugly[i2],next2)\n",
    "    if ugly[l] == next3:\n",
    "        i3 += 1\n",
    "        next3 = ugly[i3] * 3\n",
    "        print(i3,ugly[i3],next3)\n",
    "    if ugly[l] == next5:\n",
    "        i5 += 1\n",
    "        next5 = ugly[i5] * 5\n",
    "        print(i5,ugly[i5],next5)\n",
    "        \n",
    "#n번째 못생긴 수를 출력\n",
    "print(ugly[n-1])"
   ]
  },
  {
   "cell_type": "code",
   "execution_count": 2,
   "id": "9fbbef41",
   "metadata": {},
   "outputs": [
    {
     "name": "stdout",
     "output_type": "stream",
     "text": [
      "cat\n",
      "cut\n"
     ]
    }
   ],
   "source": [
    "a = str(input())\n",
    "b = str(input())"
   ]
  },
  {
   "cell_type": "code",
   "execution_count": 4,
   "id": "ab1899d5",
   "metadata": {},
   "outputs": [
    {
     "data": {
      "text/plain": [
       "'cut'"
      ]
     },
     "execution_count": 4,
     "metadata": {},
     "output_type": "execute_result"
    }
   ],
   "source": [
    "b"
   ]
  },
  {
   "cell_type": "markdown",
   "id": "419b5bce",
   "metadata": {},
   "source": [
    "### 36. 편집거리"
   ]
  },
  {
   "cell_type": "code",
   "execution_count": 7,
   "id": "7c83738b",
   "metadata": {},
   "outputs": [
    {
     "name": "stdout",
     "output_type": "stream",
     "text": [
      "cat\n",
      "cut\n",
      "1\n"
     ]
    }
   ],
   "source": [
    "#최소 편집 거리(Edit Distance) 계산을 위한 다이나믹 프로그래밍\n",
    "def edit_dist(str1, str2):\n",
    "    n = len(str1)\n",
    "    m = len(str2)\n",
    "    \n",
    "    #다이나믹 프로그래밍을 위한 2차원 DP 테이블 초기화\n",
    "    dp = [[0]*(m+1) for _ in range((n+1))]\n",
    "    \n",
    "    #DP 테이블 초기 설정\n",
    "    for i in range(1,n+1):\n",
    "        dp[i][0] = i\n",
    "    for j in range(1,m+1):\n",
    "        dp[0][j] = j\n",
    "        \n",
    "    #최소 편집 거리 계산\n",
    "    for i in range(1, n+1):\n",
    "        for j in range(1,m+1):\n",
    "            #문자가 같다면, 왼쪽 위에 해당하는 수를 그대로 대입\n",
    "            if str1[i-1] == str2[j-1]:\n",
    "                dp[i][j] = dp[i-1][j-1]\n",
    "            #문자가 다르다면, 3가지 경우 중에서 최솟 값 찾기\n",
    "            else: #삽입(왼쪽), 삭제(위쪽), 교체(왼쪽 위) 중에서 최소 비용을 찾아 대입\n",
    "                dp[i][j] = 1 + min(dp[i][j-1], dp[i-1][j], dp[i-1][j-1])\n",
    "    \n",
    "    return dp[n][m]\n",
    "\n",
    "#두 문자열을 입력받기\n",
    "str1 = input()\n",
    "str2 = input()\n",
    "\n",
    "#최소 편집 거리 출력\n",
    "print(edit_dist(str1,str2))"
   ]
  },
  {
   "cell_type": "code",
   "execution_count": null,
   "id": "90032400",
   "metadata": {},
   "outputs": [],
   "source": []
  }
 ],
 "metadata": {
  "kernelspec": {
   "display_name": "Python 3 (ipykernel)",
   "language": "python",
   "name": "python3"
  },
  "language_info": {
   "codemirror_mode": {
    "name": "ipython",
    "version": 3
   },
   "file_extension": ".py",
   "mimetype": "text/x-python",
   "name": "python",
   "nbconvert_exporter": "python",
   "pygments_lexer": "ipython3",
   "version": "3.9.7"
  }
 },
 "nbformat": 4,
 "nbformat_minor": 5
}
