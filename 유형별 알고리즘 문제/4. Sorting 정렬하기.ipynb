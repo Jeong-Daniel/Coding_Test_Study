{
 "cells": [
  {
   "cell_type": "markdown",
   "id": "e61759ad",
   "metadata": {},
   "source": [
    "### 국영수"
   ]
  },
  {
   "cell_type": "code",
   "execution_count": 2,
   "id": "5cd4499e",
   "metadata": {},
   "outputs": [],
   "source": [
    "score_list = [['Junkyu', 50, 60, 100],\n",
    "['Sangkeun', 80, 60, 50],\n",
    "['Sunyoung', 80, 70, 100],\n",
    "['Soong', 50, 60, 90],\n",
    "['Haebin', 50, 60, 100],\n",
    "['Kangsoo', 60, 80, 100],\n",
    "['Donghyuk', 80, 60, 100],\n",
    "['Sei', 70, 70, 70],\n",
    "['Wonseob', 70, 70, 90],\n",
    "['Sanghyun', 70, 70, 80],\n",
    "['nsj', 80, 80, 80],\n",
    "['Taewhan', 50, 60, 90]]"
   ]
  },
  {
   "cell_type": "code",
   "execution_count": 7,
   "id": "d589e7f7",
   "metadata": {},
   "outputs": [],
   "source": [
    "score_list.sort(key=lambda x:x[1], reverse=True)"
   ]
  },
  {
   "cell_type": "code",
   "execution_count": 12,
   "id": "62b996fe",
   "metadata": {},
   "outputs": [
    {
     "name": "stdout",
     "output_type": "stream",
     "text": [
      "12\n",
      "Donghyuk\n",
      "Sangkeun\n",
      "Sunyoung\n",
      "nsj\n",
      "Wonseob\n",
      "Sanghyun\n",
      "Sei\n",
      "Kangsoo\n",
      "Haebin\n",
      "Junkyu\n",
      "Soong\n",
      "Taewhan\n"
     ]
    }
   ],
   "source": [
    "n = int(input())\n",
    "students = [] #학생 정보를 담을 리스트\n",
    "\n",
    "#모든 학생 정보를 입력받기\n",
    "for _ in range(n):\n",
    "    students.append(input().split())\n",
    "    \n",
    "students.sort(key=lambda x: (-int(x[1]), int(x[2]), -int(x[3]), x[0]))\n",
    "\n",
    "#정렬된 학생 정보에서 이름만 출력\n",
    "for student in students:\n",
    "    print(student[0])"
   ]
  },
  {
   "cell_type": "markdown",
   "id": "10ebb273",
   "metadata": {},
   "source": [
    "### 안테나"
   ]
  },
  {
   "cell_type": "code",
   "execution_count": 14,
   "id": "08d3b516",
   "metadata": {},
   "outputs": [
    {
     "name": "stdout",
     "output_type": "stream",
     "text": [
      "5\n",
      "1 4 5 7 9\n"
     ]
    }
   ],
   "source": [
    "n = int(input())\n",
    "house_list = list(map(int,input().split()))\n",
    "house_list.sort()"
   ]
  },
  {
   "cell_type": "code",
   "execution_count": 15,
   "id": "db9505b5",
   "metadata": {},
   "outputs": [],
   "source": [
    "k = int((house_list[0]+house_list[-1])/2)\n",
    "print(k)"
   ]
  },
  {
   "cell_type": "markdown",
   "id": "1654c783",
   "metadata": {},
   "source": [
    "### 실패율"
   ]
  },
  {
   "cell_type": "code",
   "execution_count": 41,
   "id": "2dcf93b9",
   "metadata": {},
   "outputs": [],
   "source": [
    "N = 5\n",
    "stages = [2,1,2,6,2,4,3,3]\n",
    "user_num = len(stages)\n",
    "new_list = [0]*(N+2)\n",
    "for i in range(user_num):\n",
    "    k = stages[i]\n",
    "    new_list[k]=new_list[k]+1"
   ]
  },
  {
   "cell_type": "code",
   "execution_count": 42,
   "id": "536dc666",
   "metadata": {},
   "outputs": [
    {
     "data": {
      "text/plain": [
       "[0, 1, 3, 2, 1, 0, 1]"
      ]
     },
     "execution_count": 42,
     "metadata": {},
     "output_type": "execute_result"
    }
   ],
   "source": [
    "new_list"
   ]
  },
  {
   "cell_type": "code",
   "execution_count": 38,
   "id": "7171f657",
   "metadata": {},
   "outputs": [],
   "source": [
    "fail_count = []\n",
    "for j in range(1,N+1):\n",
    "    fail_num = new_list[j]/user_num\n",
    "    user_num = user_num-new_list[j]\n",
    "    fail_count.append((j,fail_num))"
   ]
  },
  {
   "cell_type": "code",
   "execution_count": 39,
   "id": "228601a9",
   "metadata": {
    "scrolled": false
   },
   "outputs": [
    {
     "data": {
      "text/plain": [
       "[(1, 0.0), (2, 0.0), (3, 0.0), (4, 1.0)]"
      ]
     },
     "execution_count": 39,
     "metadata": {},
     "output_type": "execute_result"
    }
   ],
   "source": [
    "fail_count"
   ]
  },
  {
   "cell_type": "code",
   "execution_count": 34,
   "id": "4abaaab1",
   "metadata": {},
   "outputs": [
    {
     "ename": "IndexError",
     "evalue": "list index out of range",
     "output_type": "error",
     "traceback": [
      "\u001b[1;31m---------------------------------------------------------------------------\u001b[0m",
      "\u001b[1;31mIndexError\u001b[0m                                Traceback (most recent call last)",
      "\u001b[1;32m~\\AppData\\Local\\Temp/ipykernel_15580/4023839121.py\u001b[0m in \u001b[0;36m<module>\u001b[1;34m\u001b[0m\n\u001b[0;32m      3\u001b[0m \u001b[0mresult\u001b[0m \u001b[1;33m=\u001b[0m \u001b[1;33m[\u001b[0m\u001b[1;33m]\u001b[0m\u001b[1;33m\u001b[0m\u001b[1;33m\u001b[0m\u001b[0m\n\u001b[0;32m      4\u001b[0m \u001b[1;32mfor\u001b[0m \u001b[0mi\u001b[0m \u001b[1;32min\u001b[0m \u001b[0mrange\u001b[0m\u001b[1;33m(\u001b[0m\u001b[0mn\u001b[0m\u001b[1;33m)\u001b[0m\u001b[1;33m:\u001b[0m\u001b[1;33m\u001b[0m\u001b[1;33m\u001b[0m\u001b[0m\n\u001b[1;32m----> 5\u001b[1;33m     \u001b[0mresult\u001b[0m\u001b[1;33m.\u001b[0m\u001b[0mappend\u001b[0m\u001b[1;33m(\u001b[0m\u001b[0mfail_count\u001b[0m\u001b[1;33m[\u001b[0m\u001b[0mi\u001b[0m\u001b[1;33m]\u001b[0m\u001b[1;33m[\u001b[0m\u001b[1;36m0\u001b[0m\u001b[1;33m]\u001b[0m\u001b[1;33m)\u001b[0m\u001b[1;33m\u001b[0m\u001b[1;33m\u001b[0m\u001b[0m\n\u001b[0m\u001b[0;32m      6\u001b[0m \u001b[1;33m\u001b[0m\u001b[0m\n\u001b[0;32m      7\u001b[0m \u001b[0mprint\u001b[0m\u001b[1;33m(\u001b[0m\u001b[0mresult\u001b[0m\u001b[1;33m)\u001b[0m\u001b[1;33m\u001b[0m\u001b[1;33m\u001b[0m\u001b[0m\n",
      "\u001b[1;31mIndexError\u001b[0m: list index out of range"
     ]
    }
   ],
   "source": [
    "fail_count.sort(key=lambda x:x[1], reverse=True)\n",
    "\n",
    "result = []\n",
    "for i in range(n):\n",
    "    result.append(fail_count[i][0])\n",
    "\n",
    "print(result)"
   ]
  },
  {
   "cell_type": "code",
   "execution_count": 2,
   "id": "1e57d11f",
   "metadata": {},
   "outputs": [
    {
     "data": {
      "text/plain": [
       "[0, 0, 0, 0, 0, 0, 0]"
      ]
     },
     "execution_count": 2,
     "metadata": {},
     "output_type": "execute_result"
    }
   ],
   "source": [
    "fail_count = []\n",
    "for j in range(n):\n",
    "    fail_num = new_list[j+1]/user_num\n",
    "    user_num = user_num-new_list[j+1]\n",
    "    fail_count.append((j+1,fail_num))\n",
    "    \n",
    "fail_count.sort(key=lambda x:x[1], reverse=True)\n",
    "\n",
    "result = []\n",
    "for i in range(n):\n",
    "    result.append(fail_count[i][0])\n",
    "    \n",
    "return result"
   ]
  },
  {
   "cell_type": "code",
   "execution_count": 49,
   "id": "460907eb",
   "metadata": {},
   "outputs": [],
   "source": [
    "def solution(N, stages):\n",
    "    answer = []\n",
    "    length = len(stages)\n",
    "    \n",
    "    #스테이지 번호를 1번부터 N까지 증가시키며\n",
    "    for i in range(1,N+1):\n",
    "        #해당 스테이지에 머물러 있는 사람의 수 계산\n",
    "        count = stages.count(i)\n",
    "        \n",
    "        #실패율 계산\n",
    "        if length == 0:\n",
    "            fail = 0\n",
    "        else:\n",
    "            fail = count / length\n",
    "            \n",
    "        #리스트에 (스테이지번호, 실패율) 원소 삽입\n",
    "        answer.append((i,fail))\n",
    "        length -= count\n",
    "        \n",
    "    #실패율을 기준으로 각 스테이지를 내림차순 정렬\n",
    "    answer = sorted(answer, key=lambda t:t[1], reverse=True)\n",
    "    \n",
    "    #정렬된 스테이지 번호 출력\n",
    "    answer = [i[0] for i in answer]\n",
    "    return answer"
   ]
  },
  {
   "cell_type": "code",
   "execution_count": 50,
   "id": "cf76b4fb",
   "metadata": {},
   "outputs": [
    {
     "data": {
      "text/plain": [
       "[3, 4, 2, 1, 5]"
      ]
     },
     "execution_count": 50,
     "metadata": {},
     "output_type": "execute_result"
    }
   ],
   "source": [
    "solution(N, stages)"
   ]
  },
  {
   "cell_type": "code",
   "execution_count": 54,
   "id": "48d34f0b",
   "metadata": {},
   "outputs": [
    {
     "data": {
      "text/plain": [
       "1"
      ]
     },
     "execution_count": 54,
     "metadata": {},
     "output_type": "execute_result"
    }
   ],
   "source": [
    "stages.count(1)"
   ]
  },
  {
   "cell_type": "markdown",
   "id": "11094c00",
   "metadata": {},
   "source": [
    "### 카드 정렬하기"
   ]
  },
  {
   "cell_type": "code",
   "execution_count": 97,
   "id": "591449f7",
   "metadata": {
    "scrolled": false
   },
   "outputs": [
    {
     "name": "stdout",
     "output_type": "stream",
     "text": [
      "4\n",
      "10\n",
      "20\n",
      "40\n",
      "50\n"
     ]
    }
   ],
   "source": [
    "import heapq\n",
    "n = int(input())\n",
    "card = []\n",
    "for i in range(n):\n",
    "    heapq.heappush(card, int(input()))"
   ]
  },
  {
   "cell_type": "code",
   "execution_count": 98,
   "id": "edb5ac25",
   "metadata": {},
   "outputs": [
    {
     "name": "stdout",
     "output_type": "stream",
     "text": [
      "220\n"
     ]
    }
   ],
   "source": [
    "result = 0\n",
    "while len(card)!=1:\n",
    "        small_1 = heapq.heappop(card)\n",
    "        small_2 = heapq.heappop(card)\n",
    "        sum_num = small_1+small_2\n",
    "        result += sum_num\n",
    "        heapq.heappush(card,sum_num)\n",
    "print(result)"
   ]
  },
  {
   "cell_type": "code",
   "execution_count": 66,
   "id": "f9b8de7c",
   "metadata": {},
   "outputs": [
    {
     "data": {
      "text/plain": [
       "70"
      ]
     },
     "execution_count": 66,
     "metadata": {},
     "output_type": "execute_result"
    }
   ],
   "source": [
    "now"
   ]
  },
  {
   "cell_type": "code",
   "execution_count": null,
   "id": "e3d20206",
   "metadata": {},
   "outputs": [],
   "source": []
  }
 ],
 "metadata": {
  "kernelspec": {
   "display_name": "Python 3 (ipykernel)",
   "language": "python",
   "name": "python3"
  },
  "language_info": {
   "codemirror_mode": {
    "name": "ipython",
    "version": 3
   },
   "file_extension": ".py",
   "mimetype": "text/x-python",
   "name": "python",
   "nbconvert_exporter": "python",
   "pygments_lexer": "ipython3",
   "version": "3.9.7"
  }
 },
 "nbformat": 4,
 "nbformat_minor": 5
}
