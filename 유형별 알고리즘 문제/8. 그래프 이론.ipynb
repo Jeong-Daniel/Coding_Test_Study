{
 "cells": [
  {
   "cell_type": "markdown",
   "id": "21a66444",
   "metadata": {},
   "source": [
    "### 41 여행 계획"
   ]
  },
  {
   "cell_type": "code",
   "execution_count": 7,
   "id": "e25d392d",
   "metadata": {
    "scrolled": true
   },
   "outputs": [
    {
     "name": "stdout",
     "output_type": "stream",
     "text": [
      "5 4\n",
      "0 1 0 1 1\n",
      "1 0 1 1 0\n",
      "0 1 0 0 0\n",
      "1 1 0 0 0\n",
      "1 0 0 0 0\n",
      "2 3 4 3\n"
     ]
    }
   ],
   "source": [
    "n,m = map(int,input().split())\n",
    "\n",
    "graph_map = []\n",
    "for i in range(n):\n",
    "    graph_map.append(list(map(int,input().split())))\n",
    "\n",
    "travel_list = list(map(int,input().split()))"
   ]
  },
  {
   "cell_type": "code",
   "execution_count": 19,
   "id": "a50a6a8b",
   "metadata": {},
   "outputs": [
    {
     "data": {
      "text/plain": [
       "[[0, 1, 0, 1, 1],\n",
       " [1, 0, 1, 1, 0],\n",
       " [0, 1, 0, 0, 0],\n",
       " [1, 1, 0, 0, 0],\n",
       " [1, 0, 0, 0, 0]]"
      ]
     },
     "execution_count": 19,
     "metadata": {},
     "output_type": "execute_result"
    }
   ],
   "source": [
    "graph_map"
   ]
  },
  {
   "cell_type": "code",
   "execution_count": 26,
   "id": "57055807",
   "metadata": {},
   "outputs": [
    {
     "data": {
      "text/plain": [
       "[2, 3, 4, 3]"
      ]
     },
     "execution_count": 26,
     "metadata": {},
     "output_type": "execute_result"
    }
   ],
   "source": [
    "travel_list"
   ]
  },
  {
   "cell_type": "code",
   "execution_count": 25,
   "id": "8d2004a6",
   "metadata": {},
   "outputs": [
    {
     "name": "stdout",
     "output_type": "stream",
     "text": [
      "NO\n"
     ]
    }
   ],
   "source": [
    "curr = travel_list[0]\n",
    "for i in range(1,m-1):\n",
    "    now = travel_list[i]\n",
    "    if graph_map[curr-1][now-1] != 0:\n",
    "        curr = travel_list[i]\n",
    "    else:\n",
    "        print(\"NO\")\n",
    "        break"
   ]
  },
  {
   "cell_type": "code",
   "execution_count": 23,
   "id": "d8f14897",
   "metadata": {},
   "outputs": [
    {
     "data": {
      "text/plain": [
       "[1, 0, 1, 1, 0]"
      ]
     },
     "execution_count": 23,
     "metadata": {},
     "output_type": "execute_result"
    }
   ],
   "source": [
    "graph_map[2-1]"
   ]
  },
  {
   "cell_type": "code",
   "execution_count": 28,
   "id": "859e04b1",
   "metadata": {},
   "outputs": [
    {
     "name": "stdout",
     "output_type": "stream",
     "text": [
      "5 4\n",
      "0 1 0 1 1\n",
      "1 0 1 1 0\n",
      "0 1 0 0 0\n",
      "1 1 0 0 0\n",
      "1 0 0 0 0\n",
      "2 3 4 3\n",
      "YES\n"
     ]
    }
   ],
   "source": [
    "#특정 원소가 속한 집합을 찾기\n",
    "def find_parent(parent,x):\n",
    "    #루트 노드가 아니라면, 루트 노드를 찾을 때까지 재귀적으로 호출\n",
    "    if parent[x] != x:\n",
    "        parent[x] = find_parent(parent, parent[x])\n",
    "    return parent[x]\n",
    "\n",
    "#두 원소가 속한 집합을 찾기\n",
    "def union_parent(parent, a, b):\n",
    "    a = find_parent(parent,a)\n",
    "    b = find_parent(parent,b)\n",
    "    if a < b:\n",
    "        parent[b] = a\n",
    "    else:\n",
    "        parent[a] = b\n",
    "    \n",
    "#여행지의 개수와 여행 계획에 속한 여행지의 개수 입력받기\n",
    "n,m = map(int, input().split())\n",
    "parent = [0]*(n+1) #부모테이블 초기화\n",
    "\n",
    "#부모 테이블상에서 부모를 자기 자신으로 초기화\n",
    "for i in range(i, n+1):\n",
    "    parent[i] = i\n",
    "    \n",
    "#union 연산을 각각 수행\n",
    "for i in range(n):\n",
    "    data = list(map(int, input().split()))\n",
    "    for j in range(n):\n",
    "        if data[j] == 1: #연결된 경우 union 연산 수행\n",
    "            union_parent(parent, i+1, j+1)\n",
    "    \n",
    "#여행 계획 입력받기\n",
    "plan = list(map(int, input().split()))\n",
    "\n",
    "result = True\n",
    "#여행 계획에 속하는 모든 노드의 루트가 동일한지 확인\n",
    "for i in range(m-1):\n",
    "    if find_parent(parent, plan[i]) != find_parent(parent, plan[i+1]):\n",
    "        result = False\n",
    "\n",
    "#여행 계획에 속하는 모든 노드가 서로 연결되어 있는지(루트가 동일한지) 확인\n",
    "if result:\n",
    "    print(\"YES\")\n",
    "else:\n",
    "    print(\"NO\")"
   ]
  },
  {
   "cell_type": "markdown",
   "id": "714498a8",
   "metadata": {},
   "source": [
    "### 42. 탑승구"
   ]
  }
 ],
 "metadata": {
  "kernelspec": {
   "display_name": "Python 3 (ipykernel)",
   "language": "python",
   "name": "python3"
  },
  "language_info": {
   "codemirror_mode": {
    "name": "ipython",
    "version": 3
   },
   "file_extension": ".py",
   "mimetype": "text/x-python",
   "name": "python",
   "nbconvert_exporter": "python",
   "pygments_lexer": "ipython3",
   "version": "3.9.7"
  }
 },
 "nbformat": 4,
 "nbformat_minor": 5
}
