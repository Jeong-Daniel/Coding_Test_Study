{
 "cells": [
  {
   "cell_type": "markdown",
   "id": "a1962ff9",
   "metadata": {},
   "source": [
    "### 구슬 탈출 2"
   ]
  },
  {
   "cell_type": "code",
   "execution_count": 5,
   "id": "eaa8973a",
   "metadata": {
    "scrolled": true
   },
   "outputs": [
    {
     "name": "stdout",
     "output_type": "stream",
     "text": [
      "5 5\n",
      "#####\n"
     ]
    },
    {
     "ename": "IndexError",
     "evalue": "list index out of range",
     "output_type": "error",
     "traceback": [
      "\u001b[1;31m---------------------------------------------------------------------------\u001b[0m",
      "\u001b[1;31mIndexError\u001b[0m                                Traceback (most recent call last)",
      "\u001b[1;32m~\\AppData\\Local\\Temp/ipykernel_22372/2462501123.py\u001b[0m in \u001b[0;36m<module>\u001b[1;34m\u001b[0m\n\u001b[0;32m     11\u001b[0m     \u001b[0mmap_list\u001b[0m\u001b[1;33m.\u001b[0m\u001b[0mappend\u001b[0m\u001b[1;33m(\u001b[0m\u001b[0mlist\u001b[0m\u001b[1;33m(\u001b[0m\u001b[0mmap\u001b[0m\u001b[1;33m(\u001b[0m\u001b[0mstr\u001b[0m\u001b[1;33m,\u001b[0m\u001b[0minput\u001b[0m\u001b[1;33m(\u001b[0m\u001b[1;33m)\u001b[0m\u001b[1;33m.\u001b[0m\u001b[0msplit\u001b[0m\u001b[1;33m(\u001b[0m\u001b[1;33m)\u001b[0m\u001b[1;33m)\u001b[0m\u001b[1;33m)\u001b[0m\u001b[1;33m)\u001b[0m\u001b[1;33m\u001b[0m\u001b[1;33m\u001b[0m\u001b[0m\n\u001b[0;32m     12\u001b[0m     \u001b[1;32mfor\u001b[0m \u001b[0mj\u001b[0m \u001b[1;32min\u001b[0m \u001b[0mrange\u001b[0m\u001b[1;33m(\u001b[0m\u001b[0mm\u001b[0m\u001b[1;33m)\u001b[0m\u001b[1;33m:\u001b[0m\u001b[1;33m\u001b[0m\u001b[1;33m\u001b[0m\u001b[0m\n\u001b[1;32m---> 13\u001b[1;33m         \u001b[1;32mif\u001b[0m \u001b[0mmap_list\u001b[0m\u001b[1;33m[\u001b[0m\u001b[0mi\u001b[0m\u001b[1;33m]\u001b[0m\u001b[1;33m[\u001b[0m\u001b[0mj\u001b[0m\u001b[1;33m]\u001b[0m\u001b[1;33m==\u001b[0m\u001b[1;34m'O'\u001b[0m\u001b[1;33m:\u001b[0m\u001b[1;33m\u001b[0m\u001b[1;33m\u001b[0m\u001b[0m\n\u001b[0m\u001b[0;32m     14\u001b[0m             \u001b[0mO_loc_x\u001b[0m\u001b[1;33m,\u001b[0m \u001b[0mO_loc_y\u001b[0m \u001b[1;33m=\u001b[0m \u001b[0mi\u001b[0m\u001b[1;33m,\u001b[0m\u001b[0mj\u001b[0m\u001b[1;33m\u001b[0m\u001b[1;33m\u001b[0m\u001b[0m\n\u001b[0;32m     15\u001b[0m         \u001b[1;32melif\u001b[0m \u001b[0mmap_list\u001b[0m\u001b[1;33m[\u001b[0m\u001b[0mi\u001b[0m\u001b[1;33m]\u001b[0m\u001b[1;33m[\u001b[0m\u001b[0mj\u001b[0m\u001b[1;33m]\u001b[0m\u001b[1;33m==\u001b[0m\u001b[1;34m'B'\u001b[0m\u001b[1;33m:\u001b[0m\u001b[1;33m\u001b[0m\u001b[1;33m\u001b[0m\u001b[0m\n",
      "\u001b[1;31mIndexError\u001b[0m: list index out of range"
     ]
    }
   ],
   "source": [
    "n, m = map(int,input().split())\n",
    "map_list = []\n",
    "O_loc_x = 0\n",
    "O_loc_y = 0\n",
    "R_loc_x = 0\n",
    "R_loc_y = 0\n",
    "B_loc_x = 0\n",
    "B_loc_y = 0\n",
    "\n",
    "for i in range(n):\n",
    "    map_list.append(list(map(str,input().split())))\n",
    "    for j in range(m):\n",
    "        if map_list[i][j]=='O':\n",
    "            O_loc_x, O_loc_y = i,j\n",
    "        elif map_list[i][j]=='B':\n",
    "            B_loc_x, B_loc_y = i,j\n",
    "        elif map_list[i][j]=='R':\n",
    "            R_loc_x, R_loc_y = i,j \n",
    "        else:\n",
    "            continue"
   ]
  },
  {
   "cell_type": "code",
   "execution_count": 15,
   "id": "8e722288",
   "metadata": {},
   "outputs": [
    {
     "data": {
      "text/plain": [
       "['#####']"
      ]
     },
     "execution_count": 15,
     "metadata": {},
     "output_type": "execute_result"
    }
   ],
   "source": [
    "map_list[0]"
   ]
  },
  {
   "cell_type": "code",
   "execution_count": null,
   "id": "7ed5165f",
   "metadata": {},
   "outputs": [],
   "source": [
    "#include <iostream>\n",
    "#include <queue>\n",
    "#include <algorithm>\n",
    "using namespace std;\n",
    "struct INFO{\n",
    "    int ry,rx,by,bx,count;\n",
    "};\n",
    " \n",
    "INFO start;\n",
    "char map[11][11];\n",
    " \n",
    "int bfs(){\n",
    "    const int dy[4]={-1,1,0,0};\n",
    "    const int dx[4]={0,0,-1,1};\n",
    "    int ret=-1;\n",
    "    int visited[10][10][10][10]={0,};\n",
    "    queue<INFO> q;\n",
    "    q.push(start);\n",
    "    visited[start.ry][start.rx][start.by][start.bx]=1;\n",
    "    while(!q.empty()){\n",
    "        INFO cur = q.front();\n",
    "        q.pop();\n",
    "        if(cur.count>10) break;\n",
    "        if(map[cur.ry][cur.rx]=='O' && map[cur.by][cur.bx]!='O') {//최적값찾은경우\n",
    "            ret = cur.count;\n",
    "            break;\n",
    "        }\n",
    " \n",
    "        for(int dir=0; dir<4; dir++){\n",
    "            int next_ry = cur.ry;\n",
    "            int next_rx = cur.rx;\n",
    "            int next_by = cur.by;\n",
    "            int next_bx = cur.bx;\n",
    " \n",
    "            while (1) {\n",
    "                if (map[next_ry][next_rx] != '#' && map[next_ry][next_rx] != 'O') {\n",
    "                    next_ry += dy[dir], next_rx += dx[dir];\n",
    "                }\n",
    "                else {\n",
    "                    if (map[next_ry][next_rx] == '#') {\n",
    "                        next_ry -= dy[dir], next_rx -= dx[dir];\n",
    "                    }\n",
    "                    break;\n",
    "                }\n",
    "            }\n",
    " \n",
    "            while (1) {\n",
    "                if (map[next_by][next_bx] != '#' && map[next_by][next_bx] != 'O') {\n",
    "                    next_by += dy[dir], next_bx += dx[dir];\n",
    "                }\n",
    "                else {\n",
    "                    if (map[next_by][next_bx] == '#') {\n",
    "                        next_by -= dy[dir], next_bx -= dx[dir];\n",
    "                    }\n",
    "                    break;\n",
    "                }\n",
    "            }\n",
    " \n",
    " \n",
    "            if(next_rx==next_bx && next_ry==next_by){ //같은위치일때 처리.\n",
    "                if(map[next_ry][next_rx]!='O'){ //구멍에 동시에 빠지면 -1 return 하면됨.\n",
    "                    int red_dist = abs(next_ry - cur.ry)+abs(next_rx-cur.rx);\n",
    "                    int blue_dist = abs(next_by - cur.by)+abs(next_bx-cur.bx);\n",
    "                    if(red_dist>blue_dist){\n",
    "                            next_ry-=dy[dir];\n",
    "                            next_rx-=dx[dir];\n",
    "                    }\n",
    "                    else{\n",
    "                            next_by-=dy[dir];\n",
    "                            next_bx-=dx[dir];\n",
    "                    }\n",
    "                }\n",
    "            }\n",
    "            if(visited[next_ry][next_rx][next_by][next_bx]==0){\n",
    "                visited[next_ry][next_rx][next_by][next_bx]=1;\n",
    "                INFO next;\n",
    "                next.ry = next_ry;\n",
    "                next.rx = next_rx;\n",
    "                next.by = next_by;\n",
    "                next.bx = next_bx;\n",
    "                next.count = cur.count+1;\n",
    "                q.push(next);\n",
    "            }\n",
    "        }\n",
    " \n",
    "    }\n",
    "    return ret;\n",
    "}\n",
    " \n",
    "int main(){\n",
    "    int n,m;\n",
    "    cin>>n>>m;\n",
    "    for(int i=0; i<n;i++)\n",
    "        cin>>map[i];\n",
    "    for(int i=0; i<n;i++){\n",
    "        for(int j=0; j<m; j++){\n",
    "            if(map[i][j]=='R'){\n",
    "                start.ry = i;\n",
    "                start.rx = j;\n",
    "            }\n",
    "            if(map[i][j]=='B'){\n",
    "                start.by=i;\n",
    "                start.bx=j;\n",
    "            }\n",
    "        }\n",
    "    }\n",
    "    start.count=0;\n",
    "    cout<<bfs();\n",
    "}\n"
   ]
  },
  {
   "cell_type": "markdown",
   "id": "857a4ce5",
   "metadata": {},
   "source": [
    "### 2048"
   ]
  },
  {
   "cell_type": "code",
   "execution_count": null,
   "id": "b76cb11d",
   "metadata": {},
   "outputs": [],
   "source": [
    "n = int(input())\n",
    "map_list = []\n",
    "for i in range(n):\n",
    "    map_list.append(list(map(int,input().split())))\n",
    "    \n",
    "direction = ['l', 'u', 'r', 'd']\n",
    "\n",
    "map_list"
   ]
  },
  {
   "cell_type": "code",
   "execution_count": null,
   "id": "f7aa56bb",
   "metadata": {},
   "outputs": [],
   "source": [
    "def max_element(matrix):\n",
    "    result = 0\n",
    "    for rows in matrix:\n",
    "        rows.append(result)\n",
    "        result = max(rows)\n",
    "    return result"
   ]
  },
  {
   "cell_type": "code",
   "execution_count": null,
   "id": "21d26230",
   "metadata": {},
   "outputs": [],
   "source": [
    "max_element(map_list)"
   ]
  },
  {
   "cell_type": "code",
   "execution_count": null,
   "id": "e57bb612",
   "metadata": {},
   "outputs": [],
   "source": [
    "def move_left(mat):\n",
    "    result = []\n",
    "    for rows in mat:\n",
    "        new_row = []\n",
    "        temp = 0\n",
    "        for num in rows:\n",
    "            if num == 0: continue\n",
    "            if temp == num:\n",
    "                new_row[-1] *= 2\n",
    "                temp = 0\n",
    "            else:\n",
    "                new_row.append(num)\n",
    "                temp = num\n",
    "        new_row += [0] * (len(rows) - len(new_row))\n",
    "        result.append(new_row)\n",
    "\n",
    "    return result\n",
    "\n",
    "\n",
    "def move_up(mat):\n",
    "    result = move_left(list(map(list, zip(*mat))))\n",
    "    return list(map(list, zip(*result)))\n",
    "\n",
    "\n",
    "def move_right(mat):\n",
    "    result = []\n",
    "    result = []\n",
    "    for rows in mat:\n",
    "        rows.reverse()\n",
    "        new_row = []\n",
    "        temp = 0\n",
    "        for num in rows:\n",
    "            if num == 0: continue\n",
    "            if temp == num:\n",
    "                new_row[-1] *= 2\n",
    "                temp = 0\n",
    "            else:\n",
    "                new_row.append(num)\n",
    "                temp = num\n",
    "        new_row += [0] * (len(rows) - len(new_row))\n",
    "        new_row.reverse()\n",
    "        result.append(new_row)\n",
    "    return result\n",
    "\n",
    "\n",
    "def move_down(mat):\n",
    "    result = move_right(list(map(list, zip(*mat))))\n",
    "    return list(map(list, zip(*result)))\n",
    "\n",
    "\n",
    "def dfs(board, n):\n",
    "    global answer\n",
    "    if n == 5:\n",
    "        answer = max(answer, max_element(board))\n",
    "        return\n",
    "\n",
    "    else:\n",
    "        dfs(move_left(board), n+1)\n",
    "        dfs(move_right(board), n+1)\n",
    "        dfs(move_up(board), n+1)\n",
    "        dfs(move_down(board), n+1)\n",
    "\n",
    "\n",
    "answer = 0\n",
    "dfs(original_board, 0)\n",
    "print(answer)"
   ]
  },
  {
   "cell_type": "code",
   "execution_count": null,
   "id": "305f6da0",
   "metadata": {},
   "outputs": [],
   "source": [
    "from collections import deque\n",
    "def move_left(mat):\n",
    "    result = []\n",
    "    for i in range(len(mat)):\n",
    "        q = deque(mat[i])\n",
    "        now = q.popleft()\n",
    "        stack_list = []\n",
    "        stack_list.append(now)\n",
    "        while q:\n",
    "            curr = q.popleft()\n",
    "            if now != curr:\n",
    "                stack_list.append(curr)\n",
    "                now = curr\n",
    "            else:\n",
    "                now = stack_list.pop()*2\n",
    "                stack_list.append(now)        \n",
    "        num = len(mat[i]) - len(stack_list)\n",
    "        num_zero = [0]*num\n",
    "        stack_list += num_zero\n",
    "        result.append(stack_list)\n",
    "    return result"
   ]
  },
  {
   "cell_type": "code",
   "execution_count": null,
   "id": "79b0f111",
   "metadata": {},
   "outputs": [],
   "source": [
    "def move_up(mat):\n",
    "    result = move_left(list(map(list, zip(*mat))))\n",
    "    return list(map(list, zip(*result)))"
   ]
  },
  {
   "cell_type": "code",
   "execution_count": null,
   "id": "06653971",
   "metadata": {},
   "outputs": [],
   "source": [
    "list(map(list, zip(*map_list)))"
   ]
  },
  {
   "cell_type": "code",
   "execution_count": null,
   "id": "d3d7ca09",
   "metadata": {},
   "outputs": [],
   "source": [
    "print(list(zip(map_list)))\n",
    "print(list(zip(*map_list)))"
   ]
  },
  {
   "cell_type": "code",
   "execution_count": null,
   "id": "05824111",
   "metadata": {},
   "outputs": [],
   "source": [
    "x = [1,2,3]\n",
    "y = [4,5,6]\n",
    "z = [7,8,9]\n",
    "\n",
    "print(list(zip(x,y)))\n",
    "print(list(zip(x,y,z)))"
   ]
  },
  {
   "cell_type": "markdown",
   "id": "35f84877",
   "metadata": {},
   "source": [
    "### 시험 감독"
   ]
  },
  {
   "cell_type": "code",
   "execution_count": null,
   "id": "a2dac27c",
   "metadata": {},
   "outputs": [],
   "source": [
    "n = int(input())\n",
    "students = list(map(int,input().split()))\n",
    "b, c = map(int,input().split())\n",
    "\n",
    "result = n\n",
    "for _ in range(n):\n",
    "    students[_] -= b\n",
    "    if students[_] < 0:\n",
    "        continue\n",
    "    div,last = divmod(students[_],c)\n",
    "    result += div\n",
    "    if last>0:\n",
    "        result+=1\n",
    "print(result)"
   ]
  },
  {
   "cell_type": "markdown",
   "id": "e6e46ae8",
   "metadata": {},
   "source": [
    "### 주사위 굴리기"
   ]
  },
  {
   "cell_type": "code",
   "execution_count": 1,
   "id": "126cd6db",
   "metadata": {},
   "outputs": [
    {
     "ename": "KeyboardInterrupt",
     "evalue": "Interrupted by user",
     "output_type": "error",
     "traceback": [
      "\u001b[1;31m---------------------------------------------------------------------------\u001b[0m",
      "\u001b[1;31mKeyboardInterrupt\u001b[0m                         Traceback (most recent call last)",
      "\u001b[1;32m~\\AppData\\Local\\Temp/ipykernel_26108/4186131445.py\u001b[0m in \u001b[0;36m<module>\u001b[1;34m\u001b[0m\n\u001b[1;32m----> 1\u001b[1;33m \u001b[0mn\u001b[0m\u001b[1;33m,\u001b[0m\u001b[0mm\u001b[0m\u001b[1;33m,\u001b[0m\u001b[0mx\u001b[0m\u001b[1;33m,\u001b[0m\u001b[0my\u001b[0m\u001b[1;33m,\u001b[0m\u001b[0mk\u001b[0m \u001b[1;33m=\u001b[0m \u001b[0mmap\u001b[0m\u001b[1;33m(\u001b[0m\u001b[0mint\u001b[0m\u001b[1;33m,\u001b[0m\u001b[0minput\u001b[0m\u001b[1;33m(\u001b[0m\u001b[1;33m)\u001b[0m\u001b[1;33m.\u001b[0m\u001b[0msplit\u001b[0m\u001b[1;33m(\u001b[0m\u001b[1;33m)\u001b[0m\u001b[1;33m)\u001b[0m\u001b[1;33m\u001b[0m\u001b[1;33m\u001b[0m\u001b[0m\n\u001b[0m\u001b[0;32m      2\u001b[0m \u001b[0mmap_list\u001b[0m \u001b[1;33m=\u001b[0m \u001b[1;33m[\u001b[0m\u001b[1;33m]\u001b[0m\u001b[1;33m\u001b[0m\u001b[1;33m\u001b[0m\u001b[0m\n\u001b[0;32m      3\u001b[0m \u001b[1;32mfor\u001b[0m \u001b[0mi\u001b[0m \u001b[1;32min\u001b[0m \u001b[0mrange\u001b[0m\u001b[1;33m(\u001b[0m\u001b[0mn\u001b[0m\u001b[1;33m)\u001b[0m\u001b[1;33m:\u001b[0m\u001b[1;33m\u001b[0m\u001b[1;33m\u001b[0m\u001b[0m\n\u001b[0;32m      4\u001b[0m     \u001b[0mmap_list\u001b[0m\u001b[1;33m.\u001b[0m\u001b[0mappend\u001b[0m\u001b[1;33m(\u001b[0m\u001b[0mlist\u001b[0m\u001b[1;33m(\u001b[0m\u001b[0mmap\u001b[0m\u001b[1;33m(\u001b[0m\u001b[0mint\u001b[0m\u001b[1;33m,\u001b[0m\u001b[0minput\u001b[0m\u001b[1;33m(\u001b[0m\u001b[1;33m)\u001b[0m\u001b[1;33m.\u001b[0m\u001b[0msplit\u001b[0m\u001b[1;33m(\u001b[0m\u001b[1;33m)\u001b[0m\u001b[1;33m)\u001b[0m\u001b[1;33m)\u001b[0m\u001b[1;33m)\u001b[0m\u001b[1;33m\u001b[0m\u001b[1;33m\u001b[0m\u001b[0m\n\u001b[0;32m      5\u001b[0m \u001b[0mmoving_lsit\u001b[0m \u001b[1;33m=\u001b[0m \u001b[0mlist\u001b[0m\u001b[1;33m(\u001b[0m\u001b[0mmap\u001b[0m\u001b[1;33m(\u001b[0m\u001b[0mint\u001b[0m\u001b[1;33m,\u001b[0m\u001b[0minput\u001b[0m\u001b[1;33m(\u001b[0m\u001b[1;33m)\u001b[0m\u001b[1;33m.\u001b[0m\u001b[0msplit\u001b[0m\u001b[1;33m(\u001b[0m\u001b[1;33m)\u001b[0m\u001b[1;33m)\u001b[0m\u001b[1;33m)\u001b[0m\u001b[1;33m\u001b[0m\u001b[1;33m\u001b[0m\u001b[0m\n",
      "\u001b[1;32mC:\\ProgramData\\Anaconda3\\lib\\site-packages\\ipykernel\\kernelbase.py\u001b[0m in \u001b[0;36mraw_input\u001b[1;34m(self, prompt)\u001b[0m\n\u001b[0;32m   1004\u001b[0m                 \u001b[1;34m\"raw_input was called, but this frontend does not support input requests.\"\u001b[0m\u001b[1;33m\u001b[0m\u001b[1;33m\u001b[0m\u001b[0m\n\u001b[0;32m   1005\u001b[0m             )\n\u001b[1;32m-> 1006\u001b[1;33m         return self._input_request(\n\u001b[0m\u001b[0;32m   1007\u001b[0m             \u001b[0mstr\u001b[0m\u001b[1;33m(\u001b[0m\u001b[0mprompt\u001b[0m\u001b[1;33m)\u001b[0m\u001b[1;33m,\u001b[0m\u001b[1;33m\u001b[0m\u001b[1;33m\u001b[0m\u001b[0m\n\u001b[0;32m   1008\u001b[0m             \u001b[0mself\u001b[0m\u001b[1;33m.\u001b[0m\u001b[0m_parent_ident\u001b[0m\u001b[1;33m[\u001b[0m\u001b[1;34m\"shell\"\u001b[0m\u001b[1;33m]\u001b[0m\u001b[1;33m,\u001b[0m\u001b[1;33m\u001b[0m\u001b[1;33m\u001b[0m\u001b[0m\n",
      "\u001b[1;32mC:\\ProgramData\\Anaconda3\\lib\\site-packages\\ipykernel\\kernelbase.py\u001b[0m in \u001b[0;36m_input_request\u001b[1;34m(self, prompt, ident, parent, password)\u001b[0m\n\u001b[0;32m   1049\u001b[0m             \u001b[1;32mexcept\u001b[0m \u001b[0mKeyboardInterrupt\u001b[0m\u001b[1;33m:\u001b[0m\u001b[1;33m\u001b[0m\u001b[1;33m\u001b[0m\u001b[0m\n\u001b[0;32m   1050\u001b[0m                 \u001b[1;31m# re-raise KeyboardInterrupt, to truncate traceback\u001b[0m\u001b[1;33m\u001b[0m\u001b[1;33m\u001b[0m\u001b[0m\n\u001b[1;32m-> 1051\u001b[1;33m                 \u001b[1;32mraise\u001b[0m \u001b[0mKeyboardInterrupt\u001b[0m\u001b[1;33m(\u001b[0m\u001b[1;34m\"Interrupted by user\"\u001b[0m\u001b[1;33m)\u001b[0m \u001b[1;32mfrom\u001b[0m \u001b[1;32mNone\u001b[0m\u001b[1;33m\u001b[0m\u001b[1;33m\u001b[0m\u001b[0m\n\u001b[0m\u001b[0;32m   1052\u001b[0m             \u001b[1;32mexcept\u001b[0m \u001b[0mException\u001b[0m\u001b[1;33m:\u001b[0m\u001b[1;33m\u001b[0m\u001b[1;33m\u001b[0m\u001b[0m\n\u001b[0;32m   1053\u001b[0m                 \u001b[0mself\u001b[0m\u001b[1;33m.\u001b[0m\u001b[0mlog\u001b[0m\u001b[1;33m.\u001b[0m\u001b[0mwarning\u001b[0m\u001b[1;33m(\u001b[0m\u001b[1;34m\"Invalid Message:\"\u001b[0m\u001b[1;33m,\u001b[0m \u001b[0mexc_info\u001b[0m\u001b[1;33m=\u001b[0m\u001b[1;32mTrue\u001b[0m\u001b[1;33m)\u001b[0m\u001b[1;33m\u001b[0m\u001b[1;33m\u001b[0m\u001b[0m\n",
      "\u001b[1;31mKeyboardInterrupt\u001b[0m: Interrupted by user"
     ]
    }
   ],
   "source": [
    "n,m,x,y,k = map(int,input().split())\n",
    "map_list = []\n",
    "for i in range(n):\n",
    "    map_list.append(list(map(int,input().split())))\n",
    "moving_lsit = list(map(int,input().split()))"
   ]
  },
  {
   "cell_type": "code",
   "execution_count": null,
   "id": "3b189682",
   "metadata": {},
   "outputs": [],
   "source": [
    "def move(d):\n",
    "    global dice1, dice2, dice3\n",
    "    # 동쪽이동 \n",
    "    # 좌->위 위->우, 우,아래     아래가 좌\n",
    "    if d == 1:\n",
    "        dice2, dice1 = dice1, dice2[::-1]\n",
    "\n",
    "    # 서쪽이동\n",
    "    # 위->좌,   아래->우,    좌-> 아래,    우-> 위\n",
    "    elif d == 2:\n",
    "        dice1, dice2 = dice2, dice1[::-1]\n",
    "\n",
    "    # 북쪽이동\n",
    "    # 위 뒤, 아래 앞         앞 위   뒤 아래\n",
    "    elif d == 3:\n",
    "        dice3, dice1 = dice1, dice3[::-1]\n",
    "\n",
    "    # 남쪽이동\n",
    "    # 위 아래 -> 앞 뒤     앞 뒤 - > 아래 뒤\n",
    "    else:\n",
    "        dice1, dice3 = dice3, dice1[::-1]\n",
    "\n",
    "\n",
    "\n",
    "N, M, sx, sy, K = map(int, input().split())\n",
    "MAP = []\n",
    "for _ in range(N):\n",
    "    MAP.append(list(map(int, input().split())))\n",
    "command = list(map(int,input().split()))\n",
    "\n",
    "def sol():\n",
    "    global MAP, sx, sy\n",
    "    for c in command:\n",
    "        nx, ny = sx + directions[c-1][0], sy + directions[c-1][1]\n",
    "\n",
    "        if nx >= N or ny >= M or nx < 0  or ny < 0:\n",
    "            continue\n",
    "\n",
    "        move(c)\n",
    "\n",
    "        # 주사위값 복사 \n",
    "        if MAP[nx][ny] == 0:\n",
    "            MAP[nx][ny] = dice1[1]\n",
    "        else:\n",
    "            dice1[1] = MAP[nx][ny]\n",
    "            MAP[nx][ny] = 0\n",
    "\n",
    "        sx, sy = nx, ny        \n",
    "        print(dice1[0])\n",
    "\n",
    "if __name__ == '__main__':\n",
    "    sol()"
   ]
  },
  {
   "cell_type": "markdown",
   "id": "54b72fd5",
   "metadata": {},
   "source": [
    "### 테트로미노"
   ]
  },
  {
   "cell_type": "code",
   "execution_count": 2,
   "id": "63cfb3fa",
   "metadata": {},
   "outputs": [
    {
     "ename": "KeyboardInterrupt",
     "evalue": "Interrupted by user",
     "output_type": "error",
     "traceback": [
      "\u001b[1;31m---------------------------------------------------------------------------\u001b[0m",
      "\u001b[1;31mKeyboardInterrupt\u001b[0m                         Traceback (most recent call last)",
      "\u001b[1;32m~\\AppData\\Local\\Temp/ipykernel_26108/2626882490.py\u001b[0m in \u001b[0;36m<module>\u001b[1;34m\u001b[0m\n\u001b[1;32m----> 1\u001b[1;33m \u001b[0mn\u001b[0m\u001b[1;33m,\u001b[0m\u001b[0mm\u001b[0m \u001b[1;33m=\u001b[0m \u001b[0mmap\u001b[0m\u001b[1;33m(\u001b[0m\u001b[0mint\u001b[0m\u001b[1;33m,\u001b[0m\u001b[0minput\u001b[0m\u001b[1;33m(\u001b[0m\u001b[1;33m)\u001b[0m\u001b[1;33m.\u001b[0m\u001b[0msplit\u001b[0m\u001b[1;33m(\u001b[0m\u001b[1;33m)\u001b[0m\u001b[1;33m)\u001b[0m\u001b[1;33m\u001b[0m\u001b[1;33m\u001b[0m\u001b[0m\n\u001b[0m\u001b[0;32m      2\u001b[0m \u001b[0mmap_list\u001b[0m \u001b[1;33m=\u001b[0m \u001b[1;33m[\u001b[0m\u001b[1;33m]\u001b[0m\u001b[1;33m\u001b[0m\u001b[1;33m\u001b[0m\u001b[0m\n\u001b[0;32m      3\u001b[0m \u001b[1;32mfor\u001b[0m \u001b[0mi\u001b[0m \u001b[1;32min\u001b[0m \u001b[0mrange\u001b[0m\u001b[1;33m(\u001b[0m\u001b[0mn\u001b[0m\u001b[1;33m)\u001b[0m\u001b[1;33m:\u001b[0m\u001b[1;33m\u001b[0m\u001b[1;33m\u001b[0m\u001b[0m\n\u001b[0;32m      4\u001b[0m     \u001b[0mmap_list\u001b[0m\u001b[1;33m.\u001b[0m\u001b[0mappend\u001b[0m\u001b[1;33m(\u001b[0m\u001b[0mlist\u001b[0m\u001b[1;33m(\u001b[0m\u001b[0mmap\u001b[0m\u001b[1;33m(\u001b[0m\u001b[0mint\u001b[0m\u001b[1;33m,\u001b[0m\u001b[0minput\u001b[0m\u001b[1;33m(\u001b[0m\u001b[1;33m)\u001b[0m\u001b[1;33m.\u001b[0m\u001b[0msplit\u001b[0m\u001b[1;33m(\u001b[0m\u001b[1;33m)\u001b[0m\u001b[1;33m)\u001b[0m\u001b[1;33m)\u001b[0m\u001b[1;33m)\u001b[0m\u001b[1;33m\u001b[0m\u001b[1;33m\u001b[0m\u001b[0m\n",
      "\u001b[1;32mC:\\ProgramData\\Anaconda3\\lib\\site-packages\\ipykernel\\kernelbase.py\u001b[0m in \u001b[0;36mraw_input\u001b[1;34m(self, prompt)\u001b[0m\n\u001b[0;32m   1004\u001b[0m                 \u001b[1;34m\"raw_input was called, but this frontend does not support input requests.\"\u001b[0m\u001b[1;33m\u001b[0m\u001b[1;33m\u001b[0m\u001b[0m\n\u001b[0;32m   1005\u001b[0m             )\n\u001b[1;32m-> 1006\u001b[1;33m         return self._input_request(\n\u001b[0m\u001b[0;32m   1007\u001b[0m             \u001b[0mstr\u001b[0m\u001b[1;33m(\u001b[0m\u001b[0mprompt\u001b[0m\u001b[1;33m)\u001b[0m\u001b[1;33m,\u001b[0m\u001b[1;33m\u001b[0m\u001b[1;33m\u001b[0m\u001b[0m\n\u001b[0;32m   1008\u001b[0m             \u001b[0mself\u001b[0m\u001b[1;33m.\u001b[0m\u001b[0m_parent_ident\u001b[0m\u001b[1;33m[\u001b[0m\u001b[1;34m\"shell\"\u001b[0m\u001b[1;33m]\u001b[0m\u001b[1;33m,\u001b[0m\u001b[1;33m\u001b[0m\u001b[1;33m\u001b[0m\u001b[0m\n",
      "\u001b[1;32mC:\\ProgramData\\Anaconda3\\lib\\site-packages\\ipykernel\\kernelbase.py\u001b[0m in \u001b[0;36m_input_request\u001b[1;34m(self, prompt, ident, parent, password)\u001b[0m\n\u001b[0;32m   1049\u001b[0m             \u001b[1;32mexcept\u001b[0m \u001b[0mKeyboardInterrupt\u001b[0m\u001b[1;33m:\u001b[0m\u001b[1;33m\u001b[0m\u001b[1;33m\u001b[0m\u001b[0m\n\u001b[0;32m   1050\u001b[0m                 \u001b[1;31m# re-raise KeyboardInterrupt, to truncate traceback\u001b[0m\u001b[1;33m\u001b[0m\u001b[1;33m\u001b[0m\u001b[0m\n\u001b[1;32m-> 1051\u001b[1;33m                 \u001b[1;32mraise\u001b[0m \u001b[0mKeyboardInterrupt\u001b[0m\u001b[1;33m(\u001b[0m\u001b[1;34m\"Interrupted by user\"\u001b[0m\u001b[1;33m)\u001b[0m \u001b[1;32mfrom\u001b[0m \u001b[1;32mNone\u001b[0m\u001b[1;33m\u001b[0m\u001b[1;33m\u001b[0m\u001b[0m\n\u001b[0m\u001b[0;32m   1052\u001b[0m             \u001b[1;32mexcept\u001b[0m \u001b[0mException\u001b[0m\u001b[1;33m:\u001b[0m\u001b[1;33m\u001b[0m\u001b[1;33m\u001b[0m\u001b[0m\n\u001b[0;32m   1053\u001b[0m                 \u001b[0mself\u001b[0m\u001b[1;33m.\u001b[0m\u001b[0mlog\u001b[0m\u001b[1;33m.\u001b[0m\u001b[0mwarning\u001b[0m\u001b[1;33m(\u001b[0m\u001b[1;34m\"Invalid Message:\"\u001b[0m\u001b[1;33m,\u001b[0m \u001b[0mexc_info\u001b[0m\u001b[1;33m=\u001b[0m\u001b[1;32mTrue\u001b[0m\u001b[1;33m)\u001b[0m\u001b[1;33m\u001b[0m\u001b[1;33m\u001b[0m\u001b[0m\n",
      "\u001b[1;31mKeyboardInterrupt\u001b[0m: Interrupted by user"
     ]
    }
   ],
   "source": [
    "n,m = map(int,input().split())\n",
    "map_list = []\n",
    "for i in range(n):\n",
    "    map_list.append(list(map(int,input().split())))\n",
    "    \n",
    "map_list"
   ]
  },
  {
   "cell_type": "code",
   "execution_count": 3,
   "id": "8695c2fc",
   "metadata": {},
   "outputs": [],
   "source": [
    "def rotate_a_matrix_by_90_degree(a):\n",
    "    n = len(a) #행 길이\n",
    "    m = len(a[0]) #열 길이\n",
    "    result = [[0]*n for _ in range(m)] #결과 리스트\n",
    "    for i in range(n):\n",
    "        for j in range(m):\n",
    "            result[j][n-i-1] = a[i][j]\n",
    "    return result"
   ]
  },
  {
   "cell_type": "code",
   "execution_count": 4,
   "id": "b7fb5ff0",
   "metadata": {},
   "outputs": [],
   "source": [
    "def reverse_a_matrix(a):\n",
    "    n = len(a) #행 길이\n",
    "    m = len(a[0]) #열 길이\n",
    "    result = [[0]*n for _ in range(m)] #결과 리스트\n",
    "    result = a[::-1]\n",
    "    return result"
   ]
  },
  {
   "cell_type": "code",
   "execution_count": 14,
   "id": "3b08c896",
   "metadata": {},
   "outputs": [
    {
     "ename": "NameError",
     "evalue": "name 'map_list' is not defined",
     "output_type": "error",
     "traceback": [
      "\u001b[1;31m---------------------------------------------------------------------------\u001b[0m",
      "\u001b[1;31mNameError\u001b[0m                                 Traceback (most recent call last)",
      "\u001b[1;32m~\\AppData\\Local\\Temp/ipykernel_26108/2705391988.py\u001b[0m in \u001b[0;36m<module>\u001b[1;34m\u001b[0m\n\u001b[0;32m      3\u001b[0m \u001b[1;32mfor\u001b[0m \u001b[0mi\u001b[0m \u001b[1;32min\u001b[0m \u001b[0mrange\u001b[0m\u001b[1;33m(\u001b[0m\u001b[0mn\u001b[0m\u001b[1;33m)\u001b[0m\u001b[1;33m:\u001b[0m\u001b[1;33m\u001b[0m\u001b[1;33m\u001b[0m\u001b[0m\n\u001b[0;32m      4\u001b[0m     \u001b[1;32mfor\u001b[0m \u001b[0mj\u001b[0m \u001b[1;32min\u001b[0m \u001b[0mrange\u001b[0m\u001b[1;33m(\u001b[0m\u001b[0mm\u001b[0m\u001b[1;33m)\u001b[0m\u001b[1;33m:\u001b[0m\u001b[1;33m\u001b[0m\u001b[1;33m\u001b[0m\u001b[0m\n\u001b[1;32m----> 5\u001b[1;33m         \u001b[0mnew_lock\u001b[0m\u001b[1;33m[\u001b[0m\u001b[0mi\u001b[0m\u001b[1;33m+\u001b[0m\u001b[1;36m2\u001b[0m\u001b[1;33m]\u001b[0m\u001b[1;33m[\u001b[0m\u001b[0mj\u001b[0m\u001b[1;33m+\u001b[0m\u001b[1;36m2\u001b[0m\u001b[1;33m]\u001b[0m \u001b[1;33m=\u001b[0m \u001b[0mmap_list\u001b[0m\u001b[1;33m[\u001b[0m\u001b[0mi\u001b[0m\u001b[1;33m]\u001b[0m\u001b[1;33m[\u001b[0m\u001b[0mj\u001b[0m\u001b[1;33m]\u001b[0m\u001b[1;33m\u001b[0m\u001b[1;33m\u001b[0m\u001b[0m\n\u001b[0m",
      "\u001b[1;31mNameError\u001b[0m: name 'map_list' is not defined"
     ]
    }
   ],
   "source": [
    "#자물쇠의 크기를 기준의 +4로 변환\n",
    "new_lock = [[0]*(n+4) for _ in range(n+4)]\n",
    "for i in range(n):\n",
    "    for j in range(m):\n",
    "        new_lock[i+2][j+2] = map_list[i][j]"
   ]
  },
  {
   "cell_type": "code",
   "execution_count": 13,
   "id": "d4a0741f",
   "metadata": {},
   "outputs": [],
   "source": [
    "x,y = 0,0\n",
    "shape_1 = [[x,y],[x,y+1],[x+1,y],[x+1,y+1]]\n",
    "shape_2 = [[x,y],[x,y+1],[x,y+2],[x,y+3]]\n",
    "shape_3 = [[x,y],[x+1,y],[x+2,y],[x+2,y+1]]\n",
    "shape_4 = [[x,y],[x,y+1],[x+1,y+1],[x+1,y+2]]\n",
    "shape_5 = [[x,y],[x,y+1],[x-1,y+1],[x,y+2]]\n",
    "shape_list = [shape_1_result,shape_2_result,shape_3_result,shape_4_result,shape_5_result]"
   ]
  },
  {
   "cell_type": "code",
   "execution_count": 6,
   "id": "c5b4aa40",
   "metadata": {},
   "outputs": [],
   "source": [
    "shape_1_result = [[0]*4 for _ in range(4)]\n",
    "for i in range(4):\n",
    "    x,y = shape_1[i][0], shape_1[i][1] \n",
    "    shape_1_result[x][y]= 1\n",
    "    \n",
    "shape_2_result = [[0]*4 for _ in range(4)]\n",
    "for i in range(4):\n",
    "    x,y = shape_2[i][0], shape_2[i][1] \n",
    "    shape_2_result[x][y]= 1\n",
    "\n",
    "shape_3_result = [[0]*4 for _ in range(4)]\n",
    "for i in range(4):\n",
    "    x,y = shape_3[i][0], shape_3[i][1] \n",
    "    shape_3_result[x][y]= 1\n",
    "\n",
    "shape_4_result = [[0]*4 for _ in range(4)]\n",
    "for i in range(4):\n",
    "    x,y = shape_4[i][0], shape_4[i][1] \n",
    "    shape_4_result[x][y]= 1\n",
    "\n",
    "shape_5_result = [[0]*4 for _ in range(4)]\n",
    "for i in range(4):\n",
    "    x,y = shape_5[i][0], shape_5[i][1] \n",
    "    shape_5_result[x][y]= 1"
   ]
  },
  {
   "cell_type": "code",
   "execution_count": 7,
   "id": "ef643072",
   "metadata": {},
   "outputs": [
    {
     "ename": "NameError",
     "evalue": "name 'new_lock' is not defined",
     "output_type": "error",
     "traceback": [
      "\u001b[1;31m---------------------------------------------------------------------------\u001b[0m",
      "\u001b[1;31mNameError\u001b[0m                                 Traceback (most recent call last)",
      "\u001b[1;32m~\\AppData\\Local\\Temp/ipykernel_26108/2473877261.py\u001b[0m in \u001b[0;36m<module>\u001b[1;34m\u001b[0m\n\u001b[1;32m----> 1\u001b[1;33m \u001b[0mnew_lock\u001b[0m\u001b[1;33m\u001b[0m\u001b[1;33m\u001b[0m\u001b[0m\n\u001b[0m",
      "\u001b[1;31mNameError\u001b[0m: name 'new_lock' is not defined"
     ]
    }
   ],
   "source": [
    "new_lock"
   ]
  },
  {
   "cell_type": "code",
   "execution_count": 8,
   "id": "e649d587",
   "metadata": {},
   "outputs": [
    {
     "data": {
      "text/plain": [
       "[[1, 1, 0, 0], [1, 1, 0, 0], [0, 0, 0, 0], [0, 0, 0, 0]]"
      ]
     },
     "execution_count": 8,
     "metadata": {},
     "output_type": "execute_result"
    }
   ],
   "source": [
    "shape_1_result"
   ]
  },
  {
   "cell_type": "code",
   "execution_count": 9,
   "id": "dd08296f",
   "metadata": {},
   "outputs": [],
   "source": [
    "shape_2_2 = [[x,y],[x+1,y],[x+2,y],[x+3,y]]\n",
    "shape_3_2 = [[x,y],[x+1,y],[x,y+1],[x,y+2]]\n",
    "shape_3_3 = [[x,y],[x+1,y],[x+1,y+1],[x+1,y++2]]\n",
    "shape_3_4 = [[x,y],[x+1,y],[x+2,y],[x+2,y-1]]\n",
    "shape_3_5 = [[x,y],[x+1,y],[x+1,y-1],[x+1,y-2]]\n",
    "shape_3_6 = [[x,y],[x,y+1],[x+1,y+1],[x+2,y+1]]\n",
    "shape_3_7 = [[x,y],[x+1,y],[x,y+1],[x,y+2]]\n",
    "shape_3_8 = [[x,y],[x+1,y],[x+2,y],[x+2,y+1]]\n",
    "shape_4_2 = [[x,y],[x,y+1],[x-1,y+1],[x-1,y+2]]\n",
    "shape_4_3 = [[x,y],[x,y+1],[x+1,y+1],[x+1,y+2]]\n",
    "shape_4_3 = [[x,y],[x,y+1],[x-1,y+1],[x-1,y+2]]\n",
    "shape_5_2 = [[x,y],[x,y+1],[x-1,y+1],[x+1,y+1]]\n",
    "shape_5_3 = [[x,y],[x-1,y],[x+1,y],[x,y+1]]\n",
    "shape_5_3 = [[x,y],[x,y+1],[x+1,y+1],[x,y+2]]"
   ]
  },
  {
   "cell_type": "code",
   "execution_count": 10,
   "id": "6394e5fd",
   "metadata": {},
   "outputs": [
    {
     "name": "stdout",
     "output_type": "stream",
     "text": [
      "[[7, 8, 9], [4, 5, 6], [1, 2, 3]] [[7, 8, 9], [4, 5, 6], [1, 2, 3]]\n"
     ]
    }
   ],
   "source": [
    "n = 3\n",
    "m = 3\n",
    "first_list = [[1,2,3],[4,5,6],[7,8,9]]\n",
    "result = [[0]*n for _ in range(m)]\n",
    "\n",
    "# 1. 반복문\n",
    "for i in range(n):\n",
    "    result[i] = first_list[n-1-i]\n",
    "    \n",
    "#2. 문자열 슬라이싱\n",
    "first_list = first_list[::-1]\n",
    "\n",
    "print(first_list, result)"
   ]
  },
  {
   "cell_type": "code",
   "execution_count": 11,
   "id": "2de44cef",
   "metadata": {},
   "outputs": [],
   "source": [
    "n = 3\n",
    "m = 3\n",
    "first_list = [[1,2,3],[4,5,6],[7,8,9]]\n",
    "result = [[0]*n for _ in range(m)]\n",
    "\n",
    "# 1. 반복문\n",
    "for i in range(n):\n",
    "    for j in range(m):\n",
    "        result[i][j] = first_list[i][m-1-j]\n",
    "\n",
    "# 2. 문자열 슬라이싱\n",
    "for i in range(n):\n",
    "    first_list[i] = first_list[i][::-1]"
   ]
  },
  {
   "cell_type": "code",
   "execution_count": 12,
   "id": "ebb0d846",
   "metadata": {},
   "outputs": [
    {
     "name": "stdout",
     "output_type": "stream",
     "text": [
      "[[3, 2, 1], [6, 5, 4], [9, 8, 7]] [[3, 2, 1], [6, 5, 4], [9, 8, 7]]\n"
     ]
    }
   ],
   "source": [
    "print(first_list, result)"
   ]
  },
  {
   "cell_type": "markdown",
   "id": "45586442",
   "metadata": {},
   "source": [
    "### 로봇청소기"
   ]
  },
  {
   "cell_type": "code",
   "execution_count": 15,
   "id": "116dc135",
   "metadata": {},
   "outputs": [
    {
     "ename": "KeyboardInterrupt",
     "evalue": "Interrupted by user",
     "output_type": "error",
     "traceback": [
      "\u001b[1;31m---------------------------------------------------------------------------\u001b[0m",
      "\u001b[1;31mKeyboardInterrupt\u001b[0m                         Traceback (most recent call last)",
      "\u001b[1;32m~\\AppData\\Local\\Temp/ipykernel_26108/972858099.py\u001b[0m in \u001b[0;36m<module>\u001b[1;34m\u001b[0m\n\u001b[1;32m----> 1\u001b[1;33m \u001b[0mn\u001b[0m\u001b[1;33m,\u001b[0m\u001b[0mm\u001b[0m \u001b[1;33m=\u001b[0m \u001b[0mmap\u001b[0m\u001b[1;33m(\u001b[0m\u001b[0mint\u001b[0m\u001b[1;33m,\u001b[0m\u001b[0minput\u001b[0m\u001b[1;33m(\u001b[0m\u001b[1;33m)\u001b[0m\u001b[1;33m.\u001b[0m\u001b[0msplit\u001b[0m\u001b[1;33m(\u001b[0m\u001b[1;33m)\u001b[0m\u001b[1;33m)\u001b[0m\u001b[1;33m\u001b[0m\u001b[1;33m\u001b[0m\u001b[0m\n\u001b[0m\u001b[0;32m      2\u001b[0m \u001b[0mgraph\u001b[0m \u001b[1;33m=\u001b[0m \u001b[1;33m[\u001b[0m\u001b[1;33m]\u001b[0m\u001b[1;33m\u001b[0m\u001b[1;33m\u001b[0m\u001b[0m\n\u001b[0;32m      3\u001b[0m \u001b[0mvisited\u001b[0m \u001b[1;33m=\u001b[0m \u001b[1;33m[\u001b[0m\u001b[1;33m[\u001b[0m\u001b[1;36m0\u001b[0m\u001b[1;33m]\u001b[0m \u001b[1;33m*\u001b[0m \u001b[0mm\u001b[0m \u001b[1;32mfor\u001b[0m \u001b[0m_\u001b[0m \u001b[1;32min\u001b[0m \u001b[0mrange\u001b[0m\u001b[1;33m(\u001b[0m\u001b[0mn\u001b[0m\u001b[1;33m)\u001b[0m\u001b[1;33m]\u001b[0m\u001b[1;33m\u001b[0m\u001b[1;33m\u001b[0m\u001b[0m\n\u001b[0;32m      4\u001b[0m \u001b[0mr\u001b[0m\u001b[1;33m,\u001b[0m\u001b[0mc\u001b[0m\u001b[1;33m,\u001b[0m\u001b[0md\u001b[0m \u001b[1;33m=\u001b[0m \u001b[0mmap\u001b[0m\u001b[1;33m(\u001b[0m\u001b[0mint\u001b[0m\u001b[1;33m,\u001b[0m\u001b[0minput\u001b[0m\u001b[1;33m(\u001b[0m\u001b[1;33m)\u001b[0m\u001b[1;33m.\u001b[0m\u001b[0msplit\u001b[0m\u001b[1;33m(\u001b[0m\u001b[1;33m)\u001b[0m\u001b[1;33m)\u001b[0m\u001b[1;33m\u001b[0m\u001b[1;33m\u001b[0m\u001b[0m\n\u001b[0;32m      5\u001b[0m \u001b[1;33m\u001b[0m\u001b[0m\n",
      "\u001b[1;32mC:\\ProgramData\\Anaconda3\\lib\\site-packages\\ipykernel\\kernelbase.py\u001b[0m in \u001b[0;36mraw_input\u001b[1;34m(self, prompt)\u001b[0m\n\u001b[0;32m   1004\u001b[0m                 \u001b[1;34m\"raw_input was called, but this frontend does not support input requests.\"\u001b[0m\u001b[1;33m\u001b[0m\u001b[1;33m\u001b[0m\u001b[0m\n\u001b[0;32m   1005\u001b[0m             )\n\u001b[1;32m-> 1006\u001b[1;33m         return self._input_request(\n\u001b[0m\u001b[0;32m   1007\u001b[0m             \u001b[0mstr\u001b[0m\u001b[1;33m(\u001b[0m\u001b[0mprompt\u001b[0m\u001b[1;33m)\u001b[0m\u001b[1;33m,\u001b[0m\u001b[1;33m\u001b[0m\u001b[1;33m\u001b[0m\u001b[0m\n\u001b[0;32m   1008\u001b[0m             \u001b[0mself\u001b[0m\u001b[1;33m.\u001b[0m\u001b[0m_parent_ident\u001b[0m\u001b[1;33m[\u001b[0m\u001b[1;34m\"shell\"\u001b[0m\u001b[1;33m]\u001b[0m\u001b[1;33m,\u001b[0m\u001b[1;33m\u001b[0m\u001b[1;33m\u001b[0m\u001b[0m\n",
      "\u001b[1;32mC:\\ProgramData\\Anaconda3\\lib\\site-packages\\ipykernel\\kernelbase.py\u001b[0m in \u001b[0;36m_input_request\u001b[1;34m(self, prompt, ident, parent, password)\u001b[0m\n\u001b[0;32m   1049\u001b[0m             \u001b[1;32mexcept\u001b[0m \u001b[0mKeyboardInterrupt\u001b[0m\u001b[1;33m:\u001b[0m\u001b[1;33m\u001b[0m\u001b[1;33m\u001b[0m\u001b[0m\n\u001b[0;32m   1050\u001b[0m                 \u001b[1;31m# re-raise KeyboardInterrupt, to truncate traceback\u001b[0m\u001b[1;33m\u001b[0m\u001b[1;33m\u001b[0m\u001b[0m\n\u001b[1;32m-> 1051\u001b[1;33m                 \u001b[1;32mraise\u001b[0m \u001b[0mKeyboardInterrupt\u001b[0m\u001b[1;33m(\u001b[0m\u001b[1;34m\"Interrupted by user\"\u001b[0m\u001b[1;33m)\u001b[0m \u001b[1;32mfrom\u001b[0m \u001b[1;32mNone\u001b[0m\u001b[1;33m\u001b[0m\u001b[1;33m\u001b[0m\u001b[0m\n\u001b[0m\u001b[0;32m   1052\u001b[0m             \u001b[1;32mexcept\u001b[0m \u001b[0mException\u001b[0m\u001b[1;33m:\u001b[0m\u001b[1;33m\u001b[0m\u001b[1;33m\u001b[0m\u001b[0m\n\u001b[0;32m   1053\u001b[0m                 \u001b[0mself\u001b[0m\u001b[1;33m.\u001b[0m\u001b[0mlog\u001b[0m\u001b[1;33m.\u001b[0m\u001b[0mwarning\u001b[0m\u001b[1;33m(\u001b[0m\u001b[1;34m\"Invalid Message:\"\u001b[0m\u001b[1;33m,\u001b[0m \u001b[0mexc_info\u001b[0m\u001b[1;33m=\u001b[0m\u001b[1;32mTrue\u001b[0m\u001b[1;33m)\u001b[0m\u001b[1;33m\u001b[0m\u001b[1;33m\u001b[0m\u001b[0m\n",
      "\u001b[1;31mKeyboardInterrupt\u001b[0m: Interrupted by user"
     ]
    }
   ],
   "source": [
    "n,m = map(int,input().split())\n",
    "graph = []\n",
    "visited = [[0] * m for _ in range(n)]\n",
    "r,c,d = map(int,input().split())\n",
    "\n",
    "for _ in range(n):\n",
    "    graph.append(list(map(int,input().split())))\n",
    "    \n",
    "#조건에 따라 d가 0 북, 1 동,2 남,3 서\n",
    "dx = [-1,0,1,0]\n",
    "dy = [0,1,0,-1]"
   ]
  },
  {
   "cell_type": "code",
   "execution_count": null,
   "id": "8717ed1c",
   "metadata": {},
   "outputs": [],
   "source": [
    "# 처음 시작하는 곳 방문 처리\n",
    "visited[r][c] = 1\n",
    "count = 1\n",
    "\n",
    "while True:\n",
    "    flag = 0\n",
    "    # 4방향 확인\n",
    "    for _ in range(4):\n",
    "        # 0,3,2,1 순서 만들어주기위한 식\n",
    "        nx = r + dx[(d+3)%4]\n",
    "        ny = c + dy[(d+3)%4]\n",
    "        # 한번 돌았으면 그 방향으로 작업시작\n",
    "        d = (d+3)%4\n",
    "        if 0 <= nx < n and 0 <= ny < m and graph[nx][ny] == 0:\n",
    "            if visited[nx][ny] == 0:\n",
    "                visited[nx][ny] = 1\n",
    "                cnt += 1\n",
    "                r = nx\n",
    "                c = ny\n",
    "                #청소 한 방향이라도 했으면 다음으로 넘어감\n",
    "                flag = 1\n",
    "                break\n",
    "    if flag == 0: # 4방향 모두 청소가 되어 있을 때,\n",
    "        if graph[r-dx[d]][c-dy[d]] == 1: #후진했는데 벽\n",
    "            print(cnt)\n",
    "            break\n",
    "        else:\n",
    "            r,c = r-dx[d],c-dy[d]"
   ]
  },
  {
   "cell_type": "markdown",
   "id": "735811bc",
   "metadata": {},
   "source": [
    "### 연산자 끼워넣기"
   ]
  },
  {
   "cell_type": "code",
   "execution_count": null,
   "id": "bd81c9c9",
   "metadata": {},
   "outputs": [],
   "source": [
    "n = int(input())\n",
    "data = list(map(int, input().split()))\n",
    "add, sub, mul, div = map(int, input().split())\n",
    "\n",
    "# 최댓값과 최솟값 초기화\n",
    "max_value = -1e9\n",
    "min_value = 1e9\n",
    "\n",
    "# dfs 매서드 정의\n",
    "def dfs(i, arr):\n",
    "    global add, sub, mul, div, max_value, min_value\n",
    "    # 주어진 수열을 다 받았을 경우 최댓값과 최솟값 계산\n",
    "    if i == n:\n",
    "        max_value = max(max_value, arr)\n",
    "        min_value = min(min_value, arr)\n",
    "    else:\n",
    "        # 더하기\n",
    "        if add > 0:\n",
    "            add -= 1\n",
    "            dfs(i+1, arr + data[i])\n",
    "            add += 1\n",
    "        # 빼기\n",
    "        if sub > 0:\n",
    "            sub -= 1\n",
    "            dfs(i+1, arr - data[i])\n",
    "            sub += 1\n",
    "        # 곱하기\n",
    "        if mul > 0:\n",
    "            mul -= 1\n",
    "            dfs(i+1, arr * data[i])\n",
    "            mul += 1\n",
    "        # 나누기\n",
    "        if div > 0:\n",
    "            div -= 1\n",
    "            dfs(i+1, int(arr / data[i]))\n",
    "            div += 1\n",
    "\n",
    "            \n",
    "# DFS 메서드 호출\n",
    "dfs(1, data[0])\n",
    "\n",
    "# 최댓값과 최솟값 출력\n",
    "print(max_value)\n",
    "print(min_value)"
   ]
  },
  {
   "cell_type": "markdown",
   "id": "18bf7c17",
   "metadata": {},
   "source": [
    "### 스타트와 링크"
   ]
  },
  {
   "cell_type": "code",
   "execution_count": 18,
   "id": "4d9c7d94",
   "metadata": {},
   "outputs": [
    {
     "name": "stdout",
     "output_type": "stream",
     "text": [
      "4\n",
      "0 1 2 3\n",
      "4 0 5 6\n",
      "7 1 0 2\n",
      "3 4 5 0\n"
     ]
    }
   ],
   "source": [
    "n = int(input())\n",
    "team_point = []\n",
    "for i in range(n):\n",
    "    team_point.append(list(map(int,input().split())))"
   ]
  },
  {
   "cell_type": "code",
   "execution_count": 23,
   "id": "4170f1f4",
   "metadata": {},
   "outputs": [
    {
     "name": "stdout",
     "output_type": "stream",
     "text": [
      "4\n",
      "0 1 2 3\n",
      "4 0 5 6\n",
      "7 1 0 2\n",
      "3 4 5 0\n",
      "[0, 1] [2, 3]\n",
      "[0, 2] [1, 3]\n",
      "[0, 3] [1, 2]\n",
      "[1, 2] [0, 3]\n",
      "[1, 3] [0, 2]\n",
      "[2, 3] [0, 1]\n",
      "0\n"
     ]
    }
   ],
   "source": [
    "n = int(input())\n",
    "team_point = []\n",
    "for i in range(n):\n",
    "    team_point.append(list(map(int,input().split())))\n",
    "\n",
    "start = []\n",
    "link = []\n",
    "\n",
    "def dfs(idx):\n",
    "    global minans\n",
    "\n",
    "    if idx==n//2:\n",
    "        start_team =0\n",
    "        link_team = 0\n",
    "        for i in range(0,n):\n",
    "            if i not in start:\n",
    "                link.append(i)\n",
    "        for i in range(0,n//2-1):\n",
    "            for j in range(i+1,n//2):\n",
    "                print(start,link)\n",
    "                start_team += team_point[start[i]][start[j]]+team_point[start[j]][start[i]]\n",
    "                link_team +=team_point[link[i]][link[j]]+team_point[link[j]][link[i]]\n",
    "        diff =abs(start_team-link_team)\n",
    "        minans = min(minans, diff)\n",
    "        link.clear()\n",
    "        return\n",
    "\n",
    "    for i in range(n):\n",
    "        if i in start:\n",
    "            continue\n",
    "        if len(start) >0 and start[len(start)-1] > i:\n",
    "            continue\n",
    "        start.append(i)\n",
    "        dfs(idx+1)\n",
    "        start.pop()\n",
    "\n",
    "minans = float('Inf')\n",
    "dfs(0)\n",
    "print(minans)"
   ]
  },
  {
   "cell_type": "markdown",
   "id": "29221daf",
   "metadata": {},
   "source": [
    "### 경사로"
   ]
  },
  {
   "cell_type": "code",
   "execution_count": 25,
   "id": "89293965",
   "metadata": {},
   "outputs": [
    {
     "name": "stdout",
     "output_type": "stream",
     "text": [
      "6 3\n",
      "3 3 3 3 3 3\n",
      "2 3 3 3 3 3\n",
      "2 2 2 3 2 3\n",
      "1 1 1 2 2 2\n",
      "1 1 1 3 3 1\n",
      "1 1 2 3 3 2\n",
      "2\n"
     ]
    }
   ],
   "source": [
    "def pos(now):\n",
    "    for j in range(1, n):\n",
    "        # 1. 차이가 1만 가능\n",
    "        if abs(now[j] - now[j - 1]) > 1:\n",
    "            return False\n",
    "        # 2.  현재 < 이전, 경사로를 만들기 위해 오른쪽을 스캔함(낮은 곳에 경사로 설치)\n",
    "        if now[j] < now[j - 1]:\n",
    "            # l 만큼 경사로 너비 필요\n",
    "            for k in range(l):\n",
    "                # 범위 넘어감 or 이미 설치함 or 낮은 곳의 높이가 다른 경우, 그만  \n",
    "                if j + k >= n or used[j + k] or now[j] != now[j + k]: \n",
    "                    return False\n",
    "                # 높이가 같은 경우 사용 여부 체크\n",
    "                if now[j] == now[j + k]:    \n",
    "                    used[j + k] = True\n",
    "        # 3.  현재 > 이전, 경사로를 만들기 위해 왼쪽을 스캔함\n",
    "        elif now[j] > now[j - 1]:\n",
    "            for k in range(l):\n",
    "                # 범위 넘어감 or 이미 설치함 or 낮은 곳의 높이가 다른 경우, 그만\n",
    "                if j - k - 1 < 0 or now[j - 1] != now[j - k - 1] or used[j - k - 1]:\n",
    "                    return False\n",
    "                # 높이가 같은 경우 사용 여부 체크 \n",
    "                if now[j - 1] == now[j - k - 1]:\n",
    "                     used[j - k - 1] = True\n",
    "    # 모두 문제없이 설치된 경우 가능함을 출력 \n",
    "    return True\n",
    "\n",
    "n, l = map(int, input().split())\n",
    "graph = [list(map(int,input().split())) for _ in range(n)]\n",
    "result = 0\n",
    "\n",
    "# 1. 가로 확인\n",
    "for i in range(n):\n",
    "    used = [False for _ in range(n)]\n",
    "    if pos(graph[i]):\n",
    "        result += 1\n",
    "\n",
    "# 2. 세로 확인\n",
    "for i in range(n):\n",
    "    used = [False for _ in range(n)]\n",
    "    if pos([graph[j][i] for j in range(n)]):\n",
    "        result += 1\n",
    "\n",
    "print(result)"
   ]
  },
  {
   "cell_type": "markdown",
   "id": "cdf18055",
   "metadata": {},
   "source": [
    "### 톱니바퀴"
   ]
  },
  {
   "cell_type": "code",
   "execution_count": 78,
   "id": "18893da0",
   "metadata": {
    "scrolled": true
   },
   "outputs": [
    {
     "name": "stdout",
     "output_type": "stream",
     "text": [
      "10101111\n",
      "01111101\n",
      "11001110\n",
      "00000010\n",
      "2\n",
      "3 -1\n",
      "1 1\n"
     ]
    }
   ],
   "source": [
    "from collections import deque\n",
    "wheels = []\n",
    "for i in range(4):\n",
    "    wheel = deque(list(input()))\n",
    "    wheels.append(wheel)\n",
    "\n",
    "n = int(input())\n",
    "move = []\n",
    "for j in range(n):\n",
    "    x,y = map(int,input().split())\n",
    "    move.append([x,y])"
   ]
  },
  {
   "cell_type": "code",
   "execution_count": 83,
   "id": "e1d80159",
   "metadata": {},
   "outputs": [
    {
     "name": "stdout",
     "output_type": "stream",
     "text": [
      "11111111\n",
      "11111111\n",
      "11111111\n",
      "11111111\n",
      "3\n",
      "1 1\n",
      "2 1\n",
      "3 1\n",
      "15\n"
     ]
    }
   ],
   "source": [
    "def rotate(number,direct):\n",
    "    if int(direct)==1:\n",
    "        wheels[number].appendleft(wheels[number].pop())\n",
    "    else:\n",
    "        wheels[number].append(wheels[number].popleft())\n",
    "\n",
    "def check(w,d): \n",
    "    is_rotate = [False for _ in range(4)]\n",
    "    is_rotate[w] = True\n",
    "    #휠의 왼쪽 탐색\n",
    "    for i in range(w-1,-1,-1):\n",
    "        if wheels[i][2] != wheels[i+1][-2]:\n",
    "            is_rotate[i] = True\n",
    "        else:\n",
    "            break\n",
    "    #휠의 오른쪽 탐색\n",
    "    for i in range(w+1,4):\n",
    "        if wheels[i][-2] != wheels[i-1][2]:\n",
    "            is_rotate[i] = True\n",
    "        else:\n",
    "            break\n",
    "\n",
    "    for i in range(4):\n",
    "        if is_rotate[i] and (w-i)%2 == 0:\n",
    "            rotate(i,d)\n",
    "        elif is_rotate[i] and (w-i)%2 == 1:\n",
    "            rotate(i,d)\n",
    "\n",
    "from collections import deque\n",
    "wheels = []\n",
    "for i in range(4):\n",
    "    wheel = deque(list(input()))\n",
    "    wheels.append(wheel)\n",
    "\n",
    "n = int(input())\n",
    "for _ in range(n):\n",
    "    a,b = map(int,input().split())\n",
    "    check(a-1,b)\n",
    "\n",
    "result = 0\n",
    "for i in range(4):\n",
    "    result+= int(wheels[i][0])*(2**i)\n",
    "\n",
    "print(result)"
   ]
  },
  {
   "cell_type": "code",
   "execution_count": 84,
   "id": "f23cdcb2",
   "metadata": {},
   "outputs": [
    {
     "name": "stdout",
     "output_type": "stream",
     "text": [
      "3\n",
      "2\n",
      "1\n",
      "0\n"
     ]
    }
   ],
   "source": [
    "temp_list = [1,2,3,4,5,6,7]\n",
    "for i in range(4-1,-1,-1):\n",
    "    print(i)"
   ]
  },
  {
   "cell_type": "markdown",
   "id": "577e4e17",
   "metadata": {},
   "source": [
    "### 감시"
   ]
  },
  {
   "cell_type": "code",
   "execution_count": 88,
   "id": "33b25c3d",
   "metadata": {},
   "outputs": [
    {
     "name": "stdout",
     "output_type": "stream",
     "text": [
      "4 6\n",
      "0 0 0 0 0 0\n",
      "0 0 0 0 0 0\n",
      "0 1 0 6 0 0 \n",
      "0 0 0 0 0 0\n"
     ]
    }
   ],
   "source": [
    "n,m = map(int,input().split())\n",
    "graph_list = []\n",
    "camera_list = []\n",
    "for i in range(n):\n",
    "    graph_list.append(list(map(int,input().split())))\n",
    "    for j in range(m):\n",
    "        if graph_list[i][j] != 0 and graph_list[i][j] != 6:\n",
    "            camera_list.append([graph_list[i][j],i,j])"
   ]
  },
  {
   "cell_type": "code",
   "execution_count": 93,
   "id": "dacdc58e",
   "metadata": {},
   "outputs": [],
   "source": [
    "dx = [1,0,-1,0]\n",
    "dy = [0,1,0,-1]\n",
    "mode = [\n",
    "    [],\n",
    "    [[0], [1], [2], [3]],\n",
    "    [[0, 2], [1, 3]],\n",
    "    [[0, 1], [1, 2], [2, 3], [0, 3]],\n",
    "    [[0, 1, 2], [0, 1, 3], [1, 2, 3], [0, 2, 3]],\n",
    "    [[0, 1, 2, 3]],\n",
    "]"
   ]
  },
  {
   "cell_type": "code",
   "execution_count": 98,
   "id": "d342d70e",
   "metadata": {},
   "outputs": [],
   "source": [
    "def fill(board, mm, x, y):\n",
    "    for i in mm:\n",
    "        nx = x\n",
    "        ny = y\n",
    "        while True:\n",
    "            nx += dx[i]\n",
    "            ny += dy[i]\n",
    "            if nx < 0 or ny < 0 or nx >= n or ny >= m:\n",
    "                break\n",
    "            if board[nx][ny] == 6:\n",
    "                break\n",
    "            elif board[nx][ny] == 0:\n",
    "                board[nx][ny] = 7"
   ]
  },
  {
   "cell_type": "code",
   "execution_count": 102,
   "id": "26ca9e29",
   "metadata": {},
   "outputs": [
    {
     "name": "stdout",
     "output_type": "stream",
     "text": [
      "15\n"
     ]
    }
   ],
   "source": [
    "import copy\n",
    "def dfs(depth, arr):\n",
    "    global min_value\n",
    "    if depth == len(camera_list):\n",
    "        count = 0\n",
    "        for i in range(n):\n",
    "            count += arr[i].count(0)\n",
    "        min_value = min(min_value, count)\n",
    "        return\n",
    "    temp = copy.deepcopy(arr)\n",
    "    cctv_num, x, y = camera_list[depth]\n",
    "    for i in mode[cctv_num]:\n",
    "        fill(temp, i, x, y)\n",
    "        dfs(depth+1, temp)\n",
    "        temp = copy.deepcopy(arr)\n",
    "\n",
    "min_value = int(1e9)\n",
    "dfs(0, graph_list)\n",
    "print(min_value)"
   ]
  },
  {
   "cell_type": "markdown",
   "id": "6fb1e57e",
   "metadata": {},
   "source": [
    "### 사다리 조작"
   ]
  },
  {
   "cell_type": "code",
   "execution_count": null,
   "id": "b0cf4172",
   "metadata": {},
   "outputs": [],
   "source": [
    "from sys import exit\n",
    "\n",
    "n, m, h = map(int, input().split())\n",
    "if m == 0:\n",
    "    print(0)\n",
    "    exit()\n",
    "\n",
    "bridge = [[False] * n for _ in range(h)]\n",
    "for _ in range(m):\n",
    "    a, b = map(int, input().split())\n",
    "    bridge[a-1][b-1] = True\n",
    "\n",
    "def check():\n",
    "    for start in range(n):\n",
    "        k = start\n",
    "        for i in range(h):\n",
    "            if bridge[i][k]:\n",
    "                k += 1\n",
    "            elif k > 0 and bridge[i][k-1]:\n",
    "                k -= 1\n",
    "        if start != k:\n",
    "            return False\n",
    "    return True\n",
    "\n",
    "def bf(cnt, x, y):\n",
    "    global ans\n",
    "    if check():\n",
    "        ans = min(ans, cnt)\n",
    "        return\n",
    "    elif cnt == 3 or ans <= cnt:\n",
    "        return\n",
    "\n",
    "    for i in range(x, h):\n",
    "        k = y if i == x else 0\n",
    "        for j in range(k, n-1):\n",
    "            if not bridge[i][j] and not bridge[i][j+1]:\n",
    "                bridge[i][j] = True\n",
    "                bf(cnt+1, i, j+2)\n",
    "                bridge[i][j] = False\n",
    "\n",
    "ans = 4\n",
    "bf(0, 0, 0)\n",
    "print(ans if ans < 4 else -1)"
   ]
  },
  {
   "cell_type": "markdown",
   "id": "e046691a",
   "metadata": {},
   "source": [
    "### 드래곤커브"
   ]
  },
  {
   "cell_type": "code",
   "execution_count": 111,
   "id": "a4b87ac5",
   "metadata": {},
   "outputs": [
    {
     "name": "stdout",
     "output_type": "stream",
     "text": [
      "3\n",
      "3 3 0 1\n",
      "[0, 1]\n",
      "4 2 1 3\n",
      "[1, 2, 3, 2, 3, 0, 3, 2]\n",
      "4 2 2 1\n",
      "[2, 3]\n",
      "4\n"
     ]
    }
   ],
   "source": [
    "# 0 : ->, 1 : ↑, 2 : <-, 3 : ↓\n",
    "n = int(input())\n",
    "graph = [[0] * 101 for _ in range(101)]\n",
    "dx = [0, -1, 0, 1]\n",
    "dy = [1, 0, -1, 0]\n",
    "\n",
    "for i in range(n) :\n",
    "    y, x, d, g = map(int, input().split())\n",
    "    graph[x][y] = 1\n",
    "\n",
    "    # 커브 리스트\n",
    "    curve = [d]\n",
    "    for j in range(g) :\n",
    "        for k in range(len(curve)-1, -1, -1) :\n",
    "            curve.append((curve[k] + 1) % 4)\n",
    "    \n",
    "    print(curve)\n",
    "    # 드래곤 커브\n",
    "    for j in range(len(curve)) :\n",
    "        x += dx[curve[j]]\n",
    "        y += dy[curve[j]]\n",
    "        if not 0 <= x < 101 or not 0 <= y < 101 :\n",
    "            continue\n",
    "        graph[x][y] = 1\n",
    "\n",
    "result = 0\n",
    "for i in range(100) :\n",
    "    for j in range(100) :\n",
    "        if graph[i][j] == 1 and graph[i+1][j] == 1 and graph[i][j+1] == 1 and graph[i+1][j+1] == 1 :\n",
    "            result += 1\n",
    "\n",
    "print(result)"
   ]
  },
  {
   "cell_type": "code",
   "execution_count": 110,
   "id": "62fc5774",
   "metadata": {},
   "outputs": [],
   "source": [
    "for k in range(-1, -1, -1):\n",
    "    print(k)"
   ]
  },
  {
   "cell_type": "markdown",
   "id": "1492ce2c",
   "metadata": {},
   "source": [
    "### 큐빙"
   ]
  },
  {
   "cell_type": "code",
   "execution_count": 2,
   "id": "df0b0125",
   "metadata": {},
   "outputs": [],
   "source": [
    "cube = [['w','w','w'],['w','w','w'],['w','w','w'],\n",
    "       ['y','y','y'],['y','y','y'],['y','y','y'],\n",
    "       ['r','r','r'],['r','r','r'],['r','r','r'],\n",
    "       ['o','o','o'],['o','o','o'],['o','o','o'],\n",
    "       ['g','g','g'],['g','g','g'],['g','g','g'],\n",
    "       ['b','b','b'],['b','b','b'],['b','b','b']]"
   ]
  },
  {
   "cell_type": "code",
   "execution_count": 3,
   "id": "60e056e1",
   "metadata": {},
   "outputs": [
    {
     "data": {
      "text/plain": [
       "[['w', 'w', 'w'],\n",
       " ['w', 'w', 'w'],\n",
       " ['w', 'w', 'w'],\n",
       " ['y', 'y', 'y'],\n",
       " ['y', 'y', 'y'],\n",
       " ['y', 'y', 'y'],\n",
       " ['r', 'r', 'r'],\n",
       " ['r', 'r', 'r'],\n",
       " ['r', 'r', 'r'],\n",
       " ['o', 'o', 'o'],\n",
       " ['o', 'o', 'o'],\n",
       " ['o', 'o', 'o'],\n",
       " ['g', 'g', 'g'],\n",
       " ['g', 'g', 'g'],\n",
       " ['g', 'g', 'g'],\n",
       " ['b', 'b', 'b'],\n",
       " ['b', 'b', 'b'],\n",
       " ['b', 'b', 'b']]"
      ]
     },
     "execution_count": 3,
     "metadata": {},
     "output_type": "execute_result"
    }
   ],
   "source": [
    "cube"
   ]
  },
  {
   "cell_type": "code",
   "execution_count": null,
   "id": "486ffd8b",
   "metadata": {},
   "outputs": [],
   "source": [
    "import sys\n",
    "\n",
    "input = sys.stdin.readline\n",
    "\n",
    "def cube(side, dir):\n",
    "    global u, d, f, b, l, r\n",
    "    if side == 'U' or side == 'D':\n",
    "        if side == 'U':\n",
    "            u = turn(u, dir)\n",
    "            i, j = 2, 0\n",
    "        else:\n",
    "            d = turn(d, dir)\n",
    "            i, j = 0, 2\n",
    "        temp_l = [list(x) for x in zip(*l)]\n",
    "        temp_r = [list(x) for x in zip(*r)]\n",
    "        temp = b[i]\n",
    "        if (side == 'U' and dir == '+') or (side == 'D' and dir == '-'):\n",
    "            b[i] = list(reversed(temp_l[i]))\n",
    "            temp_l[i] = f[j]\n",
    "            f[j] = list(reversed(temp_r[j]))\n",
    "            temp_r[j] = temp\n",
    "        else:\n",
    "            b[i] = temp_r[j]\n",
    "            temp_r[j] = list(reversed(f[j]))\n",
    "            f[j] = temp_l[i]\n",
    "            temp_l[i] = list(reversed(temp))\n",
    "        l = [list(x) for x in zip(*temp_l)]\n",
    "        r = [list(x) for x in zip(*temp_r)]\n",
    "\n",
    "    elif side == 'F' or side == 'B':\n",
    "        if side == 'F':\n",
    "            f = turn(f, dir)\n",
    "            i = 2\n",
    "        else:\n",
    "            b = turn(b, dir)\n",
    "            i = 0\n",
    "        temp = u[i]\n",
    "        if (side == 'F' and dir == '+') or (side == 'B' and dir == '-'):\n",
    "            u[i] = l[i]\n",
    "            l[i] = d[i]\n",
    "            d[i] = r[i]\n",
    "            r[i] = temp\n",
    "        else:\n",
    "            u[i] = r[i]\n",
    "            r[i] = d[i]\n",
    "            d[i] = l[i]\n",
    "            l[i] = temp\n",
    "\n",
    "    elif side == 'L' or side == 'R':\n",
    "        if side == 'L':\n",
    "            l = turn(l, dir)\n",
    "            i, j = 0, 2\n",
    "        else:\n",
    "            r = turn(r, dir)\n",
    "            i, j = 2, 0\n",
    "        temp_u = [list(x) for x in zip(*u)]\n",
    "        temp_d = [list(x) for x in zip(*d)]\n",
    "        temp_f = [list(x) for x in zip(*f)]\n",
    "        temp_b = [list(x) for x in zip(*b)]\n",
    "        temp = temp_b[i]\n",
    "        if (side == 'L' and dir == '+') or (side == 'R' and dir == '-'):\n",
    "            temp_b[i] = list(reversed(temp_d[j]))\n",
    "            temp_d[j] = list(reversed(temp_f[i]))\n",
    "            temp_f[i] = temp_u[i]\n",
    "            temp_u[i] = temp\n",
    "        else:\n",
    "            temp_b[i] = temp_u[i]\n",
    "            temp_u[i] = temp_f[i]\n",
    "            temp_f[i] = list(reversed(temp_d[j]))\n",
    "            temp_d[j] = list(reversed(temp))\n",
    "        u = [list(x) for x in zip(*temp_u)]\n",
    "        d = [list(x) for x in zip(*temp_d)]\n",
    "        f = [list(x) for x in zip(*temp_f)]\n",
    "        b = [list(x) for x in zip(*temp_b)]\n",
    "\n",
    "\n",
    "def turn(side, dir):\n",
    "    if dir == '+':\n",
    "        return [list(reversed(x)) for x in zip(*side)]\n",
    "    else:\n",
    "        side = [list(x) for x in zip(*side)]\n",
    "        temp = side[0]\n",
    "        side[0] = side[2]\n",
    "        side[2] = temp\n",
    "        return side\n",
    "\n",
    "\n",
    "tc = int(input())\n",
    "for _ in range(tc):\n",
    "    u = [['w' for _ in range(3)] for _ in range(3)]\n",
    "    d = [['y' for _ in range(3)] for _ in range(3)]\n",
    "    f = [['r' for _ in range(3)] for _ in range(3)]\n",
    "    b = [['o' for _ in range(3)] for _ in range(3)]\n",
    "    l = [['g' for _ in range(3)] for _ in range(3)]\n",
    "    r = [['b' for _ in range(3)] for _ in range(3)]\n",
    "\n",
    "    n = int(input())\n",
    "    case = list(input().strip().split())\n",
    "    for k in case:\n",
    "        side, dir = list(k)\n",
    "        cube(side, dir)\n",
    "    for s in u:\n",
    "        print(''.join(s))"
   ]
  }
 ],
 "metadata": {
  "kernelspec": {
   "display_name": "Python 3 (ipykernel)",
   "language": "python",
   "name": "python3"
  },
  "language_info": {
   "codemirror_mode": {
    "name": "ipython",
    "version": 3
   },
   "file_extension": ".py",
   "mimetype": "text/x-python",
   "name": "python",
   "nbconvert_exporter": "python",
   "pygments_lexer": "ipython3",
   "version": "3.9.7"
  }
 },
 "nbformat": 4,
 "nbformat_minor": 5
}
