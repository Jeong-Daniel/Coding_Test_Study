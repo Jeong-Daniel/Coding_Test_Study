{
 "cells": [
  {
   "cell_type": "markdown",
   "id": "a1962ff9",
   "metadata": {},
   "source": [
    "### 구슬 탈출 2"
   ]
  },
  {
   "cell_type": "code",
   "execution_count": 5,
   "id": "eaa8973a",
   "metadata": {
    "scrolled": true
   },
   "outputs": [
    {
     "name": "stdout",
     "output_type": "stream",
     "text": [
      "5 5\n",
      "#####\n"
     ]
    },
    {
     "ename": "IndexError",
     "evalue": "list index out of range",
     "output_type": "error",
     "traceback": [
      "\u001b[1;31m---------------------------------------------------------------------------\u001b[0m",
      "\u001b[1;31mIndexError\u001b[0m                                Traceback (most recent call last)",
      "\u001b[1;32m~\\AppData\\Local\\Temp/ipykernel_22372/2462501123.py\u001b[0m in \u001b[0;36m<module>\u001b[1;34m\u001b[0m\n\u001b[0;32m     11\u001b[0m     \u001b[0mmap_list\u001b[0m\u001b[1;33m.\u001b[0m\u001b[0mappend\u001b[0m\u001b[1;33m(\u001b[0m\u001b[0mlist\u001b[0m\u001b[1;33m(\u001b[0m\u001b[0mmap\u001b[0m\u001b[1;33m(\u001b[0m\u001b[0mstr\u001b[0m\u001b[1;33m,\u001b[0m\u001b[0minput\u001b[0m\u001b[1;33m(\u001b[0m\u001b[1;33m)\u001b[0m\u001b[1;33m.\u001b[0m\u001b[0msplit\u001b[0m\u001b[1;33m(\u001b[0m\u001b[1;33m)\u001b[0m\u001b[1;33m)\u001b[0m\u001b[1;33m)\u001b[0m\u001b[1;33m)\u001b[0m\u001b[1;33m\u001b[0m\u001b[1;33m\u001b[0m\u001b[0m\n\u001b[0;32m     12\u001b[0m     \u001b[1;32mfor\u001b[0m \u001b[0mj\u001b[0m \u001b[1;32min\u001b[0m \u001b[0mrange\u001b[0m\u001b[1;33m(\u001b[0m\u001b[0mm\u001b[0m\u001b[1;33m)\u001b[0m\u001b[1;33m:\u001b[0m\u001b[1;33m\u001b[0m\u001b[1;33m\u001b[0m\u001b[0m\n\u001b[1;32m---> 13\u001b[1;33m         \u001b[1;32mif\u001b[0m \u001b[0mmap_list\u001b[0m\u001b[1;33m[\u001b[0m\u001b[0mi\u001b[0m\u001b[1;33m]\u001b[0m\u001b[1;33m[\u001b[0m\u001b[0mj\u001b[0m\u001b[1;33m]\u001b[0m\u001b[1;33m==\u001b[0m\u001b[1;34m'O'\u001b[0m\u001b[1;33m:\u001b[0m\u001b[1;33m\u001b[0m\u001b[1;33m\u001b[0m\u001b[0m\n\u001b[0m\u001b[0;32m     14\u001b[0m             \u001b[0mO_loc_x\u001b[0m\u001b[1;33m,\u001b[0m \u001b[0mO_loc_y\u001b[0m \u001b[1;33m=\u001b[0m \u001b[0mi\u001b[0m\u001b[1;33m,\u001b[0m\u001b[0mj\u001b[0m\u001b[1;33m\u001b[0m\u001b[1;33m\u001b[0m\u001b[0m\n\u001b[0;32m     15\u001b[0m         \u001b[1;32melif\u001b[0m \u001b[0mmap_list\u001b[0m\u001b[1;33m[\u001b[0m\u001b[0mi\u001b[0m\u001b[1;33m]\u001b[0m\u001b[1;33m[\u001b[0m\u001b[0mj\u001b[0m\u001b[1;33m]\u001b[0m\u001b[1;33m==\u001b[0m\u001b[1;34m'B'\u001b[0m\u001b[1;33m:\u001b[0m\u001b[1;33m\u001b[0m\u001b[1;33m\u001b[0m\u001b[0m\n",
      "\u001b[1;31mIndexError\u001b[0m: list index out of range"
     ]
    }
   ],
   "source": [
    "n, m = map(int,input().split())\n",
    "map_list = []\n",
    "O_loc_x = 0\n",
    "O_loc_y = 0\n",
    "R_loc_x = 0\n",
    "R_loc_y = 0\n",
    "B_loc_x = 0\n",
    "B_loc_y = 0\n",
    "\n",
    "for i in range(n):\n",
    "    map_list.append(list(map(str,input().split())))\n",
    "    for j in range(m):\n",
    "        if map_list[i][j]=='O':\n",
    "            O_loc_x, O_loc_y = i,j\n",
    "        elif map_list[i][j]=='B':\n",
    "            B_loc_x, B_loc_y = i,j\n",
    "        elif map_list[i][j]=='R':\n",
    "            R_loc_x, R_loc_y = i,j \n",
    "        else:\n",
    "            continue"
   ]
  },
  {
   "cell_type": "code",
   "execution_count": 15,
   "id": "8e722288",
   "metadata": {},
   "outputs": [
    {
     "data": {
      "text/plain": [
       "['#####']"
      ]
     },
     "execution_count": 15,
     "metadata": {},
     "output_type": "execute_result"
    }
   ],
   "source": [
    "map_list[0]"
   ]
  },
  {
   "cell_type": "code",
   "execution_count": null,
   "id": "7ed5165f",
   "metadata": {},
   "outputs": [],
   "source": [
    "#include <iostream>\n",
    "#include <queue>\n",
    "#include <algorithm>\n",
    "using namespace std;\n",
    "struct INFO{\n",
    "    int ry,rx,by,bx,count;\n",
    "};\n",
    " \n",
    "INFO start;\n",
    "char map[11][11];\n",
    " \n",
    "int bfs(){\n",
    "    const int dy[4]={-1,1,0,0};\n",
    "    const int dx[4]={0,0,-1,1};\n",
    "    int ret=-1;\n",
    "    int visited[10][10][10][10]={0,};\n",
    "    queue<INFO> q;\n",
    "    q.push(start);\n",
    "    visited[start.ry][start.rx][start.by][start.bx]=1;\n",
    "    while(!q.empty()){\n",
    "        INFO cur = q.front();\n",
    "        q.pop();\n",
    "        if(cur.count>10) break;\n",
    "        if(map[cur.ry][cur.rx]=='O' && map[cur.by][cur.bx]!='O') {//최적값찾은경우\n",
    "            ret = cur.count;\n",
    "            break;\n",
    "        }\n",
    " \n",
    "        for(int dir=0; dir<4; dir++){\n",
    "            int next_ry = cur.ry;\n",
    "            int next_rx = cur.rx;\n",
    "            int next_by = cur.by;\n",
    "            int next_bx = cur.bx;\n",
    " \n",
    "            while (1) {\n",
    "                if (map[next_ry][next_rx] != '#' && map[next_ry][next_rx] != 'O') {\n",
    "                    next_ry += dy[dir], next_rx += dx[dir];\n",
    "                }\n",
    "                else {\n",
    "                    if (map[next_ry][next_rx] == '#') {\n",
    "                        next_ry -= dy[dir], next_rx -= dx[dir];\n",
    "                    }\n",
    "                    break;\n",
    "                }\n",
    "            }\n",
    " \n",
    "            while (1) {\n",
    "                if (map[next_by][next_bx] != '#' && map[next_by][next_bx] != 'O') {\n",
    "                    next_by += dy[dir], next_bx += dx[dir];\n",
    "                }\n",
    "                else {\n",
    "                    if (map[next_by][next_bx] == '#') {\n",
    "                        next_by -= dy[dir], next_bx -= dx[dir];\n",
    "                    }\n",
    "                    break;\n",
    "                }\n",
    "            }\n",
    " \n",
    " \n",
    "            if(next_rx==next_bx && next_ry==next_by){ //같은위치일때 처리.\n",
    "                if(map[next_ry][next_rx]!='O'){ //구멍에 동시에 빠지면 -1 return 하면됨.\n",
    "                    int red_dist = abs(next_ry - cur.ry)+abs(next_rx-cur.rx);\n",
    "                    int blue_dist = abs(next_by - cur.by)+abs(next_bx-cur.bx);\n",
    "                    if(red_dist>blue_dist){\n",
    "                            next_ry-=dy[dir];\n",
    "                            next_rx-=dx[dir];\n",
    "                    }\n",
    "                    else{\n",
    "                            next_by-=dy[dir];\n",
    "                            next_bx-=dx[dir];\n",
    "                    }\n",
    "                }\n",
    "            }\n",
    "            if(visited[next_ry][next_rx][next_by][next_bx]==0){\n",
    "                visited[next_ry][next_rx][next_by][next_bx]=1;\n",
    "                INFO next;\n",
    "                next.ry = next_ry;\n",
    "                next.rx = next_rx;\n",
    "                next.by = next_by;\n",
    "                next.bx = next_bx;\n",
    "                next.count = cur.count+1;\n",
    "                q.push(next);\n",
    "            }\n",
    "        }\n",
    " \n",
    "    }\n",
    "    return ret;\n",
    "}\n",
    " \n",
    "int main(){\n",
    "    int n,m;\n",
    "    cin>>n>>m;\n",
    "    for(int i=0; i<n;i++)\n",
    "        cin>>map[i];\n",
    "    for(int i=0; i<n;i++){\n",
    "        for(int j=0; j<m; j++){\n",
    "            if(map[i][j]=='R'){\n",
    "                start.ry = i;\n",
    "                start.rx = j;\n",
    "            }\n",
    "            if(map[i][j]=='B'){\n",
    "                start.by=i;\n",
    "                start.bx=j;\n",
    "            }\n",
    "        }\n",
    "    }\n",
    "    start.count=0;\n",
    "    cout<<bfs();\n",
    "}\n"
   ]
  }
 ],
 "metadata": {
  "kernelspec": {
   "display_name": "Python 3 (ipykernel)",
   "language": "python",
   "name": "python3"
  },
  "language_info": {
   "codemirror_mode": {
    "name": "ipython",
    "version": 3
   },
   "file_extension": ".py",
   "mimetype": "text/x-python",
   "name": "python",
   "nbconvert_exporter": "python",
   "pygments_lexer": "ipython3",
   "version": "3.9.7"
  }
 },
 "nbformat": 4,
 "nbformat_minor": 5
}
