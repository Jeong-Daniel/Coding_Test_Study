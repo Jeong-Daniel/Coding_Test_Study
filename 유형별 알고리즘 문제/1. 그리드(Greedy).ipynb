{
 "cells": [
  {
   "cell_type": "markdown",
   "id": "9fffdcf9",
   "metadata": {},
   "source": [
    "### 1. 모험가 길드"
   ]
  },
  {
   "cell_type": "code",
   "execution_count": 22,
   "id": "57bdbd1f",
   "metadata": {},
   "outputs": [
    {
     "name": "stdout",
     "output_type": "stream",
     "text": [
      "5\n",
      "2 3 2 2 1\n"
     ]
    }
   ],
   "source": [
    "num = int(input())\n",
    "member = list(map(int, input().split()))"
   ]
  },
  {
   "cell_type": "code",
   "execution_count": 23,
   "id": "00332967",
   "metadata": {},
   "outputs": [],
   "source": [
    "member.sort()"
   ]
  },
  {
   "cell_type": "code",
   "execution_count": 25,
   "id": "378dadea",
   "metadata": {},
   "outputs": [],
   "source": [
    "result = 0\n",
    "#그룹의 수\n",
    "count = 0\n",
    "#현재 그룹에 포함된 모험가의 수"
   ]
  },
  {
   "cell_type": "code",
   "execution_count": 27,
   "id": "f5a731f3",
   "metadata": {},
   "outputs": [
    {
     "name": "stdout",
     "output_type": "stream",
     "text": [
      "2\n"
     ]
    }
   ],
   "source": [
    "for i in member:\n",
    "    #공포도를 낮은 것부터 하나씩 확인\n",
    "    count += 1\n",
    "    if count >= i: #현재 그룹에 포함된 모험가의 수가 현재의 공포도 이상이라면 그룹 결성\n",
    "        result += 1 #총 그룹의 수 증가시키기\n",
    "        count = 0 #현재 그룹에 포함된 모험가의 수 초기화\n",
    "print(result)"
   ]
  },
  {
   "cell_type": "code",
   "execution_count": 28,
   "id": "fd352e86",
   "metadata": {},
   "outputs": [
    {
     "name": "stdout",
     "output_type": "stream",
     "text": [
      "1\n",
      "2\n",
      "2\n",
      "2\n",
      "3\n"
     ]
    }
   ],
   "source": [
    "for i in member:\n",
    "    print(i)"
   ]
  },
  {
   "cell_type": "markdown",
   "id": "982b765a",
   "metadata": {},
   "source": [
    "### 2. 문자열 뒤집기"
   ]
  },
  {
   "cell_type": "code",
   "execution_count": 36,
   "id": "9e25425c",
   "metadata": {},
   "outputs": [
    {
     "name": "stdout",
     "output_type": "stream",
     "text": [
      "0001100\n",
      "1\n"
     ]
    }
   ],
   "source": [
    "data = input()\n",
    "count0 = 0\n",
    "count1 = 1\n",
    "#전부 0 또는 1로 바꾸는 경우를 계산하기 위함\n",
    "\n",
    "if data[0]=='1':\n",
    "    count0 += 1\n",
    "else:\n",
    "    count1 +=1\n",
    "    \n",
    "#두번째 원소부터 모든 원소를 확인하며\n",
    "for i in range(len(data)-1):\n",
    "    if data[i] != data[i+1]:\n",
    "        #다음 수에서 1로 바뀌는 경우\n",
    "        if data[i+1] == '1':\n",
    "            count0 += 1\n",
    "        #다음 수에서 0으로 바뀌는 경우\n",
    "        else:\n",
    "            count1 += 1\n",
    "\n",
    "print(min(count0,count1))"
   ]
  },
  {
   "cell_type": "code",
   "execution_count": 34,
   "id": "8e066952",
   "metadata": {},
   "outputs": [
    {
     "data": {
      "text/plain": [
       "1"
      ]
     },
     "execution_count": 34,
     "metadata": {},
     "output_type": "execute_result"
    }
   ],
   "source": [
    "num_list[3]"
   ]
  },
  {
   "cell_type": "code",
   "execution_count": null,
   "id": "14ee2c47",
   "metadata": {},
   "outputs": [],
   "source": []
  }
 ],
 "metadata": {
  "kernelspec": {
   "display_name": "Python 3 (ipykernel)",
   "language": "python",
   "name": "python3"
  },
  "language_info": {
   "codemirror_mode": {
    "name": "ipython",
    "version": 3
   },
   "file_extension": ".py",
   "mimetype": "text/x-python",
   "name": "python",
   "nbconvert_exporter": "python",
   "pygments_lexer": "ipython3",
   "version": "3.9.7"
  }
 },
 "nbformat": 4,
 "nbformat_minor": 5
}
