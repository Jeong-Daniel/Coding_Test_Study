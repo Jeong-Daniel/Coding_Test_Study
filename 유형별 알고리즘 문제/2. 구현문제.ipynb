{
 "cells": [
  {
   "cell_type": "markdown",
   "id": "039298f3",
   "metadata": {},
   "source": [
    "### 07 럭키 스트레이트"
   ]
  },
  {
   "cell_type": "code",
   "execution_count": 25,
   "id": "8e6356e8",
   "metadata": {},
   "outputs": [
    {
     "name": "stdout",
     "output_type": "stream",
     "text": [
      "7755\n"
     ]
    }
   ],
   "source": [
    "a = input()"
   ]
  },
  {
   "cell_type": "code",
   "execution_count": 26,
   "id": "a7fd0434",
   "metadata": {},
   "outputs": [],
   "source": [
    "length = int(len(a)/2)"
   ]
  },
  {
   "cell_type": "code",
   "execution_count": 27,
   "id": "133974a3",
   "metadata": {},
   "outputs": [],
   "source": [
    "left = a[0:length]\n",
    "right = a[length:]"
   ]
  },
  {
   "cell_type": "code",
   "execution_count": 28,
   "id": "82b31163",
   "metadata": {},
   "outputs": [
    {
     "name": "stdout",
     "output_type": "stream",
     "text": [
      "READY\n"
     ]
    }
   ],
   "source": [
    "left_sum=0\n",
    "right_sum=0\n",
    "\n",
    "for i in range(length):\n",
    "    left_sum += int(left[i])\n",
    "    right_sum += int(right[i])\n",
    "    \n",
    "if left_sum==right_sum:\n",
    "    print(\"LUCKY\")\n",
    "else:\n",
    "    print(\"READY\")"
   ]
  },
  {
   "cell_type": "markdown",
   "id": "36984bc2",
   "metadata": {},
   "source": [
    "### 08 문자열 재정렬"
   ]
  },
  {
   "cell_type": "code",
   "execution_count": 102,
   "id": "836ac373",
   "metadata": {
    "scrolled": true
   },
   "outputs": [
    {
     "name": "stdout",
     "output_type": "stream",
     "text": [
      "AJKDLSI412K4JSJ9D\n"
     ]
    }
   ],
   "source": [
    "a = input()"
   ]
  },
  {
   "cell_type": "code",
   "execution_count": 108,
   "id": "bcbfa210",
   "metadata": {
    "scrolled": true
   },
   "outputs": [],
   "source": [
    "num_list = ['0','1','2','3','4','5','6','7','8','9']"
   ]
  },
  {
   "cell_type": "code",
   "execution_count": 113,
   "id": "477b0a97",
   "metadata": {
    "scrolled": true
   },
   "outputs": [],
   "source": [
    "new_list=[]\n",
    "sum_list=[]\n",
    "\n",
    "for index,value in enumerate(a):\n",
    "    if value not in num_list:\n",
    "        new_list.append(value)\n",
    "    else:\n",
    "        sum_list.append(int(value))\n",
    "\n",
    "new_list.sort()\n",
    "new_list = ''.join(new_list)\n",
    "new_list+=str(sum(sum_list))"
   ]
  },
  {
   "cell_type": "code",
   "execution_count": 114,
   "id": "1a24ece7",
   "metadata": {},
   "outputs": [
    {
     "data": {
      "text/plain": [
       "'ADDIJJJKKLSS20'"
      ]
     },
     "execution_count": 114,
     "metadata": {},
     "output_type": "execute_result"
    }
   ],
   "source": [
    "new_list"
   ]
  },
  {
   "cell_type": "markdown",
   "id": "43031981",
   "metadata": {},
   "source": [
    "### 09 문자열 압축"
   ]
  },
  {
   "cell_type": "code",
   "execution_count": 10,
   "id": "01c8d485",
   "metadata": {},
   "outputs": [],
   "source": [
    "#a = input()\n",
    "a = \"aabbaccc\""
   ]
  },
  {
   "cell_type": "code",
   "execution_count": 11,
   "id": "fc8284c7",
   "metadata": {},
   "outputs": [],
   "source": [
    "lenght = int(len(a)/2)"
   ]
  },
  {
   "cell_type": "markdown",
   "id": "ab21fb8c",
   "metadata": {},
   "source": [
    "일단 먼저 글자수를 나누어야 할거 같다."
   ]
  },
  {
   "cell_type": "code",
   "execution_count": 45,
   "id": "7a35e577",
   "metadata": {},
   "outputs": [
    {
     "data": {
      "text/plain": [
       "'aabbaccc'"
      ]
     },
     "execution_count": 45,
     "metadata": {},
     "output_type": "execute_result"
    }
   ],
   "source": [
    "a"
   ]
  },
  {
   "cell_type": "code",
   "execution_count": 49,
   "id": "357c47d5",
   "metadata": {},
   "outputs": [],
   "source": [
    "my_list = []\n",
    "for i in range(len(a)):\n",
    "    my_list.append([a[i],a[i],1])"
   ]
  },
  {
   "cell_type": "code",
   "execution_count": 50,
   "id": "d6364d0c",
   "metadata": {
    "scrolled": true
   },
   "outputs": [
    {
     "data": {
      "text/plain": [
       "[['a', 'a', 1],\n",
       " ['a', 'a', 1],\n",
       " ['b', 'b', 1],\n",
       " ['b', 'b', 1],\n",
       " ['a', 'a', 1],\n",
       " ['c', 'c', 1],\n",
       " ['c', 'c', 1],\n",
       " ['c', 'c', 1]]"
      ]
     },
     "execution_count": 50,
     "metadata": {},
     "output_type": "execute_result"
    }
   ],
   "source": [
    "my_list"
   ]
  },
  {
   "cell_type": "code",
   "execution_count": null,
   "id": "2631211c",
   "metadata": {},
   "outputs": [],
   "source": [
    "def parent_union(a,b):\n",
    "    if a[1]==b[1]:\n",
    "        "
   ]
  },
  {
   "cell_type": "code",
   "execution_count": 131,
   "id": "cb4d8abc",
   "metadata": {
    "scrolled": true
   },
   "outputs": [],
   "source": [
    "my_list = []\n",
    "short = 99999\n",
    "for i in range(lenght):\n",
    "    while()\n",
    "    my_list.append(a[])\n",
    "\n",
    "print(short)"
   ]
  },
  {
   "cell_type": "code",
   "execution_count": 8,
   "id": "de89f7a7",
   "metadata": {},
   "outputs": [
    {
     "data": {
      "text/plain": [
       "[[1, 1, 1]]"
      ]
     },
     "execution_count": 8,
     "metadata": {},
     "output_type": "execute_result"
    }
   ],
   "source": [
    "my_list"
   ]
  },
  {
   "cell_type": "code",
   "execution_count": 127,
   "id": "f3f55033",
   "metadata": {},
   "outputs": [
    {
     "data": {
      "text/plain": [
       "'abac'"
      ]
     },
     "execution_count": 127,
     "metadata": {},
     "output_type": "execute_result"
    }
   ],
   "source": [
    "a[::2]"
   ]
  },
  {
   "cell_type": "code",
   "execution_count": null,
   "id": "c8df1e15",
   "metadata": {},
   "outputs": [],
   "source": [
    "def solution(s):\n",
    "    answer = len(s)\n",
    "    #ㅂ개 단위(step)부터 압축 단위를 늘려가며 확인\n",
    "    for step in range(1, len(s)//2+1):\n",
    "        compressed = \"\"\n",
    "        prev = s[0:step] #앞에서부터 step만큼의 문자열 추출\n",
    "        count = 1\n",
    "        #단위(step) 크기만큼 증가시키며 이전 문자열과 비교\n",
    "        for j in range(step, len(s), step):\n",
    "            #이전 상태와 동일하다면 압축 횟수(count) 증가\n",
    "            if prev == s[j:j+step]:\n",
    "                count += 1\n",
    "            #다른 문자열이 나왔다면(더이상 압축하지 못한다면)\n",
    "            else:\n",
    "                compressed += str(count) + prev if count >=2 else prev\n",
    "                prev =s[j:j+step] #다시 상태 초기화\n",
    "                count = 1\n",
    "        #남아 있는 문자열에 대해서 처리\n",
    "        compressed += str(count) + prev if count >=2 else prev\n",
    "        #만들어지는 압축 문자열이 가장 짧은 것이 정답\n",
    "        answer = min(answer, len(compressed))\n",
    "    return answer"
   ]
  },
  {
   "cell_type": "markdown",
   "id": "23874d35",
   "metadata": {},
   "source": [
    "### 10 자물쇠와 열쇠"
   ]
  },
  {
   "cell_type": "code",
   "execution_count": 1,
   "id": "0daba8c6",
   "metadata": {},
   "outputs": [],
   "source": [
    "def rotate_a_matrix_by_90_degree(a):\n",
    "    n = len(a) #행 길이\n",
    "    m = len(a[0]) #열 길이\n",
    "    result = [[0]*n for _ in range(m)] #결과 리스트\n",
    "    for i in range(n):\n",
    "        for j in range(m):\n",
    "            result[j][n-i-1] = a[i][j]\n",
    "    return result\n",
    "\n",
    "#자물쇠의 중간 부분이 모두 1인지 확인\n",
    "def check(new_lock):\n",
    "    lock_length = len(new_lock)//3\n",
    "    for i in range(lock_length, lock_length*2):\n",
    "        for j in range(lock_length, lock_length*2):\n",
    "            if new_lock[i][j] != 1:\n",
    "                return False\n",
    "    return True\n",
    "\n",
    "def solution(key, lock):\n",
    "    n = len(lock)\n",
    "    m = len(lock[0])\n",
    "    #자물쇠의 크기를 기준의 3배로 변환\n",
    "    new_lock = [[0]*(n*3) for _ in range(n*3)]\n",
    "    #새로운 자물쇠의 중앙 부분에 기존의 자물쇠 넣기\n",
    "    for i in range(n):\n",
    "        for j in range(m):\n",
    "            new_lock[i+n][j+m] = lock[i][j]\n",
    "    \n",
    "    #4가지 방향에 대해서 확인\n",
    "    for rotation in range(4):\n",
    "        key = rotate_a_matrix_by_90_degree(key)#열쇠 회전\n",
    "        for x in range(n*2):\n",
    "            for y in range(n*2):\n",
    "                #자물쇠에 열쇠를 끼워 넣기\n",
    "                for i in range(m):\n",
    "                    for j in range(m):\n",
    "                        new_lock[x+i][y+j] += key[i][j]\n",
    "                #새로운 자물쇠에 열쇠가 정확히 들어맞는지 검사\n",
    "                if check(new_lock) == True:\n",
    "                    return True\n",
    "                #자물쇠에서 열쇠를 다시 빼기\n",
    "                for i in range(m):\n",
    "                    for j in range(m):\n",
    "                        new_lock[x+i][y+j] -= key[i][j]\n",
    "    return False"
   ]
  },
  {
   "cell_type": "markdown",
   "id": "786aa236",
   "metadata": {},
   "source": [
    "### 11. 뱀"
   ]
  },
  {
   "cell_type": "code",
   "execution_count": 7,
   "id": "239e5e6f",
   "metadata": {},
   "outputs": [
    {
     "name": "stdout",
     "output_type": "stream",
     "text": [
      "6\n",
      "3\n",
      "3 4\n",
      "2 5\n",
      "5 3\n",
      "3\n",
      "3 D\n",
      "15 L\n",
      "17 D\n",
      "9\n"
     ]
    }
   ],
   "source": [
    "n = int(input())\n",
    "k = int(input())\n",
    "data = [[0]*(n+1) for _ in range(n+1)] #맵 정보 입력\n",
    "info = [] #방향 회전 정보\n",
    "\n",
    "#맵 정보(사과는 1 뱀은 2 나머지 0)\n",
    "for _ in range(k):\n",
    "    a, b = map(int,input().split())\n",
    "    data[a][b] = 1\n",
    "    \n",
    "#방향 회전 정보 입력\n",
    "l = int(input())\n",
    "for _ in range(l):\n",
    "    x, c = input().split()\n",
    "    info.append((int(x), c))\n",
    "    \n",
    "#처음에는 오른쪽을 보고 있으므로(동,남,서,북)\n",
    "dx = [0,1,0,-1]\n",
    "dy = [1,0,-1,0]\n",
    "\n",
    "def turn(direction, c):\n",
    "    if c == 'L':\n",
    "        direction = (direction - 1)%4\n",
    "    else:\n",
    "        direction = (direction + 1)%4\n",
    "    return direction\n",
    "\n",
    "def simulate():\n",
    "    x, y = 1, 1 #뱀의 머리 위치\n",
    "    data[x][y] = 2 #뱀이 존재하는 위치는 2로 표시\n",
    "    direction = 0 #처음에는 동쪽을 보고 있음\n",
    "    time = 0 #시작한 뒤에 지난 '초' 시간\n",
    "    index = 0 #다음에 회전할 정보\n",
    "    q = [(x,y)] #뱀이 차지하고 있는 위치 정보(꼬리가 앞쪽)\n",
    "    while True:\n",
    "        nx = x + dx[direction]\n",
    "        ny = y + dy[direction]\n",
    "        \n",
    "        #맵 범위 안에 있고, 뱀의 몸통이 없는 위치라면\n",
    "        if 1 <= nx and nx <= n and 1 <= ny and ny <= n and data[nx][ny] !=2:\n",
    "            #사과가 없다면 이동 후에 꼬리 제거\n",
    "            if data[nx][ny] == 0:\n",
    "                data[nx][ny] = 2\n",
    "                q.append((nx,ny))\n",
    "                px,py = q.pop(0)\n",
    "                data[px][py] = 0\n",
    "            #사과가 있다면 이동 후에 꼬리 두기\n",
    "            if data[nx][ny] == 1:\n",
    "                data[nx][ny]=2\n",
    "                q.append((nx,ny))\n",
    "       #벽이나 뱀의 모통과 부딪혔다면\n",
    "        else:\n",
    "            time += 1\n",
    "            break\n",
    "        x, y = nx, ny #다음 위치로 이동\n",
    "        time += 1\n",
    "        if index < l and time == info[index][0]: #회전할 시간인 경우 회전\n",
    "            direction = turn(direction, info[index][1])\n",
    "            index += 1\n",
    "    return time\n",
    "\n",
    "print(simulate())"
   ]
  },
  {
   "cell_type": "code",
   "execution_count": 8,
   "id": "2abe8e9f",
   "metadata": {},
   "outputs": [
    {
     "name": "stdout",
     "output_type": "stream",
     "text": [
      "6\n",
      "3\n",
      "3 4\n",
      "2 5\n",
      "5 3\n",
      "3\n",
      "3 D\n",
      "15 L\n",
      "17 D\n"
     ]
    },
    {
     "data": {
      "text/plain": [
       "9"
      ]
     },
     "execution_count": 8,
     "metadata": {},
     "output_type": "execute_result"
    }
   ],
   "source": [
    "n = int(input())\n",
    "k = int(input())\n",
    "data = [[0]*(n+1) for _ in range(n+1)] #맵 정보 입력\n",
    "info = [] #방향 회전 정보\n",
    "\n",
    "#맵 정보(사과는 1 뱀은 2 나머지 0)\n",
    "for _ in range(k):\n",
    "    a, b = map(int,input().split())\n",
    "    data[a][b] = 1\n",
    "    \n",
    "#방향 회전 정보 입력\n",
    "l = int(input())\n",
    "for _ in range(l):\n",
    "    x, c = input().split()\n",
    "    info.append((int(x), c))\n",
    "    \n",
    "#처음에는 오른쪽을 보고 있으므로(동,남,서,북)\n",
    "dx = [0,1,0,-1]\n",
    "dy = [1,0,-1,0]\n",
    "\n",
    "def turn(direction, c):\n",
    "    if c == 'L':\n",
    "        direction = (direction - 1)%4\n",
    "    else:\n",
    "        direction = (direction + 1)%4\n",
    "    return direction\n",
    "\n",
    "def simulate():\n",
    "    x, y = 1, 1 #뱀의 머리 위치\n",
    "    data[x][y] = 2 #뱀이 존재하는 위치는 2로 표시\n",
    "    direction = 0 #처음에는 동쪽을 보고 있음\n",
    "    time = 0 #시작한 뒤에 지난 '초' 시간\n",
    "    index = 0 #다음에 회전할 정보\n",
    "    q = [(x,y)] #뱀이 차지하고 있는 위치 정보(꼬리가 앞쪽)\n",
    "    while True:\n",
    "        nx = x + dx[direction]\n",
    "        ny = y + dy[direction]\n",
    "        \n",
    "        #맵 범위 안에 있고, 뱀의 몸통이 없는 위치라면\n",
    "        if 1 <= nx and nx <= n and 1 <= ny and ny <= n and data[nx][ny] !=2:\n",
    "            #사과가 없다면 이동 후에 꼬리 제거\n",
    "            if data[nx][ny] == 0:\n",
    "                data[nx][ny] = 2\n",
    "                q.append((nx,ny))\n",
    "                px,py = q.pop()\n",
    "                data[px][py] = 0\n",
    "            #사과가 있다면 이동 후에 꼬리 두기\n",
    "            if data[nx][ny] == 1:\n",
    "                data[nx][ny]=2\n",
    "                q.append((nx,ny))\n",
    "       #벽이나 뱀의 모통과 부딪혔다면\n",
    "        else:\n",
    "            time += 1\n",
    "            break\n",
    "        x, y = nx, ny #다음 위치로 이동\n",
    "        time += 1\n",
    "        if index < l and time == info[index][0]: #회전할 시간인 경우 회전\n",
    "            direction = turn(direction, info[index][1])\n",
    "            index += 1\n",
    "    return time\n",
    "\n",
    "simulate()"
   ]
  },
  {
   "cell_type": "code",
   "execution_count": 18,
   "id": "c0a72950",
   "metadata": {},
   "outputs": [
    {
     "data": {
      "text/plain": [
       "[(3, 'D'), (15, 'L'), (17, 'D')]"
      ]
     },
     "execution_count": 18,
     "metadata": {},
     "output_type": "execute_result"
    }
   ],
   "source": [
    "info"
   ]
  },
  {
   "cell_type": "markdown",
   "id": "e2120972",
   "metadata": {},
   "source": [
    "### 기둥과 보 설치"
   ]
  },
  {
   "cell_type": "code",
   "execution_count": 41,
   "id": "5324893f",
   "metadata": {},
   "outputs": [],
   "source": [
    "#현재 설치된 구조물이 '가능한' 구조물인지 확인하는 함수\n",
    "def possible(answer):\n",
    "    for x, y, stuff in answer:\n",
    "        if stuff == 0:\n",
    "        #설치된 것이 '기둥'인 경우\n",
    "            #'바닥 위' 혹은 '보의 한쪽 끝 부분 위' 혹은 '다른 기둥 위' 라면 정상\n",
    "            if y == 0 or [x-1,y,1] in answer or [x,y,1] in answer or [x,y-1,0] in answer:\n",
    "                continue\n",
    "            return False #아니라면 거짓 반환\n",
    "        elif stuff == 1:\n",
    "        #설치된 것이 '보'인 경우\n",
    "        #한쪽 끝 부분이 기둥위 혹은 양쪽 끝부분이 다른 보와 동시에 연결된다면 정상\n",
    "            if ([x,y-1,0] in answer) or ([x+1, y-1, 0] in answer) or (([x-1,y,1] in answer) and ([x+1, y, 1] in answer)):\n",
    "                continue\n",
    "            return False #아니라면 거짓반환\n",
    "    return True"
   ]
  },
  {
   "cell_type": "code",
   "execution_count": 42,
   "id": "2b006c4a",
   "metadata": {},
   "outputs": [],
   "source": [
    "def solution(n, build_frame):\n",
    "    answer = []\n",
    "    for frame in build_frame:\n",
    "        x, y , stuff, operate = frame\n",
    "        if operate == 0: #삭제하는 경우\n",
    "            answer.remove([x,y,stuff]) #일단 삭제를 해본 뒤에\n",
    "            if not possible(answer):\n",
    "                answer.append([x,y,stuff])\n",
    "        if operate == 1: #설치하는 경우\n",
    "            answer.append([x,y,stuff])\n",
    "            if not possible(answer):\n",
    "                answer.remove([x,y,stuff])\n",
    "    return sorted(answer)"
   ]
  },
  {
   "cell_type": "markdown",
   "id": "2cbcf28f",
   "metadata": {},
   "source": [
    "### 치킨배달"
   ]
  },
  {
   "cell_type": "code",
   "execution_count": 113,
   "id": "01dd482b",
   "metadata": {
    "scrolled": false
   },
   "outputs": [
    {
     "name": "stdout",
     "output_type": "stream",
     "text": [
      "5 3\n"
     ]
    }
   ],
   "source": [
    "n, m = map(int,input().split())"
   ]
  },
  {
   "cell_type": "code",
   "execution_count": 114,
   "id": "2e8edd78",
   "metadata": {},
   "outputs": [
    {
     "name": "stdout",
     "output_type": "stream",
     "text": [
      "0 0 1 0 0\n",
      "0 0 2 0 1\n",
      "0 1 2 0 0\n",
      "0 0 1 0 0\n",
      "0 0 0 0 2\n"
     ]
    }
   ],
   "source": [
    "ch_map = []\n",
    "for i in range(n):\n",
    "    ch_map.append(list(map(int, input().split())))"
   ]
  },
  {
   "cell_type": "code",
   "execution_count": 115,
   "id": "42d3e373",
   "metadata": {},
   "outputs": [],
   "source": [
    "house_list = []\n",
    "ch_list = []\n",
    "for i in range(n):\n",
    "    for j in range(n):\n",
    "        if ch_map[i][j]==1:\n",
    "            house_list.append([i,j])\n",
    "        elif ch_map[i][j]==2:\n",
    "            ch_list.append([i,j])\n",
    "        else:\n",
    "            continue"
   ]
  },
  {
   "cell_type": "code",
   "execution_count": 116,
   "id": "92b93ead",
   "metadata": {},
   "outputs": [
    {
     "data": {
      "text/plain": [
       "[[0, 2], [1, 4], [2, 1], [3, 2]]"
      ]
     },
     "execution_count": 116,
     "metadata": {},
     "output_type": "execute_result"
    }
   ],
   "source": [
    "house_list"
   ]
  },
  {
   "cell_type": "code",
   "execution_count": 117,
   "id": "b15c9965",
   "metadata": {},
   "outputs": [
    {
     "data": {
      "text/plain": [
       "[[1, 2], [2, 2], [4, 4]]"
      ]
     },
     "execution_count": 117,
     "metadata": {},
     "output_type": "execute_result"
    }
   ],
   "source": [
    "ch_list"
   ]
  },
  {
   "cell_type": "code",
   "execution_count": 118,
   "id": "4613248b",
   "metadata": {},
   "outputs": [],
   "source": [
    "#두 거리를 구하는 함수\n",
    "def dist(a,b):\n",
    "    distn = abs(a[0]-b[0]) + abs(a[1]-b[1]) \n",
    "    return distn"
   ]
  },
  {
   "cell_type": "code",
   "execution_count": 119,
   "id": "2cefa80e",
   "metadata": {},
   "outputs": [],
   "source": [
    "count = 0\n",
    "jumpo = [[]*x for x in range(len(ch_list))]\n",
    "for i in range(len(ch_list)):\n",
    "    for j in range(len(house_list)):\n",
    "        jumpo[i].append(dist(ch_list[i],house_list[j]))"
   ]
  },
  {
   "cell_type": "code",
   "execution_count": 120,
   "id": "47b3284d",
   "metadata": {
    "scrolled": true
   },
   "outputs": [
    {
     "data": {
      "text/plain": [
       "[[1, 2, 2, 2], [2, 3, 1, 1], [6, 3, 5, 3]]"
      ]
     },
     "execution_count": 120,
     "metadata": {},
     "output_type": "execute_result"
    }
   ],
   "source": [
    "sorted(jumpo, key=lambda x : sum(x))"
   ]
  },
  {
   "cell_type": "code",
   "execution_count": 121,
   "id": "8a19e50c",
   "metadata": {},
   "outputs": [
    {
     "data": {
      "text/plain": [
       "[[1, 2, 2, 2], [2, 3, 1, 1], [6, 3, 5, 3]]"
      ]
     },
     "execution_count": 121,
     "metadata": {},
     "output_type": "execute_result"
    }
   ],
   "source": [
    "jumpo[0:m]"
   ]
  },
  {
   "cell_type": "code",
   "execution_count": 122,
   "id": "faede54f",
   "metadata": {},
   "outputs": [
    {
     "data": {
      "text/plain": [
       "[1, 2, 2, 2]"
      ]
     },
     "execution_count": 122,
     "metadata": {},
     "output_type": "execute_result"
    }
   ],
   "source": [
    "jumpo[0]"
   ]
  },
  {
   "cell_type": "code",
   "execution_count": 123,
   "id": "f7f88305",
   "metadata": {},
   "outputs": [],
   "source": [
    "final_jumpo = []\n",
    "min_num = 99\n",
    "for i in range(len(jumpo[0])):\n",
    "    for j in range(len(jumpo)):\n",
    "        min_num = min(jumpo[j][i],min_num)\n",
    "    final_jumpo.append(min_num)\n",
    "    min_num = 99"
   ]
  },
  {
   "cell_type": "code",
   "execution_count": 124,
   "id": "565b33ea",
   "metadata": {},
   "outputs": [
    {
     "data": {
      "text/plain": [
       "5"
      ]
     },
     "execution_count": 124,
     "metadata": {},
     "output_type": "execute_result"
    }
   ],
   "source": [
    "sum(final_jumpo)"
   ]
  },
  {
   "cell_type": "code",
   "execution_count": 128,
   "id": "fe287253",
   "metadata": {},
   "outputs": [
    {
     "name": "stdout",
     "output_type": "stream",
     "text": [
      "5 1\n",
      "1 2 0 0 0\n",
      "1 2 0 0 0\n",
      "1 2 0 0 0\n",
      "1 2 0 0 0\n",
      "1 2 0 0 0\n",
      "5\n"
     ]
    }
   ],
   "source": [
    "n, m = map(int,input().split())\n",
    "\n",
    "ch_map = []\n",
    "for i in range(n):\n",
    "    ch_map.append(list(map(int, input().split())))\n",
    "    \n",
    "house_list = []\n",
    "ch_list = []\n",
    "for i in range(n):\n",
    "    for j in range(n):\n",
    "        if ch_map[i][j]==1:\n",
    "            house_list.append([i,j])\n",
    "        elif ch_map[i][j]==2:\n",
    "            ch_list.append([i,j])\n",
    "        else:\n",
    "            continue\n",
    "            \n",
    "#두 거리를 구하는 함수\n",
    "def dist(a,b):\n",
    "    distn = abs(a[0]-b[0]) + abs(a[1]-b[1]) \n",
    "    return distn\n",
    "\n",
    "count = 0\n",
    "jumpo = [[]*x for x in range(len(ch_list))]\n",
    "for i in range(len(ch_list)):\n",
    "    for j in range(len(house_list)):\n",
    "        jumpo[i].append(dist(ch_list[i],house_list[j]))\n",
    "\n",
    "sorted(jumpo, key=lambda x : sum(x))\n",
    "jumpo = jumpo[0:m]\n",
    "\n",
    "final_jumpo = []\n",
    "min_num = 99\n",
    "for i in range(len(jumpo[0])):\n",
    "    for j in range(len(jumpo)):\n",
    "        min_num = min(jumpo[j][i],min_num)\n",
    "    final_jumpo.append(min_num)\n",
    "    \n",
    "print(sum(final_jumpo))"
   ]
  },
  {
   "cell_type": "code",
   "execution_count": 1,
   "id": "69c0e30c",
   "metadata": {},
   "outputs": [
    {
     "name": "stdout",
     "output_type": "stream",
     "text": [
      "5 1\n",
      "1 2 0 0 0\n",
      "1 2 0 0 0\n",
      "1 2 0 0 0\n",
      "1 2 0 0 0\n",
      "1 2 0 0 0\n",
      "11\n"
     ]
    }
   ],
   "source": [
    "from itertools import combinations\n",
    "\n",
    "n, m = map(int, input().split())\n",
    "chicken, house  = [], []\n",
    "\n",
    "for r in range(n):\n",
    "    data = list(map(int,input().split()))\n",
    "    for c in range(n):\n",
    "        if data[c]==1:\n",
    "            house.append((r,c)) #일반 집\n",
    "        elif data[c]==2:\n",
    "            chicken.append((r,c)) #치킨 집\n",
    "\n",
    "#모든 치킨집 중에서 m개의 치킨집을 뽑는 조합 계산\n",
    "candidates = list(combinations(chicken,m))\n",
    "\n",
    "#치킨 거리의 합을 계산하는 함수\n",
    "def get_sum(candidate):\n",
    "    result = 0\n",
    "    #모든 집에 대하여\n",
    "    for hx, hy in house:\n",
    "        #가장 가까운 치킨집을 찾기\n",
    "        temp = 1e9\n",
    "        for cx,cy in candidate:\n",
    "            temp = min(temp, abs(hx-cx) + abs(hy-cy))\n",
    "        #가장 가까운 치킨집까지의 거리를 더하기\n",
    "        result += temp\n",
    "    #치킨 거리의 합 반환\n",
    "    return result\n",
    "\n",
    "#치킨 거리의 합의 최소를 찾아 출력\n",
    "result = 1e9\n",
    "for candidate in candidates:\n",
    "    result = min(result,get_sum(candidate))\n",
    "    \n",
    "print(result)"
   ]
  },
  {
   "cell_type": "markdown",
   "id": "6cecd260",
   "metadata": {},
   "source": [
    "### 외벽점검"
   ]
  },
  {
   "cell_type": "code",
   "execution_count": 37,
   "id": "03fad3c7",
   "metadata": {},
   "outputs": [],
   "source": [
    "n = 12\n",
    "weak = [1,5,6,10]\n",
    "dist = [1,2,3,4]"
   ]
  },
  {
   "cell_type": "code",
   "execution_count": 38,
   "id": "e8d658fb",
   "metadata": {},
   "outputs": [],
   "source": [
    "#weak를 다시 정렬\n",
    "new_weak = []\n",
    "for _ in weak:\n",
    "    if _ > (n/2):\n",
    "        temp = int((_%(n/2)) - (n/2))\n",
    "        new_weak.append(temp)\n",
    "    else:\n",
    "        new_weak.append(_)\n",
    "\n",
    "new_weak.sort()"
   ]
  },
  {
   "cell_type": "code",
   "execution_count": 39,
   "id": "04704b6c",
   "metadata": {},
   "outputs": [],
   "source": [
    "if new_weak[0]<0:\n",
    "    count = abs(new_weak[0])\n",
    "    count = [count]*len(new_weak)\n",
    "    new_weak = [new_weak + count]"
   ]
  },
  {
   "cell_type": "code",
   "execution_count": 40,
   "id": "cc7d0471",
   "metadata": {},
   "outputs": [
    {
     "data": {
      "text/plain": [
       "[[-2, 1, 5, 6, 2, 2, 2, 2]]"
      ]
     },
     "execution_count": 40,
     "metadata": {},
     "output_type": "execute_result"
    }
   ],
   "source": [
    "new_weak"
   ]
  },
  {
   "cell_type": "code",
   "execution_count": 41,
   "id": "d16ede0b",
   "metadata": {},
   "outputs": [],
   "source": [
    "def solution(n, weak, dist):\n",
    "    #길이를 두배로 늘려서 '원형'을 일자 형태로 변형\n",
    "    length = len(weak)\n",
    "    for i in range(length):\n",
    "        weak.append(weak[i]+n)\n",
    "    answer = len(dist) + 1\n",
    "    #투입할 친구 수의 최솟값을 찾아야 하므로 len(dist) + 1로 초기화\n",
    "    #0부터 length-1까지의 위치를 각각 시작점으로 설정\n",
    "    for start in range(length):\n",
    "        #친구를 나열하는 모든 경우의 수 각각에 대하여 확인\n",
    "        for friends in list(permutations(dist, len(dist))):\n",
    "            count = 1 #친구를 투입할 수\n",
    "            #해당 친구가 점검할 수 있는 마지막 위치\n",
    "            position = waek[start] + friends[count - 1]\n",
    "            #시작점부터 모든 취약 지점을 확인\n",
    "            for index in range(start, start+length):\n",
    "                #점검할 수 있는 위치를 벗어난 경우\n",
    "                if position < weak[index]:\n",
    "                    count += 1 #새로운 친구를 투입\n",
    "                    if count > len(dist): #더 투입이 불가능 하다면 종료\n",
    "                        break\n",
    "                    position = weak[index] + friends[count - 1]\n",
    "            answer = min(answer, count) #최소값 계산\n",
    "    \n",
    "    if answer > len(dist):\n",
    "        return -1\n",
    "    \n",
    "    return answer"
   ]
  },
  {
   "cell_type": "code",
   "execution_count": null,
   "id": "43d1a481",
   "metadata": {},
   "outputs": [],
   "source": []
  }
 ],
 "metadata": {
  "kernelspec": {
   "display_name": "Python 3 (ipykernel)",
   "language": "python",
   "name": "python3"
  },
  "language_info": {
   "codemirror_mode": {
    "name": "ipython",
    "version": 3
   },
   "file_extension": ".py",
   "mimetype": "text/x-python",
   "name": "python",
   "nbconvert_exporter": "python",
   "pygments_lexer": "ipython3",
   "version": "3.9.7"
  }
 },
 "nbformat": 4,
 "nbformat_minor": 5
}
