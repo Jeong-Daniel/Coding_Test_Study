{
 "cells": [
  {
   "cell_type": "markdown",
   "id": "f4516bf9",
   "metadata": {},
   "source": [
    "## 정렬\n",
    "\n",
    "정렬이란 특정한 기준에 따라서 순서대로 나열하는 것이다. 정렬하는 이유는 검색의 효율성 때문인데 대표적인 이진탐색이 가능하다. 선택정렬 삽입정렬 퀵정렬 계수 정렬을 배우고 파이썬 기본 정렬 라이브러리를 통해 효과적인 정렬 수행 방법을 살펴보자\n",
    "\n",
    "### 선택정렬(Selection Sort)\n",
    "가장 작은 데이터를 선택해 맨 앞에 있는 데이터와 바꾸고, 그 다음 작은 데이터를 선택해 앞에서 두 번째 데이터와 바꾸는 과정을 반복"
   ]
  },
  {
   "cell_type": "code",
   "execution_count": 1,
   "id": "74541d4e",
   "metadata": {},
   "outputs": [
    {
     "name": "stdout",
     "output_type": "stream",
     "text": [
      "[0, 1, 2, 3, 4, 5, 6, 7, 8, 9]\n"
     ]
    }
   ],
   "source": [
    "array = [7,5,9,0,3,1,6,2,4,8]\n",
    "\n",
    "for i in range(len(array)):\n",
    "    min_index = i #가장 작은 원소의 인덱스\n",
    "    for j in range(i+1,len(array)):\n",
    "        if array[min_index] > array[j]:\n",
    "            min_index = j\n",
    "    array[min_index] , array[i] = array[i], array[min_index]\n",
    "\n",
    "print(array)"
   ]
  },
  {
   "cell_type": "markdown",
   "id": "11c9f6e7",
   "metadata": {},
   "source": [
    "전체 횟수로 보면 이중 for문을 지닌다. 0번부터 시작을 하면 1에서 마지막, 그다음 1번부터 시작을 하면 2부터 마지막 이런식으로 매 for문의 길이는 한 인덱스씩 짧아지지만 비교를 하게 된다. 일단 시작하는 지점의 인덱스가 가장 작다고 가정하고 뒤에 있는 인덱스와 비교를 한다. 그리고 시작 지점보다 더 작은 값이 있다면 비교해서 갱신을 하게 되고 스와핑(교환)을 실행하게 된다. 간단한 방법이다.  \n",
    "\n",
    "좀더 정교하게 시간 복잡도 측면으로 보자 전체 연산은 $(N^2 + N)\\over2$로 볼 수 있으니 빅오표기법으로는 $O(N^2)$가 된다.\n",
    "\n",
    "선택정렬보다는 퀵정렬이 그것보다는 기본정렬 라이브러리의 속도가 빠르지만 특정 리스트에서 가장 작은 데이터를 찾는 일이 코테에서는 자주 있으니 선택 정렬 소스코드 형태에 익숙해질 필요가 있다고 한다.\n",
    "\n",
    "### 삽입정렬(Insertation Sort)\n",
    "말그대로 카드가 있으면 카드를 하나 가져다가 왼쪽에다가 순서대로 삽입해 넣는다"
   ]
  },
  {
   "cell_type": "code",
   "execution_count": 6,
   "id": "0b227c54",
   "metadata": {},
   "outputs": [
    {
     "name": "stdout",
     "output_type": "stream",
     "text": [
      "[0, 1, 2, 3, 4, 5, 6, 7, 8, 9]\n"
     ]
    }
   ],
   "source": [
    "array = [7,5,9,0,3,1,6,2,4,8]\n",
    "\n",
    "for i in range(1, len(array)):\n",
    "#어차피 첫번째 있는 것은 건드릴 필요(옮길 이유)가 없다.\n",
    "    for j in range(i,0,-1):\n",
    "        if array[j] < array[j-1]: #한 칸씩 왼쪽으로 이동\n",
    "            array[j],array[j-1] = array[j-1],array[j]\n",
    "        else: #자기보다 작은 데이터를 만나면 멈춤\n",
    "            break\n",
    "print(array)"
   ]
  },
  {
   "cell_type": "markdown",
   "id": "eeaf2eb6",
   "metadata": {},
   "source": [
    "일단 7이 아닌 5번부터 살펴보게 된다. 그리고 i는 [1,0]을 먼저 보게 되는데 이때 왼쪽으로 갈수록 인덱스와 값이 작아야 한다. 그러니 여기서 7과 5를 비교하는데 5가더 오른쪽에 있으니 교환을 하게 되고 그런것이 없으니 종료 하고 첫번째 정렬에서 5,7,9,0,3,1,6,2,4,8이 이루어진다. 그 다음으로는 인덱스2의 값인 9를 비교하게 되는데 마찬가지로 5와 7을 보면 이동할게 없으니 5,7,9에서 종료 그다음 0을 보면 5보다 작기 때문에 첫번째 위치에 삽입하고 이를 반복한다.  \n",
    "삽입정렬의 경우 시간 복잡도는 $O(N^2)$ 이지만 거의 정렬이 이루어졌다면 시간복잡도는 $O(N)$정도라고 한다. 그러니 이미 정렬이 거의 이루어져있다면 퀵정렬대신 삽입정렬이 우수할 수 있다.\n",
    "\n",
    "### 퀵정렬(Quick Sort)\n",
    "퀵 정렬은 가장 많이 사용되는 알고리즘으로 \"기준 데이터를 설정하고 그 기준보다 큰 데이터와 작은 데이터의 위치를 바꾸면 어떨까?\" 기준을 설정한 다음 큰 수와 작은 수를 교환후 리스트를 반으로 나누는 방식으로 동작한다. 이를 이해할 수있다면 병합, 힙 다른 고급 정렬 기법에 비해서 쉽게 소스코드를 작성 할 수 있다고 한다.  \n",
    "\n",
    "퀵 정렬에는 피벗이 사용된다. 큰 숫자와 자긍ㄴ 숫자를 교환할 때, 교환하기 위한 기준을 바로 피벗이라고 한다. 퀵 정렬을 수행하기 전에는 피벗을 어떻게 설정할 것인지 미리 명시해야 한다. 피벗을 설정하고 리스트를 분할하는 방법에 따라서 여러가지 방식으로 퀵 정렬을 구분하는데, 대표적인 호어 분할 방식을 기준으로 퀵 정렬을 설명한다.\n",
    "\n",
    "* 리스트에서 첫 번째 데이터를 피벗으로 정한다.\n",
    "\n",
    "피벗을 설정한 뒤에는 왼쪽에서부터 피벗보다 큰 데이터를 찾고, 오른쪽에서부터 피벗보다 작은 데이터를 찾는다. 그 다음 큰 데이터와 작은 데이터의 위치를 서로 교환해준다."
   ]
  },
  {
   "cell_type": "code",
   "execution_count": 4,
   "id": "b7213e3e",
   "metadata": {},
   "outputs": [
    {
     "name": "stdout",
     "output_type": "stream",
     "text": [
      "[0, 1, 2, 4, 3, 5, 6, 8, 7, 9]\n"
     ]
    }
   ],
   "source": [
    "array = [5,7,9,0,3,1,6,2,4,8]\n",
    "\n",
    "def quick_sort(array, start, end):\n",
    "    if start >= end: #원소가 1개인 경우 종료\n",
    "        return\n",
    "    pivot = start #피벗은 첫 번째 원소\n",
    "    left = start + 1\n",
    "    right = end\n",
    "    while left < right:\n",
    "        #피벗보다 큰 데이터를 찾을 때까지 반복\n",
    "        while left <= end and array[left] <= array[pivot]:\n",
    "            left += 1\n",
    "        #피벗보다 작은 데이터를 찾을 때까지 반복\n",
    "        while right > start and array[right] >= array[pivot]:\n",
    "            right -= 1\n",
    "        if left > right: #엇갈렸다면 작은 데이터와 피벗을 교체\n",
    "            array[right], array[pivot] = array[pivot], array[right]\n",
    "        else: #엇갈리지 않았다면 작은 데이터와 큰 데이터를 교체\n",
    "            array[left], array[right] = array[right], array[left]\n",
    "        #분할 이후 왼쪽 부분과 오른쪽 부분에서 각각 정렬 수행\n",
    "    quick_sort(array,start,right-1)\n",
    "    quick_sort(array,right+1, end)\n",
    "    \n",
    "quick_sort(array,0, len(array)-1)\n",
    "print(array)"
   ]
  },
  {
   "cell_type": "code",
   "execution_count": 6,
   "id": "8da46bfb",
   "metadata": {},
   "outputs": [
    {
     "name": "stdout",
     "output_type": "stream",
     "text": [
      "[0, 1, 2, 3, 4, 5, 6, 7, 8, 9]\n"
     ]
    }
   ],
   "source": [
    "#파이썬의 장점을 살린 퀵 정렬 코드\n",
    "array = [5,7,9,0,3,1,6,2,4,8]\n",
    "\n",
    "def quick_sort(array):\n",
    "    #리스트가 하나 이하의 원소만을 담고 있다면 종료\n",
    "    if len(array) <= 1:\n",
    "        return array\n",
    "    \n",
    "    pivot = array[0] #피벗은 첫 번째 원소\n",
    "    tail = array[1:] #피벗을 제외한 리스트\n",
    "    \n",
    "    left_side = [x for x in tail if x <= pivot] #분할된 왼쪽 부분\n",
    "    right_side = [x for x in tail if x > pivot] #분할된 오른쪽 부분\n",
    "    \n",
    "    #분할 이후 왼쪽 부분과 오른쪽 부분에서 각각 정렬을 수행하고, 전체 리스트를 반환\n",
    "    return quick_sort(left_side) + [pivot] + quick_sort(right_side)\n",
    "\n",
    "print(quick_sort(array))"
   ]
  },
  {
   "cell_type": "markdown",
   "id": "d2ce1748",
   "metadata": {},
   "source": [
    "확실히 직접 펜이랑 종이들고 해보니 첫번째 방법이 효율적이지만 아무래도 기억하기 편리한 두번째 것을 사용해야 할 거 같다. 퀵정렬의 평균 시간 복잡도는 $O(NlogN)$이다. 하지만 데이터가 이미 거의 정렬되어 있을 경우 삽입정렬보다 느리다는 점이 있다.\n",
    "\n",
    "파이썬의 정렬 라이브러리는 퀵 정렬과 동작 방식이 비슷한 병합 정렬을 기반으로 만들어 졌는데 병합 정렬은 일반적으로 퀵 정렬보다 느리지만 최악의 경우에도 시간 복잡도 $O(NlogN)$을 보장한다는 특징이 있다. 이러한 sorted() 함수는 리스트, 딕셔너리 자료형 등을 입력 받아서 정렬된 결과를 출력한다."
   ]
  },
  {
   "cell_type": "code",
   "execution_count": 8,
   "id": "030e7778",
   "metadata": {},
   "outputs": [
    {
     "name": "stdout",
     "output_type": "stream",
     "text": [
      "[0, 1, 2, 3, 4, 5, 6, 7, 8, 9]\n",
      "[5, 7, 9, 0, 3, 1, 6, 2, 4, 8]\n"
     ]
    }
   ],
   "source": [
    "array = [5,7,9,0,3,1,6,2,4,8]\n",
    "result = sorted(array)\n",
    "print(result)\n",
    "print(array) #내부 원소는 변하지 않는다."
   ]
  },
  {
   "cell_type": "code",
   "execution_count": 9,
   "id": "16ef8bd5",
   "metadata": {},
   "outputs": [
    {
     "name": "stdout",
     "output_type": "stream",
     "text": [
      "[0, 1, 2, 3, 4, 5, 6, 7, 8, 9]\n"
     ]
    }
   ],
   "source": [
    "array = [5,7,9,0,3,1,6,2,4,8]\n",
    "array.sort() #이렇게하면 내부 원소가 바로 정렬된다.\n",
    "print(array)"
   ]
  },
  {
   "cell_type": "markdown",
   "id": "381d235d",
   "metadata": {},
   "source": [
    "sorted나 sort를 이용할 때는 key매개변수를 입력으로 받을 수 있다. key값으로는 하나의 함수가 들어가야하며 이는 정렬기준이 된다. 예를 들어 리스트의 데이터가 튜플로 구성되어 있을 때, 각 데이터의 두 번째 원소를 기준으로 설정하는 경우 다음과 같은 형태의 소스코드를 작성할 수 있다. 혹은 람다 함수를 사용할 수도 있다."
   ]
  },
  {
   "cell_type": "code",
   "execution_count": 11,
   "id": "6948f4dc",
   "metadata": {},
   "outputs": [
    {
     "name": "stdout",
     "output_type": "stream",
     "text": [
      "[('바나나', 2), ('당근', 3), ('사과', 5)]\n"
     ]
    }
   ],
   "source": [
    "array = [('바나나',2),('사과',5),('당근',3)]\n",
    "\n",
    "def setting(data):\n",
    "    return data[1]\n",
    "result = sorted(array, key=setting)\n",
    "print(result)"
   ]
  },
  {
   "cell_type": "markdown",
   "id": "1c5a398f",
   "metadata": {},
   "source": [
    "정렬 라이브러리는 항상 최악의 경우에도 시간 복잡도 $O(NlogN)$을 보장한다.\n",
    "\n",
    "정렬알고리즘 문제는 3가지로 나타낼 수 있다.\n",
    "\n",
    "1. 정렬 라이브러리로 풀 수 있는 문제\n",
    "2. 정렬 알고리즘의 원리를 물어보는 문제 : 선택, 삽입, 퀵 정렬 등의 원리를 알고 있어야 한다.\n",
    "3. 더 빠른 정렬을 요구 : 계수 정렬등의 다른 정렬 알고리즘을 사용하거나 기존 알고리즘에 구조적인 개선을 시켜야 한다.\n",
    "\n",
    "\n",
    "### 1. 위에서 아래로\n",
    "입력을 받으면 큰수에서 작은수의 순서로 정렬"
   ]
  },
  {
   "cell_type": "code",
   "execution_count": 16,
   "id": "cf48f7ce",
   "metadata": {},
   "outputs": [
    {
     "name": "stdout",
     "output_type": "stream",
     "text": [
      "3\n",
      "15\n",
      "27\n",
      "12\n",
      "[27, 15, 12]\n"
     ]
    }
   ],
   "source": [
    "n = int(input())\n",
    "\n",
    "array = []\n",
    "for i in range(n):\n",
    "    array.append(int(input()))\n",
    "\n",
    "array.sort(reverse=True)\n",
    "print(array)"
   ]
  },
  {
   "cell_type": "markdown",
   "id": "4c013324",
   "metadata": {},
   "source": [
    "### 2. 성적이 낮은 순서로 학생 출력하기"
   ]
  },
  {
   "cell_type": "code",
   "execution_count": 22,
   "id": "5e1fc2bd",
   "metadata": {},
   "outputs": [
    {
     "name": "stdout",
     "output_type": "stream",
     "text": [
      "2\n",
      "홍길동 95\n",
      "이순신 77\n",
      "이순신 홍길동 "
     ]
    }
   ],
   "source": [
    "n = int(input())\n",
    "\n",
    "array = []\n",
    "for i in range(n):\n",
    "    in_data = input().split()\n",
    "    array.append((in_data[0],in_data[1]))\n",
    "    \n",
    "def setting(data):\n",
    "    return data[1]\n",
    "\n",
    "result = sorted(array, key=setting, reverse=False)\n",
    "\n",
    "#함수를 사용하지 않으려면 람다함수를 이용\n",
    "#array = sorted(array,key=lambda student:student[1])\n",
    "\n",
    "for student in range(n):\n",
    "    print(result[i][0],end=' ')"
   ]
  },
  {
   "cell_type": "markdown",
   "id": "38a25c27",
   "metadata": {},
   "source": [
    "### 두 배열의 원소 교체  \n",
    "동빈이는 두개의 배열 A와 B를 가지고 있다. 두 배열은 N개의 원소로 구성되어 있으며, 배열의 원소는 모두 자연수이다. 동빈이는 최대 K번의 바꿔치기 연산ㅇ르 수행할 수 있는데 바꿔치기 연산이랑 배열 A에 있는 원소 하나와 배열 B에 있는 원소 하나를 골라서 두 원소를 서로 바꾸는 것. 동빈이의 최종 목표는 배열 A의 모든 원소의 합이 최대가 되도록 하는 것이다.\n",
    "\n",
    "N,K그리고 배열 A와 B의 정보가 주어졌을때 최대 K번 바꿔치기 연산을 수행하여 만들 수 있는 배열 A의 모든 원소의 합의 최댓값을 출력하는 프로그램을 작성"
   ]
  },
  {
   "cell_type": "code",
   "execution_count": 28,
   "id": "9918658e",
   "metadata": {},
   "outputs": [
    {
     "name": "stdout",
     "output_type": "stream",
     "text": [
      "5 3\n",
      "1 2 5 4 3\n",
      "5 5 6 6 5\n",
      "26\n"
     ]
    }
   ],
   "source": [
    "n,k = map(int, input().split())\n",
    "a = list(map(int,input().split()))\n",
    "b = list(map(int,input().split()))\n",
    "\n",
    "a.sort()\n",
    "b.sort(reverse=True)\n",
    "\n",
    "for i in range(k):\n",
    "    if a[i]<b[i]:\n",
    "        a[i], b[i] = b[i], a[i]\n",
    "    else:\n",
    "        break\n",
    "    \n",
    "print(sum(a))"
   ]
  },
  {
   "cell_type": "code",
   "execution_count": 7,
   "id": "08bb0b06",
   "metadata": {},
   "outputs": [],
   "source": [
    "survey = [\"AN\", \"CF\", \"MJ\", \"RT\", \"NA\"]\n",
    "choices = [5, 3, 2, 7, 5]\n",
    "\n",
    "def cal(first,second,choices,ccti_dict):\n",
    "    if choices == 1:\n",
    "        ccti_dict[first]+=3\n",
    "    elif choices == 2:\n",
    "        ccti_dict[first]+=2\n",
    "    elif choices == 3:\n",
    "        ccti_dict[first]+=1\n",
    "    elif choices == 5:\n",
    "        ccti_dict[second]+=1\n",
    "    elif choices == 6:\n",
    "        ccti_dict[second]+=2\n",
    "    else:\n",
    "        ccti_dict[second]+=3\n",
    "    return ccti_dict\n",
    "\n",
    "ccti_dict = {'R':0,'T':0,'C':0,'F':0,'J':0,'M':0,'A':0,'N':0,}\n",
    "for i in range(len(survey)):\n",
    "    first = survey[i][0]\n",
    "    second = survey[i][1]\n",
    "    cal(first,second,choices[i],ccti_dict)"
   ]
  },
  {
   "cell_type": "code",
   "execution_count": 8,
   "id": "77593c4f",
   "metadata": {},
   "outputs": [
    {
     "data": {
      "text/plain": [
       "{'R': 0, 'T': 3, 'C': 1, 'F': 0, 'J': 0, 'M': 2, 'A': 1, 'N': 1}"
      ]
     },
     "execution_count": 8,
     "metadata": {},
     "output_type": "execute_result"
    }
   ],
   "source": [
    "ccti_dict"
   ]
  },
  {
   "cell_type": "code",
   "execution_count": 12,
   "id": "d50426a4",
   "metadata": {},
   "outputs": [],
   "source": [
    "anstring=''\n",
    "if ccti_dict['R']>=ccti_dict['T']:\n",
    "    anstring+='R'\n",
    "else:\n",
    "    anstring+='T'\n",
    "if ccti_dict['C']>=ccti_dict['F']:\n",
    "    anstring+='C'\n",
    "else:\n",
    "    anstring+='F'\n",
    "if ccti_dict['J']>=ccti_dict['M']:\n",
    "    anstring+='J'\n",
    "else:\n",
    "    anstring+='M'\n",
    "if ccti_dict['A']>=ccti_dict['N']:\n",
    "    anstring+='A'\n",
    "else:\n",
    "    anstring+='N'"
   ]
  },
  {
   "cell_type": "code",
   "execution_count": 13,
   "id": "c7cace05",
   "metadata": {},
   "outputs": [
    {
     "data": {
      "text/plain": [
       "'TCMA'"
      ]
     },
     "execution_count": 13,
     "metadata": {},
     "output_type": "execute_result"
    }
   ],
   "source": [
    "anstring"
   ]
  },
  {
   "cell_type": "code",
   "execution_count": 75,
   "id": "cb5c564b",
   "metadata": {},
   "outputs": [],
   "source": [
    "queue1 = [3, 2, 7, 2]\n",
    "queue2 = [4, 6, 5, 1]"
   ]
  },
  {
   "cell_type": "code",
   "execution_count": 76,
   "id": "f7fdd8de",
   "metadata": {
    "scrolled": false
   },
   "outputs": [],
   "source": [
    "check_num=0\n",
    "check_sum=False\n",
    "for i in range(len(queue1)+len(queue2)):\n",
    "    if sum(queue1) > sum(queue2):\n",
    "        temp = queue1[0]\n",
    "        queue1.remove(temp)\n",
    "        queue2.append(temp)\n",
    "        check_num+=1\n",
    "    elif sum(queue1) < sum(queue2):\n",
    "        temp = queue2[0]\n",
    "        queue2.remove(temp)\n",
    "        queue1.append(temp)\n",
    "        check_num+=1\n",
    "    else:\n",
    "        check_sum=True\n",
    "        break"
   ]
  },
  {
   "cell_type": "code",
   "execution_count": 77,
   "id": "3cf84692",
   "metadata": {},
   "outputs": [
    {
     "data": {
      "text/plain": [
       "2"
      ]
     },
     "execution_count": 77,
     "metadata": {},
     "output_type": "execute_result"
    }
   ],
   "source": [
    "check_num"
   ]
  },
  {
   "cell_type": "code",
   "execution_count": 84,
   "id": "64541b19",
   "metadata": {},
   "outputs": [
    {
     "data": {
      "text/plain": [
       "False"
      ]
     },
     "execution_count": 84,
     "metadata": {},
     "output_type": "execute_result"
    }
   ],
   "source": [
    "max(queue2)>sum(queue1) or max(queue1)>sum(queue2)"
   ]
  },
  {
   "cell_type": "code",
   "execution_count": 82,
   "id": "61e9f3b6",
   "metadata": {},
   "outputs": [
    {
     "data": {
      "text/plain": [
       "True"
      ]
     },
     "execution_count": 82,
     "metadata": {},
     "output_type": "execute_result"
    }
   ],
   "source": [
    "7%3!=0"
   ]
  },
  {
   "cell_type": "code",
   "execution_count": 90,
   "id": "51ad2c8f",
   "metadata": {},
   "outputs": [],
   "source": [
    "alp=10\n",
    "cop=10\n",
    "problems = [[10,15,2,1,2],[20,20,3,3,4]]"
   ]
  },
  {
   "cell_type": "code",
   "execution_count": 91,
   "id": "034bbf75",
   "metadata": {},
   "outputs": [
    {
     "data": {
      "text/plain": [
       "10"
      ]
     },
     "execution_count": 91,
     "metadata": {},
     "output_type": "execute_result"
    }
   ],
   "source": [
    "problems[0][0]"
   ]
  },
  {
   "cell_type": "code",
   "execution_count": 92,
   "id": "850601c4",
   "metadata": {},
   "outputs": [
    {
     "data": {
      "text/plain": [
       "15"
      ]
     },
     "execution_count": 92,
     "metadata": {},
     "output_type": "execute_result"
    }
   ],
   "source": [
    "problems[0][1]"
   ]
  },
  {
   "cell_type": "code",
   "execution_count": 93,
   "id": "71835437",
   "metadata": {},
   "outputs": [
    {
     "data": {
      "text/plain": [
       "2"
      ]
     },
     "execution_count": 93,
     "metadata": {},
     "output_type": "execute_result"
    }
   ],
   "source": [
    "len(problems)"
   ]
  },
  {
   "cell_type": "code",
   "execution_count": 94,
   "id": "0111346b",
   "metadata": {},
   "outputs": [
    {
     "name": "stdout",
     "output_type": "stream",
     "text": [
      "0\n",
      "1\n"
     ]
    }
   ],
   "source": [
    "for i in range(len(problems)):\n",
    "    print(i)"
   ]
  },
  {
   "cell_type": "code",
   "execution_count": 108,
   "id": "9b420ab7",
   "metadata": {},
   "outputs": [],
   "source": [
    "def how_st(alp, cop, problems):\n",
    "    count = 0\n",
    "    if alp<problems[0]:\n",
    "        count+=(problems[0]-alp)\n",
    "    elif cop<problems[1]:\n",
    "        count+=(problems[1]-cop)\n",
    "    return count"
   ]
  },
  {
   "cell_type": "code",
   "execution_count": 109,
   "id": "80726d44",
   "metadata": {},
   "outputs": [],
   "source": [
    "alp=10\n",
    "cop=10\n",
    "problems = [[10,15,2,1,2],[20,20,3,3,4]]"
   ]
  },
  {
   "cell_type": "code",
   "execution_count": 110,
   "id": "6ae7103f",
   "metadata": {},
   "outputs": [
    {
     "name": "stdout",
     "output_type": "stream",
     "text": [
      "5\n"
     ]
    }
   ],
   "source": [
    "count = how_st(alp, cop, problems[0])\n",
    "print(count)"
   ]
  },
  {
   "cell_type": "code",
   "execution_count": 112,
   "id": "f73e815e",
   "metadata": {
    "scrolled": true
   },
   "outputs": [],
   "source": [
    "counts=0\n",
    "for i in range(len(problems)):\n",
    "    if i==(len(problems)-1):\n",
    "        break\n",
    "    if i==0:\n",
    "        counts+=how_st(alp, cop, problems[i])\n",
    "        continue"
   ]
  },
  {
   "cell_type": "code",
   "execution_count": 114,
   "id": "75e99abe",
   "metadata": {},
   "outputs": [
    {
     "data": {
      "text/plain": [
       "5"
      ]
     },
     "execution_count": 114,
     "metadata": {},
     "output_type": "execute_result"
    }
   ],
   "source": [
    "counts"
   ]
  },
  {
   "cell_type": "code",
   "execution_count": 147,
   "id": "87e3d805",
   "metadata": {},
   "outputs": [],
   "source": [
    "rc = [[1, 2, 3], [4, 5, 6], [7, 8, 9]]"
   ]
  },
  {
   "cell_type": "code",
   "execution_count": 148,
   "id": "5a646026",
   "metadata": {},
   "outputs": [
    {
     "name": "stdout",
     "output_type": "stream",
     "text": [
      "[1, 2, 3]\n",
      "[4, 5, 6]\n",
      "[7, 8, 9]\n",
      "[7, 8, 9]\n"
     ]
    }
   ],
   "source": [
    "\n",
    "print(swap)"
   ]
  },
  {
   "cell_type": "code",
   "execution_count": 151,
   "id": "f1b24033",
   "metadata": {
    "scrolled": true
   },
   "outputs": [
    {
     "data": {
      "text/plain": [
       "7"
      ]
     },
     "execution_count": 151,
     "metadata": {},
     "output_type": "execute_result"
    }
   ],
   "source": [
    "rc[0][0]"
   ]
  },
  {
   "cell_type": "code",
   "execution_count": 248,
   "id": "b634ea60",
   "metadata": {},
   "outputs": [],
   "source": [
    "rc = [[1, 2, 3, 4], [5, 6, 7, 8], [9, 10, 11, 12]]"
   ]
  },
  {
   "cell_type": "code",
   "execution_count": 281,
   "id": "6427ab39",
   "metadata": {},
   "outputs": [],
   "source": [
    "def shift_f(rc):\n",
    "    for i in range(len(rc)):\n",
    "        if i==0:\n",
    "            swap=rc[0]\n",
    "        else:\n",
    "            swap,rc[i] = rc[i],swap\n",
    "    rc[0] = swap\n",
    "    return rc"
   ]
  },
  {
   "cell_type": "code",
   "execution_count": 282,
   "id": "8f841b65",
   "metadata": {},
   "outputs": [],
   "source": [
    "def rotate_f(rc):\n",
    "    swap=0\n",
    "    col_num = len(rc[0])\n",
    "    row_num = len(rc)\n",
    "\n",
    "    for i in range(col_num):\n",
    "        if i==0:\n",
    "            swap=rc[0][0]\n",
    "        else:\n",
    "            swap,rc[0][i] = rc[0][i],swap\n",
    "\n",
    "    for i in range(1,row_num):\n",
    "        swap,rc[i][col_num-1] = rc[i][col_num-1],swap\n",
    "        \n",
    "    for i in range(1,col_num):\n",
    "        swap,rc[row_num-1][col_num-i-1] = rc[row_num-1][col_num-i-1],swap\n",
    "\n",
    "    for i in range(1,row_num):\n",
    "        swap,rc[row_num-1-i][0] = rc[row_num-1-i][0],swap\n",
    "\n",
    "    return rc"
   ]
  },
  {
   "cell_type": "code",
   "execution_count": 283,
   "id": "1fa904b1",
   "metadata": {
    "scrolled": true
   },
   "outputs": [
    {
     "data": {
      "text/plain": [
       "[[4, 1, 2], [7, 5, 3], [8, 9, 6]]"
      ]
     },
     "execution_count": 283,
     "metadata": {},
     "output_type": "execute_result"
    }
   ],
   "source": [
    "rc = [[1, 2, 3], [4, 5, 6], [7, 8, 9]]\n",
    "rc = rotate_f(rc)\n",
    "rc"
   ]
  },
  {
   "cell_type": "code",
   "execution_count": 284,
   "id": "a40ad8ae",
   "metadata": {},
   "outputs": [
    {
     "data": {
      "text/plain": [
       "[[8, 9, 6], [4, 1, 2], [7, 5, 3]]"
      ]
     },
     "execution_count": 284,
     "metadata": {},
     "output_type": "execute_result"
    }
   ],
   "source": [
    "rc = shift_f(rc)\n",
    "rc"
   ]
  },
  {
   "cell_type": "code",
   "execution_count": null,
   "id": "e8353fa1",
   "metadata": {},
   "outputs": [],
   "source": []
  }
 ],
 "metadata": {
  "kernelspec": {
   "display_name": "Python 3 (ipykernel)",
   "language": "python",
   "name": "python3"
  },
  "language_info": {
   "codemirror_mode": {
    "name": "ipython",
    "version": 3
   },
   "file_extension": ".py",
   "mimetype": "text/x-python",
   "name": "python",
   "nbconvert_exporter": "python",
   "pygments_lexer": "ipython3",
   "version": "3.9.7"
  }
 },
 "nbformat": 4,
 "nbformat_minor": 5
}
