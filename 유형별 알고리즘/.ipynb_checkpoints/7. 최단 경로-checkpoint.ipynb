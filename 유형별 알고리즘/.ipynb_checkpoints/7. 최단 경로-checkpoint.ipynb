{
 "cells": [
  {
   "cell_type": "markdown",
   "id": "dd7f3287",
   "metadata": {},
   "source": [
    "최단 경로 알고리즘은 가장 짧은 경로를 찾는 알고리즘이다. 그래서 '길 찾기' 문제라고도 불린다.\n",
    "\n",
    "### 다익스트라 최단 경로 알고리즘\n",
    "여러개의 노드가 있을 때, 특정한 노드에서 출발하여 다른 노드로 가는 각각의 최단 경로를 구해주는 알고리즘이다. 다익스트라 최단 경로 알고리즘은 <음의 간선이 없을때 정상적으로 동작한다.\n",
    "\n",
    "1. 출발 노드를 설정한다.\n",
    "2. 최단 거리 테이블을 초기화한다.\n",
    "3. 방문하지 않은 노드중에서 최단 거리가 가장 짧은 노드를 선택한다.\n",
    "4. 해당 노드를 거쳐 다른 노드로 가는 비용을 계산하여 최단 거리 테이블을 갱신한다.\n",
    "5. 3과 4를 반복한다.\n",
    "\n",
    "다익스트라 알고리즘은 최단 경로를 구하는 과정에서 각 노드에 대한 현재까지의 최단 거리 정보를 항상 1차원 리스트에 저장하여 업데이트를 한다는 특징이있다. 방문하지 않은 노드중에서 현재 최댄거리가 가장 짧은 노드를 확인해 그 노드에 대하여 4번을 수행한다는 점에서 그리디 알고리즘으로 볼 수 있다.\n",
    "\n",
    "다익스트라 알고리즘을 구하는 방법은 두가지다.\n",
    "1. 구현하기 쉽지만 느리게 동작하는 코드\n",
    "2. 구현하기에 조금 더 까다롭지만 빠르게 동작하는 코드\n",
    "\n",
    "당연히 2번을 목표로 준비하자!\n",
    "\n",
    "### 방법 1. 간단한 다익스트라 알고리즘\n",
    "처음에 각 노드에 대한 최단 거리를 담는 1차원 리스트를 생성한다. 이후 단계마다 '방문하지 않는 노드 중에서 최단 거리가 가장 짧은 노드를 선택하기 위해 매 단계마다 1차원 리스트의 모든 원소를 확인(순차 탐색)한다."
   ]
  },
  {
   "cell_type": "code",
   "execution_count": 4,
   "id": "ca78dbac",
   "metadata": {},
   "outputs": [
    {
     "ename": "ValueError",
     "evalue": "not enough values to unpack (expected 2, got 0)",
     "output_type": "error",
     "traceback": [
      "\u001b[1;31m---------------------------------------------------------------------------\u001b[0m",
      "\u001b[1;31mValueError\u001b[0m                                Traceback (most recent call last)",
      "\u001b[1;32m~\\AppData\\Local\\Temp\\ipykernel_15108\\2477645760.py\u001b[0m in \u001b[0;36m<module>\u001b[1;34m\u001b[0m\n\u001b[0;32m      4\u001b[0m \u001b[1;33m\u001b[0m\u001b[0m\n\u001b[0;32m      5\u001b[0m \u001b[1;31m#노드의 개수, 간산의 개수를 입력받기\u001b[0m\u001b[1;33m\u001b[0m\u001b[1;33m\u001b[0m\u001b[1;33m\u001b[0m\u001b[0m\n\u001b[1;32m----> 6\u001b[1;33m \u001b[0mn\u001b[0m\u001b[1;33m,\u001b[0m\u001b[0mm\u001b[0m \u001b[1;33m=\u001b[0m \u001b[0mmap\u001b[0m\u001b[1;33m(\u001b[0m\u001b[0mint\u001b[0m\u001b[1;33m,\u001b[0m\u001b[0minput\u001b[0m\u001b[1;33m(\u001b[0m\u001b[1;33m)\u001b[0m\u001b[1;33m.\u001b[0m\u001b[0msplit\u001b[0m\u001b[1;33m(\u001b[0m\u001b[1;33m)\u001b[0m\u001b[1;33m)\u001b[0m\u001b[1;33m\u001b[0m\u001b[1;33m\u001b[0m\u001b[0m\n\u001b[0m\u001b[0;32m      7\u001b[0m \u001b[1;31m#시작 노드 번호를 입력받기\u001b[0m\u001b[1;33m\u001b[0m\u001b[1;33m\u001b[0m\u001b[1;33m\u001b[0m\u001b[0m\n\u001b[0;32m      8\u001b[0m \u001b[0mstart\u001b[0m \u001b[1;33m=\u001b[0m \u001b[0mint\u001b[0m\u001b[1;33m(\u001b[0m\u001b[0minput\u001b[0m\u001b[1;33m(\u001b[0m\u001b[1;33m)\u001b[0m\u001b[1;33m)\u001b[0m\u001b[1;33m\u001b[0m\u001b[1;33m\u001b[0m\u001b[0m\n",
      "\u001b[1;31mValueError\u001b[0m: not enough values to unpack (expected 2, got 0)"
     ]
    }
   ],
   "source": [
    "#import sys\n",
    "#input = sys.stdin.readline\n",
    "INF = int(1e9)\n",
    "\n",
    "#노드의 개수, 간산의 개수를 입력받기\n",
    "n,m = map(int,input().split())\n",
    "#시작 노드 번호를 입력받기\n",
    "start = int(input())\n",
    "#r=각 노드에 연결되어 있는 노드에 대한 정보를 담는 리스트를 만들기\n",
    "graph = [[] for i in range(n+1)]\n",
    "#방문한 적이 있는지 체크하는 목적의 리스틀르 만들기\n",
    "visited = [False]*(n+1)\n",
    "#최단거리 테이블을 모두 무한으로 초기화\n",
    "distance = [INF]*(n+1)\n",
    "\n",
    "#모든 간선 정보를 입력받기\n",
    "for _ in range(m):\n",
    "    a,b,c = map(int, input().split())\n",
    "    #a번 노드에서 b번 노드로 가는 비용이 c라는 의미\n",
    "    graph[a].append((b,c))\n",
    "    \n",
    "#방문하지 않는 노드 중에서, 가장 최단거리가 짧은 노드의 번호를 반환\n",
    "def get_smallest_node():\n",
    "    min_value = INF\n",
    "    index = 0 #가장 최단 거리가 짧은 노드(인덱스)\n",
    "    for i in range(1, n+1):\n",
    "        if distance[i] < min_value and not visited[i]:\n",
    "            min_value = distance[i]\n",
    "            index = i\n",
    "    return index\n",
    "\n",
    "def dijkstra(start):\n",
    "    #시작 노드에 대해서 초기화\n",
    "    distance[start]=0\n",
    "    visited[start] = True\n",
    "    for j in graph[start]:\n",
    "        distance[j[0]] = j[i]\n",
    "    #시작 노드를 제외한 전체 n-1개의 노드에 대해 반복\n",
    "    for i in range(n-1):\n",
    "        #현재 최단 거리가 가장 짧은 노드를 꺼내서, 방문 처리\n",
    "        now = get_smallest_node()\n",
    "        visited[now] = True\n",
    "        #현재 노드와 연결된 다른 노드를 확인\n",
    "        for j in graph[now]:\n",
    "            cost = distance[now] + j[1]\n",
    "            #현재 노드를 거쳐서 다른 노드로 이동하는 거리가 더 짧은 경우\n",
    "            if cost < distance[j[0]]:\n",
    "                distance[j[0]] = cost\n",
    "                \n",
    "#다익스트라 알고리즘 수행\n",
    "dijkstra(start)\n",
    "\n",
    "#모든 노드로 가기 위한 최단 거리를 출력\n",
    "for i in range(1, n+1):\n",
    "    #도달할 수 없는 경우, 무한(INFINITY)이라고 출력\n",
    "    if distance[i] == INF:\n",
    "        print(\"INFINITY\")\n",
    "    #도달할 수 있는 경우 거리를 출력\n",
    "    else:\n",
    "        print(distance[i])"
   ]
  },
  {
   "cell_type": "code",
   "execution_count": null,
   "id": "6cba34dd",
   "metadata": {},
   "outputs": [],
   "source": []
  }
 ],
 "metadata": {
  "celltoolbar": "Raw Cell Format",
  "kernelspec": {
   "display_name": "Python 3 (ipykernel)",
   "language": "python",
   "name": "python3"
  },
  "language_info": {
   "codemirror_mode": {
    "name": "ipython",
    "version": 3
   },
   "file_extension": ".py",
   "mimetype": "text/x-python",
   "name": "python",
   "nbconvert_exporter": "python",
   "pygments_lexer": "ipython3",
   "version": "3.7.13"
  }
 },
 "nbformat": 4,
 "nbformat_minor": 5
}
