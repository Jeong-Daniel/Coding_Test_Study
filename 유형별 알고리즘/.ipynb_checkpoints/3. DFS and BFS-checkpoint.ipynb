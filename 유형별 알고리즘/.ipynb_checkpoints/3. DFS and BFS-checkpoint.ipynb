{
 "cells": [
  {
   "cell_type": "markdown",
   "id": "6282a700",
   "metadata": {},
   "source": [
    "내가 파이썬으로 코테를 준비하는 거는 물론 이걸로 프로젝트나 코딩도 주로 했고 제일 편하기도 한데 다양한 내장 메모리에 있다. 뭐 stack같은거 라이브러리말고 손코딩으로 하세요하면 클래스부터해서 더듬더듬하겠지만 보통 1차코테에서 그런거 신경쓰지 않으니 내장라이브러리 불러와서 바로 쓰면 된다.  \n",
    "\n",
    "https://docs.python.org/ko/3/library/collections.html  \n",
    "https://wikidocs.net/84392  \n",
    "\n",
    "deque, Counter, defaultdict 등은 유용하게 쓰이는데 코테뿐 아니라 실제 프로그래밍할때도 유용하게 사용할 수 있다.  \n",
    "\n",
    "이 이야기를 왜 하나면 DFS랑 BFS를 알기 위해서는 몇가지 알아가야할 것이 있다.\n",
    "먼저 스택과 큐, 그리고 재귀 함수를 알고 있어야 한다. 지금은 노트북으로 이렇게 정리하지만 시간을 내서 깃 블로그에다가 정리하면서 포스팅을 해야 겠다.\n",
    "\n",
    "### DFS 깊이우선 탐색 : 스택\n",
    "내가 어디론가 이동할 수 있을까 탐색할 수 있을까는 보통 노드와 간선으로 구성된 그래프로 표현할 수 있다.  \n",
    "인접행렬 : 2차원 배열로 그래프의 연결 관계를 표현\n",
    "인접리스트 : 리스트로 그래프의 연결 관계를 표현하는 방식\n",
    "\n",
    "장단점은 분명하다. 행렬은 즉시 연결이 어떻게된지 파악할 수 있지만 공간이 낭비되고 리스트는 공간은 절약되지만 연결을 파악하는데 하나하나 확인해야한다. \n",
    "\n",
    "DFS는 스택 자료구조를 이용하여 구체적인 동작 과정은 다음과 같다.\n",
    "1. 탐색 시작 노드를 스택에 삽입하고 방문 처리 한다.\n",
    "2. 스택의 최상단 노드에 방문하지 않는 인접 노드가 있으면 그 인접 노드를 스택에 넣고 방문 처리를 한다. 방문하지 않은 인접 노드가 없으면 스택에서 최상단 노드를 꺼낸다.\n",
    "3. 2번의 과정을 더 이상 수행 할 수 없을 때 까지 반복\n",
    "* 방문처리는 스택에 한번 삽입되어 처리된 노드가 다시 삽입되지 않게 체크하는 것을 의미한다. 방문 처리를 함으로 각 노드를 한 번씩만 처리할 수 있다.\n",
    "\n",
    "깊이 우선 탐색 알고리즘인 DFS는 스택 자료구조에 기초해서 구현이 가능하다. 굳이 스택을 쓰지 않아도 가능하며 프로그램은 O(N)의 시간이 소요된다. 특히 스택과 재귀를 사용하면 간단하게 사용할 수 있다."
   ]
  },
  {
   "cell_type": "code",
   "execution_count": 12,
   "id": "f4993ea3",
   "metadata": {},
   "outputs": [
    {
     "name": "stdout",
     "output_type": "stream",
     "text": [
      "1 2 7 6 8 3 4 5 "
     ]
    }
   ],
   "source": [
    "#DFS 메서드의 정의\n",
    "\n",
    "def dfs(graph, v, visited):\n",
    "    #현재 노드를 방문처리\n",
    "    visited[v] = True\n",
    "    print(v, end=' ')\n",
    "    #현재 노드와 연결된 다른 노드를 재귀적으로 방문\n",
    "    for i in graph[v]:\n",
    "        if not visited[i]:\n",
    "            dfs(graph,i,visited)\n",
    "    \n",
    "#각 노드가 연결된 정보를 리스트 자료형으로 표현 (2차원 리스트)\n",
    "graph = [\n",
    "    [],\n",
    "    [2,3,8],\n",
    "    [1,7],\n",
    "    [1,4,5],\n",
    "    [3,5],\n",
    "    [3,4],\n",
    "    [7],\n",
    "    [2,6,8],\n",
    "    [1,7]\n",
    "]\n",
    "\n",
    "visited = [False]*9\n",
    "dfs(graph,1,visited)"
   ]
  },
  {
   "cell_type": "code",
   "execution_count": 13,
   "id": "b47abcc9",
   "metadata": {},
   "outputs": [
    {
     "data": {
      "text/plain": [
       "[False, True, True, True, True, True, True, True, True]"
      ]
     },
     "execution_count": 13,
     "metadata": {},
     "output_type": "execute_result"
    }
   ],
   "source": [
    "visited"
   ]
  },
  {
   "cell_type": "markdown",
   "id": "18a326f0",
   "metadata": {},
   "source": [
    "일단 graph에는 1번부터 8번까지 들어있고 각 인접리스트로 구성되어 있다. 그리고 0번은 사용하지 않는 리스트라 비워두고 1번부터 8번까지 채워누다. 일단 1에서 시작을 했으니 1을 방문했다는 의미에서 True로 두고 1번에서 연결된 노드를 찾아간다. 그리고 이 노드를 찾아가지 않았다면 거기로 들어가서 방문 채크를 한다. 그러니 1번 노드 그리고 for문은 2,3,8에서 먼저 2번으로 들어가게 되고 마찬가지로 2번에서는 1과 7로 갈 수 있는데 1은 이미 갔으니 7로 들어간다. 7에서는 2,6,8인데 2는 방문했으니 6으로 가고... 이런식으로 쭉 순회를 하게 되고 더 이상 방문할 것이 없으면 재귀가 중단된다. 인접리스트와 dfs 정도면 암기하고 다닐 수 있겠다.  \n",
    "사실 여기서는 스택 쓰지도 않았다. 그냥 리스트 만들어서 차례대로 집어넣었다.\n",
    "\n",
    "### BFS 너비우선 탐색 : 큐\n",
    "가까운 노드부터 탐색하는 알고리즘 DFS는 최대한 멀리 있는 노드를 우선으로 탐색했다면 BFS는 그 반대다. 인접한 노드를 반복적으로 큐에 넣도록 알고리즘을 작성하면 자연스럽게 먼저 들어온게 나가게되고 가까운 노드부터 탐색을 진행한다.\n",
    "\n",
    "1. 탐색 시작 노드를 큐에 삽입하고 방문 처리를 한다.  \n",
    "2. 큐에서 노드를 꺼내 해당 노드의 인접 노드 중에서 방문하지 않는 노드를 모두 큐에 삽입하고 방문 처리를 한다.  \n",
    "3. 2번의 과정을 더이상 할 수 없을때까지 한다.\n",
    "\n",
    "재귀함수로 DFS를 구현하면 프로그램 수행 시간이 느려질 수 있어서 스택 라이브러리를 사용해서 이를 완화하는 방법이 있지만 이정도로 엄격한 코테는 사실상 없으니 그냥 DFS보다 BFS가 조금더 빠르게 동작하는 정도로만 기억하자"
   ]
  },
  {
   "cell_type": "code",
   "execution_count": 16,
   "id": "39bd9985",
   "metadata": {},
   "outputs": [
    {
     "name": "stdout",
     "output_type": "stream",
     "text": [
      "1 2 3 8 7 4 5 6 "
     ]
    }
   ],
   "source": [
    "from collections import deque\n",
    "\n",
    "#bfs 매서도 정의\n",
    "def bfs(graph, start, visited):\n",
    "    queue = deque([start])\n",
    "    #현재 노드를 방문처리\n",
    "    visited[start] = True\n",
    "    \n",
    "    #큐가 빌때까지 반복\n",
    "    while queue: #이렇게 하면 queue가 비면 false를 반환한다.\n",
    "        #큐에서 하나의 원소를 뽑아서 출력\n",
    "        v = queue.popleft()\n",
    "        print(v, end=' ')\n",
    "        #해당 원소와 연결된 아직 방문하지 않은 원소들을 큐에 삽입\n",
    "        for i in graph[v]:\n",
    "            if not visited[i]:\n",
    "                queue.append(i)\n",
    "                visited[i] = True\n",
    "        \n",
    "    \n",
    "#각 노드가 연결된 정보를 리스트 자료형으로 표현 (2차원 리스트)\n",
    "graph = [\n",
    "    [],\n",
    "    [2,3,8],\n",
    "    [1,7],\n",
    "    [1,4,5],\n",
    "    [3,5],\n",
    "    [3,4],\n",
    "    [7],\n",
    "    [2,6,8],\n",
    "    [1,7]\n",
    "]\n",
    "\n",
    "visited = [False]*9\n",
    "bfs(graph, 1, visited)"
   ]
  },
  {
   "cell_type": "markdown",
   "id": "3f2a2d63",
   "metadata": {},
   "source": [
    "일단 가장 먼저 큐에는 시작 지점인 1을 집어 넣는걸로 시작을 합니다. 그리고 popleft로 1부터 너비우선탐색을 시작하는데 1번노드에서 갈 수 있는 곳이 2,3,8이 나오게 되고 순서대로 2번을 안갔으니 queue에 추가하고 방문 등록, 3번 8번 모두 가게 되면 이제 2번을 큐에서 제거하고 2번에서 갈 수 있는 곳을 확인합니다. 그러면 이미 1번은 갔으니 7번을 추가하고 큐에 있는 3번을 빼게되고 1번은 방문했고 4번과 5번을 방문하고 큐에 있는 8을 빼서 갈 수 있은 곳을 확인하지만 이미 모두 방문했으니 갈 곳이 없어서 종료  \n",
    "그러니까 다시 정리하면 DFS는 스택과 재귀를 통해서 깊게 들어갔다 나오게 되고 BFS는 큐와 for문을 적절하게 사용해서 구현할 수 있습니다.  \n",
    "\n",
    "코테에서 2차원 배열 탐색 문제를 만나면 이렇게 그래프 형태로 바꿔서 풀이 방법을 떠올려 봅시다.\n",
    "\n",
    "### 1. 음류수 얼려먹기\n",
    "NxM 크기의 얼음 틀이 있다 구멍이 뚫려 있는 부분은 0, 칸막이가 존재하는 부분은 1로 표시된다. 구멍이 뚫려 있는 부분끼리 상, 하, 좌 우로 붙어 있는 경우 서로 연결되어 있는 것으로 간주하다.\n",
    "\n",
    "00110  \n",
    "00011  \n",
    "11111  \n",
    "00000  \n",
    "\n",
    "정답 3  \n",
    "\n",
    "확실히 문제를 보고 잘 판단해야 겠다. 내가 코딩테스트 공부를 시작한지 얼마 안되었다면 시뮬레이션처럼 접근했을거 같다는 생각도 들었다. 일단 2중 for문으로 모든 곳을 돌아보는 것은 피할수 없겠다는 생각이다.\n",
    "\n",
    "1. 특정한 지점의 주변 상, 하, 좌, 우를 살펴본 뒤에 주변 지점 중에서 값이 0이면서 아직 방문하지 않은 지점이 있다면 해당 지점을 방문한다.\n",
    "2. 방문한 지점에서 다시 상, 하, 좌, 우를 살펴보면서 방문을 다시 진행하면, 연결된 모든 지점을 방문할 수 있다.\n",
    "3. 1~2번의 과정을 모든 노드에 반복하며 방문하지 않은 지점의 수를 센다."
   ]
  },
  {
   "cell_type": "code",
   "execution_count": 4,
   "id": "68ec1ae3",
   "metadata": {},
   "outputs": [
    {
     "name": "stdout",
     "output_type": "stream",
     "text": [
      "4 5\n",
      "00110\n",
      "00011\n",
      "11111\n",
      "00000\n",
      "3\n"
     ]
    }
   ],
   "source": [
    "n, m = map(int, input().split())\n",
    "graph = []\n",
    "for i in range(n):\n",
    "    graph.append(list(map(int, input())))\n",
    "                 \n",
    "#DFS로 특정한 노드를 방문한 뒤에 연결된 모드 노드를 방문, 함수를 사용하는 것이 편리하다.\n",
    "def dfs(x,y):\n",
    "    #범위를 벗어날때는 종료하고 반환\n",
    "    if x<=-1 or x>=n or y<=-1 or y>=m:\n",
    "        return False\n",
    "    if graph[x][y] == 0:\n",
    "        graph[x][y] = 1\n",
    "        dfs(x-1,y)\n",
    "        dfs(x,y-1)\n",
    "        dfs(x,y+1)\n",
    "        dfs(x+1,y)\n",
    "        return True\n",
    "    return False\n",
    "\n",
    "#모든 노드에 대해서 음류수를 채우기\n",
    "result = 0\n",
    "for i in range(n):\n",
    "    for j in range(m):\n",
    "        if dfs(i,j) == True:\n",
    "            result+=1\n",
    "\n",
    "print(result)"
   ]
  },
  {
   "cell_type": "markdown",
   "id": "6c4a875c",
   "metadata": {},
   "source": [
    "결국 dfs에서 True가 찍힐때마다 1을 찍어준다는건데, 이는 모든 그러니까 갈 수 있는 노드를 모두 순회했을때 마지막으로 얻을 수 있는 것이고 나머지의 경우에는 False를 반환하게 된다.\n",
    "\n",
    "### 2. 미로 탈출\n",
    "동빈이는 NxM 크기의 직사각형 형태의 미로에 갇혀 있다. 동빈이의 위치는 (1,1)이고 미로의 출구눈 (N,M)의 위치에 존재하여 한번에 한 칸씩 이동 할 수 있다. 괴물이 있는 곳은 0 없는 부분은 1이다. 미로는 반드시 탈출 할 수 있으며 움직이기 위해 최소한의 개수는?\n",
    "\n",
    "입력예시  \n",
    "5 6  \n",
    "101010  \n",
    "111111  \n",
    "000001  \n",
    "111111\n",
    "111111\n",
    "\n",
    "10\n",
    "\n",
    "이런 문제는 BFS를 이용했을 때 매우 효과적으로 해결할 수 있다고 한다. BFS는 시작지점에서 가까운 노드부터 차례대로 그래프의 모든 노드를 탐색하기 때문이다. (1,1)지점에서부터 BFS를 수행하여 모든 노드의 값을 거리 정보로 넣으면 된다. 특정한 노드를 방문하면 그 이전 노드의 거리에 1을 더한 값을 리스트에 넣는다."
   ]
  },
  {
   "cell_type": "code",
   "execution_count": 9,
   "id": "433aa556",
   "metadata": {
    "scrolled": true
   },
   "outputs": [
    {
     "name": "stdout",
     "output_type": "stream",
     "text": [
      "5 6\n",
      "101010\n",
      "111111\n",
      "000001\n",
      "111111\n",
      "111111\n",
      "10\n"
     ]
    }
   ],
   "source": [
    "#bfs를 위해서는 queue를 사용\n",
    "from collections import deque\n",
    "\n",
    "n, m = map(int, input().split())\n",
    "graph = []\n",
    "for i in range(n):\n",
    "    graph.append(list(map(int, input())))\n",
    "\n",
    "#이동할 방향 정의\n",
    "dx = [-1,1,0,0]\n",
    "dy = [0,0,-1,1]\n",
    "\n",
    "#BFS\n",
    "def bfs(x,y):\n",
    "    queue = deque()\n",
    "    queue.append((x,y))\n",
    "    while queue:\n",
    "        x, y = queue.popleft()\n",
    "        #현재 위치에서 네 바향으로의 위치 확인\n",
    "        for i in range(4):\n",
    "            nx = x + dx[i]\n",
    "            ny = y + dy[i]\n",
    "            #공간을 벗어난 경우 무시\n",
    "            if nx < 0 or nx >= n or ny < 0 or ny >= m:\n",
    "                continue\n",
    "            #벽인경우 무시\n",
    "            if graph[nx][ny]==0:\n",
    "                continue\n",
    "            #해당 노드를 처음 방문하는 경우에만 최단 거리 기록\n",
    "            if graph[nx][ny]==1:\n",
    "                graph[nx][ny] = graph[x][y] + 1\n",
    "                queue.append((nx,ny))\n",
    "    return graph[n-1][m-1]\n",
    "\n",
    "print(bfs(0,0))"
   ]
  },
  {
   "cell_type": "markdown",
   "id": "a9c8a17a",
   "metadata": {},
   "source": [
    "BFS부터 설명을 하면 일단 큐를 만든다음 가장 첫번째 큐에는 시작 지점인 (0,0) 부터 시작해서 일단 (0,0)에서 갈 수 있는 곳을 4방향 모두 확인 그리고 갈수 없는 조건 두가지 벽이거나 공간을 벗어났거나를 고려해서 제외하고 방문할 수 있는 곳이라면 (1이라면) 새로 이동 하는 곳은 전칸의 수를 더해서 계속해서 누적하는데 이거를 기존 그래프에다가 갱신을 한다. 마지막 반환하는 인덱스가 [n-1][m-1]인 이유는 NxM 사이즈이기 때문에 가장 마지막칸(우리가 탈출할) 위치 인덱스 값은 N-1, M-1이 된다.\n",
    "\n",
    "이렇게 대표적인 예제로 DFS와BFS를 보았다."
   ]
  },
  {
   "cell_type": "code",
   "execution_count": null,
   "id": "6998c1d6",
   "metadata": {},
   "outputs": [],
   "source": []
  }
 ],
 "metadata": {
  "kernelspec": {
   "display_name": "Python 3 (ipykernel)",
   "language": "python",
   "name": "python3"
  },
  "language_info": {
   "codemirror_mode": {
    "name": "ipython",
    "version": 3
   },
   "file_extension": ".py",
   "mimetype": "text/x-python",
   "name": "python",
   "nbconvert_exporter": "python",
   "pygments_lexer": "ipython3",
   "version": "3.9.7"
  }
 },
 "nbformat": 4,
 "nbformat_minor": 5
}
