{
 "cells": [
  {
   "cell_type": "markdown",
   "id": "e6e06faa",
   "metadata": {},
   "source": [
    "### 다이나믹프로그래밍\n",
    "\n",
    "프로그램이 실행되는 <도중에> 프로그램 실행에 필요한 메모리를 할당해나가는것"
   ]
  },
  {
   "cell_type": "code",
   "execution_count": 7,
   "id": "82a86331",
   "metadata": {},
   "outputs": [
    {
     "name": "stdout",
     "output_type": "stream",
     "text": [
      "55\n"
     ]
    }
   ],
   "source": [
    "#피보나치 함수 소스코드 (재귀함수 이용)\n",
    "def fibo(x):\n",
    "    if x==1 or x==2:\n",
    "        return 1\n",
    "    return fibo(x-1)+fibo(x-2)\n",
    "print(fibo(10))"
   ]
  },
  {
   "cell_type": "code",
   "execution_count": 8,
   "id": "88c7d0da",
   "metadata": {},
   "outputs": [
    {
     "name": "stdout",
     "output_type": "stream",
     "text": [
      "218922995834555169026\n"
     ]
    }
   ],
   "source": [
    "#메모이제이션을 활용한 피보나치 함수\n",
    "d = [0]*100\n",
    "\n",
    "def fibo(x):\n",
    "    #종료 조건 (1혹은 2일때 1을 반환)\n",
    "    if x==1 or x==2:\n",
    "        return 1\n",
    "    #이미 계산한 적 있는 문제라면 그대로 반환\n",
    "    if d[x] != 0:\n",
    "        return d[x]\n",
    "    #아직 계산한 적이 없다면 점화식에 따라서 피보나치 결과를 반환\n",
    "    d[x] = fibo(x-1)+fibo(x-2)\n",
    "    return d[x]\n",
    "print(fibo(99))"
   ]
  },
  {
   "cell_type": "markdown",
   "id": "c6965a8d",
   "metadata": {},
   "source": [
    "이렇게 재귀 함수를 이용하여 다이나믹 프로그래밍 소스코드를 작성하는 방법을 큰 문제를 해결하기 위해 작은 문제를 호출한다고 하여 탑다운 방식이라고 하낟. 단순히 반복문을 이용하여 소스코드를 작성하는 경우 작은 문제부터 차근차근 답을 도출한다고 하여 보텀업 방식이라고 한다. 피보나치 수열 문제를 아래에서 위로 올라가는 보텀업 방식으로 풀면 다음과 같다."
   ]
  },
  {
   "cell_type": "code",
   "execution_count": 12,
   "id": "4b35fc7a",
   "metadata": {},
   "outputs": [
    {
     "name": "stdout",
     "output_type": "stream",
     "text": [
      "218922995834555169026\n"
     ]
    }
   ],
   "source": [
    "start = time.time()\n",
    "d = [0]*100\n",
    "\n",
    "d[1]=1\n",
    "d[2]=1\n",
    "n = 99\n",
    "\n",
    "for i in range(3, n+1):\n",
    "    d[i] = d[i-1]+d[i-2]\n",
    "    \n",
    "print(d[n])"
   ]
  },
  {
   "cell_type": "markdown",
   "id": "0d11e08a",
   "metadata": {},
   "source": [
    "탑다운(메모이제이션) 방식은 '하향식'이라고도 하며, 보텀업 방식은 '상향식'이라고도 한다. 다이나믹프로그래밍의 전형적인 형태는 보텀업 방식이다. 보텀업 방식에서 사용되는 결과 저장용 리스트는 DP테이블이라고 부르고 메모이제이션은 탑다운 방식에 국한되어 사용되는 표현이다.  \n",
    "\n",
    "메모이제이션 : 하향이며 이전에 계산된 결과값을 일시적으로 기록해 넣는 개념  \n",
    "다이나믹 프로그래밍 : 상향(Bottom up)이며 재귀 호출 부담이 적습니다\n",
    "\n",
    "수열은 배열이나 리스트로 표현할 수 있는데, 메모이제이션은 때에 따라서 다른 자료형 사전(dict)을 이용할 수도 있다. 수열처럼 연속적이지 않을때 유용하다.\n",
    "\n",
    "3차원리스트의 복잡한 난이도의 경우 플로이드 워셜 알고리즘에서 다루게 된다.\n",
    "\n",
    "\n",
    "### 1로 만들기\n",
    "정수 X가 들어왔을때 사용할 수 있는 연산은 4가지다.\n",
    "1. X가 5로 나누어떨어지면, 5로 나눈다.\n",
    "2. X가 3으로 나누어떨어지면, 3으로 나눈다.\n",
    "3. X가 2로 나누어떨어지면, 2로 나눈다.\n",
    "4. X에서 1을 뺀다.  \n",
    "\n",
    "\n",
    "1을 만들기 위한 최소한의 연산은?"
   ]
  },
  {
   "cell_type": "code",
   "execution_count": 13,
   "id": "42776786",
   "metadata": {},
   "outputs": [
    {
     "name": "stdout",
     "output_type": "stream",
     "text": [
      "26\n",
      "3\n"
     ]
    }
   ],
   "source": [
    "#다이나믹 프로그래밍 (보텀업)\n",
    "x = int(input())\n",
    "d = [0]*10000\n",
    "\n",
    "for i in range(2, x+1):\n",
    "    #현재의 수에서 1을 빼는 경우\n",
    "    d[i] = d[i-1]+1\n",
    "    #현재의 수가 2로 나누어 떨어지는 경우\n",
    "    if i%2==0:\n",
    "        d[i] = min(d[i], d[i//2]+1)\n",
    "    #현재의 수가 3으로 나누어 떨어지는 경우\n",
    "    if i%3==0:\n",
    "        d[i] = min(d[i], d[i//3]+1)\n",
    "    #현재의 수가 5로 나누어 떨어지는 경우\n",
    "    if i%5==0:\n",
    "        d[i] = min(d[i], d[i//5]+1)\n",
    "        \n",
    "print(d[x])"
   ]
  },
  {
   "cell_type": "markdown",
   "id": "02c3d263",
   "metadata": {},
   "source": [
    "### 개미 전사\n",
    "메뚜기 마을에는 여러개의 식량 창고가 있다. 식량창고는 일직선으로 이어져 있다. 각 식량창고에는 정해진 수의 식량을 저장하고 있으며 개미 전사는 식량 창고를 선택적으로 약탈하여 식량을 빼앗을 예정이다. 개미는 최소한 한칸 떨어진 식량 창고를 약탈해야 한다.\n",
    "\n",
    "ex (1,3,1,5)  \n",
    "최대 값 8  "
   ]
  },
  {
   "cell_type": "code",
   "execution_count": 14,
   "id": "2214a5e0",
   "metadata": {},
   "outputs": [
    {
     "name": "stdout",
     "output_type": "stream",
     "text": [
      "4\n",
      "1 3 1 5\n",
      "8\n"
     ]
    }
   ],
   "source": [
    "n = int(input())\n",
    "#모든 식량 정보 입력받기\n",
    "array = list(map(int, input().split()))\n",
    "\n",
    "#앞서 계산된 결과를 저장하기 위한 DP 테이블 초기화\n",
    "d = [0]*100\n",
    "\n",
    "#다이나믹 프로그래밍 진행(보텀업)\n",
    "d[0] = array[0]\n",
    "d[1] = max(array[0], array[1])\n",
    "for i in range(2,n):\n",
    "    d[i] = max(d[i-1], d[i-2]+array[i])\n",
    "    \n",
    "#계산된 결과 출력\n",
    "print(d[n-1])"
   ]
  },
  {
   "cell_type": "markdown",
   "id": "6c652ce8",
   "metadata": {},
   "source": [
    "### 바닥공사\n",
    "가로의 길이가N, 세로의 길이가 2인 직사각형 형태의 얇은 바닥이 있다. 태일이는 이 얇은 바닥을 1X2, 2X1, 2X2의 덮개를 이용해 채우고자 한다.\n",
    "바닥을 채우는 모든 경우의 수\n",
    "\n",
    "$a_i = a_{i-1} + a_{i-2} *2$  \n",
    "점화식은 다음과 같다."
   ]
  },
  {
   "cell_type": "code",
   "execution_count": 15,
   "id": "f58c95ca",
   "metadata": {},
   "outputs": [
    {
     "name": "stdout",
     "output_type": "stream",
     "text": [
      "3\n",
      "5\n"
     ]
    }
   ],
   "source": [
    "n = int(input())\n",
    "d = [0]*1001\n",
    "\n",
    "d[1] = 1\n",
    "d[2] = 3\n",
    "for i in range(3, n+1):\n",
    "    d[i] = (d[i-1]+2*d[i-2]) % 796796\n",
    "\n",
    "print(d[n])"
   ]
  },
  {
   "cell_type": "markdown",
   "id": "90946c39",
   "metadata": {},
   "source": [
    "### 효율적인 화폐구성\n",
    "N가지 종류의 화폐가 있다. 이 화폐의 개수를 최소한으로 이용해서 그 가치의 합이 M원이 되도록 한다. M원을 만들기 위한 최소한의 화폐 개수는?  \n",
    "N개의 화폐와 M원  \n",
    "\n",
    "그리디에서 다루었던 거스름돈 문제와 거의 동일하지만 화폐 단위에서 큰 단위가 작은 단위의 배수가 아니라는 점만 다르다. 그렇기 때문에 그리디 알고리즘을 사용했던 예시처럼 매번 큰 화폐 단위부터 처리하는 방법으로는 처리할 수 없고, 다이나믹 프로그래밍을 이용해야 한다.\n",
    "\n",
    "적은 금액부터 큰 금액까지 확인하며 차례대로 만들 수 있는 최소한의 화폐 개수를 찾으면 된다. 금액 $i$를 만들 수 있는 최소한의 화폐 개수를 $a_i$ 화폐의 단위를 $k$라고 했을 때 다음과 같이 점화식을 작성할 수 있다. $a_{i-k}$ 는 금액 $(i-k)$를 만들 수 있는 최소한의 화페개수를 의미한다.\n",
    "\n",
    "* $a_{i-k}$ 를 만드는 방법이 존재하는 경우 $a_i = min(a_i, a_{i-k}+1)$\n",
    "* $a_{i-k}$ 를 만드는 방법이 존재하지 않는 경우 $a_i = 10,001$"
   ]
  },
  {
   "cell_type": "code",
   "execution_count": 16,
   "id": "4be8f4d1",
   "metadata": {},
   "outputs": [
    {
     "name": "stdout",
     "output_type": "stream",
     "text": [
      "2 15\n",
      "2\n",
      "3\n",
      "5\n"
     ]
    }
   ],
   "source": [
    "#정수 입력하기\n",
    "n, m = map(int,input().split())\n",
    "#N개의 화폐 단위 정보를 입력받기\n",
    "array = []\n",
    "for i in range(n):\n",
    "    array.append(int(input()))\n",
    "    \n",
    "#한 번 계산된 결과를 저장하기 위한 DP 테이블 초기화\n",
    "d = [10001]*(m+1)\n",
    "\n",
    "#다이나믹 프로그래밍 진행(바텀업)\n",
    "d[0] = 0\n",
    "for i in range(n):\n",
    "    for j in range(array[i], m+1):\n",
    "        #(i-k)원을 만든느 방법이 존재하는 경우\n",
    "        if d[j-array[i]] != 10001:\n",
    "            d[j] = min(d[j], d[j-array[i]]+1)\n",
    "        \n",
    "#계산된 결과 출력\n",
    "if d[m] == 10001:\n",
    "    print(-1)\n",
    "else:\n",
    "    print(d[m])"
   ]
  }
 ],
 "metadata": {
  "kernelspec": {
   "display_name": "Python 3 (ipykernel)",
   "language": "python",
   "name": "python3"
  },
  "language_info": {
   "codemirror_mode": {
    "name": "ipython",
    "version": 3
   },
   "file_extension": ".py",
   "mimetype": "text/x-python",
   "name": "python",
   "nbconvert_exporter": "python",
   "pygments_lexer": "ipython3",
   "version": "3.7.13"
  }
 },
 "nbformat": 4,
 "nbformat_minor": 5
}
