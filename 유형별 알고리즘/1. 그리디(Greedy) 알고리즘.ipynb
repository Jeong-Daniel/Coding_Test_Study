{
 "cells": [
  {
   "cell_type": "markdown",
   "id": "6a887133",
   "metadata": {},
   "source": [
    "## 문제 1. 큰 수의 법칙\n",
    "설명  \n",
    "순서대로 2,4,5,4,6으로 이루어진 배열이 있을때 M은 8이고 K가 3이라고 가정하자  \n",
    "이 경우 특정한 인덱스의 수가 연속해서 세번까지만 더해질 수 있으므로 큰 수의 법칙에 따른 결과는  \n",
    "6+6+6+5+6+6+6+5인 46이 된다."
   ]
  },
  {
   "cell_type": "markdown",
   "id": "cdf7fb19",
   "metadata": {},
   "source": [
    "### 나의 풀이\n",
    "일단 M을 K로 나누게되면 몫과 나머지가 생길 것이다. 위의 경우 8을 3으로 나누면 몫은 2, 나머지는 2가 된다.\n",
    "그러면 3*2*최대값 + 2*두번째로 큰수가 될 거같다. 문제는 이렇게 하면 9가 들어오게되면 문제를 해결할 수 없다.  \n",
    "\n",
    "차라리 최대값과 두번째로 큰값을 뽑은 다음에 전체 for문을 돌려서 i번째의 경우 최대값을 더하지 않고 두번째 값을 더하는 식으로 코드를 짜야겠다"
   ]
  },
  {
   "cell_type": "code",
   "execution_count": 11,
   "id": "f85ef2ff",
   "metadata": {},
   "outputs": [
    {
     "name": "stdout",
     "output_type": "stream",
     "text": [
      "5 8 3\n",
      "2 4 5 4 6\n"
     ]
    }
   ],
   "source": [
    "n, m, k = map(int, input().split())\n",
    "data = list(map(int,input().split()))\n",
    "#데이터 입력\n",
    "\n",
    "data.sort()\n",
    "first = data[n-1]\n",
    "second = data[n-2]\n",
    "#리스트 정렬 -> 첫번째와 두번째로 큰 수 찾기"
   ]
  },
  {
   "cell_type": "code",
   "execution_count": 12,
   "id": "878e4efa",
   "metadata": {},
   "outputs": [
    {
     "name": "stdout",
     "output_type": "stream",
     "text": [
      "6\n",
      "6\n",
      "5\n",
      "6\n",
      "6\n",
      "5\n",
      "6\n",
      "6\n",
      "46\n"
     ]
    }
   ],
   "source": [
    "result = 0\n",
    "for i in range(1,m+1):\n",
    "    if(i%3!=0):\n",
    "        result+=first\n",
    "        print(first)\n",
    "    else:\n",
    "        result+=second\n",
    "        print(second)\n",
    "print(result)"
   ]
  },
  {
   "cell_type": "markdown",
   "id": "de4dc601",
   "metadata": {},
   "source": [
    "i를 0부터 시작하면 맨처음에 가장큰 수가 아니고 두번째로 큰수로 빠지게 되어서 편의를 위해서 1부터 시작하고 마지막은 M에서 1을 더해준 값을 range를 돌린다."
   ]
  },
  {
   "cell_type": "code",
   "execution_count": null,
   "id": "3c9401ad",
   "metadata": {},
   "outputs": [],
   "source": [
    "n, m, k = map(int, input().split())\n",
    "data = list(map(int,input().split()))\n",
    "#데이터 입력\n",
    "\n",
    "data.sort()\n",
    "first = data[n-1]\n",
    "second = data[n-2]\n",
    "#리스트 정렬 -> 첫번째와 두번째로 큰 수 찾기\n",
    "\n",
    "count = int(m/(k+1))*k\n",
    "count += m%(k+1)\n",
    "\n",
    "result = 0\n",
    "result += (count)*first\n",
    "result += (m-count)*second\n",
    "\n",
    "print(result)"
   ]
  },
  {
   "cell_type": "markdown",
   "id": "b294575e",
   "metadata": {},
   "source": [
    "풀이는 문제를 수열로 풀었다. 가장 큰수와 두번째로 큰수가 더해지는 순간은 어떤 일정한 패턴을 보인다.  \n",
    "그렇다면 예를 들어 최대 3번까지 반복된다고 가정할때 4칸씩 제일큰수 3개와 두번째로 큰수 1개가 세트로 움직이게 된다.  \n",
    "따라서 M을 K+1로 나눈 몫이 수열이 반복되는 횟수가 되고 여기서 K를 곱해주면 큰 수가 등장하는 횟수가 된다.  \n",
    "여기서 나누어 떨어지지 않는 경우도 고려해야 한다. 그러면 나머지 만큼 제일 큰 수가 더해지는 횟수 만큼 같다."
   ]
  },
  {
   "cell_type": "markdown",
   "id": "7a37b3ae",
   "metadata": {},
   "source": [
    "## 문제 2. 숫자 카드 게임\n",
    "1. 숫자가 쓰인 카드들이 NxM 형태로 놓여 있다. 이때 N은 행의 개수를 의미하고 M은 열의 개수를 의미한다.\n",
    "2. 먼저 뽑고자 하는 카드가 포함되어 있는 행을 선택한다.\n",
    "3. 그 다음 선택된 행에 포함된 카드들 중 가장 숫자가 낮은 카드를 뽑아야 한다.\n",
    "4. 따라서 처음에 카드를 골라낼 행을 선택할 때, 이후에 해당 행에서 가장 숫자가 낮은 카드를 뽑을 것을 고려하여 최종적으로 가장 높은 숫자의 카드를 뽑을 수 있도록 전략을 세운다.\n",
    "\n",
    "### 나의 풀이\n",
    "행을 기준으로 선택을 하지만 결국 각 열로 들어오는 제일 작은 값중 큰 값을 찾으면 된다.\n",
    "예를 들어서 312에서 제일 작은 값은 1이고 414 -> 1, 222 -> 2 그러면 112중에서 제일큰 2를 선택하면 해결이 된다."
   ]
  },
  {
   "cell_type": "code",
   "execution_count": 15,
   "id": "c258e342",
   "metadata": {},
   "outputs": [
    {
     "name": "stdout",
     "output_type": "stream",
     "text": [
      "2 4\n",
      "7 3 1 8\n",
      "3 3 3 4\n",
      "3\n"
     ]
    }
   ],
   "source": [
    "n, m = map(int, input().split())\n",
    "result = 0\n",
    "\n",
    "#한 줄씩 입력받아 확인\n",
    "for i in range(n):\n",
    "    data = list(map(int,input().split()))\n",
    "    if min(data)>result:\n",
    "        result = min(data)\n",
    "        \n",
    "print(result)"
   ]
  },
  {
   "cell_type": "markdown",
   "id": "93bcaea4",
   "metadata": {},
   "source": [
    "풀이  \n",
    "나는 if문을 이용했는데 mi\n",
    "result = max(result, min_value)\n",
    "#한줄을 입력할때마다 최소값과 최대값을 찾아본다."
   ]
  },
  {
   "cell_type": "markdown",
   "id": "e038f536",
   "metadata": {},
   "source": [
    "## 문제 3. 1이 될 때까지\n",
    "어떠한 수 N이 1이 될 때까지 다음의 두 과정 중 하나를 반복적으로 선택하여 수행하려고 한다. 단, 두 번째 연산은 N이 K로 나누어떨어질 때만 선택할 수 있다.\n",
    "1. N에서 1을 뺀다.\n",
    "2. N을 K로 나눈다.  \n",
    "17, 4라고 하자 17은 4로 나눌 수 없으니 1을 뺀다. 그리고 16에서 4를 나누고 4가 되면 또 4로 나누어서 총 3번의 작업을 거치낟.\n",
    "최대한 많이 나누는 것을 선택하면 되겠다."
   ]
  },
  {
   "cell_type": "code",
   "execution_count": 13,
   "id": "3b08e834",
   "metadata": {},
   "outputs": [
    {
     "name": "stdout",
     "output_type": "stream",
     "text": [
      "24 6\n",
      "4\n"
     ]
    }
   ],
   "source": [
    "n, m = map(int, input().split())\n",
    "\n",
    "count = 0\n",
    "while(1):\n",
    "    if n%m==0:\n",
    "        n = n/m\n",
    "        count+=1\n",
    "    else:\n",
    "        n-=1\n",
    "        count+=1\n",
    "    if n==1:\n",
    "        break\n",
    "print(count)"
   ]
  },
  {
   "cell_type": "markdown",
   "id": "ecdd5dde",
   "metadata": {},
   "source": [
    "간단하게 while문과 if조건문을 사용했다. 다만 여기서 문제에서는 주어지는 범위가 10만이하였지만 100만이 넘어갈때 좀더 효율적인 방법을 요구한다면 N이 K의 배수일때는 한번에 계산할 수 있도록 하게 만든다."
   ]
  },
  {
   "cell_type": "code",
   "execution_count": 20,
   "id": "e02210b2",
   "metadata": {},
   "outputs": [
    {
     "name": "stdout",
     "output_type": "stream",
     "text": [
      "125 5\n",
      "3\n"
     ]
    }
   ],
   "source": [
    "n, k = map(int, input().split())\n",
    "result = 0\n",
    "\n",
    "while True:\n",
    "    # N==K로 나누어떨어지는 수가 될때까지 1식 빼기\n",
    "    target = (n//k)*k\n",
    "    result += (n-target)\n",
    "    \n",
    "    #그러니까 예를 들면 125와 5라고 가정을 해보자\n",
    "    #125와 5의 몫은 25가 될 것이고 여기에다가 5를 곱하면 125가 되는데 이를 result에다가 넣는다. 그러면 result가 0이 된다.\n",
    "    \n",
    "    n = target\n",
    "    #target는 125가 되고 n에다가 0이 들어간다.\n",
    "    #N이 K보다 작을 때(더 이상 나눌 수 없을 때) 반복문 탈출\n",
    "    if n<k:\n",
    "        break\n",
    "        #n<k가 아니므로(여기서는 같으니 조건문을 거치지 않는다)\n",
    "    #K로 나누기\n",
    "    result += 1\n",
    "    #result는 1을 추가 했으니 1\n",
    "    n //= k\n",
    "    #125를 5로 나눈 125를 n에다가 넣음\n",
    "    #그러니까 이 while문을 돌때는 계속해서 안나눠질때까지 돌리고 넘긴다는 뜻인듯\n",
    "    \n",
    "#마지막으로 남은 수에 대하여 1씩 빼기\n",
    "result += (n-1)\n",
    "print(result)"
   ]
  },
  {
   "cell_type": "markdown",
   "id": "d204c13a",
   "metadata": {},
   "source": [
    "파이썬 연산자  \n",
    "/ 나누기  \n",
    "% 나머지  \n",
    "// 몫  "
   ]
  },
  {
   "cell_type": "code",
   "execution_count": null,
   "id": "54b28edd",
   "metadata": {},
   "outputs": [],
   "source": []
  }
 ],
 "metadata": {
  "kernelspec": {
   "display_name": "Python 3 (ipykernel)",
   "language": "python",
   "name": "python3"
  },
  "language_info": {
   "codemirror_mode": {
    "name": "ipython",
    "version": 3
   },
   "file_extension": ".py",
   "mimetype": "text/x-python",
   "name": "python",
   "nbconvert_exporter": "python",
   "pygments_lexer": "ipython3",
   "version": "3.9.7"
  }
 },
 "nbformat": 4,
 "nbformat_minor": 5
}
