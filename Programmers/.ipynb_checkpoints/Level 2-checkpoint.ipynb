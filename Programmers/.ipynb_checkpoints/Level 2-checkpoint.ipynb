{
 "cells": [
  {
   "cell_type": "markdown",
   "id": "494ff407",
   "metadata": {},
   "source": [
    "### 두 큐의 합 같게 만들기"
   ]
  },
  {
   "cell_type": "code",
   "execution_count": 6,
   "id": "c1cc1dc2",
   "metadata": {},
   "outputs": [],
   "source": [
    "queue1 = [3, 2, 7, 2]\n",
    "queue2 = [4, 6, 5, 1]"
   ]
  },
  {
   "cell_type": "code",
   "execution_count": 7,
   "id": "23909c5d",
   "metadata": {},
   "outputs": [],
   "source": [
    "from collections import deque\n",
    "queue1 = deque(queue1)\n",
    "queue2 = deque(queue2)"
   ]
  },
  {
   "cell_type": "code",
   "execution_count": 3,
   "id": "3e6ac6fc",
   "metadata": {},
   "outputs": [
    {
     "name": "stdout",
     "output_type": "stream",
     "text": [
      "8\n"
     ]
    }
   ],
   "source": [
    "count = 0\n",
    "lenght = len(queue1) + len(queue2)\n",
    "for i in range(3*lenght):\n",
    "    if sum(queue1) == sum(queue2):\n",
    "        print(count)\n",
    "        break\n",
    "    if sum(queue1)>sum(queue2):\n",
    "        queue1.append(queue2.popleft())\n",
    "        count+=1\n",
    "    else:\n",
    "        queue2.append(queue1.popleft())\n",
    "        count+=1\n",
    "print(count)"
   ]
  },
  {
   "cell_type": "code",
   "execution_count": 8,
   "id": "0b3cef44",
   "metadata": {},
   "outputs": [],
   "source": [
    "from collections import deque\n",
    "def solution(queue1, queue2):\n",
    "    queue1 = deque(queue1)\n",
    "    queue2 = deque(queue2)\n",
    "    answer = 0\n",
    "    lenght = len(queue1)*3\n",
    "    for i in range(lenght):\n",
    "        if sum(queue1) == sum(queue2):\n",
    "            return answer\n",
    "        if sum(queue1) > sum(queue2):\n",
    "            queue2.append(queue1.popleft())\n",
    "            answer+=1\n",
    "        else:\n",
    "            queue1.append(queue2.popleft())\n",
    "            answer+=1\n",
    "    \n",
    "    return -1"
   ]
  },
  {
   "cell_type": "code",
   "execution_count": 9,
   "id": "e528f2cd",
   "metadata": {},
   "outputs": [
    {
     "ename": "IndexError",
     "evalue": "pop from an empty deque",
     "output_type": "error",
     "traceback": [
      "\u001b[1;31m---------------------------------------------------------------------------\u001b[0m",
      "\u001b[1;31mIndexError\u001b[0m                                Traceback (most recent call last)",
      "\u001b[1;32m~\\AppData\\Local\\Temp/ipykernel_22916/1497581953.py\u001b[0m in \u001b[0;36m<module>\u001b[1;34m\u001b[0m\n\u001b[1;32m----> 1\u001b[1;33m \u001b[0msolution\u001b[0m\u001b[1;33m(\u001b[0m\u001b[0mqueue1\u001b[0m\u001b[1;33m,\u001b[0m \u001b[0mqueue2\u001b[0m\u001b[1;33m)\u001b[0m\u001b[1;33m\u001b[0m\u001b[1;33m\u001b[0m\u001b[0m\n\u001b[0m",
      "\u001b[1;32m~\\AppData\\Local\\Temp/ipykernel_22916/3046727129.py\u001b[0m in \u001b[0;36msolution\u001b[1;34m(queue1, queue2)\u001b[0m\n\u001b[0;32m     12\u001b[0m             \u001b[0manswer\u001b[0m\u001b[1;33m+=\u001b[0m\u001b[1;36m1\u001b[0m\u001b[1;33m\u001b[0m\u001b[1;33m\u001b[0m\u001b[0m\n\u001b[0;32m     13\u001b[0m         \u001b[1;32melse\u001b[0m\u001b[1;33m:\u001b[0m\u001b[1;33m\u001b[0m\u001b[1;33m\u001b[0m\u001b[0m\n\u001b[1;32m---> 14\u001b[1;33m             \u001b[0mqueue2\u001b[0m\u001b[1;33m.\u001b[0m\u001b[0mappend\u001b[0m\u001b[1;33m(\u001b[0m\u001b[0mqueue1\u001b[0m\u001b[1;33m.\u001b[0m\u001b[0mpopleft\u001b[0m\u001b[1;33m(\u001b[0m\u001b[1;33m)\u001b[0m\u001b[1;33m)\u001b[0m\u001b[1;33m\u001b[0m\u001b[1;33m\u001b[0m\u001b[0m\n\u001b[0m\u001b[0;32m     15\u001b[0m             \u001b[0manswer\u001b[0m\u001b[1;33m+=\u001b[0m\u001b[1;36m1\u001b[0m\u001b[1;33m\u001b[0m\u001b[1;33m\u001b[0m\u001b[0m\n\u001b[0;32m     16\u001b[0m \u001b[1;33m\u001b[0m\u001b[0m\n",
      "\u001b[1;31mIndexError\u001b[0m: pop from an empty deque"
     ]
    }
   ],
   "source": [
    "solution(queue1, queue2)"
   ]
  },
  {
   "cell_type": "code",
   "execution_count": 4,
   "id": "99b03f13",
   "metadata": {},
   "outputs": [],
   "source": [
    "from collections import deque\n",
    "def solution(queue1, queue2):\n",
    "    answer = 0\n",
    "    queue1, queue2 = deque(queue1), deque(queue2)\n",
    "    sum1, sum2 = sum(queue1), sum(queue2)\n",
    "    for _ in range(3*len(queue1)):\n",
    "        if sum1 > sum2:\n",
    "            sum1 -= queue1[0]\n",
    "            sum2 += queue1[0]\n",
    "            queue2.append(queue1.popleft())\n",
    "        elif sum1 < sum2:\n",
    "            sum1 += queue2[0]\n",
    "            sum2 -= queue2[0]\n",
    "            queue1.append(queue2.popleft())\n",
    "        else:\n",
    "            return answer\n",
    "        answer += 1\n",
    "    return -1"
   ]
  },
  {
   "cell_type": "markdown",
   "id": "f57bc3f6",
   "metadata": {},
   "source": [
    "### 오픈채팅방"
   ]
  },
  {
   "cell_type": "code",
   "execution_count": 16,
   "id": "369bccad",
   "metadata": {},
   "outputs": [],
   "source": [
    "record = [\"Enter uid1234 Muzi\", \"Enter uid4567 Prodo\",\"Leave uid1234\",\"Enter uid1234 Prodo\",\"Change uid4567 Ryan\"]"
   ]
  },
  {
   "cell_type": "code",
   "execution_count": 70,
   "id": "728cddb2",
   "metadata": {
    "scrolled": false
   },
   "outputs": [],
   "source": [
    "lenght = len(record)\n",
    "name_list={}\n",
    "result = []\n",
    "for i in range(lenght):\n",
    "    if len(record[i].split())!=2:\n",
    "        a,b,c = record[i].split()\n",
    "        name_list[b]=c\n",
    "    else:\n",
    "        a,b = record[i].split()\n",
    "        name_list[b]=c\n",
    "        \n",
    "    if a == \"Enter\" or a == \"Leave\":\n",
    "        result.append([a,b])\n",
    "        \n",
    "answer = []\n",
    "for a,uid in result:\n",
    "    str_list = ''\n",
    "    str_list += (name_list[uid] + \"님이 \")\n",
    "    if a=='Enter':\n",
    "        str_list+=\"들어왔습니다.\"\n",
    "    elif a=='Leave':\n",
    "        str_list+=\"나갔습니다.\"\n",
    "    answer.append(str_list)"
   ]
  },
  {
   "cell_type": "code",
   "execution_count": 71,
   "id": "f955e8cb",
   "metadata": {},
   "outputs": [
    {
     "data": {
      "text/plain": [
       "[['Enter', 'uid1234'],\n",
       " ['Enter', 'uid4567'],\n",
       " ['Leave', 'uid1234'],\n",
       " ['Enter', 'uid1234']]"
      ]
     },
     "execution_count": 71,
     "metadata": {},
     "output_type": "execute_result"
    }
   ],
   "source": [
    "result"
   ]
  },
  {
   "cell_type": "code",
   "execution_count": 72,
   "id": "9458d43f",
   "metadata": {},
   "outputs": [
    {
     "data": {
      "text/plain": [
       "{'uid1234': 'Prodo', 'uid4567': 'Ryan'}"
      ]
     },
     "execution_count": 72,
     "metadata": {},
     "output_type": "execute_result"
    }
   ],
   "source": [
    "name_list"
   ]
  },
  {
   "cell_type": "code",
   "execution_count": 73,
   "id": "92e06c31",
   "metadata": {},
   "outputs": [
    {
     "data": {
      "text/plain": [
       "['Prodo님이 들어왔습니다.', 'Ryan님이 들어왔습니다.', 'Prodo님이 나갔습니다.', 'Prodo님이 들어왔습니다.']"
      ]
     },
     "execution_count": 73,
     "metadata": {},
     "output_type": "execute_result"
    }
   ],
   "source": [
    "answer"
   ]
  },
  {
   "cell_type": "markdown",
   "id": "5f152ef5",
   "metadata": {},
   "source": [
    "### 멀쩡한 사각형\n"
   ]
  },
  {
   "cell_type": "code",
   "execution_count": 87,
   "id": "a0bd1bd1",
   "metadata": {},
   "outputs": [
    {
     "data": {
      "text/plain": [
       "80"
      ]
     },
     "execution_count": 87,
     "metadata": {},
     "output_type": "execute_result"
    }
   ],
   "source": [
    "w = 8\n",
    "h = 12\n",
    "min_num = min(w,h)\n",
    "number = abs(w-h)\n",
    "total = w*h\n",
    "w = int(w/number)\n",
    "h = int(h/number)\n",
    "number = abs(w-h)\n",
    "answer = total-min_num*(1+number)\n",
    "answer"
   ]
  },
  {
   "cell_type": "code",
   "execution_count": 88,
   "id": "af751ac1",
   "metadata": {},
   "outputs": [
    {
     "ename": "SyntaxError",
     "evalue": "unexpected EOF while parsing (Temp/ipykernel_22916/2681418133.py, line 3)",
     "output_type": "error",
     "traceback": [
      "\u001b[1;36m  File \u001b[1;32m\"C:\\Users\\dhjun\\AppData\\Local\\Temp/ipykernel_22916/2681418133.py\"\u001b[1;36m, line \u001b[1;32m3\u001b[0m\n\u001b[1;33m    return w*h - (w+h-math.gcd(w,h)\u001b[0m\n\u001b[1;37m                                   ^\u001b[0m\n\u001b[1;31mSyntaxError\u001b[0m\u001b[1;31m:\u001b[0m unexpected EOF while parsing\n"
     ]
    }
   ],
   "source": [
    "import math\n",
    "def solution(w,h):\n",
    "    return w*h - (w+h-math.gcd(w,h)"
   ]
  },
  {
   "cell_type": "markdown",
   "id": "95f1f91c",
   "metadata": {},
   "source": [
    "### 124 나라의 숫자"
   ]
  },
  {
   "cell_type": "code",
   "execution_count": 119,
   "id": "9ebb9df9",
   "metadata": {},
   "outputs": [],
   "source": [
    "def dfs(n):\n",
    "    global temp_list\n",
    "    a,b = divmod(n,3)\n",
    "    if a>=4:\n",
    "        dfs(n)\n",
    "    temp_list+=str(a)"
   ]
  },
  {
   "cell_type": "code",
   "execution_count": 29,
   "id": "73f021ea",
   "metadata": {
    "scrolled": false
   },
   "outputs": [
    {
     "name": "stdout",
     "output_type": "stream",
     "text": [
      "6\n",
      "20\n"
     ]
    }
   ],
   "source": [
    "def solution(n, q):\n",
    "    rev_base = ''\n",
    "    while n > 0:\n",
    "        n, mod = divmod(n, q)\n",
    "        rev_base += str(mod)\n",
    "    return rev_base[::-1]\n",
    "\n",
    "n= int(input())\n",
    "print(solution(n, 3))"
   ]
  },
  {
   "cell_type": "code",
   "execution_count": 36,
   "id": "cbd14021",
   "metadata": {},
   "outputs": [
    {
     "data": {
      "text/plain": [
       "3.6666666666666665"
      ]
     },
     "execution_count": 36,
     "metadata": {},
     "output_type": "execute_result"
    }
   ],
   "source": [
    "11/3"
   ]
  },
  {
   "cell_type": "code",
   "execution_count": 38,
   "id": "e4272303",
   "metadata": {},
   "outputs": [
    {
     "name": "stdout",
     "output_type": "stream",
     "text": [
      "11\n"
     ]
    }
   ],
   "source": [
    "n= int(input())\n",
    "result=''\n",
    "while(n!=0):\n",
    "    index = n%3\n",
    "    n = int(n/3)\n",
    "    if index==0:\n",
    "        n-=1\n",
    "    result+=str(index)"
   ]
  },
  {
   "cell_type": "code",
   "execution_count": 39,
   "id": "95ceb88a",
   "metadata": {},
   "outputs": [
    {
     "data": {
      "text/plain": [
       "'20'"
      ]
     },
     "execution_count": 39,
     "metadata": {},
     "output_type": "execute_result"
    }
   ],
   "source": [
    "result"
   ]
  },
  {
   "cell_type": "code",
   "execution_count": 9,
   "id": "63d43ceb",
   "metadata": {},
   "outputs": [],
   "source": [
    "def solution(n, q):\n",
    "    rev_base = ''\n",
    "    while n > 0:\n",
    "        n, mod = divmod(n, q)\n",
    "        rev_base += str(mod)\n",
    "    return rev_base[::-1]\n",
    "\n",
    "n= int(input())\n",
    "print(solution(n, 3))"
   ]
  },
  {
   "cell_type": "code",
   "execution_count": 10,
   "id": "6ec1148d",
   "metadata": {},
   "outputs": [
    {
     "data": {
      "text/plain": [
       "'4'"
      ]
     },
     "execution_count": 10,
     "metadata": {},
     "output_type": "execute_result"
    }
   ],
   "source": [
    "def solution(n):\n",
    "    nation = [4, 1, 2]\n",
    "    li = []\n",
    "    if n > 0:\n",
    "        temp = n\n",
    "        while temp // 3 > 0:\n",
    "            if temp % 3 == 0:\n",
    "                li.append(temp % 3)\n",
    "                temp = temp - 1\n",
    "            else:\n",
    "                li.append(temp % 3)\n",
    "            temp = temp // 3\n",
    "        if temp != 0:\n",
    "            li.append(temp)\n",
    "\n",
    "\n",
    "    answer = []\n",
    "    for i in li[::-1]:\n",
    "        if i == 0:\n",
    "            answer.append(str(nation[i]))\n",
    "        elif i == 1:\n",
    "            answer.append(str(nation[i]))\n",
    "        elif i == 2:\n",
    "            answer.append(str(nation[i]))\n",
    "\n",
    "    return ''.join(answer)"
   ]
  },
  {
   "cell_type": "code",
   "execution_count": 87,
   "id": "fea19ddc",
   "metadata": {},
   "outputs": [],
   "source": [
    "scoville=[1, 2, 3, 9, 10, 12]\n",
    "K= 7"
   ]
  },
  {
   "cell_type": "code",
   "execution_count": 88,
   "id": "1bf32c19",
   "metadata": {},
   "outputs": [],
   "source": [
    "def solution(scoville, K):\n",
    "    heapq.heapify(scoville)\n",
    "    count = 0\n",
    "    while len(scoville)>2:\n",
    "        now = heapq.heappop(scoville)\n",
    "        if now >= k:\n",
    "            return count\n",
    "        curr = heapq.heappop(scoville)\n",
    "        new_item = now + curr*2\n",
    "        heapq.heappush(scoville,new_item)\n",
    "        count += 1\n",
    "    return -1"
   ]
  },
  {
   "cell_type": "code",
   "execution_count": 89,
   "id": "887860c1",
   "metadata": {},
   "outputs": [
    {
     "data": {
      "text/plain": [
       "2"
      ]
     },
     "execution_count": 89,
     "metadata": {},
     "output_type": "execute_result"
    }
   ],
   "source": [
    "solution(scoville, K)"
   ]
  },
  {
   "cell_type": "code",
   "execution_count": 92,
   "id": "5912edd7",
   "metadata": {
    "scrolled": true
   },
   "outputs": [
    {
     "data": {
      "text/plain": [
       "True"
      ]
     },
     "execution_count": 92,
     "metadata": {},
     "output_type": "execute_result"
    }
   ],
   "source": [
    "2>=2"
   ]
  },
  {
   "cell_type": "markdown",
   "id": "c161e0c8",
   "metadata": {},
   "source": [
    "### 타겟 넘버"
   ]
  },
  {
   "cell_type": "code",
   "execution_count": 165,
   "id": "4e967f06",
   "metadata": {},
   "outputs": [],
   "source": [
    "numbers = [4, 1, 2, 1]\n",
    "target = 4"
   ]
  },
  {
   "cell_type": "code",
   "execution_count": 166,
   "id": "4679e2ff",
   "metadata": {},
   "outputs": [],
   "source": [
    "#깊이 우선 탐색(DFS) 매서드\n",
    "count = 0\n",
    "def dfs(i, now):\n",
    "    global count\n",
    "    if i == len(numbers):\n",
    "        if now == target:\n",
    "            count += 1\n",
    "    else:\n",
    "        dfs(i+1, now+numbers[i])\n",
    "        dfs(i+1, now-numbers[i])\n",
    "dfs(0, 0)"
   ]
  },
  {
   "cell_type": "code",
   "execution_count": 167,
   "id": "f2c67b66",
   "metadata": {
    "scrolled": true
   },
   "outputs": [
    {
     "data": {
      "text/plain": [
       "2"
      ]
     },
     "execution_count": 167,
     "metadata": {},
     "output_type": "execute_result"
    }
   ],
   "source": [
    "count"
   ]
  },
  {
   "cell_type": "code",
   "execution_count": 162,
   "id": "bbe05259",
   "metadata": {},
   "outputs": [],
   "source": [
    "numbers = [1, 1, 1, 1, 1]\n",
    "target = 3"
   ]
  },
  {
   "cell_type": "code",
   "execution_count": 163,
   "id": "974581a7",
   "metadata": {},
   "outputs": [],
   "source": [
    "def dfs(i, now, numbers, target,count):\n",
    "    if i == len(numbers):\n",
    "        if now == target:\n",
    "            count += 1\n",
    "    else:\n",
    "        dfs(i+1, now+numbers[i], numbers, target, count)\n",
    "        dfs(i+1, now-numbers[i], numbers, target, count)\n",
    "\n",
    "def solution(numbers, target):\n",
    "    count = 0\n",
    "    dfs(0, 0, numbers, target, count)\n",
    "    return count"
   ]
  },
  {
   "cell_type": "code",
   "execution_count": 164,
   "id": "d7dfecfc",
   "metadata": {},
   "outputs": [
    {
     "name": "stdout",
     "output_type": "stream",
     "text": [
      "5\n"
     ]
    }
   ],
   "source": [
    "solution(numbers, target)\n",
    "print(count)"
   ]
  },
  {
   "cell_type": "code",
   "execution_count": 202,
   "id": "8a6c7599",
   "metadata": {},
   "outputs": [],
   "source": [
    "from itertools import permutations\n",
    "\n",
    "arr = \"17\"\n",
    "result = []\n",
    "for _ in range(len(arr)):\n",
    "    result.append(int(arr[_]))\n",
    "\n",
    "num_list = []\n",
    "for i in range(1,len(arr)+1):\n",
    "    num_list.append(list(permutations(arr, i)))"
   ]
  },
  {
   "cell_type": "code",
   "execution_count": 203,
   "id": "0434b81e",
   "metadata": {},
   "outputs": [
    {
     "name": "stdout",
     "output_type": "stream",
     "text": [
      "7\n",
      "17\n",
      "71\n"
     ]
    }
   ],
   "source": [
    "count = 0\n",
    "for i in range(len(num_list)):\n",
    "    length = len(num_list[i])\n",
    "    for j in range(length):\n",
    "        length_k = len(num_list[i][j])\n",
    "        str_list = ''\n",
    "        for k in range(length_k):\n",
    "            str_list += str(num_list[i][j][k])\n",
    "        if primenumber(int(str_list)) and int(str_list)!=1:\n",
    "            print(str_list)\n",
    "            count += 1"
   ]
  },
  {
   "cell_type": "code",
   "execution_count": 204,
   "id": "7cb0cc1e",
   "metadata": {},
   "outputs": [
    {
     "data": {
      "text/plain": [
       "3"
      ]
     },
     "execution_count": 204,
     "metadata": {},
     "output_type": "execute_result"
    }
   ],
   "source": [
    "count"
   ]
  },
  {
   "cell_type": "code",
   "execution_count": 177,
   "id": "9f24fe36",
   "metadata": {},
   "outputs": [],
   "source": [
    "import math\n",
    "# 소수 판별\n",
    "def primenumber(x):\n",
    "    # 2부터 x의 제곱근까지의 숫자\n",
    "    for i in range (2, int(math.sqrt(x) + 1)):\n",
    "        # 나눠떨어지는 숫자가 있으면 소수가 아님\n",
    "        if x % i == 0:\n",
    "            return False\n",
    "    return True"
   ]
  },
  {
   "cell_type": "markdown",
   "id": "a6fad6ae",
   "metadata": {},
   "source": [
    "### 게임 맵 최단거리"
   ]
  },
  {
   "cell_type": "code",
   "execution_count": 2,
   "id": "1f6cc92c",
   "metadata": {},
   "outputs": [],
   "source": [
    "maps = [[1,0,1,1,1],[1,0,1,0,1],[1,0,1,1,1],[1,1,1,0,1],[0,0,0,0,1]]"
   ]
  },
  {
   "cell_type": "code",
   "execution_count": 3,
   "id": "9940d700",
   "metadata": {},
   "outputs": [],
   "source": [
    "from collections import deque\n",
    "q = deque()\n",
    "start = (0,0)\n",
    "n_number = len(maps)\n",
    "v_number = len(maps[0])\n",
    "visited = [[-1]*v_number for _ in range(n_number)]"
   ]
  },
  {
   "cell_type": "code",
   "execution_count": 4,
   "id": "ee77f469",
   "metadata": {},
   "outputs": [
    {
     "name": "stdout",
     "output_type": "stream",
     "text": [
      "10\n"
     ]
    }
   ],
   "source": [
    "q.append(start)\n",
    "visited[start[0]][start[1]] = 0\n",
    "dy = [0,1,0,-1]\n",
    "dx = [1,0,-1,0] \n",
    "while q:\n",
    "    now = q.popleft()\n",
    "    if now == (n_number-1,v_number-1):\n",
    "        print(visited[n_number-1][v_number-1])\n",
    "    for i in range(4):\n",
    "        nx = now[0] + dx[i]\n",
    "        ny = now[1] + dy[i]\n",
    "        if n_number > nx >= 0 and v_number > ny >= 0 and maps[nx][ny]==1 and visited[nx][ny] == -1:\n",
    "            q.append((nx,ny))\n",
    "            visited[nx][ny]=visited[now[0]][now[1]]+1"
   ]
  },
  {
   "cell_type": "code",
   "execution_count": 7,
   "id": "2e61b2e5",
   "metadata": {},
   "outputs": [
    {
     "data": {
      "text/plain": [
       "11"
      ]
     },
     "execution_count": 7,
     "metadata": {},
     "output_type": "execute_result"
    }
   ],
   "source": [
    "visited[n_number-1][v_number-1]+1"
   ]
  },
  {
   "cell_type": "markdown",
   "id": "90f77498",
   "metadata": {},
   "source": [
    "### 줄서는 법"
   ]
  },
  {
   "cell_type": "code",
   "execution_count": 15,
   "id": "b1cb1936",
   "metadata": {},
   "outputs": [],
   "source": [
    "from itertools import permutations\n",
    "arr = [1, 2, 3]\n",
    "result = list(permutations(arr, 3))"
   ]
  },
  {
   "cell_type": "code",
   "execution_count": 18,
   "id": "d37d2417",
   "metadata": {},
   "outputs": [
    {
     "data": {
      "text/plain": [
       "[3, 1, 2]"
      ]
     },
     "execution_count": 18,
     "metadata": {},
     "output_type": "execute_result"
    }
   ],
   "source": [
    "list(result[4])"
   ]
  },
  {
   "cell_type": "code",
   "execution_count": 51,
   "id": "10dcc7d8",
   "metadata": {},
   "outputs": [],
   "source": [
    "s = []\n",
    "count = 0\n",
    "answer = ''\n",
    "\n",
    "def dfs(m,k):\n",
    "    global count, answer\n",
    "    if len(s)==m:\n",
    "        count += 1\n",
    "        if count == k:\n",
    "            answer = list(map(int,s))\n",
    "    for i in range(1,n+1):\n",
    "        if i not in s:\n",
    "            s.append(i)\n",
    "            dfs(m,k)\n",
    "            s.pop()\n",
    "            \n",
    "def solution(n, k):\n",
    "    dfs(n,k)\n",
    "    return answer"
   ]
  },
  {
   "cell_type": "code",
   "execution_count": 53,
   "id": "263b6e45",
   "metadata": {},
   "outputs": [
    {
     "data": {
      "text/plain": [
       "[3, 1, 2]"
      ]
     },
     "execution_count": 53,
     "metadata": {},
     "output_type": "execute_result"
    }
   ],
   "source": [
    "solution(n, k)"
   ]
  },
  {
   "cell_type": "code",
   "execution_count": 58,
   "id": "e6900c34",
   "metadata": {},
   "outputs": [],
   "source": [
    "n=5\n",
    "k=10\n",
    "s = []\n",
    "count = 0\n",
    "answer = ''\n",
    "\n",
    "def dfs(m,k):\n",
    "    global count, answer\n",
    "    if len(s)==m:\n",
    "        count += 1\n",
    "        if count == k:\n",
    "            answer = list(map(int,s))\n",
    "    for i in range(1,n+1):\n",
    "        if i not in s:\n",
    "            s.append(i)\n",
    "            dfs(m,k)\n",
    "            s.pop()\n",
    "            \n",
    "def solution(n, k):\n",
    "    dfs(n,k)\n",
    "    return answer"
   ]
  },
  {
   "cell_type": "code",
   "execution_count": 59,
   "id": "025d85f7",
   "metadata": {},
   "outputs": [
    {
     "data": {
      "text/plain": [
       "[1, 3, 4, 5, 2]"
      ]
     },
     "execution_count": 59,
     "metadata": {},
     "output_type": "execute_result"
    }
   ],
   "source": [
    "solution(n, k)"
   ]
  },
  {
   "cell_type": "code",
   "execution_count": null,
   "id": "5d00af84",
   "metadata": {},
   "outputs": [],
   "source": []
  }
 ],
 "metadata": {
  "kernelspec": {
   "display_name": "Python 3 (ipykernel)",
   "language": "python",
   "name": "python3"
  },
  "language_info": {
   "codemirror_mode": {
    "name": "ipython",
    "version": 3
   },
   "file_extension": ".py",
   "mimetype": "text/x-python",
   "name": "python",
   "nbconvert_exporter": "python",
   "pygments_lexer": "ipython3",
   "version": "3.9.7"
  }
 },
 "nbformat": 4,
 "nbformat_minor": 5
}
