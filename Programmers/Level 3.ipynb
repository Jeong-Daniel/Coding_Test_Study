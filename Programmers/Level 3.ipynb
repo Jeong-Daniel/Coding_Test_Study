{
 "cells": [
  {
   "cell_type": "markdown",
   "id": "4719fbb8",
   "metadata": {},
   "source": [
    "### 네트워크"
   ]
  },
  {
   "cell_type": "code",
   "execution_count": 1,
   "id": "6ef51ec7",
   "metadata": {},
   "outputs": [],
   "source": [
    "computers = [[1, 1, 0], [1, 1, 0], [0, 0, 1]]"
   ]
  },
  {
   "cell_type": "code",
   "execution_count": 13,
   "id": "27d0468b",
   "metadata": {},
   "outputs": [
    {
     "name": "stdout",
     "output_type": "stream",
     "text": [
      "[[0, 0, 0], [0, 0, 0], [0, 0, 0]]\n",
      "[[1, 1, 1], [1, 1, 0], [0, 0, 0]]\n",
      "[[1, 1, 1], [1, 1, 0], [0, 0, 0]]\n",
      "[[1, 1, 1], [1, 1, 0], [0, 0, 0]]\n",
      "[[1, 1, 1], [1, 1, 0], [0, 0, 0]]\n",
      "[[1, 1, 1], [1, 1, 0], [0, 0, 0]]\n",
      "[[1, 1, 1], [1, 1, 0], [0, 0, 0]]\n",
      "[[1, 1, 1], [1, 1, 0], [0, 0, 0]]\n",
      "[[1, 1, 1], [1, 1, 0], [0, 0, 0]]\n",
      "2\n"
     ]
    }
   ],
   "source": [
    "from collections import deque\n",
    "\n",
    "n = len(computers)\n",
    "m = len(computers[0])\n",
    "visited = [[0]*n for _ in range(m)]\n",
    "q = deque()\n",
    "count = 0\n",
    "\n",
    "dx = [0,1,0,-1]\n",
    "dy = [1,0,-1,0]\n",
    "\n",
    "for i in range(n):\n",
    "    for j in range(m):\n",
    "        print(visited)\n",
    "        if visited[i][j]==0 and computers[i][j]==1:\n",
    "            q.append((i,j))\n",
    "            while q:\n",
    "                loc = q.popleft()\n",
    "                for k in range(4):\n",
    "                    nx = loc[0] + dx[k]\n",
    "                    ny = loc[1] + dy[k]\n",
    "                    if n>nx>=0 and m>ny>=0 and visited[i][j]==0 and computers[i][j]==1:\n",
    "                        visited[nx][ny]=1\n",
    "                        q.append((nx,ny))\n",
    "            count += 1\n",
    "                        \n",
    "print(count)"
   ]
  },
  {
   "cell_type": "code",
   "execution_count": 62,
   "id": "88496a81",
   "metadata": {
    "scrolled": true
   },
   "outputs": [],
   "source": [
    "n=3\n",
    "computers = [[1, 1, 0], [1, 1, 1], [0, 1, 1]]\n",
    "graph_map = [[] for i in range(n)]\n",
    "visited = [False]*n\n",
    "for i in range(n):\n",
    "    for j in range(n):\n",
    "        if computers[i][j] == 1:\n",
    "            graph_map[i].append(j)"
   ]
  },
  {
   "cell_type": "code",
   "execution_count": 65,
   "id": "40cb0f2b",
   "metadata": {},
   "outputs": [
    {
     "data": {
      "text/plain": [
       "[[0, 1], [0, 1, 2], [1, 2]]"
      ]
     },
     "execution_count": 65,
     "metadata": {},
     "output_type": "execute_result"
    }
   ],
   "source": [
    "graph_map"
   ]
  },
  {
   "cell_type": "code",
   "execution_count": 63,
   "id": "66002225",
   "metadata": {},
   "outputs": [],
   "source": [
    "from collections import deque\n",
    "q = deque()\n",
    "count = 0\n",
    "for i in range(n):\n",
    "    if visited[i] == False:\n",
    "        visited[i]=True\n",
    "        count+=1\n",
    "        q.append(i)\n",
    "        while q:\n",
    "            now = q.popleft()\n",
    "            for j in graph_map[now]:\n",
    "                if visited[j] == False:\n",
    "                    visited[j] = True\n",
    "                    q.append(j)"
   ]
  },
  {
   "cell_type": "code",
   "execution_count": 64,
   "id": "fd137b29",
   "metadata": {},
   "outputs": [
    {
     "data": {
      "text/plain": [
       "1"
      ]
     },
     "execution_count": 64,
     "metadata": {},
     "output_type": "execute_result"
    }
   ],
   "source": [
    "count"
   ]
  },
  {
   "cell_type": "markdown",
   "id": "18cb5d1a",
   "metadata": {},
   "source": [
    "### 단어변환"
   ]
  },
  {
   "cell_type": "code",
   "execution_count": 80,
   "id": "80022e33",
   "metadata": {},
   "outputs": [],
   "source": [
    "begin = \"hit\"\n",
    "target = \"cog\"\n",
    "words = [\"hot\", \"dot\", \"dog\", \"lot\", \"log\", \"cog\"]"
   ]
  },
  {
   "cell_type": "code",
   "execution_count": 81,
   "id": "f917d053",
   "metadata": {},
   "outputs": [],
   "source": [
    "from collections import deque\n",
    "\n",
    "def word(a,b):\n",
    "    length = len(a)\n",
    "    count = 0\n",
    "    for i in range(length):\n",
    "        if a[i]!=b[i]:\n",
    "            count+=1\n",
    "    return count\n",
    "\n",
    "visited = [-1]*length\n",
    "q = deque()\n",
    "length = len(words)\n",
    "check_list = [0]*length\n",
    "start_num = None\n",
    "for i in range(length):\n",
    "    dist = word(begin,words[i])\n",
    "    check_list[i] = dist\n",
    "    if dist == 1:\n",
    "        visited[i]=0\n",
    "        q.append(i)\n",
    "        \n",
    "    dist_t = word(target,words[i])\n",
    "    if dist_t == 0:\n",
    "        find = i\n",
    "            \n",
    "if not q:\n",
    "    print(False)\n",
    "    #return 0\n",
    "    \n",
    "graph_map = [[0]*length for n in range(length)]\n",
    "\n",
    "for a in range(length):\n",
    "    for b in range(length):\n",
    "        graph_map[a][b] = word(words[a],words[b])"
   ]
  },
  {
   "cell_type": "code",
   "execution_count": 82,
   "id": "9077096a",
   "metadata": {
    "scrolled": true
   },
   "outputs": [
    {
     "name": "stdout",
     "output_type": "stream",
     "text": [
      "4\n"
     ]
    }
   ],
   "source": [
    "while q:\n",
    "    now = q.popleft()\n",
    "    if now == find:\n",
    "        break\n",
    "    temp_map = graph_map[now]\n",
    "    for i in range(length):\n",
    "        if temp_map[i]==1 and visited[i] != 0:\n",
    "            q.append(i)\n",
    "            visited[i] = visited[now]+1\n",
    "\n",
    "print(visited[find])"
   ]
  },
  {
   "cell_type": "code",
   "execution_count": 79,
   "id": "376329b1",
   "metadata": {
    "scrolled": false
   },
   "outputs": [
    {
     "data": {
      "text/plain": [
       "[[0, 1, 2, 1, 2, 2],\n",
       " [1, 0, 1, 1, 2, 2],\n",
       " [2, 1, 0, 2, 1, 1],\n",
       " [1, 1, 2, 0, 1, 2],\n",
       " [2, 2, 1, 1, 0, 1],\n",
       " [2, 2, 1, 2, 1, 0]]"
      ]
     },
     "execution_count": 79,
     "metadata": {},
     "output_type": "execute_result"
    }
   ],
   "source": [
    "graph_map"
   ]
  },
  {
   "cell_type": "code",
   "execution_count": 92,
   "id": "f31eda73",
   "metadata": {},
   "outputs": [],
   "source": [
    "from collections import deque\n",
    "\n",
    "def word(a,b):\n",
    "    length = len(a)\n",
    "    count = 0\n",
    "    for i in range(length):\n",
    "        if a[i]!=b[i]:\n",
    "            count+=1\n",
    "    return count\n",
    "\n",
    "def solution(begin, target, words):\n",
    "    \n",
    "    if target not in words:\n",
    "        return 0\n",
    "    \n",
    "    q = deque()\n",
    "    length = len(words)\n",
    "    visited = [-1]*length\n",
    "    check_list = [0]*length\n",
    "    start_num = None\n",
    "    \n",
    "    for i in range(length):\n",
    "        dist = word(begin,words[i])\n",
    "        check_list[i] = dist\n",
    "        if dist == 1:\n",
    "            visited[i]=0\n",
    "            q.append(i)\n",
    "            \n",
    "        dist_t = word(target,words[i])\n",
    "        if dist_t == 0:\n",
    "            find = i\n",
    "            \n",
    "    if not q:\n",
    "        return 0\n",
    "    \n",
    "    graph_map = [[0]*length for n in range(length)]\n",
    "\n",
    "    for a in range(length):\n",
    "        for b in range(length):\n",
    "            graph_map[a][b] = word(words[a],words[b])\n",
    "\n",
    "    while q:\n",
    "        now = q.popleft()\n",
    "        if now == find:\n",
    "            break\n",
    "        temp_map = graph_map[now]\n",
    "        for i in range(length):\n",
    "            if temp_map[i]==1 and visited[i] == -1:\n",
    "                q.append(i)\n",
    "                visited[i] = visited[now]+1\n",
    "    \n",
    "    return visited[find]+1"
   ]
  },
  {
   "cell_type": "code",
   "execution_count": 93,
   "id": "aa76022a",
   "metadata": {},
   "outputs": [
    {
     "data": {
      "text/plain": [
       "4"
      ]
     },
     "execution_count": 93,
     "metadata": {},
     "output_type": "execute_result"
    }
   ],
   "source": [
    "solution(begin, target, words)"
   ]
  },
  {
   "cell_type": "markdown",
   "id": "fb52b3ff",
   "metadata": {},
   "source": [
    "### 가장 먼 노드"
   ]
  },
  {
   "cell_type": "code",
   "execution_count": 126,
   "id": "3a3b7a48",
   "metadata": {},
   "outputs": [],
   "source": [
    "from collections import deque\n",
    "\n",
    "n = 6\n",
    "vertex = [[3, 6], [4, 3], [3, 2], [1, 3], [1, 2], [2, 4], [5, 2]]\n",
    "\n",
    "graph = [[0]*n for i in range(n)]\n",
    "\n",
    "for x,y in vertex:\n",
    "    graph[x-1][y-1] = 1\n",
    "    graph[y-1][x-1] = 1\n",
    "visited = [-1]*n"
   ]
  },
  {
   "cell_type": "code",
   "execution_count": 127,
   "id": "27f3404b",
   "metadata": {
    "scrolled": true
   },
   "outputs": [
    {
     "name": "stdout",
     "output_type": "stream",
     "text": [
      "3\n"
     ]
    }
   ],
   "source": [
    "start = 0\n",
    "visited[start] = 0\n",
    "q.append(start)\n",
    "max_num = 0\n",
    "while q:\n",
    "    now = q.popleft()\n",
    "    temp_map = graph[now]\n",
    "    for i in range(n):\n",
    "        if temp_map[i]==1 and visited[i] == -1:\n",
    "            q.append(i)\n",
    "            visited[i] = visited[now]+1\n",
    "            max_num = max(max_num,visited[i])\n",
    "\n",
    "count = 0\n",
    "for i in range(n):\n",
    "    if visited[i] == max_num:\n",
    "        count += 1\n",
    "        \n",
    "print(count)"
   ]
  },
  {
   "cell_type": "markdown",
   "id": "8cbdc8bb",
   "metadata": {},
   "source": [
    "#### 2차원 배열 대신 그래프로 풀기"
   ]
  },
  {
   "cell_type": "code",
   "execution_count": 145,
   "id": "3d47cfe8",
   "metadata": {},
   "outputs": [],
   "source": [
    "from collections import deque\n",
    "\n",
    "n = 6\n",
    "vertex = [[3, 6], [4, 3], [3, 2], [1, 3], [1, 2], [2, 4], [5, 2]]\n",
    "graph = [[]*n for i in range(n+1)]\n",
    "for x,y in vertex:\n",
    "    graph[x].append(y)\n",
    "    graph[y].append(x)\n",
    "visited = [-1]*(n+1)"
   ]
  },
  {
   "cell_type": "code",
   "execution_count": 146,
   "id": "41a895e8",
   "metadata": {},
   "outputs": [],
   "source": [
    "start = 1\n",
    "q = deque()\n",
    "answer = 0\n",
    "q.append(start)\n",
    "visited[start] = 0\n",
    "while q:\n",
    "    now = q.popleft()\n",
    "    for j in graph[now]:\n",
    "        if visited[j] == -1:\n",
    "            visited[j] = visited[now]+1\n",
    "            q.append(j)"
   ]
  },
  {
   "cell_type": "code",
   "execution_count": 149,
   "id": "6a59016a",
   "metadata": {},
   "outputs": [
    {
     "data": {
      "text/plain": [
       "3"
      ]
     },
     "execution_count": 149,
     "metadata": {},
     "output_type": "execute_result"
    }
   ],
   "source": [
    "a = max(visited)\n",
    "visited.count(a)"
   ]
  },
  {
   "cell_type": "code",
   "execution_count": 150,
   "id": "a83d4fa7",
   "metadata": {},
   "outputs": [],
   "source": [
    "import heapq"
   ]
  },
  {
   "cell_type": "code",
   "execution_count": 156,
   "id": "5b77d81f",
   "metadata": {},
   "outputs": [
    {
     "data": {
      "text/plain": [
       "[1, 3, 5, 7, 9]"
      ]
     },
     "execution_count": 156,
     "metadata": {},
     "output_type": "execute_result"
    }
   ],
   "source": [
    "min_heap = []\n",
    "heapq.heappush(min_heap,1)\n",
    "heapq.heappush(min_heap,3)\n",
    "heapq.heappush(min_heap,5)\n",
    "heapq.heappush(min_heap,7)\n",
    "heapq.heappush(min_heap,9)\n",
    "min_heap"
   ]
  },
  {
   "cell_type": "code",
   "execution_count": 157,
   "id": "90f6e17f",
   "metadata": {},
   "outputs": [
    {
     "data": {
      "text/plain": [
       "[(-9, 9), (-7, 7), (-3, 3), (-1, 1), (-5, 5)]"
      ]
     },
     "execution_count": 157,
     "metadata": {},
     "output_type": "execute_result"
    }
   ],
   "source": [
    "max_heap = []\n",
    "heapq.heappush(max_heap,(-1,1))\n",
    "heapq.heappush(max_heap,(-3,3))\n",
    "heapq.heappush(max_heap,(-5,5))\n",
    "heapq.heappush(max_heap,(-7,7))\n",
    "heapq.heappush(max_heap,(-9,9))\n",
    "max_heap"
   ]
  },
  {
   "cell_type": "markdown",
   "id": "4071dc78",
   "metadata": {},
   "source": [
    "### 순위"
   ]
  },
  {
   "cell_type": "code",
   "execution_count": 205,
   "id": "4f70bbab",
   "metadata": {},
   "outputs": [],
   "source": [
    "n=5\n",
    "results=[[4, 3], [4, 2], [3, 2], [1, 2], [2, 5]]"
   ]
  },
  {
   "cell_type": "code",
   "execution_count": 206,
   "id": "ce511c64",
   "metadata": {},
   "outputs": [],
   "source": [
    "graph = [[None]*n for i in range(n)]\n",
    "for i in range(n):\n",
    "    for j in range(n):\n",
    "        if i==j:\n",
    "            graph[i][j] = 0"
   ]
  },
  {
   "cell_type": "code",
   "execution_count": 207,
   "id": "af8f33aa",
   "metadata": {},
   "outputs": [
    {
     "data": {
      "text/plain": [
       "[[0, None, None, None, None],\n",
       " [None, 0, None, None, None],\n",
       " [None, None, 0, None, None],\n",
       " [None, None, None, 0, None],\n",
       " [None, None, None, None, 0]]"
      ]
     },
     "execution_count": 207,
     "metadata": {},
     "output_type": "execute_result"
    }
   ],
   "source": [
    "graph"
   ]
  },
  {
   "cell_type": "code",
   "execution_count": 208,
   "id": "5e61fe4c",
   "metadata": {},
   "outputs": [],
   "source": [
    "for x,y in results:\n",
    "    graph[x-1][y-1] = 1\n",
    "    graph[y-1][x-1] = -1"
   ]
  },
  {
   "cell_type": "code",
   "execution_count": 209,
   "id": "a51b12b1",
   "metadata": {},
   "outputs": [
    {
     "data": {
      "text/plain": [
       "[[0, 1, None, None, None],\n",
       " [-1, 0, -1, -1, 1],\n",
       " [None, 1, 0, -1, None],\n",
       " [None, 1, 1, 0, None],\n",
       " [None, -1, None, None, 0]]"
      ]
     },
     "execution_count": 209,
     "metadata": {},
     "output_type": "execute_result"
    }
   ],
   "source": [
    "graph"
   ]
  },
  {
   "cell_type": "code",
   "execution_count": 210,
   "id": "6762cb7b",
   "metadata": {},
   "outputs": [],
   "source": [
    "for i in range(n):\n",
    "    for j in range(n):\n",
    "        if graph[i][j] == -1:\n",
    "            for k in range(n):\n",
    "                if graph[j][k]==-1 and graph[i][k]==None:\n",
    "                    graph[i][k] = -1\n",
    "        \n",
    "        if graph[i][j] == 1:\n",
    "            for k in range(n):\n",
    "                if graph[j][k] == 1 and graph[i][k]==None:\n",
    "                    graph[i][k] = 1"
   ]
  },
  {
   "cell_type": "code",
   "execution_count": 211,
   "id": "55f91483",
   "metadata": {},
   "outputs": [
    {
     "data": {
      "text/plain": [
       "[[0, 1, None, None, 1],\n",
       " [-1, 0, -1, -1, 1],\n",
       " [None, 1, 0, -1, 1],\n",
       " [None, 1, 1, 0, 1],\n",
       " [-1, -1, -1, -1, 0]]"
      ]
     },
     "execution_count": 211,
     "metadata": {},
     "output_type": "execute_result"
    }
   ],
   "source": [
    "graph"
   ]
  },
  {
   "cell_type": "code",
   "execution_count": 212,
   "id": "fff62ac8",
   "metadata": {},
   "outputs": [
    {
     "name": "stdout",
     "output_type": "stream",
     "text": [
      "2\n"
     ]
    }
   ],
   "source": [
    "count = 0\n",
    "for i in range(n):\n",
    "    if None not in graph[i]:\n",
    "        count+=1\n",
    "print(count)"
   ]
  },
  {
   "cell_type": "code",
   "execution_count": 221,
   "id": "94a202aa",
   "metadata": {},
   "outputs": [],
   "source": [
    "def solution(n, results):\n",
    "    answer = 0\n",
    "    win_graph = defaultdict(set)    # 이긴 애들\n",
    "    lose_graph = defaultdict(set)   # 진 애들\n",
    "    \n",
    "    for winner,loser in results:        # 결과에서 이기고 진 애들 그래프화\n",
    "        win_graph[loser].add(winner)\n",
    "        lose_graph[winner].add(loser)\n",
    "\n",
    "    print(win_graph, lose_graph)\n",
    "        \n",
    "    for i in range(1,n+1):         \n",
    "        for winner in win_graph[i]:                    # i한테 진 애들은 i를 이긴 애들한테도 진 것\n",
    "            lose_graph[winner].update(lose_graph[i])\n",
    "        for loser in lose_graph[i]:                     # i한테 이긴 애들은 i한테 진 애들한테도 이긴 것\n",
    "            win_graph[loser].update(win_graph[i])\n",
    "    \n",
    "    for i in range(1,n+1):\n",
    "        if len(win_graph[i]) + len(lose_graph[i]) == n-1:   # i한테 이기고 진 애들 합쳐서 n-1이면 순위가 결정된 것\n",
    "            answer += 1\n",
    "\n",
    "    return answer"
   ]
  },
  {
   "cell_type": "code",
   "execution_count": 222,
   "id": "cedac5e1",
   "metadata": {},
   "outputs": [
    {
     "name": "stdout",
     "output_type": "stream",
     "text": [
      "defaultdict(<class 'set'>, {3: {4}, 2: {1, 3, 4}, 5: {2}}) defaultdict(<class 'set'>, {4: {2, 3}, 3: {2}, 1: {2}, 2: {5}})\n"
     ]
    },
    {
     "data": {
      "text/plain": [
       "2"
      ]
     },
     "execution_count": 222,
     "metadata": {},
     "output_type": "execute_result"
    }
   ],
   "source": [
    "from collections import defaultdict\n",
    "\n",
    "n=5\n",
    "results=[[4, 3], [4, 2], [3, 2], [1, 2], [2, 5]]\n",
    "solution(n, results)"
   ]
  },
  {
   "cell_type": "markdown",
   "id": "490eccf9",
   "metadata": {},
   "source": [
    "### 여행경로"
   ]
  },
  {
   "cell_type": "code",
   "execution_count": 446,
   "id": "6e6337fb",
   "metadata": {},
   "outputs": [],
   "source": [
    "tickets = [[\"ICN\", \"JFK\"], [\"HND\", \"IAD\"], [\"JFK\", \"HND\"]]"
   ]
  },
  {
   "cell_type": "code",
   "execution_count": 447,
   "id": "507ba512",
   "metadata": {},
   "outputs": [],
   "source": [
    "plain = set()\n",
    "for a,b in tickets:\n",
    "    plain.add(a)\n",
    "    plain.add(b)\n",
    "plain.remove('ICN')"
   ]
  },
  {
   "cell_type": "code",
   "execution_count": 448,
   "id": "f8afa8d1",
   "metadata": {},
   "outputs": [],
   "source": [
    "temp_list = list(plain)\n",
    "temp_list.sort()"
   ]
  },
  {
   "cell_type": "code",
   "execution_count": 449,
   "id": "0c0db584",
   "metadata": {},
   "outputs": [],
   "source": [
    "app_dict = {}\n",
    "for index,i in enumerate(temp_list):\n",
    "    app_dict[i] = (1+index)\n",
    "app_dict['ICN'] = 0"
   ]
  },
  {
   "cell_type": "code",
   "execution_count": 452,
   "id": "3b692d78",
   "metadata": {},
   "outputs": [],
   "source": [
    "lenght = len(app_dict)\n",
    "graph_map = [[0]*length for i in range(lenght)]\n",
    "for i,j in tickets:\n",
    "    x = app_dict[i]\n",
    "    y = app_dict[j]\n",
    "    graph_map[x][y] = 1"
   ]
  },
  {
   "cell_type": "code",
   "execution_count": 453,
   "id": "9de4780d",
   "metadata": {},
   "outputs": [
    {
     "data": {
      "text/plain": [
       "[[0, 0, 0, 1], [0, 0, 1, 0], [0, 0, 0, 0], [0, 1, 0, 0]]"
      ]
     },
     "execution_count": 453,
     "metadata": {},
     "output_type": "execute_result"
    }
   ],
   "source": [
    "graph_map"
   ]
  },
  {
   "cell_type": "code",
   "execution_count": 454,
   "id": "5fc3d11b",
   "metadata": {},
   "outputs": [],
   "source": [
    "start = 0"
   ]
  },
  {
   "cell_type": "code",
   "execution_count": 457,
   "id": "42f2aa0a",
   "metadata": {},
   "outputs": [],
   "source": [
    "import collections\n",
    "answer = []\n",
    "graph = collections.defaultdict(list)\n",
    "\n",
    "def dfs(s):\n",
    "    while graph[s]:\n",
    "        dfs(graph[s].pop(0))\n",
    "\n",
    "    if not graph[s]:\n",
    "        answer.append(s)\n",
    "        return\n",
    "\n",
    "def solution(tickets):\n",
    "    \n",
    "    for a,b in tickets:\n",
    "        graph[a].append(b)\n",
    "    for a, b in graph.items():\n",
    "        graph[a].sort()\n",
    "        \n",
    "    dfs(\"ICN\")\n",
    "\n",
    "    return answer[::-1]"
   ]
  },
  {
   "cell_type": "code",
   "execution_count": 458,
   "id": "e2b69171",
   "metadata": {},
   "outputs": [
    {
     "name": "stdout",
     "output_type": "stream",
     "text": [
      "ICN ['JFK']\n",
      "HND ['IAD']\n",
      "JFK ['HND']\n"
     ]
    },
    {
     "data": {
      "text/plain": [
       "['ICN', 'JFK', 'HND', 'IAD']"
      ]
     },
     "execution_count": 458,
     "metadata": {},
     "output_type": "execute_result"
    }
   ],
   "source": [
    "solution(tickets)"
   ]
  },
  {
   "cell_type": "code",
   "execution_count": 459,
   "id": "df2bfb94",
   "metadata": {},
   "outputs": [],
   "source": [
    "answer = []\n",
    "graph = collections.defaultdict(list)\n",
    "\n",
    "for a,b in tickets:\n",
    "    graph[a].append(b)"
   ]
  },
  {
   "cell_type": "code",
   "execution_count": 462,
   "id": "25099fce",
   "metadata": {},
   "outputs": [
    {
     "data": {
      "text/plain": [
       "dict_items([('ICN', ['JFK']), ('HND', ['IAD']), ('JFK', ['HND'])])"
      ]
     },
     "execution_count": 462,
     "metadata": {},
     "output_type": "execute_result"
    }
   ],
   "source": [
    "graph.items()"
   ]
  },
  {
   "cell_type": "code",
   "execution_count": 466,
   "id": "77855ed3",
   "metadata": {},
   "outputs": [],
   "source": [
    "for a, b in graph.items():\n",
    "    graph[a].sort()"
   ]
  },
  {
   "cell_type": "code",
   "execution_count": null,
   "id": "98834a22",
   "metadata": {},
   "outputs": [],
   "source": []
  }
 ],
 "metadata": {
  "kernelspec": {
   "display_name": "Python 3 (ipykernel)",
   "language": "python",
   "name": "python3"
  },
  "language_info": {
   "codemirror_mode": {
    "name": "ipython",
    "version": 3
   },
   "file_extension": ".py",
   "mimetype": "text/x-python",
   "name": "python",
   "nbconvert_exporter": "python",
   "pygments_lexer": "ipython3",
   "version": "3.9.7"
  }
 },
 "nbformat": 4,
 "nbformat_minor": 5
}
