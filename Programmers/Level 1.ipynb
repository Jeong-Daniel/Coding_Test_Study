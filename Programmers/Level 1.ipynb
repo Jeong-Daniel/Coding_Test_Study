{
 "cells": [
  {
   "cell_type": "markdown",
   "id": "1f99dbd9",
   "metadata": {},
   "source": [
    "### 성격유형검사하기\n",
    "https://school.programmers.co.kr/learn/courses/30/lessons/118666"
   ]
  },
  {
   "cell_type": "code",
   "execution_count": 11,
   "id": "e4c39c90",
   "metadata": {},
   "outputs": [],
   "source": [
    "survey = [\"AN\", \"CF\", \"MJ\", \"RT\", \"NA\"]\n",
    "choices = [5, 3, 2, 7, 5]"
   ]
  },
  {
   "cell_type": "code",
   "execution_count": 22,
   "id": "c8183e73",
   "metadata": {},
   "outputs": [],
   "source": [
    "grade = {'R':0,'T':0,'C':0,'F':0,'J':0,'M':0,'A':0,'N':0}"
   ]
  },
  {
   "cell_type": "code",
   "execution_count": 23,
   "id": "0d594776",
   "metadata": {},
   "outputs": [
    {
     "name": "stdout",
     "output_type": "stream",
     "text": [
      "1 A N\n",
      "-1 C F\n",
      "-2 M J\n",
      "3 R T\n",
      "1 N A\n"
     ]
    }
   ],
   "source": [
    "length = len(survey)\n",
    "for i in range(length):\n",
    "    temp = choices[i]-4\n",
    "    left_c = survey[i][0]\n",
    "    right_c = survey[i][1]\n",
    "    print(temp, left_c, right_c)\n",
    "    if temp>0:\n",
    "        grade[right_c]+=temp\n",
    "    elif temp<0:\n",
    "        grade[left_c]+=abs(temp)"
   ]
  },
  {
   "cell_type": "code",
   "execution_count": 25,
   "id": "62b67d23",
   "metadata": {},
   "outputs": [
    {
     "name": "stdout",
     "output_type": "stream",
     "text": [
      "TCMA\n"
     ]
    }
   ],
   "source": [
    "result = ''\n",
    "if grade['R']>=grade['T']:\n",
    "    result+='R'\n",
    "else:\n",
    "    result+='T'\n",
    "if grade['C']>=grade['F']:\n",
    "    result+='C'\n",
    "else:\n",
    "    result+='F'\n",
    "if grade['J']>=grade['M']:\n",
    "    result+='J'\n",
    "else:\n",
    "    result+='M'\n",
    "if grade['A']>=grade['N']:\n",
    "    result+='A'\n",
    "else:\n",
    "    result+='N'\n",
    "print(result)"
   ]
  },
  {
   "cell_type": "markdown",
   "id": "aec55948",
   "metadata": {},
   "source": [
    "### 신고 결과 받기\n",
    "https://school.programmers.co.kr/learn/courses/30/lessons/92334"
   ]
  },
  {
   "cell_type": "code",
   "execution_count": 26,
   "id": "f81f6a0e",
   "metadata": {},
   "outputs": [],
   "source": [
    "id_list = [\"muzi\", \"frodo\", \"apeach\", \"neo\"]\n",
    "report = [\"muzi frodo\",\"apeach frodo\",\"frodo neo\",\"muzi neo\",\"apeach muzi\"]\n",
    "k = 2"
   ]
  },
  {
   "cell_type": "code",
   "execution_count": 27,
   "id": "0a2b12b1",
   "metadata": {},
   "outputs": [],
   "source": [
    "length = len(id_list)\n",
    "graph = [[0]*length for _ in range(length)]"
   ]
  },
  {
   "cell_type": "code",
   "execution_count": 30,
   "id": "09b81d84",
   "metadata": {},
   "outputs": [],
   "source": [
    "name_list = {}\n",
    "for i in range(length):\n",
    "    name_list[id_list[i]]=i"
   ]
  },
  {
   "cell_type": "code",
   "execution_count": 35,
   "id": "2bfd12de",
   "metadata": {},
   "outputs": [],
   "source": [
    "for j in range(len(report)):\n",
    "    a,b = map(str,report[j].split())\n",
    "    graph[name_list[a]][name_list[b]] = 1"
   ]
  },
  {
   "cell_type": "code",
   "execution_count": 41,
   "id": "a2027899",
   "metadata": {},
   "outputs": [],
   "source": [
    "report_list = []\n",
    "for i in range(length):\n",
    "    check = sum(list(zip(*graph))[i])\n",
    "    if check >= k:\n",
    "        report_list.append(i)"
   ]
  },
  {
   "cell_type": "code",
   "execution_count": 48,
   "id": "818e242d",
   "metadata": {},
   "outputs": [],
   "source": [
    "answer = [0]*length\n",
    "for i in range(length):\n",
    "    for j in report_list:\n",
    "        if graph[i][j] == 1:\n",
    "            answer[i]+=1\n",
    "            \n",
    "return answer"
   ]
  },
  {
   "cell_type": "markdown",
   "id": "d9ac41d2",
   "metadata": {},
   "source": [
    "그래프를 이용하기"
   ]
  },
  {
   "cell_type": "code",
   "execution_count": 83,
   "id": "81e5ef32",
   "metadata": {},
   "outputs": [],
   "source": [
    "id_list = [\"muzi\", \"frodo\", \"apeach\", \"neo\"]\n",
    "report = [\"muzi frodo\",\"apeach frodo\",\"frodo neo\",\"muzi neo\",\"apeach muzi\",\"apeach muzi\",\"muzi neo\"]\n",
    "k = 2"
   ]
  },
  {
   "cell_type": "code",
   "execution_count": 84,
   "id": "a6e8e6e2",
   "metadata": {},
   "outputs": [],
   "source": [
    "length = len(id_list)\n",
    "graph = [[]*length for _ in range(length)]\n",
    "name_list = {}\n",
    "for i in range(length):\n",
    "    name_list[id_list[i]]=i\n",
    "\n",
    "for j in range(len(report)):\n",
    "    a,b = map(str,report[j].split())\n",
    "    if name_list[a] not in graph[name_list[b]]:\n",
    "        graph[name_list[b]].append(name_list[a])"
   ]
  },
  {
   "cell_type": "code",
   "execution_count": 90,
   "id": "d3bdc949",
   "metadata": {},
   "outputs": [
    {
     "data": {
      "text/plain": [
       "[[2], [0, 2], [], [1, 0]]"
      ]
     },
     "execution_count": 90,
     "metadata": {},
     "output_type": "execute_result"
    }
   ],
   "source": [
    "graph"
   ]
  },
  {
   "cell_type": "code",
   "execution_count": 96,
   "id": "5693ee20",
   "metadata": {},
   "outputs": [
    {
     "name": "stdout",
     "output_type": "stream",
     "text": [
      "[2, 1, 1, 0]\n"
     ]
    }
   ],
   "source": [
    "answer = [0]*length\n",
    "for i in range(length):\n",
    "    if len(graph[i])>=k:\n",
    "        for i in graph[i]:\n",
    "            answer[i]+=1            \n",
    "print(answer)"
   ]
  },
  {
   "cell_type": "markdown",
   "id": "b16cae54",
   "metadata": {},
   "source": [
    "### 같은 숫자는 싫어"
   ]
  },
  {
   "cell_type": "code",
   "execution_count": 105,
   "id": "b84572dc",
   "metadata": {},
   "outputs": [],
   "source": [
    "arr=[1,1,3,3,0,1,1]\n",
    "#answer=[1,3,0,1]"
   ]
  },
  {
   "cell_type": "code",
   "execution_count": 109,
   "id": "2b2a7242",
   "metadata": {},
   "outputs": [],
   "source": [
    "lenght = len(arr)\n",
    "curr = arr[0]\n",
    "answer = [curr]\n",
    "for i in range(1, lenght):\n",
    "    now = arr[i]\n",
    "    if curr==now:\n",
    "        continue\n",
    "    else:\n",
    "        answer.append(now)\n",
    "        curr = now"
   ]
  },
  {
   "cell_type": "code",
   "execution_count": 110,
   "id": "de98842d",
   "metadata": {},
   "outputs": [
    {
     "data": {
      "text/plain": [
       "[1, 3, 0, 1]"
      ]
     },
     "execution_count": 110,
     "metadata": {},
     "output_type": "execute_result"
    }
   ],
   "source": [
    "answer"
   ]
  },
  {
   "cell_type": "markdown",
   "id": "96c7930d",
   "metadata": {},
   "source": [
    "### 최소직사각형\n"
   ]
  },
  {
   "cell_type": "code",
   "execution_count": 111,
   "id": "fd35bb4a",
   "metadata": {},
   "outputs": [],
   "source": [
    "sizes = [[60, 50], [30, 70], [60, 30], [80, 40]]"
   ]
  },
  {
   "cell_type": "code",
   "execution_count": 112,
   "id": "092498f3",
   "metadata": {},
   "outputs": [],
   "source": [
    "length = len(sizes)\n",
    "for i in range(length):\n",
    "    a = sizes[i][0]\n",
    "    b = sizes[i][1]\n",
    "    if a<b:\n",
    "        sizes[i][0], sizes[i][1] = sizes[i][1], sizes[i][0]"
   ]
  },
  {
   "cell_type": "code",
   "execution_count": 118,
   "id": "8229cb61",
   "metadata": {},
   "outputs": [
    {
     "name": "stdout",
     "output_type": "stream",
     "text": [
      "4000\n"
     ]
    }
   ],
   "source": [
    "max_1 = max(list(zip(*sizes))[0])\n",
    "max_2 = max(list(zip(*sizes))[1])\n",
    "result = max_1*max_2\n",
    "print(result)"
   ]
  },
  {
   "cell_type": "markdown",
   "id": "6a3c49e6",
   "metadata": {},
   "source": [
    "### 로또의 최고 순위와 최저 순위\n"
   ]
  },
  {
   "cell_type": "code",
   "execution_count": 147,
   "id": "82031a24",
   "metadata": {},
   "outputs": [],
   "source": [
    "lottos=[44, 1, 0, 0, 31, 25]\n",
    "win_nums=[31, 10, 45, 1, 6, 19]"
   ]
  },
  {
   "cell_type": "code",
   "execution_count": 148,
   "id": "1169b81f",
   "metadata": {
    "scrolled": true
   },
   "outputs": [],
   "source": [
    "num_list = [0]*46\n",
    "for i in range(6):\n",
    "    index = win_nums[i]\n",
    "    num_list[index] = 1"
   ]
  },
  {
   "cell_type": "code",
   "execution_count": 159,
   "id": "ea6abd68",
   "metadata": {},
   "outputs": [],
   "source": [
    "count_a = 0\n",
    "count_b = 0\n",
    "for i in range(6):\n",
    "    temp = lottos[i]\n",
    "    if temp==0:\n",
    "        count_b+=1\n",
    "    elif num_list[temp]!=0:\n",
    "        count_a+=1\n",
    "\n",
    "answer = []\n",
    "\n",
    "def count(num):\n",
    "    if num==6:\n",
    "        return 1\n",
    "    elif num==5:\n",
    "        return 2\n",
    "    elif num==4:\n",
    "        return 3\n",
    "    elif num==3:\n",
    "        return 4\n",
    "    elif num==2:\n",
    "        return 5\n",
    "    else:\n",
    "        return 6\n",
    "\n",
    "a = count(count_b+count_a)\n",
    "b = count(count_a)\n",
    "\n",
    "answer.append(a)\n",
    "answer.append(b)"
   ]
  },
  {
   "cell_type": "code",
   "execution_count": 160,
   "id": "76ea8c45",
   "metadata": {},
   "outputs": [
    {
     "data": {
      "text/plain": [
       "[3, 5]"
      ]
     },
     "execution_count": 160,
     "metadata": {},
     "output_type": "execute_result"
    }
   ],
   "source": [
    "answer"
   ]
  }
 ],
 "metadata": {
  "kernelspec": {
   "display_name": "Python 3 (ipykernel)",
   "language": "python",
   "name": "python3"
  },
  "language_info": {
   "codemirror_mode": {
    "name": "ipython",
    "version": 3
   },
   "file_extension": ".py",
   "mimetype": "text/x-python",
   "name": "python",
   "nbconvert_exporter": "python",
   "pygments_lexer": "ipython3",
   "version": "3.9.7"
  }
 },
 "nbformat": 4,
 "nbformat_minor": 5
}
