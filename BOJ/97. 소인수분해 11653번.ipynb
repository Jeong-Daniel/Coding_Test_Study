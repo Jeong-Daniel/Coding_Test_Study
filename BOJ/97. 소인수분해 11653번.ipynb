{
 "cells": [
  {
   "cell_type": "markdown",
   "id": "ba75f0a1",
   "metadata": {},
   "source": [
    "https://www.acmicpc.net/problem/11653"
   ]
  },
  {
   "cell_type": "code",
   "execution_count": 10,
   "id": "e48e82bd",
   "metadata": {},
   "outputs": [
    {
     "name": "stdout",
     "output_type": "stream",
     "text": [
      "9991\n",
      "97\n",
      "103\n"
     ]
    }
   ],
   "source": [
    "import math\n",
    "\n",
    "def func(x):\n",
    "    if x==1:\n",
    "        return False\n",
    "    temp = int(math.sqrt(x))\n",
    "    for i in range(2,temp+1):\n",
    "        if x%i == 0:\n",
    "            return False\n",
    "    return True\n",
    "\n",
    "num = int(input())\n",
    "for i in range(2, int(math.sqrt(num))+1):\n",
    "    if func(i):\n",
    "        while True:\n",
    "            if num%i==0:\n",
    "                num = int(num/i)\n",
    "                print(i)\n",
    "            else:\n",
    "                break\n",
    "if num!=1:\n",
    "    print(num)"
   ]
  },
  {
   "cell_type": "code",
   "execution_count": 12,
   "id": "07d0ce6c",
   "metadata": {},
   "outputs": [
    {
     "name": "stdout",
     "output_type": "stream",
     "text": [
      "72\n",
      "2\n",
      "2\n",
      "2\n",
      "3\n",
      "3\n"
     ]
    }
   ],
   "source": [
    "import math\n",
    "num = int(input())\n",
    "for i in range(2, int(math.sqrt(num))+1):\n",
    "    while num%i==0:\n",
    "        num = int(num/i)\n",
    "        print(i)\n",
    "if num!=1:\n",
    "    print(num)"
   ]
  },
  {
   "cell_type": "code",
   "execution_count": null,
   "id": "4215c685",
   "metadata": {},
   "outputs": [],
   "source": []
  }
 ],
 "metadata": {
  "kernelspec": {
   "display_name": "Python 3 (ipykernel)",
   "language": "python",
   "name": "python3"
  },
  "language_info": {
   "codemirror_mode": {
    "name": "ipython",
    "version": 3
   },
   "file_extension": ".py",
   "mimetype": "text/x-python",
   "name": "python",
   "nbconvert_exporter": "python",
   "pygments_lexer": "ipython3",
   "version": "3.9.7"
  }
 },
 "nbformat": 4,
 "nbformat_minor": 5
}
