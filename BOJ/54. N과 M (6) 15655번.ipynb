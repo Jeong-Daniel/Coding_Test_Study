{
 "cells": [
  {
   "cell_type": "markdown",
   "id": "b7a9590e",
   "metadata": {},
   "source": [
    "https://www.acmicpc.net/problem/15655"
   ]
  },
  {
   "cell_type": "code",
   "execution_count": 1,
   "id": "b62b8dd2",
   "metadata": {},
   "outputs": [
    {
     "name": "stdout",
     "output_type": "stream",
     "text": [
      "4 2\n",
      "9 8 7 1\n",
      "1 7 \n",
      "1 8 \n",
      "1 9 \n",
      "7 8 \n",
      "7 9 \n",
      "8 9 \n"
     ]
    }
   ],
   "source": [
    "n,m = map(int,input().split())\n",
    "num_list = list(map(int,input().split()))\n",
    "num_list.sort()\n",
    "arr = [0]*m\n",
    "isused = [False]*(max(num_list)+1)\n",
    "def func(k):\n",
    "    if k==m:\n",
    "        for i in range(m):\n",
    "            print(arr[i], end=' ')\n",
    "        print()\n",
    "        return\n",
    "    for j in num_list:\n",
    "        if not isused[j]:\n",
    "            arr[k]=j\n",
    "            isused[0:j+1] = [True]*(j+1)\n",
    "            func(k+1)\n",
    "            isused[0:j+1] = [False]*(j+1)\n",
    "func(0)"
   ]
  },
  {
   "cell_type": "code",
   "execution_count": null,
   "id": "d90e37ea",
   "metadata": {},
   "outputs": [],
   "source": []
  }
 ],
 "metadata": {
  "kernelspec": {
   "display_name": "Python 3 (ipykernel)",
   "language": "python",
   "name": "python3"
  },
  "language_info": {
   "codemirror_mode": {
    "name": "ipython",
    "version": 3
   },
   "file_extension": ".py",
   "mimetype": "text/x-python",
   "name": "python",
   "nbconvert_exporter": "python",
   "pygments_lexer": "ipython3",
   "version": "3.9.7"
  }
 },
 "nbformat": 4,
 "nbformat_minor": 5
}
