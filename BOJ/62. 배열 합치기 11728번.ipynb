{
 "cells": [
  {
   "cell_type": "code",
   "execution_count": 13,
   "id": "fe266a43",
   "metadata": {},
   "outputs": [
    {
     "name": "stdout",
     "output_type": "stream",
     "text": [
      "2 2\n",
      "3 5\n",
      "2 9\n",
      "2 3 5 9\n"
     ]
    }
   ],
   "source": [
    "n,m = map(int,input().split())\n",
    "list_a = list(map(int,input().split()))\n",
    "list_b = list(map(int,input().split()))\n",
    "print(*sorted(list_a+list_b))"
   ]
  },
  {
   "cell_type": "code",
   "execution_count": 19,
   "id": "57654f73",
   "metadata": {},
   "outputs": [
    {
     "name": "stdout",
     "output_type": "stream",
     "text": [
      "2 2\n",
      "3 5\n",
      "2 9\n",
      "2 3 5 [9]\n"
     ]
    }
   ],
   "source": [
    "n,m = map(int,input().split())\n",
    "list_a = list(map(int,input().split()))\n",
    "list_b = list(map(int,input().split()))\n",
    "list_c = []\n",
    "\n",
    "aidx = 0\n",
    "bidx = 0\n",
    "for i in range(n+m):\n",
    "    if bidx == m:\n",
    "        list_c.append(list_a[aidx:])\n",
    "        aidx+=1\n",
    "    elif aidx == n:\n",
    "        list_c.append(list_b[bidx])\n",
    "        bidx+=1\n",
    "    elif list_a[aidx]<=list_b[bidx]:\n",
    "        list_c.append(list_a[aidx])\n",
    "        aidx+=1\n",
    "    else:\n",
    "        list_c.append(list_b[bidx])\n",
    "        bidx+=1\n",
    "        \n",
    "print(*list_c)"
   ]
  },
  {
   "cell_type": "code",
   "execution_count": null,
   "id": "00c12d74",
   "metadata": {},
   "outputs": [],
   "source": []
  }
 ],
 "metadata": {
  "kernelspec": {
   "display_name": "Python 3 (ipykernel)",
   "language": "python",
   "name": "python3"
  },
  "language_info": {
   "codemirror_mode": {
    "name": "ipython",
    "version": 3
   },
   "file_extension": ".py",
   "mimetype": "text/x-python",
   "name": "python",
   "nbconvert_exporter": "python",
   "pygments_lexer": "ipython3",
   "version": "3.9.7"
  }
 },
 "nbformat": 4,
 "nbformat_minor": 5
}
