{
 "cells": [
  {
   "cell_type": "markdown",
   "id": "bafdc731",
   "metadata": {},
   "source": [
    "https://www.acmicpc.net/problem/1406"
   ]
  },
  {
   "cell_type": "code",
   "execution_count": 82,
   "id": "94482af3",
   "metadata": {},
   "outputs": [
    {
     "name": "stdout",
     "output_type": "stream",
     "text": [
      "abc\n",
      "9\n",
      "L\n",
      "L\n",
      "L\n",
      "L\n",
      "L\n",
      "P x\n",
      "L\n",
      "B\n",
      "P y\n",
      "yxabc\n"
     ]
    }
   ],
   "source": [
    "string = list(input())\n",
    "#string = list('abcd')\n",
    "now_loc = len(string)\n",
    "\n",
    "num = int(input())\n",
    "#num = 3\n",
    "\n",
    "for i in range(num):\n",
    "    func = input()\n",
    "    check_len = len(func)\n",
    "    if check_len!=1:\n",
    "        oper,stg = func.split()\n",
    "        string.insert(now_loc,stg)\n",
    "        now_loc+=1\n",
    "    else:\n",
    "        if func=='L':\n",
    "            if now_loc!=0:\n",
    "                now_loc-=1\n",
    "        elif func=='D':\n",
    "            if now_loc!=len(string):\n",
    "                now_loc+=1\n",
    "        elif func=='B':\n",
    "            if now_loc!=0:\n",
    "                del string[now_loc-1]\n",
    "                now_loc-=1\n",
    "    \n",
    "print(''.join(string))"
   ]
  },
  {
   "cell_type": "code",
   "execution_count": null,
   "id": "2c0e5100",
   "metadata": {},
   "outputs": [],
   "source": []
  }
 ],
 "metadata": {
  "kernelspec": {
   "display_name": "Python 3 (ipykernel)",
   "language": "python",
   "name": "python3"
  },
  "language_info": {
   "codemirror_mode": {
    "name": "ipython",
    "version": 3
   },
   "file_extension": ".py",
   "mimetype": "text/x-python",
   "name": "python",
   "nbconvert_exporter": "python",
   "pygments_lexer": "ipython3",
   "version": "3.9.7"
  }
 },
 "nbformat": 4,
 "nbformat_minor": 5
}
