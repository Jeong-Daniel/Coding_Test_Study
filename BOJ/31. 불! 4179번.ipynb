{
 "cells": [
  {
   "cell_type": "markdown",
   "id": "df4bc860",
   "metadata": {},
   "source": [
    "https://www.acmicpc.net/problem/4179"
   ]
  },
  {
   "cell_type": "code",
   "execution_count": 3,
   "id": "6a6ff598",
   "metadata": {},
   "outputs": [
    {
     "name": "stdout",
     "output_type": "stream",
     "text": [
      "4 4\n",
      "####\n",
      "#JF#\n",
      "#..#\n",
      "#..#\n"
     ]
    }
   ],
   "source": [
    "from collections import deque\n",
    "queue_f = deque()\n",
    "queue_j = deque()\n",
    "n, m = map(int,input().split())\n",
    "map_list = []\n",
    "dist = [[0]*m for _ in range(n)]\n",
    "for i in range(n):\n",
    "    temp = str(input())\n",
    "    check=[]\n",
    "    for j in range(m):\n",
    "        check.append(temp[j])\n",
    "        if temp[j]=='.':\n",
    "            dist[i][j]=-1\n",
    "        elif temp[j]=='F':\n",
    "            queue_f.append([i,j])\n",
    "        elif temp[j]=='J':\n",
    "            queue_j.append([i,j])\n",
    "    map_list.append(check)"
   ]
  },
  {
   "cell_type": "code",
   "execution_count": 10,
   "id": "00171b0e",
   "metadata": {},
   "outputs": [
    {
     "name": "stdout",
     "output_type": "stream",
     "text": [
      "3\n"
     ]
    }
   ],
   "source": [
    "dx = [0,0,1,-1]\n",
    "dy = [1,-1,0,0]\n",
    "esecep = False\n",
    "while queue_f:\n",
    "    curr = queue_f.popleft()\n",
    "    for k in range(4):\n",
    "        nx = curr[0] + dx[k]\n",
    "        ny = curr[1] + dy[k]\n",
    "        if nx >= m or nx <0 or ny >= n or ny < 0:\n",
    "            continue\n",
    "        if dist[nx][ny] != -1 or map_list[nx][ny]=='#':\n",
    "            continue\n",
    "        queue_f.append([nx,ny])\n",
    "        dist[nx][ny] = dist[curr[0]][curr[1]] + 1\n",
    "        \n",
    "while queue_j:\n",
    "    curr = queue_j.popleft()\n",
    "    for k in range(4):\n",
    "        nx = curr[0] + dx[k]\n",
    "        ny = curr[1] + dy[k]\n",
    "        if nx >= m or nx <0 or ny >= n or ny < 0:\n",
    "            print(dist[curr[0]][curr[1]] + 1)\n",
    "            esecep = True\n",
    "            break\n",
    "        if map_list[nx][ny]=='#':\n",
    "            continue\n",
    "        if dist[nx][ny]<dist[curr[0]][curr[1]]+1:\n",
    "            continue\n",
    "        queue_j.append([nx,ny])\n",
    "        dist[nx][ny] = dist[curr[0]][curr[1]] + 1\n",
    "\n",
    "if not esecep:\n",
    "    print(\"IMPOSSIBLE\")"
   ]
  }
 ],
 "metadata": {
  "kernelspec": {
   "display_name": "Python 3 (ipykernel)",
   "language": "python",
   "name": "python3"
  },
  "language_info": {
   "codemirror_mode": {
    "name": "ipython",
    "version": 3
   },
   "file_extension": ".py",
   "mimetype": "text/x-python",
   "name": "python",
   "nbconvert_exporter": "python",
   "pygments_lexer": "ipython3",
   "version": "3.9.7"
  }
 },
 "nbformat": 4,
 "nbformat_minor": 5
}
