{
 "cells": [
  {
   "cell_type": "markdown",
   "id": "e63e9504",
   "metadata": {},
   "source": [
    "https://www.acmicpc.net/problem/15664"
   ]
  },
  {
   "cell_type": "code",
   "execution_count": 13,
   "id": "ac1fcf34",
   "metadata": {},
   "outputs": [
    {
     "name": "stdout",
     "output_type": "stream",
     "text": [
      "4 2\n",
      "9 9 7 1\n",
      "1 7 \n",
      "1 9 \n",
      "7 9 \n",
      "9 9 \n"
     ]
    }
   ],
   "source": [
    "n,m = map(int,input().split())\n",
    "num = list(map(int,input().split()))\n",
    "num.sort()\n",
    "arr = [0]*m\n",
    "isused = [False]*n\n",
    "\n",
    "def func(k):\n",
    "    if k==m:\n",
    "        for i in range(m):\n",
    "            print(arr[i], end=' ')\n",
    "        print()\n",
    "        return\n",
    "    \n",
    "    temp = 0 #중복수열인지 확인하는 임시 변수\n",
    "    for i in range(n):\n",
    "        if (not isused[i] and temp!=num[i]):\n",
    "            isused[0:i+1] = [True]*(i+1)\n",
    "            arr[k] = num[i]\n",
    "            temp = arr[k]\n",
    "            func(k+1)\n",
    "            isused[0:i+1] = [False]*(i+1)\n",
    "            \n",
    "func(0)"
   ]
  }
 ],
 "metadata": {
  "kernelspec": {
   "display_name": "Python 3 (ipykernel)",
   "language": "python",
   "name": "python3"
  },
  "language_info": {
   "codemirror_mode": {
    "name": "ipython",
    "version": 3
   },
   "file_extension": ".py",
   "mimetype": "text/x-python",
   "name": "python",
   "nbconvert_exporter": "python",
   "pygments_lexer": "ipython3",
   "version": "3.9.7"
  }
 },
 "nbformat": 4,
 "nbformat_minor": 5
}
