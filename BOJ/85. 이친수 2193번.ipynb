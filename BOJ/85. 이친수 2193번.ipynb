{
 "cells": [
  {
   "cell_type": "markdown",
   "id": "cc2ef1e3",
   "metadata": {},
   "source": [
    "https://www.acmicpc.net/problem/2193"
   ]
  },
  {
   "cell_type": "code",
   "execution_count": null,
   "id": "09c216ee",
   "metadata": {},
   "outputs": [],
   "source": []
  }
 ],
 "metadata": {
  "kernelspec": {
   "display_name": "Python 3 (ipykernel)",
   "language": "python",
   "name": "python3"
  },
  "language_info": {
   "codemirror_mode": {
    "name": "ipython",
    "version": 3
   },
   "file_extension": ".py",
   "mimetype": "text/x-python",
   "name": "python",
   "nbconvert_exporter": "python",
   "pygments_lexer": "ipython3",
   "version": "3.9.7"
  }
 },
 "nbformat": 4,
 "nbformat_minor": 5
}
