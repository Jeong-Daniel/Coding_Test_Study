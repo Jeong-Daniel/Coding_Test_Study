{
 "cells": [
  {
   "cell_type": "markdown",
   "id": "f5d1b735",
   "metadata": {},
   "source": [
    "https://www.acmicpc.net/problem/6549"
   ]
  },
  {
   "cell_type": "code",
   "execution_count": null,
   "id": "5034688a",
   "metadata": {},
   "outputs": [
    {
     "name": "stdout",
     "output_type": "stream",
     "text": [
      "7 2 1 4 5 1 3 3\n",
      "[[2, 0]]\n",
      "[[1, 0]]\n",
      "[[1, 0], [4, 2]]\n",
      "[[1, 0], [4, 2], [5, 3]]\n",
      "[[1, 0]]\n",
      "[[1, 0], [3, 5]]\n",
      "[[1, 0], [3, 5]]\n",
      "8\n"
     ]
    }
   ],
   "source": [
    "while True:\n",
    "    number = list(map(int,input().split()))\n",
    "    num = number[0]\n",
    "    stack = []\n",
    "    ans = 0\n",
    "    if num==0:\n",
    "        break\n",
    "    number=number[1:]\n",
    "    for i in range(num):\n",
    "        idx = i\n",
    "        while stack and stack[-1][0] >= number[i]:\n",
    "            ans = max(ans,(i-stack[-1][1])*stack[-1][0])\n",
    "            idx = stack[-1][1]\n",
    "            stack.pop()\n",
    "        stack.append([number[i],idx])\n",
    "        print(stack)\n",
    "    while stack:\n",
    "        ans = max(ans,(num - stack[-1][1])*stack[-1][0])\n",
    "        stack.pop()\n",
    "    print(ans)"
   ]
  },
  {
   "cell_type": "code",
   "execution_count": null,
   "id": "1bd87d8e",
   "metadata": {},
   "outputs": [],
   "source": []
  }
 ],
 "metadata": {
  "kernelspec": {
   "display_name": "Python 3 (ipykernel)",
   "language": "python",
   "name": "python3"
  },
  "language_info": {
   "codemirror_mode": {
    "name": "ipython",
    "version": 3
   },
   "file_extension": ".py",
   "mimetype": "text/x-python",
   "name": "python",
   "nbconvert_exporter": "python",
   "pygments_lexer": "ipython3",
   "version": "3.9.7"
  }
 },
 "nbformat": 4,
 "nbformat_minor": 5
}
