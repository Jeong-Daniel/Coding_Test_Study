{
 "cells": [
  {
   "cell_type": "markdown",
   "id": "0a36c55f",
   "metadata": {},
   "source": [
    "https://www.acmicpc.net/problem/11055"
   ]
  },
  {
   "cell_type": "code",
   "execution_count": 18,
   "id": "c22d5584",
   "metadata": {},
   "outputs": [
    {
     "name": "stdout",
     "output_type": "stream",
     "text": [
      "10\n",
      "1 100 2 50 60 3 5 6 7 8\n",
      "113\n"
     ]
    }
   ],
   "source": [
    "import copy\n",
    "num = int(input())\n",
    "num_list = list(map(int,input().split()))\n",
    "dp = copy.deepcopy(num_list)\n",
    "for i in range(1,num):\n",
    "    if num_list[i]<num_list[i-1]:\n",
    "        temp = i-2\n",
    "        while temp!=-1:\n",
    "            if num_list[i]>num_list[temp]:\n",
    "                dp[i] = dp[temp]+num_list[i]\n",
    "                break\n",
    "            temp-=1\n",
    "    else:\n",
    "        dp[i] = dp[i-1]+num_list[i]\n",
    "print(max(dp))"
   ]
  },
  {
   "cell_type": "code",
   "execution_count": 22,
   "id": "550b9878",
   "metadata": {},
   "outputs": [
    {
     "name": "stdout",
     "output_type": "stream",
     "text": [
      "10\n",
      "1 100 2 50 60 3 5 6 7 8\n",
      "113\n"
     ]
    }
   ],
   "source": [
    "import copy\n",
    "num = int(input())\n",
    "num_list = list(map(int,input().split()))\n",
    "dp = copy.deepcopy(num_list)\n",
    "for i in range(num):\n",
    "    for j in range(i):\n",
    "        if num_list[j] < num_list[i]:\n",
    "            dp[i] = max(dp[i], dp[j]+num_list[i])\n",
    "print(max(dp))"
   ]
  },
  {
   "cell_type": "code",
   "execution_count": null,
   "id": "8cd146b3",
   "metadata": {},
   "outputs": [],
   "source": []
  }
 ],
 "metadata": {
  "kernelspec": {
   "display_name": "Python 3 (ipykernel)",
   "language": "python",
   "name": "python3"
  },
  "language_info": {
   "codemirror_mode": {
    "name": "ipython",
    "version": 3
   },
   "file_extension": ".py",
   "mimetype": "text/x-python",
   "name": "python",
   "nbconvert_exporter": "python",
   "pygments_lexer": "ipython3",
   "version": "3.9.7"
  }
 },
 "nbformat": 4,
 "nbformat_minor": 5
}
