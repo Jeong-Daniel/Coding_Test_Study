{
 "cells": [
  {
   "cell_type": "markdown",
   "id": "58a67039",
   "metadata": {},
   "source": [
    "https://www.acmicpc.net/problem/1026"
   ]
  },
  {
   "cell_type": "code",
   "execution_count": 3,
   "id": "27746c23",
   "metadata": {},
   "outputs": [
    {
     "name": "stdout",
     "output_type": "stream",
     "text": [
      "3\n",
      "1 1 3\n",
      "10 30 20\n",
      "80\n"
     ]
    }
   ],
   "source": [
    "num = int(input())\n",
    "a_list = list(map(int,input().split()))\n",
    "b_list = list(map(int,input().split()))\n",
    "\n",
    "a_list.sort()\n",
    "b_list.sort(reverse=True)\n",
    "\n",
    "ans = 0\n",
    "for i in range(num):\n",
    "    ans += (a_list[i]*b_list[i])\n",
    "\n",
    "print(ans)"
   ]
  },
  {
   "cell_type": "code",
   "execution_count": null,
   "id": "429949cc",
   "metadata": {},
   "outputs": [],
   "source": []
  }
 ],
 "metadata": {
  "kernelspec": {
   "display_name": "Python 3 (ipykernel)",
   "language": "python",
   "name": "python3"
  },
  "language_info": {
   "codemirror_mode": {
    "name": "ipython",
    "version": 3
   },
   "file_extension": ".py",
   "mimetype": "text/x-python",
   "name": "python",
   "nbconvert_exporter": "python",
   "pygments_lexer": "ipython3",
   "version": "3.9.7"
  }
 },
 "nbformat": 4,
 "nbformat_minor": 5
}
