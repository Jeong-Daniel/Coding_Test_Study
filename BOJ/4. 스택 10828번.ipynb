{
 "cells": [
  {
   "cell_type": "markdown",
   "id": "ef14ea36",
   "metadata": {},
   "source": [
    "https://www.acmicpc.net/problem/10828"
   ]
  },
  {
   "cell_type": "code",
   "execution_count": 29,
   "id": "aac4c472",
   "metadata": {},
   "outputs": [
    {
     "name": "stdout",
     "output_type": "stream",
     "text": [
      "7\n",
      "pop\n",
      "-1\n",
      "top\n",
      "-1\n",
      "push 123\n",
      "top\n",
      "123\n",
      "pop\n",
      "123\n",
      "top\n",
      "-1\n",
      "pop\n",
      "-1\n"
     ]
    }
   ],
   "source": [
    "from collections import deque\n",
    "\n",
    "stack_list = deque([])\n",
    "loop = int(input())\n",
    "for i in range(loop):\n",
    "    string = list(input().split())\n",
    "    if len(string)==1:\n",
    "        order = str(string[0])\n",
    "        if order == 'pop':\n",
    "            if len(stack_list) != 0:\n",
    "                print(stack_list.pop())\n",
    "            else:\n",
    "                print(-1)\n",
    "        elif order == 'size':\n",
    "            print(len(stack_list))\n",
    "        elif order == 'empty':\n",
    "            if len(stack_list)==0:\n",
    "                print(1)\n",
    "            else:\n",
    "                print(0)\n",
    "        elif order == 'top':\n",
    "            if len(stack_list) != 0:\n",
    "                print(stack_list[-1])\n",
    "            else:\n",
    "                print(-1)\n",
    "    else:\n",
    "        order = string[0]\n",
    "        number = int(string[1])\n",
    "        stack_list.append(number)"
   ]
  },
  {
   "cell_type": "code",
   "execution_count": null,
   "id": "640e57d7",
   "metadata": {},
   "outputs": [],
   "source": []
  }
 ],
 "metadata": {
  "kernelspec": {
   "display_name": "Python 3 (ipykernel)",
   "language": "python",
   "name": "python3"
  },
  "language_info": {
   "codemirror_mode": {
    "name": "ipython",
    "version": 3
   },
   "file_extension": ".py",
   "mimetype": "text/x-python",
   "name": "python",
   "nbconvert_exporter": "python",
   "pygments_lexer": "ipython3",
   "version": "3.9.7"
  }
 },
 "nbformat": 4,
 "nbformat_minor": 5
}
