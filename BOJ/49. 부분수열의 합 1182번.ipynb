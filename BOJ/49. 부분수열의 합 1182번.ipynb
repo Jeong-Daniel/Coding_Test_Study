{
 "cells": [
  {
   "cell_type": "markdown",
   "id": "f0f7836f",
   "metadata": {},
   "source": [
    "https://www.acmicpc.net/problem/1182"
   ]
  },
  {
   "cell_type": "code",
   "execution_count": 1,
   "id": "55b251e2",
   "metadata": {},
   "outputs": [
    {
     "name": "stdout",
     "output_type": "stream",
     "text": [
      "5 0\n",
      "-7 -3 -2 5 8\n",
      "1\n"
     ]
    }
   ],
   "source": [
    "cnt = 0\n",
    "def func(cur,tot):\n",
    "    global cnt\n",
    "    if cur==n:\n",
    "        if tot==s:\n",
    "            cnt+=1\n",
    "        return\n",
    "    func(cur+1, tot)\n",
    "    func(cur+1, tot+arr[cur])\n",
    "\n",
    "n, s = map(int,input().split())\n",
    "arr = list(map(int,input().split()))\n",
    "func(0,0)\n",
    "if s==0:\n",
    "    cnt-=1\n",
    "print(cnt)"
   ]
  },
  {
   "cell_type": "code",
   "execution_count": null,
   "id": "94fce671",
   "metadata": {},
   "outputs": [],
   "source": []
  }
 ],
 "metadata": {
  "kernelspec": {
   "display_name": "Python 3 (ipykernel)",
   "language": "python",
   "name": "python3"
  },
  "language_info": {
   "codemirror_mode": {
    "name": "ipython",
    "version": 3
   },
   "file_extension": ".py",
   "mimetype": "text/x-python",
   "name": "python",
   "nbconvert_exporter": "python",
   "pygments_lexer": "ipython3",
   "version": "3.9.7"
  }
 },
 "nbformat": 4,
 "nbformat_minor": 5
}
