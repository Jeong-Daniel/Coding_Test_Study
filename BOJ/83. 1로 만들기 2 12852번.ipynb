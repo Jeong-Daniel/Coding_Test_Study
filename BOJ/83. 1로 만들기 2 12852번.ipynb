{
 "cells": [
  {
   "cell_type": "markdown",
   "id": "c90948b4",
   "metadata": {},
   "source": [
    "https://www.acmicpc.net/problem/12852"
   ]
  },
  {
   "cell_type": "code",
   "execution_count": 11,
   "id": "b11d26de",
   "metadata": {},
   "outputs": [
    {
     "name": "stdout",
     "output_type": "stream",
     "text": [
      "2\n",
      "1\n",
      "2 1 "
     ]
    }
   ],
   "source": [
    "num = int(input())\n",
    "dp = [0]*(num+1)\n",
    "pre = [0]*(num+1)\n",
    "dp[1] = 0\n",
    "for i in range(2,num+1):\n",
    "    dp[i] = dp[i-1] + 1\n",
    "    pre[i] = i-1\n",
    "    if i%2==0 and dp[i]>(dp[int(i/2)]+1):\n",
    "        dp[i] = dp[int(i/2)] + 1\n",
    "        pre[i] = i/2\n",
    "    if i%3==0 and dp[i]>(dp[int(i/3)]+1):\n",
    "        dp[i] = dp[int(i/3)]+1\n",
    "        pre[i] = i/3\n",
    "        \n",
    "print(dp[num])\n",
    "curr = num\n",
    "while True:\n",
    "    print(curr, end=' ')\n",
    "    if (curr==1):\n",
    "        break\n",
    "    curr = int(pre[curr])"
   ]
  },
  {
   "cell_type": "code",
   "execution_count": null,
   "id": "a5e5f39f",
   "metadata": {},
   "outputs": [],
   "source": []
  }
 ],
 "metadata": {
  "kernelspec": {
   "display_name": "Python 3 (ipykernel)",
   "language": "python",
   "name": "python3"
  },
  "language_info": {
   "codemirror_mode": {
    "name": "ipython",
    "version": 3
   },
   "file_extension": ".py",
   "mimetype": "text/x-python",
   "name": "python",
   "nbconvert_exporter": "python",
   "pygments_lexer": "ipython3",
   "version": "3.9.7"
  }
 },
 "nbformat": 4,
 "nbformat_minor": 5
}
