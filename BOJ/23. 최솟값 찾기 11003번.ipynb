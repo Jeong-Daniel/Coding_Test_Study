{
 "cells": [
  {
   "cell_type": "markdown",
   "id": "f3997279",
   "metadata": {},
   "source": [
    "https://www.acmicpc.net/problem/11003"
   ]
  },
  {
   "cell_type": "code",
   "execution_count": 94,
   "id": "43e1579b",
   "metadata": {},
   "outputs": [
    {
     "name": "stdout",
     "output_type": "stream",
     "text": [
      "12 3\n",
      "1 5 2 3 6 2 3 7 3 5 2 6\n",
      "1 1 1 2 2 2 2 2 3 3 2 2\n"
     ]
    }
   ],
   "source": [
    "n,m = map(int,input().split())\n",
    "num_list = list(map(int,input().split()))\n",
    "\n",
    "from collections import deque\n",
    "import heapq\n",
    "min_list = deque([])\n",
    "ans = []\n",
    "for i in range(n):\n",
    "    if len(min_list)!=m:\n",
    "        min_list.append(num_list[i])\n",
    "        min_num = min(min_num,num_list[i])\n",
    "    else:\n",
    "        temp = min_list.popleft()\n",
    "        min_list.append(num_list[i])\n",
    "        if min_num==temp:\n",
    "            check = list(min_list)\n",
    "            heapq.heapify(check)\n",
    "            min_num=check[0]\n",
    "        elif min_num>num_list[i]:\n",
    "            min_num=num_list[i]\n",
    "    ans.append(min_num)\n",
    "print(*ans, sep = ' ')"
   ]
  },
  {
   "cell_type": "code",
   "execution_count": 95,
   "id": "29da7e2f",
   "metadata": {},
   "outputs": [
    {
     "name": "stdout",
     "output_type": "stream",
     "text": [
      "12 3\n",
      "1 5 2 3 6 2 3 7 3 5 2 6\n"
     ]
    }
   ],
   "source": [
    "n,m = map(int,input().split())\n",
    "num_list = list(map(int,input().split()))"
   ]
  },
  {
   "cell_type": "code",
   "execution_count": 129,
   "id": "7c6f93ae",
   "metadata": {},
   "outputs": [
    {
     "name": "stdout",
     "output_type": "stream",
     "text": [
      "1 1 1 2 2 2 2 2 3 3 2 2 "
     ]
    }
   ],
   "source": [
    "from collections import deque\n",
    "dq = deque([])\n",
    "for i in range(n):\n",
    "    num = num_list[i]\n",
    "    while dq and (dq[-1][1] >= num):\n",
    "        dq.pop()\n",
    "        \n",
    "    dq.append([i,num_list[i]])\n",
    "    \n",
    "    if dq[0][0] <= (i-m):\n",
    "        dq.popleft()\n",
    "        \n",
    "    print(dq[0][1], end = ' ')"
   ]
  },
  {
   "cell_type": "code",
   "execution_count": null,
   "id": "942b4a23",
   "metadata": {},
   "outputs": [],
   "source": []
  }
 ],
 "metadata": {
  "kernelspec": {
   "display_name": "Python 3 (ipykernel)",
   "language": "python",
   "name": "python3"
  },
  "language_info": {
   "codemirror_mode": {
    "name": "ipython",
    "version": 3
   },
   "file_extension": ".py",
   "mimetype": "text/x-python",
   "name": "python",
   "nbconvert_exporter": "python",
   "pygments_lexer": "ipython3",
   "version": "3.9.7"
  }
 },
 "nbformat": 4,
 "nbformat_minor": 5
}
