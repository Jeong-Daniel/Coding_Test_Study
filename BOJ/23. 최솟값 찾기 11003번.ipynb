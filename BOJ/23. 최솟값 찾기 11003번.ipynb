{
 "cells": [
  {
   "cell_type": "markdown",
   "id": "f3997279",
   "metadata": {},
   "source": [
    "https://www.acmicpc.net/problem/11003"
   ]
  },
  {
   "cell_type": "code",
   "execution_count": 1,
   "id": "43e1579b",
   "metadata": {},
   "outputs": [
    {
     "name": "stdout",
     "output_type": "stream",
     "text": [
      "12 3\n",
      "1 5 2 3 6 2 3 7 3 5 2 6\n"
     ]
    },
    {
     "ename": "NameError",
     "evalue": "name 'min_num' is not defined",
     "output_type": "error",
     "traceback": [
      "\u001b[1;31m---------------------------------------------------------------------------\u001b[0m",
      "\u001b[1;31mNameError\u001b[0m                                 Traceback (most recent call last)",
      "\u001b[1;32m~\\AppData\\Local\\Temp/ipykernel_24312/772559673.py\u001b[0m in \u001b[0;36m<module>\u001b[1;34m\u001b[0m\n\u001b[0;32m      9\u001b[0m     \u001b[1;32mif\u001b[0m \u001b[0mlen\u001b[0m\u001b[1;33m(\u001b[0m\u001b[0mmin_list\u001b[0m\u001b[1;33m)\u001b[0m\u001b[1;33m!=\u001b[0m\u001b[0mm\u001b[0m\u001b[1;33m:\u001b[0m\u001b[1;33m\u001b[0m\u001b[1;33m\u001b[0m\u001b[0m\n\u001b[0;32m     10\u001b[0m         \u001b[0mmin_list\u001b[0m\u001b[1;33m.\u001b[0m\u001b[0mappend\u001b[0m\u001b[1;33m(\u001b[0m\u001b[0mnum_list\u001b[0m\u001b[1;33m[\u001b[0m\u001b[0mi\u001b[0m\u001b[1;33m]\u001b[0m\u001b[1;33m)\u001b[0m\u001b[1;33m\u001b[0m\u001b[1;33m\u001b[0m\u001b[0m\n\u001b[1;32m---> 11\u001b[1;33m         \u001b[0mmin_num\u001b[0m \u001b[1;33m=\u001b[0m \u001b[0mmin\u001b[0m\u001b[1;33m(\u001b[0m\u001b[0mmin_num\u001b[0m\u001b[1;33m,\u001b[0m\u001b[0mnum_list\u001b[0m\u001b[1;33m[\u001b[0m\u001b[0mi\u001b[0m\u001b[1;33m]\u001b[0m\u001b[1;33m)\u001b[0m\u001b[1;33m\u001b[0m\u001b[1;33m\u001b[0m\u001b[0m\n\u001b[0m\u001b[0;32m     12\u001b[0m     \u001b[1;32melse\u001b[0m\u001b[1;33m:\u001b[0m\u001b[1;33m\u001b[0m\u001b[1;33m\u001b[0m\u001b[0m\n\u001b[0;32m     13\u001b[0m         \u001b[0mtemp\u001b[0m \u001b[1;33m=\u001b[0m \u001b[0mmin_list\u001b[0m\u001b[1;33m.\u001b[0m\u001b[0mpopleft\u001b[0m\u001b[1;33m(\u001b[0m\u001b[1;33m)\u001b[0m\u001b[1;33m\u001b[0m\u001b[1;33m\u001b[0m\u001b[0m\n",
      "\u001b[1;31mNameError\u001b[0m: name 'min_num' is not defined"
     ]
    }
   ],
   "source": [
    "n,m = map(int,input().split())\n",
    "num_list = list(map(int,input().split()))\n",
    "\n",
    "from collections import deque\n",
    "import heapq\n",
    "min_list = deque([])\n",
    "ans = []\n",
    "for i in range(n):\n",
    "    if len(min_list)!=m:\n",
    "        min_list.append(num_list[i])\n",
    "        min_num = min(min_num,num_list[i])\n",
    "    else:\n",
    "        temp = min_list.popleft()\n",
    "        min_list.append(num_list[i])\n",
    "        if min_num==temp:\n",
    "            check = list(min_list)\n",
    "            heapq.heapify(check)\n",
    "            min_num=check[0]\n",
    "        elif min_num>num_list[i]:\n",
    "            min_num=num_list[i]\n",
    "    ans.append(min_num)\n",
    "print(*ans, sep = ' ')"
   ]
  },
  {
   "cell_type": "code",
   "execution_count": 2,
   "id": "29da7e2f",
   "metadata": {},
   "outputs": [
    {
     "name": "stdout",
     "output_type": "stream",
     "text": [
      "12 3\n",
      "1 5 2 3 6 2 3 7 3 5 2 6\n"
     ]
    }
   ],
   "source": [
    "n,m = map(int,input().split())\n",
    "num_list = list(map(int,input().split()))"
   ]
  },
  {
   "cell_type": "code",
   "execution_count": 6,
   "id": "7c6f93ae",
   "metadata": {},
   "outputs": [
    {
     "name": "stdout",
     "output_type": "stream",
     "text": [
      "deque([[0, 1]]) 1\n",
      "deque([[0, 1], [1, 5]]) 1\n",
      "deque([[0, 1], [2, 2]]) 1\n",
      "deque([[2, 2], [3, 3]]) 2\n",
      "deque([[2, 2], [3, 3], [4, 6]]) 2\n",
      "deque([[5, 2]]) 2\n",
      "deque([[5, 2], [6, 3]]) 2\n",
      "deque([[5, 2], [6, 3], [7, 7]]) 2\n",
      "deque([[8, 3]]) 3\n",
      "deque([[8, 3], [9, 5]]) 3\n",
      "deque([[10, 2]]) 2\n",
      "deque([[10, 2], [11, 6]]) 2\n"
     ]
    }
   ],
   "source": [
    "from collections import deque\n",
    "dq = deque([])\n",
    "for i in range(n):\n",
    "    num = num_list[i]\n",
    "    while dq and (dq[-1][1] >= num):\n",
    "        dq.pop()\n",
    "        \n",
    "    dq.append([i,num])\n",
    "    \n",
    "    if dq[0][0] <= (i-m):\n",
    "        dq.popleft()\n",
    "        \n",
    "    print(dq, end = ' ')\n",
    "    print(dq[0][1])"
   ]
  },
  {
   "cell_type": "code",
   "execution_count": null,
   "id": "942b4a23",
   "metadata": {},
   "outputs": [],
   "source": []
  }
 ],
 "metadata": {
  "kernelspec": {
   "display_name": "Python 3 (ipykernel)",
   "language": "python",
   "name": "python3"
  },
  "language_info": {
   "codemirror_mode": {
    "name": "ipython",
    "version": 3
   },
   "file_extension": ".py",
   "mimetype": "text/x-python",
   "name": "python",
   "nbconvert_exporter": "python",
   "pygments_lexer": "ipython3",
   "version": "3.9.7"
  }
 },
 "nbformat": 4,
 "nbformat_minor": 5
}
