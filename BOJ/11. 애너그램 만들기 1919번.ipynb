{
 "cells": [
  {
   "cell_type": "markdown",
   "id": "6e8952af",
   "metadata": {},
   "source": [
    "https://www.acmicpc.net/problem/1919"
   ]
  },
  {
   "cell_type": "code",
   "execution_count": 3,
   "id": "93f19f4c",
   "metadata": {},
   "outputs": [
    {
     "name": "stdout",
     "output_type": "stream",
     "text": [
      "aabbcc\n",
      "xxyybb\n"
     ]
    }
   ],
   "source": [
    "first = input()\n",
    "second = input()"
   ]
  },
  {
   "cell_type": "code",
   "execution_count": 4,
   "id": "9c87fefd",
   "metadata": {},
   "outputs": [
    {
     "name": "stdout",
     "output_type": "stream",
     "text": [
      "8\n"
     ]
    }
   ],
   "source": [
    "first_list = [0]*26\n",
    "second_list = [0]*26\n",
    "\n",
    "for i in range(len(first)):\n",
    "    first_list[ord(first[i])-97]+=1\n",
    "    \n",
    "for j in range(len(second)):\n",
    "    second_list[ord(second[j])-97]+=1\n",
    "    \n",
    "count=0\n",
    "for k in range(26):\n",
    "    if first_list[k] != second_list[k]:\n",
    "        max_num = max(first_list[k],second_list[k])\n",
    "        min_num = min(first_list[k],second_list[k])\n",
    "        count += (max_num-min_num)\n",
    "\n",
    "print(count)"
   ]
  }
 ],
 "metadata": {
  "kernelspec": {
   "display_name": "Python 3 (ipykernel)",
   "language": "python",
   "name": "python3"
  },
  "language_info": {
   "codemirror_mode": {
    "name": "ipython",
    "version": 3
   },
   "file_extension": ".py",
   "mimetype": "text/x-python",
   "name": "python",
   "nbconvert_exporter": "python",
   "pygments_lexer": "ipython3",
   "version": "3.9.7"
  }
 },
 "nbformat": 4,
 "nbformat_minor": 5
}
