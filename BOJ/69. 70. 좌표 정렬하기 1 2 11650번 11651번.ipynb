{
 "cells": [
  {
   "cell_type": "markdown",
   "id": "77abd998",
   "metadata": {},
   "source": [
    "https://www.acmicpc.net/problem/11650"
   ]
  },
  {
   "cell_type": "code",
   "execution_count": 2,
   "id": "a504de36",
   "metadata": {
    "scrolled": true
   },
   "outputs": [
    {
     "name": "stdout",
     "output_type": "stream",
     "text": [
      "5\n",
      "3 4\n",
      "1 1\n",
      "1 -1\n",
      "2 2\n",
      "3 3\n",
      "1 -1\n",
      "1 1\n",
      "2 2\n",
      "3 3\n",
      "3 4\n"
     ]
    }
   ],
   "source": [
    "num = int(input())\n",
    "num_list = []\n",
    "for i in range(num):\n",
    "    num_list.append(list(map(int,input().split())))\n",
    "\n",
    "num_list = sorted(num_list, key = lambda x: (x[0],x[1]))\n",
    "for i in range(num):\n",
    "    print(*num_list[i])"
   ]
  },
  {
   "cell_type": "markdown",
   "id": "f87f8243",
   "metadata": {},
   "source": [
    "https://www.acmicpc.net/problem/11651"
   ]
  },
  {
   "cell_type": "code",
   "execution_count": 3,
   "id": "241aa8e2",
   "metadata": {},
   "outputs": [
    {
     "name": "stdout",
     "output_type": "stream",
     "text": [
      "5\n",
      "0 4\n",
      "1 2\n",
      "1 -1\n",
      "2 2\n",
      "3 3\n",
      "1 -1\n",
      "1 2\n",
      "2 2\n",
      "3 3\n",
      "0 4\n"
     ]
    }
   ],
   "source": [
    "num = int(input())\n",
    "num_list = []\n",
    "for i in range(num):\n",
    "    num_list.append(list(map(int,input().split())))\n",
    "\n",
    "num_list = sorted(num_list, key = lambda x: (x[1],x[0]))\n",
    "for i in range(num):\n",
    "    print(*num_list[i])"
   ]
  },
  {
   "cell_type": "code",
   "execution_count": null,
   "id": "00852b6b",
   "metadata": {},
   "outputs": [],
   "source": []
  }
 ],
 "metadata": {
  "kernelspec": {
   "display_name": "Python 3 (ipykernel)",
   "language": "python",
   "name": "python3"
  },
  "language_info": {
   "codemirror_mode": {
    "name": "ipython",
    "version": 3
   },
   "file_extension": ".py",
   "mimetype": "text/x-python",
   "name": "python",
   "nbconvert_exporter": "python",
   "pygments_lexer": "ipython3",
   "version": "3.9.7"
  }
 },
 "nbformat": 4,
 "nbformat_minor": 5
}
