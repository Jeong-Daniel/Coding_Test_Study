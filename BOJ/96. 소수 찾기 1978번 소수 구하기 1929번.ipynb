{
 "cells": [
  {
   "cell_type": "markdown",
   "id": "b5326d05",
   "metadata": {},
   "source": [
    "https://www.acmicpc.net/problem/1978"
   ]
  },
  {
   "cell_type": "code",
   "execution_count": 16,
   "id": "032b8f36",
   "metadata": {},
   "outputs": [
    {
     "name": "stdout",
     "output_type": "stream",
     "text": [
      "4\n",
      "1 3 5 7\n",
      "3\n"
     ]
    }
   ],
   "source": [
    "import math\n",
    "\n",
    "def func(x):\n",
    "    if x==1:\n",
    "        return False\n",
    "    temp = int(math.sqrt(x))\n",
    "    for i in range(2,temp+1):\n",
    "        if x%i == 0:\n",
    "            return False\n",
    "    return True\n",
    "\n",
    "num = int(input())\n",
    "num_list = list(map(int,input().split()))\n",
    "ans = 0\n",
    "for i in range(num):\n",
    "    if func(num_list[i]):\n",
    "        ans+=1\n",
    "print(ans)"
   ]
  },
  {
   "cell_type": "code",
   "execution_count": 17,
   "id": "64d2e24c",
   "metadata": {
    "scrolled": false
   },
   "outputs": [
    {
     "name": "stdout",
     "output_type": "stream",
     "text": [
      "3 16\n",
      "3\n",
      "5\n",
      "7\n",
      "11\n",
      "13\n"
     ]
    }
   ],
   "source": [
    "import math\n",
    "\n",
    "def func(x):\n",
    "    if x==1:\n",
    "        return False\n",
    "    temp = int(math.sqrt(x))\n",
    "    for i in range(2,temp+1):\n",
    "        if x%i == 0:\n",
    "            return False\n",
    "    return True\n",
    "\n",
    "n,m = map(int,input().split())\n",
    "for i in range(n,m+1):\n",
    "    if func(i):\n",
    "        print(i)\n",
    "    else:\n",
    "        continue"
   ]
  },
  {
   "cell_type": "markdown",
   "id": "f14aaad1",
   "metadata": {},
   "source": [
    "https://www.acmicpc.net/problem/1929"
   ]
  },
  {
   "cell_type": "code",
   "execution_count": 32,
   "id": "d422f350",
   "metadata": {},
   "outputs": [
    {
     "name": "stdout",
     "output_type": "stream",
     "text": [
      "3 100\n",
      "3\n",
      "5\n",
      "7\n",
      "11\n",
      "13\n",
      "17\n",
      "19\n",
      "23\n",
      "29\n",
      "31\n",
      "37\n",
      "41\n",
      "43\n",
      "47\n",
      "53\n",
      "59\n",
      "61\n",
      "67\n",
      "71\n",
      "73\n",
      "79\n",
      "83\n",
      "89\n",
      "97\n"
     ]
    }
   ],
   "source": [
    "import math\n",
    "\n",
    "def func(x):\n",
    "    if x==1:\n",
    "        return False\n",
    "    temp = int(math.sqrt(x))\n",
    "    for i in range(2,temp+1):\n",
    "        if x%i == 0:\n",
    "            return False\n",
    "    return True\n",
    "\n",
    "n,m = map(int,input().split())\n",
    "bool_list = [False]*(m+1)\n",
    "for i in range(n,m+1):\n",
    "    if not bool_list[i] and func(i):\n",
    "        bool_list[i]=True\n",
    "        print(i)\n",
    "        temp = 2\n",
    "        while True:\n",
    "            if i*temp>=m:\n",
    "                break\n",
    "            bool_list[i*temp]=False\n",
    "            temp+=1"
   ]
  },
  {
   "cell_type": "code",
   "execution_count": null,
   "id": "f53b103a",
   "metadata": {},
   "outputs": [],
   "source": []
  }
 ],
 "metadata": {
  "kernelspec": {
   "display_name": "Python 3 (ipykernel)",
   "language": "python",
   "name": "python3"
  },
  "language_info": {
   "codemirror_mode": {
    "name": "ipython",
    "version": 3
   },
   "file_extension": ".py",
   "mimetype": "text/x-python",
   "name": "python",
   "nbconvert_exporter": "python",
   "pygments_lexer": "ipython3",
   "version": "3.9.7"
  }
 },
 "nbformat": 4,
 "nbformat_minor": 5
}
