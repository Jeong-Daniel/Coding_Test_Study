{
 "cells": [
  {
   "cell_type": "markdown",
   "id": "1db39668",
   "metadata": {},
   "source": [
    "https://www.acmicpc.net/problem/10814"
   ]
  },
  {
   "cell_type": "code",
   "execution_count": 17,
   "id": "cf9a9a02",
   "metadata": {},
   "outputs": [
    {
     "name": "stdout",
     "output_type": "stream",
     "text": [
      "3\n",
      "21 Junkyu\n",
      "21 Dohyun\n",
      "20 Sunyoung\n"
     ]
    }
   ],
   "source": [
    "num = int(input())\n",
    "name_list = []\n",
    "for i in range(num):\n",
    "    age, name = map(str,input().split())\n",
    "    name_list.append([int(age),i,name])\n",
    "\n",
    "name_list = sorted(name_list, key=lambda x : (x[0],x[1]))\n",
    "for i in range(num):\n",
    "    print(name_list[i][0], end = ' ')\n",
    "    print(name_list[i][2])"
   ]
  },
  {
   "cell_type": "code",
   "execution_count": null,
   "id": "c31c3d9d",
   "metadata": {},
   "outputs": [],
   "source": []
  }
 ],
 "metadata": {
  "kernelspec": {
   "display_name": "Python 3 (ipykernel)",
   "language": "python",
   "name": "python3"
  },
  "language_info": {
   "codemirror_mode": {
    "name": "ipython",
    "version": 3
   },
   "file_extension": ".py",
   "mimetype": "text/x-python",
   "name": "python",
   "nbconvert_exporter": "python",
   "pygments_lexer": "ipython3",
   "version": "3.9.7"
  }
 },
 "nbformat": 4,
 "nbformat_minor": 5
}
