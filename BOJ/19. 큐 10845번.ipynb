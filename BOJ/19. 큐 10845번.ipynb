{
 "cells": [
  {
   "cell_type": "markdown",
   "id": "3c8156d6",
   "metadata": {},
   "source": [
    "https://www.acmicpc.net/problem/10845"
   ]
  },
  {
   "cell_type": "code",
   "execution_count": 23,
   "id": "d875dfb7",
   "metadata": {},
   "outputs": [
    {
     "name": "stdout",
     "output_type": "stream",
     "text": [
      "15\n",
      "push 1\n",
      "push 2\n",
      "front\n",
      "1\n",
      "back\n",
      "2\n",
      "size\n",
      "2\n",
      "empty\n",
      "0\n",
      "pop\n",
      "1\n",
      "pop\n",
      "2\n",
      "pop\n",
      "-1\n",
      "size\n",
      "0\n",
      "empty\n",
      "1\n",
      "pop\n",
      "-1\n",
      "push 3\n",
      "empty\n",
      "0\n",
      "front\n",
      "3\n"
     ]
    }
   ],
   "source": [
    "from collections import deque\n",
    "queue = deque()\n",
    "num = int(input())\n",
    "for i in range(num):\n",
    "    oper = list(map(str,input().split()))\n",
    "    if len(oper)==2:\n",
    "        queue.append(int(oper[1]))\n",
    "    elif oper[0]=='front':\n",
    "        if queue:\n",
    "            print(queue[0])\n",
    "        else:\n",
    "            print(-1)\n",
    "    elif oper[0]=='back':\n",
    "        if queue:\n",
    "            print(queue[-1])\n",
    "        else:\n",
    "            print(-1)\n",
    "    elif oper[0]=='size':\n",
    "        print(len(queue))\n",
    "    elif oper[0]=='empty':\n",
    "        if not queue:\n",
    "            print(1)\n",
    "        else:\n",
    "            print(0)\n",
    "    elif oper[0]=='pop':\n",
    "        if queue:\n",
    "            print(queue.popleft())\n",
    "        else:\n",
    "            print(-1)"
   ]
  }
 ],
 "metadata": {
  "kernelspec": {
   "display_name": "Python 3 (ipykernel)",
   "language": "python",
   "name": "python3"
  },
  "language_info": {
   "codemirror_mode": {
    "name": "ipython",
    "version": 3
   },
   "file_extension": ".py",
   "mimetype": "text/x-python",
   "name": "python",
   "nbconvert_exporter": "python",
   "pygments_lexer": "ipython3",
   "version": "3.9.7"
  }
 },
 "nbformat": 4,
 "nbformat_minor": 5
}
