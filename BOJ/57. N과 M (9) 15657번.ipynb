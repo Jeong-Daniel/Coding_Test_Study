{
 "cells": [
  {
   "cell_type": "markdown",
   "id": "e604f8b3",
   "metadata": {},
   "source": [
    "https://www.acmicpc.net/problem/15663"
   ]
  },
  {
   "cell_type": "code",
   "execution_count": 101,
   "id": "0b8961a0",
   "metadata": {
    "scrolled": true
   },
   "outputs": [
    {
     "name": "stdout",
     "output_type": "stream",
     "text": [
      "4 2\n",
      "9 7 9 1\n",
      "1 7 \n",
      "1 9 \n",
      "7 1 \n",
      "7 9 \n",
      "9 1 \n",
      "9 7 \n",
      "9 9 \n"
     ]
    }
   ],
   "source": [
    "n,m = map(int,input().split())\n",
    "num_list = list(map(int,input().split()))\n",
    "num_list.sort()\n",
    "check = []\n",
    "arr = [0]*m\n",
    "isused = [False]*n\n",
    "\n",
    "def func(k):\n",
    "    if k==m:\n",
    "        if arr not in check:\n",
    "            check.append(arr[:])\n",
    "            for i in range(m):\n",
    "                print(arr[i], end=' ')\n",
    "            print()\n",
    "        return\n",
    "    \n",
    "    for j in range(n):\n",
    "        if not isused[j]:\n",
    "            arr[k]=num_list[j]\n",
    "            isused[j] = True\n",
    "            func(k+1)\n",
    "            isused[j] = False\n",
    "            \n",
    "func(0)"
   ]
  },
  {
   "cell_type": "code",
   "execution_count": 114,
   "id": "fd1c6bf8",
   "metadata": {},
   "outputs": [
    {
     "name": "stdout",
     "output_type": "stream",
     "text": [
      "4 2\n",
      "9 9 7 1\n",
      "1 7 \n",
      "1 9 \n",
      "7 1 \n",
      "7 9 \n",
      "9 1 \n",
      "9 7 \n",
      "9 9 \n"
     ]
    }
   ],
   "source": [
    "n,m = map(int,input().split())\n",
    "num = list(map(int,input().split()))\n",
    "num.sort()\n",
    "arr = [0]*m\n",
    "isused = [False]*n\n",
    "\n",
    "def func(k):\n",
    "    if k==m:\n",
    "        for i in range(m):\n",
    "            print(arr[i], end=' ')\n",
    "        print()\n",
    "        return\n",
    "    \n",
    "    temp = 0 #중복수열인지 확인하는 임시 변수\n",
    "    for i in range(n):\n",
    "        if (not isused[i] and temp!=num[i]):\n",
    "            isused[i] = True\n",
    "            arr[k] = num[i]\n",
    "            temp = arr[k]\n",
    "            func(k+1)\n",
    "            isused[i] = False\n",
    "            \n",
    "func(0)"
   ]
  },
  {
   "cell_type": "code",
   "execution_count": null,
   "id": "c4eed90f",
   "metadata": {},
   "outputs": [],
   "source": []
  }
 ],
 "metadata": {
  "kernelspec": {
   "display_name": "Python 3 (ipykernel)",
   "language": "python",
   "name": "python3"
  },
  "language_info": {
   "codemirror_mode": {
    "name": "ipython",
    "version": 3
   },
   "file_extension": ".py",
   "mimetype": "text/x-python",
   "name": "python",
   "nbconvert_exporter": "python",
   "pygments_lexer": "ipython3",
   "version": "3.9.7"
  }
 },
 "nbformat": 4,
 "nbformat_minor": 5
}
