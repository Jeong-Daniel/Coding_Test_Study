{
 "cells": [
  {
   "cell_type": "markdown",
   "id": "02379797",
   "metadata": {},
   "source": [
    "https://www.acmicpc.net/problem/10799"
   ]
  },
  {
   "cell_type": "code",
   "execution_count": 2,
   "id": "03ec6c19",
   "metadata": {},
   "outputs": [
    {
     "name": "stdout",
     "output_type": "stream",
     "text": [
      "()(((()())(())()))(())\n"
     ]
    }
   ],
   "source": [
    "string = str(input())\n",
    "count = 0\n",
    "stack = []\n",
    "for i in range(len(string)):\n",
    "    if string[i]=='(':\n",
    "        count += 1\n",
    "    else:\n",
    "        count -= 1\n",
    "        stack.append(count)"
   ]
  },
  {
   "cell_type": "code",
   "execution_count": 3,
   "id": "e103f6c3",
   "metadata": {},
   "outputs": [
    {
     "data": {
      "text/plain": [
       "[0, 3, 3, 2, 3, 2, 2, 1, 0, 1, 0]"
      ]
     },
     "execution_count": 3,
     "metadata": {},
     "output_type": "execute_result"
    }
   ],
   "source": [
    "stack"
   ]
  },
  {
   "cell_type": "code",
   "execution_count": null,
   "id": "2c3a74fd",
   "metadata": {},
   "outputs": [],
   "source": []
  }
 ],
 "metadata": {
  "kernelspec": {
   "display_name": "Python 3 (ipykernel)",
   "language": "python",
   "name": "python3"
  },
  "language_info": {
   "codemirror_mode": {
    "name": "ipython",
    "version": 3
   },
   "file_extension": ".py",
   "mimetype": "text/x-python",
   "name": "python",
   "nbconvert_exporter": "python",
   "pygments_lexer": "ipython3",
   "version": "3.9.7"
  }
 },
 "nbformat": 4,
 "nbformat_minor": 5
}
