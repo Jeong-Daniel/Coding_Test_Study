{
 "cells": [
  {
   "cell_type": "markdown",
   "id": "02379797",
   "metadata": {},
   "source": [
    "https://www.acmicpc.net/problem/10799"
   ]
  },
  {
   "cell_type": "code",
   "execution_count": 11,
   "id": "03ec6c19",
   "metadata": {},
   "outputs": [
    {
     "name": "stdout",
     "output_type": "stream",
     "text": [
      "()(((()())(())()))(())\n",
      "17\n"
     ]
    }
   ],
   "source": [
    "string = str(input())\n",
    "count = 0\n",
    "stack = []\n",
    "for i in range(len(string)):\n",
    "    if string[i]=='(':\n",
    "        stack.append(1)\n",
    "    else:\n",
    "        if string[i-1]=='(':\n",
    "            stack.pop()\n",
    "            for j in range(len(stack)):\n",
    "                stack[j]+=1\n",
    "        else:\n",
    "            count += stack.pop()\n",
    "print(count)"
   ]
  }
 ],
 "metadata": {
  "kernelspec": {
   "display_name": "Python 3 (ipykernel)",
   "language": "python",
   "name": "python3"
  },
  "language_info": {
   "codemirror_mode": {
    "name": "ipython",
    "version": 3
   },
   "file_extension": ".py",
   "mimetype": "text/x-python",
   "name": "python",
   "nbconvert_exporter": "python",
   "pygments_lexer": "ipython3",
   "version": "3.9.7"
  }
 },
 "nbformat": 4,
 "nbformat_minor": 5
}
