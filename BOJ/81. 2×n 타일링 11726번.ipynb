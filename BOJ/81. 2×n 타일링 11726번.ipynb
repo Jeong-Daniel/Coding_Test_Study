{
 "cells": [
  {
   "cell_type": "markdown",
   "id": "e3b54f45",
   "metadata": {},
   "source": [
    "https://www.acmicpc.net/problem/11726"
   ]
  },
  {
   "cell_type": "code",
   "execution_count": 6,
   "id": "e36f26db",
   "metadata": {},
   "outputs": [
    {
     "name": "stdout",
     "output_type": "stream",
     "text": [
      "9\n",
      "55\n"
     ]
    }
   ],
   "source": [
    "num = int(input())\n",
    "mod = 10007\n",
    "dp = [0]*(num+1)\n",
    "dp[1] = 1\n",
    "dp[2] = 2\n",
    "if num==1:\n",
    "    print(1)\n",
    "    exit(0)\n",
    "elif num==2:\n",
    "    print(2)\n",
    "    exit(0)\n",
    "\n",
    "for i in range(3,num+1):\n",
    "    dp[i] = (dp[i-1]+dp[i-2])%mod\n",
    "print(dp[num])"
   ]
  },
  {
   "cell_type": "code",
   "execution_count": 3,
   "id": "d315e71d",
   "metadata": {},
   "outputs": [
    {
     "name": "stdout",
     "output_type": "stream",
     "text": [
      "9\n",
      "55\n"
     ]
    }
   ],
   "source": [
    "def solution(n):\n",
    "    dp = [0 for i in range(n)]\n",
    "    dp[0], dp[1] = 1, 2\n",
    "    for i in range(2, n):\n",
    "        dp[i] = (dp[i-1] + dp[i-2]) % 10007\n",
    "    print(dp[n-1])\n",
    "    return \n",
    "    \n",
    "solution(int(input()))"
   ]
  },
  {
   "cell_type": "code",
   "execution_count": null,
   "id": "94fd2c95",
   "metadata": {},
   "outputs": [],
   "source": []
  }
 ],
 "metadata": {
  "kernelspec": {
   "display_name": "Python 3 (ipykernel)",
   "language": "python",
   "name": "python3"
  },
  "language_info": {
   "codemirror_mode": {
    "name": "ipython",
    "version": 3
   },
   "file_extension": ".py",
   "mimetype": "text/x-python",
   "name": "python",
   "nbconvert_exporter": "python",
   "pygments_lexer": "ipython3",
   "version": "3.9.12"
  }
 },
 "nbformat": 4,
 "nbformat_minor": 5
}
