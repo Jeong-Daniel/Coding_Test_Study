{
 "cells": [
  {
   "cell_type": "markdown",
   "id": "a1964937",
   "metadata": {},
   "source": [
    "https://www.acmicpc.net/problem/11727"
   ]
  },
  {
   "cell_type": "code",
   "execution_count": 16,
   "id": "2356a842",
   "metadata": {},
   "outputs": [
    {
     "name": "stdout",
     "output_type": "stream",
     "text": [
      "22\n",
      "4250\n"
     ]
    }
   ],
   "source": [
    "num = int(input())\n",
    "dp = [0 for i in range(1010)]\n",
    "dp[1], dp[2] = 1, 3\n",
    "for i in range(3, num+1):\n",
    "    dp[i] = (dp[i-1] + dp[i-2]*2) % 10007\n",
    "print(dp[num])"
   ]
  },
  {
   "cell_type": "code",
   "execution_count": null,
   "id": "50ff24a6",
   "metadata": {},
   "outputs": [],
   "source": []
  }
 ],
 "metadata": {
  "kernelspec": {
   "display_name": "Python 3 (ipykernel)",
   "language": "python",
   "name": "python3"
  },
  "language_info": {
   "codemirror_mode": {
    "name": "ipython",
    "version": 3
   },
   "file_extension": ".py",
   "mimetype": "text/x-python",
   "name": "python",
   "nbconvert_exporter": "python",
   "pygments_lexer": "ipython3",
   "version": "3.9.7"
  }
 },
 "nbformat": 4,
 "nbformat_minor": 5
}
