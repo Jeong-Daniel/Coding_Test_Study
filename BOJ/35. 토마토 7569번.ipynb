{
 "cells": [
  {
   "cell_type": "code",
   "execution_count": 62,
   "id": "50cc67be",
   "metadata": {
    "scrolled": true
   },
   "outputs": [
    {
     "name": "stdout",
     "output_type": "stream",
     "text": [
      "4 3 2\n",
      "1 1 1 1\n",
      "1 1 1 1\n",
      "1 1 1 1\n",
      "1 1 1 1\n",
      "1 1 1 1\n",
      "1 1 1 1\n",
      "0\n"
     ]
    }
   ],
   "source": [
    "from collections import deque\n",
    "queue = deque()\n",
    "x,y,z = map(int,input().split())\n",
    "vist = [[[0 for col in range(x)] for row in range(y)] for depth in range(z)]\n",
    "map_list = []\n",
    "for i in range(z):\n",
    "    map_list_c = []\n",
    "    for j in range(y):\n",
    "        temp = list(map(int,input().split()))\n",
    "        map_list_c.append(temp)\n",
    "        for k in range(x):\n",
    "            if temp[k]==1:\n",
    "                queue.append([i,j,k])\n",
    "            elif temp[k]==0:\n",
    "                vist[i][j][k] = -1\n",
    "    map_list.append(map_list_c)\n",
    "\n",
    "dx = [1,-1,0,0,0,0]\n",
    "dy = [0,0,1,-1,0,0]\n",
    "dz = [0,0,0,0,1,-1]\n",
    "max_num = 0\n",
    "clear = True\n",
    "while queue:\n",
    "    curr = queue.popleft()\n",
    "    for n in range(6):\n",
    "        nz = curr[0] + dz[n]\n",
    "        ny = curr[1] + dy[n]\n",
    "        nx = curr[2] + dx[n]\n",
    "        if nx>=x or x<0 or ny>=y or y<0 or nz>=z or z<0:\n",
    "            continue\n",
    "        if vist[nz][ny][nx]>=0:\n",
    "            continue\n",
    "        vist[nz][ny][nx] = vist[curr[0]][curr[1]][curr[2]]+1\n",
    "        queue.append([nz,ny,nx])\n",
    "        max_num = max(max_num, vist[nz][ny][nx])\n",
    "\n",
    "for i in range(z):\n",
    "    for j in range(y):\n",
    "        if -1 in vist[i][j]:\n",
    "            clear=False\n",
    "            print(-1)\n",
    "            break\n",
    "if clear:\n",
    "    print(max_num)"
   ]
  },
  {
   "cell_type": "code",
   "execution_count": null,
   "id": "2d12bfd6",
   "metadata": {},
   "outputs": [],
   "source": []
  }
 ],
 "metadata": {
  "kernelspec": {
   "display_name": "Python 3 (ipykernel)",
   "language": "python",
   "name": "python3"
  },
  "language_info": {
   "codemirror_mode": {
    "name": "ipython",
    "version": 3
   },
   "file_extension": ".py",
   "mimetype": "text/x-python",
   "name": "python",
   "nbconvert_exporter": "python",
   "pygments_lexer": "ipython3",
   "version": "3.9.7"
  }
 },
 "nbformat": 4,
 "nbformat_minor": 5
}
