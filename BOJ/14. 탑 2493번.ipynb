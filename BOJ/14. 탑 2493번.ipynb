{
 "cells": [
  {
   "cell_type": "markdown",
   "id": "35c49d36",
   "metadata": {},
   "source": [
    "https://www.acmicpc.net/problem/2493"
   ]
  },
  {
   "cell_type": "code",
   "execution_count": 85,
   "id": "c0c6abbc",
   "metadata": {
    "scrolled": false
   },
   "outputs": [],
   "source": [
    "#loop = int(input())\n",
    "#top_list = list(map(int,input().split()))\n",
    "loop = 5\n",
    "top_list = [6,9,5,7,4]"
   ]
  },
  {
   "cell_type": "markdown",
   "id": "8485bad1",
   "metadata": {},
   "source": [
    "방법 1 완전탐색"
   ]
  },
  {
   "cell_type": "code",
   "execution_count": 69,
   "id": "a6ee42aa",
   "metadata": {
    "scrolled": true
   },
   "outputs": [
    {
     "name": "stdout",
     "output_type": "stream",
     "text": [
      "[0, 0, 2, 2, 4]\n"
     ]
    }
   ],
   "source": [
    "from collections import deque\n",
    "top_index = deque()\n",
    "for i in range(loop-1,-1,-1):\n",
    "    check = 0\n",
    "    for j in range(i-1,-1,-1):\n",
    "        if top_list[i]<=top_list[j]:\n",
    "            top_index.appendleft(j+1)\n",
    "            check=1\n",
    "            break\n",
    "    if check == 0:\n",
    "        top_index.appendleft(0)\n",
    "print(list(top_index))"
   ]
  },
  {
   "cell_type": "markdown",
   "id": "971de823",
   "metadata": {},
   "source": [
    "방법 2 스택"
   ]
  },
  {
   "cell_type": "code",
   "execution_count": 8,
   "id": "169fc077",
   "metadata": {},
   "outputs": [
    {
     "name": "stdout",
     "output_type": "stream",
     "text": [
      "0 0 2 2 4\n"
     ]
    }
   ],
   "source": [
    "num = 5\n",
    "top_list = [6,9,5,7,4]\n",
    "top_stack = []\n",
    "answer = []\n",
    "\n",
    "for i in range(num):\n",
    "    while top_stack:\n",
    "        if top_stack[-1][1] >= top_list[i]:\n",
    "            answer.append(top_stack[-1][0]+1)\n",
    "            break\n",
    "        else:\n",
    "            top_stack.pop()\n",
    "    if not top_stack:\n",
    "        answer.append(0)\n",
    "    top_stack.append([i, top_list[i]])\n",
    "\n",
    "print(\" \".join(map(str, answer)))"
   ]
  },
  {
   "cell_type": "code",
   "execution_count": null,
   "id": "c6562bbb",
   "metadata": {},
   "outputs": [],
   "source": []
  }
 ],
 "metadata": {
  "kernelspec": {
   "display_name": "Python 3 (ipykernel)",
   "language": "python",
   "name": "python3"
  },
  "language_info": {
   "codemirror_mode": {
    "name": "ipython",
    "version": 3
   },
   "file_extension": ".py",
   "mimetype": "text/x-python",
   "name": "python",
   "nbconvert_exporter": "python",
   "pygments_lexer": "ipython3",
   "version": "3.9.7"
  }
 },
 "nbformat": 4,
 "nbformat_minor": 5
}
