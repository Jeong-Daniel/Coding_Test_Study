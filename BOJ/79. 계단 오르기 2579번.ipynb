{
 "cells": [
  {
   "cell_type": "markdown",
   "id": "dc993d2f",
   "metadata": {},
   "source": [
    "https://www.acmicpc.net/problem/2579"
   ]
  },
  {
   "cell_type": "code",
   "execution_count": 3,
   "id": "e7da9395",
   "metadata": {},
   "outputs": [
    {
     "name": "stdout",
     "output_type": "stream",
     "text": [
      "6\n",
      "10\n",
      "20\n",
      "15\n",
      "25\n",
      "10\n",
      "20\n",
      "75\n"
     ]
    }
   ],
   "source": [
    "import sys\n",
    "\n",
    "num = int(input())\n",
    "stairs = [0]*(num+1)\n",
    "for i in range(1,num+1):\n",
    "    stairs[i] = int(input())\n",
    "    \n",
    "if num==1:\n",
    "    print(stairs[1])\n",
    "    sys.exit()\n",
    "\n",
    "dp = [[0]*(num+1) for _ in range(3)]\n",
    "dp[1][1] = stairs[1]\n",
    "dp[2][1] = 0\n",
    "dp[1][2] = stairs[2]\n",
    "dp[2][2] = stairs[1] + stairs[2]\n",
    "\n",
    "for i in range(3,num+1):\n",
    "    dp[1][i] = max(dp[1][i-2], dp[2][i-2]) + stairs[i]\n",
    "    dp[2][i] = dp[1][i-1] + stairs[i]\n",
    "    \n",
    "print(max(dp[1][num],dp[2][num]))"
   ]
  },
  {
   "cell_type": "code",
   "execution_count": null,
   "id": "dbbdbfdf",
   "metadata": {},
   "outputs": [],
   "source": []
  }
 ],
 "metadata": {
  "kernelspec": {
   "display_name": "Python 3 (ipykernel)",
   "language": "python",
   "name": "python3"
  },
  "language_info": {
   "codemirror_mode": {
    "name": "ipython",
    "version": 3
   },
   "file_extension": ".py",
   "mimetype": "text/x-python",
   "name": "python",
   "nbconvert_exporter": "python",
   "pygments_lexer": "ipython3",
   "version": "3.9.7"
  }
 },
 "nbformat": 4,
 "nbformat_minor": 5
}
