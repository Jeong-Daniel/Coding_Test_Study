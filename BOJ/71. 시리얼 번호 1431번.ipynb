{
 "cells": [
  {
   "cell_type": "markdown",
   "id": "f60babd4",
   "metadata": {},
   "source": [
    "https://www.acmicpc.net/problem/1431"
   ]
  },
  {
   "cell_type": "code",
   "execution_count": 20,
   "id": "860257da",
   "metadata": {},
   "outputs": [
    {
     "name": "stdout",
     "output_type": "stream",
     "text": [
      "4\n",
      "34H2BJS6N\n",
      "PIM12MD7RCOLWW09\n",
      "PYF1J14TF\n",
      "FIPJOTEA5\n",
      "FIPJOTEA5\n",
      "PYF1J14TF\n",
      "34H2BJS6N\n",
      "PIM12MD7RCOLWW09\n"
     ]
    }
   ],
   "source": [
    "num = int(input())\n",
    "dit_list = []\n",
    "for i in range(num):\n",
    "    temp = str(input())\n",
    "    lenght = len(temp)\n",
    "    count = 0\n",
    "    for j in range(lenght):\n",
    "        try:\n",
    "            count += int(temp[j])\n",
    "        except ValueError:\n",
    "            pass\n",
    "    dit_list.append([lenght,count,temp])\n",
    "    \n",
    "dit_list.sort(key=lambda x: (x[0],x[1],x[2]))\n",
    "for k in range(num):\n",
    "    print(dit_list[k][2])"
   ]
  },
  {
   "cell_type": "code",
   "execution_count": 17,
   "id": "a0a93f8b",
   "metadata": {},
   "outputs": [
    {
     "name": "stdout",
     "output_type": "stream",
     "text": [
      "A\n",
      "ABCD\n",
      "Z321\n",
      "145C\n",
      "A910\n"
     ]
    }
   ],
   "source": []
  },
  {
   "cell_type": "code",
   "execution_count": null,
   "id": "fba2e8a4",
   "metadata": {},
   "outputs": [],
   "source": []
  }
 ],
 "metadata": {
  "kernelspec": {
   "display_name": "Python 3 (ipykernel)",
   "language": "python",
   "name": "python3"
  },
  "language_info": {
   "codemirror_mode": {
    "name": "ipython",
    "version": 3
   },
   "file_extension": ".py",
   "mimetype": "text/x-python",
   "name": "python",
   "nbconvert_exporter": "python",
   "pygments_lexer": "ipython3",
   "version": "3.9.7"
  }
 },
 "nbformat": 4,
 "nbformat_minor": 5
}
