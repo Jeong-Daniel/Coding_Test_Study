{
 "cells": [
  {
   "cell_type": "markdown",
   "id": "97d356bd",
   "metadata": {},
   "source": [
    "https://www.acmicpc.net/problem/1931"
   ]
  },
  {
   "cell_type": "code",
   "execution_count": 14,
   "id": "74654785",
   "metadata": {
    "scrolled": false
   },
   "outputs": [
    {
     "name": "stdout",
     "output_type": "stream",
     "text": [
      "11\n",
      "1 4\n",
      "3 5\n",
      "0 6\n",
      "5 7\n",
      "3 8\n",
      "5 9\n",
      "6 10\n",
      "8 11\n",
      "8 12\n",
      "2 13\n",
      "12 14\n",
      "4\n"
     ]
    }
   ],
   "source": [
    "import sys\n",
    "input = sys.stdin.readline\n",
    "\n",
    "num = int(input())\n",
    "time_list = []\n",
    "for i in range(num):\n",
    "    n,m = map(int,input().split())\n",
    "    time_list.append([n,m])\n",
    "time_list.sort(key=lambda x:x[1])\n",
    "ans = 1\n",
    "index = 1\n",
    "start, end = time_list[0]\n",
    "while index!=num:\n",
    "    if time_list[index][0] >= end:\n",
    "        ans+=1\n",
    "        start, end = time_list[index]\n",
    "    else:\n",
    "        index+=1\n",
    "print(ans)"
   ]
  },
  {
   "cell_type": "code",
   "execution_count": 20,
   "id": "6576a38b",
   "metadata": {},
   "outputs": [
    {
     "name": "stdout",
     "output_type": "stream",
     "text": [
      "11\n",
      "1 4\n",
      "3 5\n",
      "0 6\n",
      "5 7\n",
      "3 8\n",
      "5 9\n",
      "6 10\n",
      "8 11\n",
      "8 12\n",
      "2 13\n",
      "12 14\n",
      "4\n"
     ]
    }
   ],
   "source": [
    "#import sys\n",
    "#input = sys.stdin.readline\n",
    "num = int(input())\n",
    "time_list = []\n",
    "for i in range(num):\n",
    "    n,m = map(int,input().split())\n",
    "    time_list.append([m,n])\n",
    "time_list.sort()\n",
    "ans = 0\n",
    "t = 0\n",
    "for i in range(num):\n",
    "    if t>time_list[i][1]:\n",
    "        continue\n",
    "    ans+=1\n",
    "    t = time_list[i][0]\n",
    "print(ans)"
   ]
  },
  {
   "cell_type": "code",
   "execution_count": null,
   "id": "412e99bc",
   "metadata": {},
   "outputs": [],
   "source": []
  }
 ],
 "metadata": {
  "kernelspec": {
   "display_name": "Python 3 (ipykernel)",
   "language": "python",
   "name": "python3"
  },
  "language_info": {
   "codemirror_mode": {
    "name": "ipython",
    "version": 3
   },
   "file_extension": ".py",
   "mimetype": "text/x-python",
   "name": "python",
   "nbconvert_exporter": "python",
   "pygments_lexer": "ipython3",
   "version": "3.9.7"
  }
 },
 "nbformat": 4,
 "nbformat_minor": 5
}
