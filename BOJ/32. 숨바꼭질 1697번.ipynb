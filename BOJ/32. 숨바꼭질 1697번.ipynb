{
 "cells": [
  {
   "cell_type": "markdown",
   "id": "eb8eebf1",
   "metadata": {},
   "source": [
    "https://www.acmicpc.net/problem/1697"
   ]
  },
  {
   "cell_type": "code",
   "execution_count": 56,
   "id": "b08f8d0a",
   "metadata": {},
   "outputs": [
    {
     "name": "stdout",
     "output_type": "stream",
     "text": [
      "5 17\n",
      "4\n"
     ]
    }
   ],
   "source": [
    "from collections import deque\n",
    "n, m = map(int,input().split())\n",
    "map_list = [0]*200000\n",
    "map_list[n] = 1\n",
    "queue = deque([n])\n",
    "\n",
    "while queue:\n",
    "    curr = queue.popleft()\n",
    "    nx = curr-1\n",
    "    ny = curr+1\n",
    "    nz = curr*2\n",
    "    if nx == (m) or ny == (m) or nz == (m):\n",
    "        print(map_list[curr])\n",
    "        break\n",
    "    if map_list[nx]==0 and nx>=0:\n",
    "        queue.append(nx)\n",
    "        map_list[nx] = map_list[curr]+1\n",
    "    if map_list[ny]==0 and ny>=0:\n",
    "        queue.append(ny)\n",
    "        map_list[ny] = map_list[curr]+1\n",
    "    if map_list[nz]==0 and nz>=0:\n",
    "        queue.append(nz)\n",
    "        map_list[nz] = map_list[curr]+1"
   ]
  },
  {
   "cell_type": "code",
   "execution_count": 63,
   "id": "a8175b8d",
   "metadata": {},
   "outputs": [
    {
     "name": "stdout",
     "output_type": "stream",
     "text": [
      "5 17\n",
      "4\n"
     ]
    }
   ],
   "source": [
    "from collections import deque\n",
    "n, m = map(int,input().split())\n",
    "map_list = [-1]*200001\n",
    "map_list[n] = 0\n",
    "queue = deque([n])\n",
    "\n",
    "def oper(num):\n",
    "    return [num-1,num+1,num*2]\n",
    "\n",
    "while map_list[m]==-1:\n",
    "    curr = queue.popleft()\n",
    "    for i in oper(curr):\n",
    "        if i < 0 or i > 100000:\n",
    "            continue\n",
    "        if map_list[i] != -1:\n",
    "            continue\n",
    "        map_list[i] = map_list[curr]+1\n",
    "        queue.append(i)\n",
    "        \n",
    "print(map_list[m])"
   ]
  },
  {
   "cell_type": "code",
   "execution_count": null,
   "id": "072e0d8e",
   "metadata": {},
   "outputs": [],
   "source": []
  }
 ],
 "metadata": {
  "kernelspec": {
   "display_name": "Python 3 (ipykernel)",
   "language": "python",
   "name": "python3"
  },
  "language_info": {
   "codemirror_mode": {
    "name": "ipython",
    "version": 3
   },
   "file_extension": ".py",
   "mimetype": "text/x-python",
   "name": "python",
   "nbconvert_exporter": "python",
   "pygments_lexer": "ipython3",
   "version": "3.9.7"
  }
 },
 "nbformat": 4,
 "nbformat_minor": 5
}
