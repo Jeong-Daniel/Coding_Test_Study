{
 "cells": [
  {
   "cell_type": "markdown",
   "id": "4c2747d3",
   "metadata": {},
   "source": [
    "https://www.acmicpc.net/problem/1149"
   ]
  },
  {
   "cell_type": "code",
   "execution_count": 2,
   "id": "8fd052c7",
   "metadata": {},
   "outputs": [
    {
     "name": "stdout",
     "output_type": "stream",
     "text": [
      "3\n",
      "26 40 83\n",
      "49 60 57\n",
      "13 89 99\n",
      "96\n"
     ]
    }
   ],
   "source": [
    "num = int(input())\n",
    "dp = [[0]*3 for _ in range(num+1)]\n",
    "map_list = []\n",
    "for i in range(num):\n",
    "    map_list.append(list(map(int,input().split())))\n",
    "\n",
    "dp[1][0] = map_list[0][0]\n",
    "dp[1][1] = map_list[0][1]\n",
    "dp[1][2] = map_list[0][2]\n",
    "    \n",
    "for i in range(2,num+1):\n",
    "    dp[i][0] = min(dp[i-1][1],dp[i-1][2]) + map_list[i-1][0]\n",
    "    dp[i][1] = min(dp[i-1][0],dp[i-1][2]) + map_list[i-1][1]\n",
    "    dp[i][2] = min(dp[i-1][0],dp[i-1][1]) + map_list[i-1][2]\n",
    "\n",
    "print(min(dp[num][0],dp[num][1],dp[num][2]))"
   ]
  },
  {
   "cell_type": "code",
   "execution_count": null,
   "id": "74665011",
   "metadata": {},
   "outputs": [],
   "source": []
  }
 ],
 "metadata": {
  "kernelspec": {
   "display_name": "Python 3 (ipykernel)",
   "language": "python",
   "name": "python3"
  },
  "language_info": {
   "codemirror_mode": {
    "name": "ipython",
    "version": 3
   },
   "file_extension": ".py",
   "mimetype": "text/x-python",
   "name": "python",
   "nbconvert_exporter": "python",
   "pygments_lexer": "ipython3",
   "version": "3.9.7"
  }
 },
 "nbformat": 4,
 "nbformat_minor": 5
}
