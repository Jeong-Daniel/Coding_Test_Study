{
 "cells": [
  {
   "cell_type": "markdown",
   "id": "b4aaab49",
   "metadata": {},
   "source": [
    "https://www.acmicpc.net/problem/5648"
   ]
  },
  {
   "cell_type": "code",
   "execution_count": 4,
   "id": "091d30c8",
   "metadata": {},
   "outputs": [
    {
     "name": "stdout",
     "output_type": "stream",
     "text": [
      "10 5 2233\n",
      "1601 90100 13009 802\n",
      "50000000\n",
      "301 7654321\n",
      "210\n"
     ]
    }
   ],
   "source": [
    "num_list = list(map(int,input().split()))\n",
    "num = num_list[0]\n",
    "answer = num_list[1:]\n",
    "while len(answer)!=num:\n",
    "    answer+=list(map(int,input().split()))"
   ]
  },
  {
   "cell_type": "code",
   "execution_count": 11,
   "id": "e0adff94",
   "metadata": {},
   "outputs": [
    {
     "name": "stdout",
     "output_type": "stream",
     "text": [
      "5\n",
      "5\n",
      "12\n",
      "103\n",
      "109\n",
      "208\n",
      "1061\n",
      "3322\n",
      "90031\n",
      "1234567\n"
     ]
    }
   ],
   "source": [
    "final = []\n",
    "for i in range(num):\n",
    "    final.append(int(str(answer[i])[::-1]))\n",
    "final.sort()\n",
    "for j in range(num):\n",
    "    print(final[j])"
   ]
  },
  {
   "cell_type": "code",
   "execution_count": null,
   "id": "aaca263e",
   "metadata": {},
   "outputs": [],
   "source": []
  }
 ],
 "metadata": {
  "kernelspec": {
   "display_name": "Python 3 (ipykernel)",
   "language": "python",
   "name": "python3"
  },
  "language_info": {
   "codemirror_mode": {
    "name": "ipython",
    "version": 3
   },
   "file_extension": ".py",
   "mimetype": "text/x-python",
   "name": "python",
   "nbconvert_exporter": "python",
   "pygments_lexer": "ipython3",
   "version": "3.9.7"
  }
 },
 "nbformat": 4,
 "nbformat_minor": 5
}
