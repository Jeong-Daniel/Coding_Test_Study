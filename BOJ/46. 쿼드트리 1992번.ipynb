{
 "cells": [
  {
   "cell_type": "markdown",
   "id": "43ef9f2f",
   "metadata": {},
   "source": [
    "https://www.acmicpc.net/problem/1992"
   ]
  },
  {
   "cell_type": "code",
   "execution_count": 32,
   "id": "17484ae1",
   "metadata": {},
   "outputs": [
    {
     "name": "stdout",
     "output_type": "stream",
     "text": [
      "8\n",
      "11110000\n",
      "11110000\n",
      "00011100\n",
      "00011100\n",
      "11110000\n",
      "11110000\n",
      "11110011\n",
      "11110011\n"
     ]
    }
   ],
   "source": [
    "loop = int(input())\n",
    "global map_list\n",
    "map_list = []\n",
    "comm = ''\n",
    "for i in range(loop):\n",
    "    temp = list(map(str,input().split()))\n",
    "    check = []\n",
    "    for j in range(loop):\n",
    "        check.append(int(temp[0][j]))\n",
    "    map_list.append(check)"
   ]
  },
  {
   "cell_type": "code",
   "execution_count": 37,
   "id": "d3298f15",
   "metadata": {},
   "outputs": [
    {
     "name": "stdout",
     "output_type": "stream",
     "text": [
      "((110(0101))(0010)1(0001))\n"
     ]
    }
   ],
   "source": [
    "def cck(x,y,n):\n",
    "    for i in range(x,x+n):\n",
    "        for j in range(y,y+n):\n",
    "            if map_list[x][y]!=map_list[i][j]:\n",
    "                return False\n",
    "    return True\n",
    "\n",
    "def solve(x,y,z):\n",
    "    global comm\n",
    "    if cck(x,y,z):\n",
    "        comm += str(map_list[x][y])\n",
    "        return\n",
    "    n = int(z/2)\n",
    "    comm += \"(\"\n",
    "    for i in range(2):\n",
    "        for j in range(2):\n",
    "            solve(x+i*n, y+j*n, n)\n",
    "    comm += \")\"        \n",
    "solve(0,0,loop)\n",
    "print(comm)"
   ]
  }
 ],
 "metadata": {
  "kernelspec": {
   "display_name": "Python 3 (ipykernel)",
   "language": "python",
   "name": "python3"
  },
  "language_info": {
   "codemirror_mode": {
    "name": "ipython",
    "version": 3
   },
   "file_extension": ".py",
   "mimetype": "text/x-python",
   "name": "python",
   "nbconvert_exporter": "python",
   "pygments_lexer": "ipython3",
   "version": "3.9.7"
  }
 },
 "nbformat": 4,
 "nbformat_minor": 5
}
