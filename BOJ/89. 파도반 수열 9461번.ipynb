{
 "cells": [
  {
   "cell_type": "markdown",
   "id": "7ebfde51",
   "metadata": {},
   "source": [
    "https://www.acmicpc.net/problem/9461"
   ]
  },
  {
   "cell_type": "code",
   "execution_count": 5,
   "id": "02077c15",
   "metadata": {},
   "outputs": [
    {
     "name": "stdout",
     "output_type": "stream",
     "text": [
      "2\n",
      "6\n",
      "3\n",
      "12\n",
      "16\n"
     ]
    }
   ],
   "source": [
    "loop = int(input())\n",
    "dp=[0]*(100+1)\n",
    "dp[1],dp[2],dp[3],dp[4],dp[5],dp[6] = 1,1,1,2,2,3\n",
    "for i in range(loop):\n",
    "    num = int(input())\n",
    "    for j in range(7,num+1):\n",
    "        dp[j] = dp[j-1]+dp[j-5]\n",
    "    print(dp[num])"
   ]
  },
  {
   "cell_type": "code",
   "execution_count": 6,
   "id": "26f0417d",
   "metadata": {},
   "outputs": [
    {
     "data": {
      "text/plain": [
       "[0, 1, 1, 1, 2, 2, 3, 4, 5, 7, 9, 12, 16, 0, 0, 0, 0, 0, 0, 0]"
      ]
     },
     "execution_count": 6,
     "metadata": {},
     "output_type": "execute_result"
    }
   ],
   "source": [
    "dp[0:20]"
   ]
  },
  {
   "cell_type": "code",
   "execution_count": null,
   "id": "f70d9738",
   "metadata": {},
   "outputs": [],
   "source": []
  }
 ],
 "metadata": {
  "kernelspec": {
   "display_name": "Python 3 (ipykernel)",
   "language": "python",
   "name": "python3"
  },
  "language_info": {
   "codemirror_mode": {
    "name": "ipython",
    "version": 3
   },
   "file_extension": ".py",
   "mimetype": "text/x-python",
   "name": "python",
   "nbconvert_exporter": "python",
   "pygments_lexer": "ipython3",
   "version": "3.9.7"
  }
 },
 "nbformat": 4,
 "nbformat_minor": 5
}
