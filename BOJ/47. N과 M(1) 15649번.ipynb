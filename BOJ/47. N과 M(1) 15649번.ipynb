{
 "cells": [
  {
   "cell_type": "markdown",
   "id": "04ac5b37",
   "metadata": {},
   "source": [
    "https://www.acmicpc.net/problem/15649"
   ]
  },
  {
   "cell_type": "code",
   "execution_count": 31,
   "id": "325c2d2c",
   "metadata": {
    "scrolled": true
   },
   "outputs": [
    {
     "name": "stdout",
     "output_type": "stream",
     "text": [
      "4 2\n",
      "1 1 \n",
      "1 2 \n",
      "1 3 \n",
      "1 4 \n",
      "2 1 \n",
      "2 2 \n",
      "2 3 \n",
      "2 4 \n",
      "3 1 \n",
      "3 2 \n",
      "3 3 \n",
      "3 4 \n",
      "4 1 \n",
      "4 2 \n",
      "4 3 \n",
      "4 4 \n"
     ]
    }
   ],
   "source": [
    "global n, m, arr, isused\n",
    "def init():\n",
    "    n, m = map(int,input().split())\n",
    "    arr = [0]*m\n",
    "    isused = [False]*(n+1)\n",
    "    def func(k):\n",
    "        if k==m:\n",
    "            for i in range(m):\n",
    "                print(arr[i], end=' ')\n",
    "            print()\n",
    "            return\n",
    "        for j in range(1,n+1):\n",
    "            if not issued[j]:\n",
    "                arr[k] = j\n",
    "                isused[j] = True\n",
    "                func(k+1)\n",
    "                isused[j] = False\n",
    "    func(0)\n",
    "init()"
   ]
  },
  {
   "cell_type": "code",
   "execution_count": 32,
   "id": "5d9f0c86",
   "metadata": {},
   "outputs": [
    {
     "name": "stdout",
     "output_type": "stream",
     "text": [
      "4 2\n",
      "1 2\n",
      "1 3\n",
      "1 4\n",
      "2 1\n",
      "2 3\n",
      "2 4\n",
      "3 1\n",
      "3 2\n",
      "3 4\n",
      "4 1\n",
      "4 2\n",
      "4 3\n"
     ]
    }
   ],
   "source": [
    "n,m = list(map(int,input().split()))\n",
    "s = []\n",
    "def dfs():\n",
    "    if len(s)==m:\n",
    "        print(' '.join(map(str,s)))\n",
    "        return\n",
    "    for i in range(1,n+1):\n",
    "        if i not in s:\n",
    "            s.append(i)\n",
    "            dfs()\n",
    "            s.pop()\n",
    "dfs()"
   ]
  }
 ],
 "metadata": {
  "kernelspec": {
   "display_name": "Python 3 (ipykernel)",
   "language": "python",
   "name": "python3"
  },
  "language_info": {
   "codemirror_mode": {
    "name": "ipython",
    "version": 3
   },
   "file_extension": ".py",
   "mimetype": "text/x-python",
   "name": "python",
   "nbconvert_exporter": "python",
   "pygments_lexer": "ipython3",
   "version": "3.9.7"
  }
 },
 "nbformat": 4,
 "nbformat_minor": 5
}
