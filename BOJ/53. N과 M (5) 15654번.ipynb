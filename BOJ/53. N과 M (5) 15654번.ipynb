{
 "cells": [
  {
   "cell_type": "markdown",
   "id": "033d7637",
   "metadata": {},
   "source": [
    "https://www.acmicpc.net/problem/15654"
   ]
  },
  {
   "cell_type": "code",
   "execution_count": 26,
   "id": "ed2d7461",
   "metadata": {},
   "outputs": [
    {
     "name": "stdout",
     "output_type": "stream",
     "text": [
      "4 2\n",
      "9 8 7 1\n",
      "1 7 \n",
      "1 8 \n",
      "1 9 \n",
      "7 1 \n",
      "7 8 \n",
      "7 9 \n",
      "8 1 \n",
      "8 7 \n",
      "8 9 \n",
      "9 1 \n",
      "9 7 \n",
      "9 8 \n"
     ]
    }
   ],
   "source": [
    "n,m = map(int,input().split())\n",
    "num_list = list(map(int,input().split()))\n",
    "num_list.sort()\n",
    "arr = [0]*m\n",
    "isused = [False]*(max(num_list)+1)\n",
    "def func(k):\n",
    "    if k==m:\n",
    "        for i in range(m):\n",
    "            print(arr[i], end=' ')\n",
    "        print()\n",
    "        return\n",
    "    for j in num_list:\n",
    "        if not isused[j]:\n",
    "            arr[k]=j\n",
    "            isused[j] = True\n",
    "            func(k+1)\n",
    "            isused[j] = False\n",
    "func(0)"
   ]
  },
  {
   "cell_type": "code",
   "execution_count": 25,
   "id": "c3feabfb",
   "metadata": {},
   "outputs": [
    {
     "data": {
      "text/plain": [
       "[1, 7, 8, 9]"
      ]
     },
     "execution_count": 25,
     "metadata": {},
     "output_type": "execute_result"
    }
   ],
   "source": [
    "num_list"
   ]
  },
  {
   "cell_type": "code",
   "execution_count": null,
   "id": "997ed713",
   "metadata": {},
   "outputs": [],
   "source": []
  }
 ],
 "metadata": {
  "kernelspec": {
   "display_name": "Python 3 (ipykernel)",
   "language": "python",
   "name": "python3"
  },
  "language_info": {
   "codemirror_mode": {
    "name": "ipython",
    "version": 3
   },
   "file_extension": ".py",
   "mimetype": "text/x-python",
   "name": "python",
   "nbconvert_exporter": "python",
   "pygments_lexer": "ipython3",
   "version": "3.9.7"
  }
 },
 "nbformat": 4,
 "nbformat_minor": 5
}
