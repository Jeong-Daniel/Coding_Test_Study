{
 "cells": [
  {
   "cell_type": "markdown",
   "id": "602fee78",
   "metadata": {},
   "source": [
    "https://www.acmicpc.net/problem/2164"
   ]
  },
  {
   "cell_type": "code",
   "execution_count": 10,
   "id": "52faeb71",
   "metadata": {},
   "outputs": [
    {
     "name": "stdout",
     "output_type": "stream",
     "text": [
      "6\n",
      "4\n"
     ]
    }
   ],
   "source": [
    "from collections import deque\n",
    "\n",
    "num = int(input())\n",
    "num_list = deque([i for i in range(1,num+1)])\n",
    "\n",
    "while len(num_list)!=1:\n",
    "    num_list.popleft()\n",
    "    num_list.append(num_list.popleft())\n",
    "\n",
    "print(int(num_list[0]))"
   ]
  }
 ],
 "metadata": {
  "kernelspec": {
   "display_name": "Python 3 (ipykernel)",
   "language": "python",
   "name": "python3"
  },
  "language_info": {
   "codemirror_mode": {
    "name": "ipython",
    "version": 3
   },
   "file_extension": ".py",
   "mimetype": "text/x-python",
   "name": "python",
   "nbconvert_exporter": "python",
   "pygments_lexer": "ipython3",
   "version": "3.9.7"
  }
 },
 "nbformat": 4,
 "nbformat_minor": 5
}
