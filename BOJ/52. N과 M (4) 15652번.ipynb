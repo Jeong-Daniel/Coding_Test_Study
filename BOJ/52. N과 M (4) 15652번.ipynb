{
 "cells": [
  {
   "cell_type": "markdown",
   "id": "339bdf58",
   "metadata": {},
   "source": [
    "https://www.acmicpc.net/problem/15652"
   ]
  },
  {
   "cell_type": "code",
   "execution_count": 2,
   "id": "abd0ae4e",
   "metadata": {},
   "outputs": [
    {
     "name": "stdout",
     "output_type": "stream",
     "text": [
      "3 3\n",
      "1 1 1 \n",
      "1 1 2 \n",
      "1 1 3 \n",
      "1 2 2 \n",
      "1 2 3 \n",
      "1 3 3 \n",
      "2 2 2 \n",
      "2 2 3 \n",
      "2 3 3 \n",
      "3 3 3 \n"
     ]
    }
   ],
   "source": [
    "n,m = map(int,input().split())\n",
    "arr = [0]*m\n",
    "isused = [False]*(n+1)\n",
    "def func(k):\n",
    "    if k==m:\n",
    "        for i in range(m):\n",
    "            print(arr[i], end=' ')\n",
    "        print()\n",
    "        return\n",
    "    for j in range(1,n+1):\n",
    "        if not isused[j]:\n",
    "            arr[k] = j\n",
    "            isused[0:j] = [True]*j\n",
    "            func(k+1)\n",
    "            isused[0:j] = [False]*j\n",
    "func(0)"
   ]
  },
  {
   "cell_type": "code",
   "execution_count": null,
   "id": "6dd84775",
   "metadata": {},
   "outputs": [],
   "source": []
  }
 ],
 "metadata": {
  "kernelspec": {
   "display_name": "Python 3 (ipykernel)",
   "language": "python",
   "name": "python3"
  },
  "language_info": {
   "codemirror_mode": {
    "name": "ipython",
    "version": 3
   },
   "file_extension": ".py",
   "mimetype": "text/x-python",
   "name": "python",
   "nbconvert_exporter": "python",
   "pygments_lexer": "ipython3",
   "version": "3.9.7"
  }
 },
 "nbformat": 4,
 "nbformat_minor": 5
}
