{
 "cells": [
  {
   "cell_type": "markdown",
   "id": "57c56eb2",
   "metadata": {},
   "source": [
    "https://www.acmicpc.net/problem/11050"
   ]
  },
  {
   "cell_type": "code",
   "execution_count": 2,
   "id": "e486a782",
   "metadata": {},
   "outputs": [
    {
     "name": "stdout",
     "output_type": "stream",
     "text": [
      "5 2\n",
      "10\n"
     ]
    }
   ],
   "source": [
    "n,m = map(int,input().split())\n",
    "import math\n",
    "ans = math.factorial(n)/(math.factorial(m)*math.factorial(n-m))\n",
    "print(int(ans))"
   ]
  },
  {
   "cell_type": "code",
   "execution_count": 6,
   "id": "2a953692",
   "metadata": {
    "scrolled": true
   },
   "outputs": [
    {
     "name": "stdout",
     "output_type": "stream",
     "text": [
      "5 2\n",
      "10\n"
     ]
    }
   ],
   "source": [
    "n,m = map(int,input().split())\n",
    "import math\n",
    "print(math.comb(n,m)%10007)"
   ]
  },
  {
   "cell_type": "code",
   "execution_count": 8,
   "id": "275feca7",
   "metadata": {},
   "outputs": [
    {
     "name": "stdout",
     "output_type": "stream",
     "text": [
      "5 2\n",
      "10\n"
     ]
    }
   ],
   "source": [
    "n,m = map(int,input().split())\n",
    "mod = 10007\n",
    "comb = [[0]*1002 for _ in range(1002)]\n",
    "for i in range(1,n+1):\n",
    "    comb[i][0] = comb[i][i] = 1\n",
    "    for j in range(1,i):\n",
    "        comb[i][j] = (comb[i-1][j]+comb[i-1][j-1])%mod\n",
    "print(comb[n][m])"
   ]
  }
 ],
 "metadata": {
  "kernelspec": {
   "display_name": "Python 3 (ipykernel)",
   "language": "python",
   "name": "python3"
  },
  "language_info": {
   "codemirror_mode": {
    "name": "ipython",
    "version": 3
   },
   "file_extension": ".py",
   "mimetype": "text/x-python",
   "name": "python",
   "nbconvert_exporter": "python",
   "pygments_lexer": "ipython3",
   "version": "3.9.7"
  }
 },
 "nbformat": 4,
 "nbformat_minor": 5
}
