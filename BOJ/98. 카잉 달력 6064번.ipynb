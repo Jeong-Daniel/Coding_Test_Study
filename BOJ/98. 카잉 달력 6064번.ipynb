{
 "cells": [
  {
   "cell_type": "markdown",
   "id": "460dca3e",
   "metadata": {},
   "source": [
    "https://www.acmicpc.net/problem/6064"
   ]
  },
  {
   "cell_type": "code",
   "execution_count": 3,
   "id": "01354334",
   "metadata": {},
   "outputs": [
    {
     "name": "stdout",
     "output_type": "stream",
     "text": [
      "3\n",
      "10 12 3 9\n",
      "33\n",
      "10 12 7 2\n",
      "-1\n",
      "13 11 5 6\n",
      "83\n"
     ]
    }
   ],
   "source": [
    "import sys\n",
    "input = sys.stdin.readline\n",
    "\n",
    "def gcd(a,b):\n",
    "    if a==0:\n",
    "        return b\n",
    "    return gcd(b%a, a)\n",
    "\n",
    "def lcm(a,b):\n",
    "    return a/gcd(a,b)*b\n",
    "\n",
    "def solve(m,n,x,y):\n",
    "    if x==m:\n",
    "        x=0\n",
    "    if y==n:\n",
    "        y=0\n",
    "    l = int(lcm(m,n))\n",
    "    for i in range(1,l):\n",
    "        if i%m==x and i%n==y:\n",
    "            return i\n",
    "    return -1\n",
    "\n",
    "n = int(input())\n",
    "for i in range(n):\n",
    "    m,n,x,y = map(int,input().split())\n",
    "    print(solve(m,n,x,y))"
   ]
  },
  {
   "cell_type": "code",
   "execution_count": 4,
   "id": "8fd7a692",
   "metadata": {},
   "outputs": [
    {
     "name": "stdout",
     "output_type": "stream",
     "text": [
      "3\n",
      "10 12 3 9\n",
      "33\n",
      "10 12 7 2\n",
      "-1\n",
      "13 11 5 6\n",
      "83\n"
     ]
    }
   ],
   "source": [
    "def gcd(a,b):\n",
    "    if a==0:\n",
    "        return b\n",
    "    return gcd(b%a, a)\n",
    "\n",
    "def lcm(a,b):\n",
    "    return a/gcd(a,b)*b\n",
    "\n",
    "def solve(m,n,x,y):\n",
    "    if x==m:\n",
    "        x=0\n",
    "    if y==n:\n",
    "        y=0\n",
    "    l = int(lcm(m,n))\n",
    "    for i in range(x,l+1,m):\n",
    "        if i==0:\n",
    "            continue\n",
    "        if i%n==y:\n",
    "            return i\n",
    "    return -1\n",
    "\n",
    "n = int(input())\n",
    "for i in range(n):\n",
    "    m,n,x,y = map(int,input().split())\n",
    "    print(solve(m,n,x,y))"
   ]
  },
  {
   "cell_type": "code",
   "execution_count": null,
   "id": "ec772181",
   "metadata": {},
   "outputs": [],
   "source": []
  }
 ],
 "metadata": {
  "kernelspec": {
   "display_name": "Python 3 (ipykernel)",
   "language": "python",
   "name": "python3"
  },
  "language_info": {
   "codemirror_mode": {
    "name": "ipython",
    "version": 3
   },
   "file_extension": ".py",
   "mimetype": "text/x-python",
   "name": "python",
   "nbconvert_exporter": "python",
   "pygments_lexer": "ipython3",
   "version": "3.9.7"
  }
 },
 "nbformat": 4,
 "nbformat_minor": 5
}
