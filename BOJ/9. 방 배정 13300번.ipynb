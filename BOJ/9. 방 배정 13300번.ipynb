{
 "cells": [
  {
   "cell_type": "markdown",
   "id": "c7cc711d",
   "metadata": {},
   "source": [
    "https://www.acmicpc.net/problem/13300"
   ]
  },
  {
   "cell_type": "code",
   "execution_count": 28,
   "id": "f3aa4acf",
   "metadata": {},
   "outputs": [
    {
     "name": "stdout",
     "output_type": "stream",
     "text": [
      "16 2\n"
     ]
    }
   ],
   "source": [
    "std_n,max_s = map(int,input().split())\n",
    "room_n = [[0]*2 for x in range(6)]"
   ]
  },
  {
   "cell_type": "code",
   "execution_count": 29,
   "id": "9d12d737",
   "metadata": {
    "scrolled": true
   },
   "outputs": [
    {
     "name": "stdout",
     "output_type": "stream",
     "text": [
      "0 1\n",
      "1 1\n",
      "1 1\n",
      "0 2\n",
      "0 2\n",
      "1 2\n",
      "0 3\n",
      "1 3\n",
      "1 3\n",
      "1 3\n",
      "1 4\n",
      "0 5\n",
      "1 5\n",
      "1 5\n",
      "0 6\n",
      "1 6\n"
     ]
    }
   ],
   "source": [
    "for i in range(std_n):\n",
    "    x,y = map(int,input().split())\n",
    "    room_n[y-1][x] += 1"
   ]
  },
  {
   "cell_type": "code",
   "execution_count": 35,
   "id": "ef1f2936",
   "metadata": {},
   "outputs": [
    {
     "name": "stdout",
     "output_type": "stream",
     "text": [
      "12\n"
     ]
    }
   ],
   "source": [
    "count = 0\n",
    "for a in range(6):\n",
    "    for b in range(2):\n",
    "        roomd,rooms = divmod(room_n[a][b],max_s)\n",
    "        if rooms != 0:\n",
    "            roomd+=1\n",
    "        count += roomd\n",
    "\n",
    "print(count)"
   ]
  },
  {
   "cell_type": "code",
   "execution_count": null,
   "id": "388a4a78",
   "metadata": {},
   "outputs": [],
   "source": []
  }
 ],
 "metadata": {
  "kernelspec": {
   "display_name": "Python 3 (ipykernel)",
   "language": "python",
   "name": "python3"
  },
  "language_info": {
   "codemirror_mode": {
    "name": "ipython",
    "version": 3
   },
   "file_extension": ".py",
   "mimetype": "text/x-python",
   "name": "python",
   "nbconvert_exporter": "python",
   "pygments_lexer": "ipython3",
   "version": "3.9.7"
  }
 },
 "nbformat": 4,
 "nbformat_minor": 5
}
