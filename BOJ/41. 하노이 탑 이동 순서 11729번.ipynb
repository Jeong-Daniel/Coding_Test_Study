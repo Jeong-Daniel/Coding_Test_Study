{
 "cells": [
  {
   "cell_type": "markdown",
   "id": "0b8954c8",
   "metadata": {},
   "source": [
    "https://www.acmicpc.net/problem/11729"
   ]
  },
  {
   "cell_type": "code",
   "execution_count": 8,
   "id": "e31306d8",
   "metadata": {},
   "outputs": [
    {
     "name": "stdout",
     "output_type": "stream",
     "text": [
      "3\n",
      "7\n",
      "1 3\n",
      "1 2\n",
      "3 2\n",
      "1 3\n",
      "2 1\n",
      "2 3\n",
      "1 3\n"
     ]
    }
   ],
   "source": [
    "num = int(input())\n",
    "print(2**num-1)\n",
    "def hinoi(a,b,n):\n",
    "    if n==1:\n",
    "        print(a,b)\n",
    "        return\n",
    "    hinoi(a,6-a-b,n-1)\n",
    "    print(a,b)\n",
    "    hinoi(6-a-b,b,n-1)\n",
    "    \n",
    "hinoi(1,3,num)"
   ]
  },
  {
   "cell_type": "code",
   "execution_count": null,
   "id": "c175ac5b",
   "metadata": {},
   "outputs": [],
   "source": []
  }
 ],
 "metadata": {
  "kernelspec": {
   "display_name": "Python 3 (ipykernel)",
   "language": "python",
   "name": "python3"
  },
  "language_info": {
   "codemirror_mode": {
    "name": "ipython",
    "version": 3
   },
   "file_extension": ".py",
   "mimetype": "text/x-python",
   "name": "python",
   "nbconvert_exporter": "python",
   "pygments_lexer": "ipython3",
   "version": "3.9.7"
  }
 },
 "nbformat": 4,
 "nbformat_minor": 5
}
