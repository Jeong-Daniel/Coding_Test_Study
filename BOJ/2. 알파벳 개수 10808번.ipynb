{
 "cells": [
  {
   "cell_type": "markdown",
   "id": "321f2e04",
   "metadata": {},
   "source": [
    "https://www.acmicpc.net/problem/10808"
   ]
  },
  {
   "cell_type": "code",
   "execution_count": 25,
   "id": "fb10ad82",
   "metadata": {},
   "outputs": [
    {
     "name": "stdout",
     "output_type": "stream",
     "text": [
      "baekjoon\n",
      "1 1 0 0 1 0 0 0 0 1 1 0 0 1 2 0 0 0 0 0 0 0 0 0 0 0 "
     ]
    }
   ],
   "source": [
    "#a = 'baekjoon'\n",
    "a = input()\n",
    "string_count = [0]*26\n",
    "\n",
    "len_num = len(a)\n",
    "for i in range(len_num):\n",
    "    string_count[(ord(a[i])-97)]+=1\n",
    "    \n",
    "for i in range(26):\n",
    "    print(string_count[i], end=' ')"
   ]
  },
  {
   "cell_type": "code",
   "execution_count": 18,
   "id": "5a8bc9f2",
   "metadata": {},
   "outputs": [
    {
     "data": {
      "text/plain": [
       "97"
      ]
     },
     "execution_count": 18,
     "metadata": {},
     "output_type": "execute_result"
    }
   ],
   "source": [
    "ord(a[1])"
   ]
  },
  {
   "cell_type": "code",
   "execution_count": null,
   "id": "94290c78",
   "metadata": {},
   "outputs": [],
   "source": []
  }
 ],
 "metadata": {
  "kernelspec": {
   "display_name": "Python 3 (ipykernel)",
   "language": "python",
   "name": "python3"
  },
  "language_info": {
   "codemirror_mode": {
    "name": "ipython",
    "version": 3
   },
   "file_extension": ".py",
   "mimetype": "text/x-python",
   "name": "python",
   "nbconvert_exporter": "python",
   "pygments_lexer": "ipython3",
   "version": "3.9.7"
  }
 },
 "nbformat": 4,
 "nbformat_minor": 5
}
