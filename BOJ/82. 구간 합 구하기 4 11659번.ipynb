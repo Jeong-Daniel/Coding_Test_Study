{
 "cells": [
  {
   "cell_type": "markdown",
   "id": "1c7e8d6d",
   "metadata": {},
   "source": [
    "https://www.acmicpc.net/problem/11659"
   ]
  },
  {
   "cell_type": "code",
   "execution_count": 9,
   "id": "41f2ba5f",
   "metadata": {},
   "outputs": [
    {
     "name": "stdout",
     "output_type": "stream",
     "text": [
      "5 3\n",
      "5 4 3 2 1\n",
      "1 3\n",
      "12\n",
      "2 4\n",
      "9\n",
      "5 5\n",
      "1\n"
     ]
    }
   ],
   "source": [
    "import sys\n",
    "input = sys.stdin.readline\n",
    "\n",
    "n, m = map(int,input().split())\n",
    "dp = [0]*(n+1)\n",
    "num_list = [0]\n",
    "num_list+=list(map(int,input().split()))\n",
    "dp[1] = num_list[1]\n",
    "for i in range(1,n+1):\n",
    "    dp[i] = num_list[i]+dp[i-1]\n",
    "for j in range(m):\n",
    "    a,b = map(int,input().split())\n",
    "    print(dp[b]-dp[a-1])"
   ]
  },
  {
   "cell_type": "code",
   "execution_count": null,
   "id": "bb2bd414",
   "metadata": {},
   "outputs": [],
   "source": []
  }
 ],
 "metadata": {
  "kernelspec": {
   "display_name": "Python 3 (ipykernel)",
   "language": "python",
   "name": "python3"
  },
  "language_info": {
   "codemirror_mode": {
    "name": "ipython",
    "version": 3
   },
   "file_extension": ".py",
   "mimetype": "text/x-python",
   "name": "python",
   "nbconvert_exporter": "python",
   "pygments_lexer": "ipython3",
   "version": "3.9.7"
  }
 },
 "nbformat": 4,
 "nbformat_minor": 5
}
