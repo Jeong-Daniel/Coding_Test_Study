{
 "cells": [
  {
   "cell_type": "markdown",
   "id": "1428ee0f",
   "metadata": {},
   "source": [
    "https://www.acmicpc.net/problem/1629"
   ]
  },
  {
   "cell_type": "code",
   "execution_count": 1,
   "id": "4bb88792",
   "metadata": {},
   "outputs": [
    {
     "name": "stdout",
     "output_type": "stream",
     "text": [
      "10 11 12\n",
      "10 11 12\n",
      "10 5 12\n",
      "10 2 12\n",
      "4\n"
     ]
    }
   ],
   "source": [
    "a,b,c = map(int,input().split())\n",
    "\n",
    "def pow(a,b,c):\n",
    "    if b==1:\n",
    "        return a%c\n",
    "    print(a,b,c)\n",
    "    val = pow(a,b//2,c)\n",
    "    val = (val*val)%c\n",
    "    if b%2==0:\n",
    "        return val\n",
    "    return val*a%c\n",
    "\n",
    "print(pow(a,b,c))"
   ]
  },
  {
   "cell_type": "code",
   "execution_count": 8,
   "id": "7b6fb2ec",
   "metadata": {},
   "outputs": [
    {
     "data": {
      "text/plain": [
       "4"
      ]
     },
     "execution_count": 8,
     "metadata": {},
     "output_type": "execute_result"
    }
   ],
   "source": [
    "(10*1000)%7"
   ]
  },
  {
   "cell_type": "code",
   "execution_count": 9,
   "id": "49b54a4f",
   "metadata": {},
   "outputs": [
    {
     "data": {
      "text/plain": [
       "6"
      ]
     },
     "execution_count": 9,
     "metadata": {},
     "output_type": "execute_result"
    }
   ],
   "source": [
    "(10*100)%7"
   ]
  },
  {
   "cell_type": "code",
   "execution_count": 10,
   "id": "401ba6ec",
   "metadata": {},
   "outputs": [
    {
     "data": {
      "text/plain": [
       "2"
      ]
     },
     "execution_count": 10,
     "metadata": {},
     "output_type": "execute_result"
    }
   ],
   "source": [
    "(10*10)%7"
   ]
  }
 ],
 "metadata": {
  "kernelspec": {
   "display_name": "Python 3 (ipykernel)",
   "language": "python",
   "name": "python3"
  },
  "language_info": {
   "codemirror_mode": {
    "name": "ipython",
    "version": 3
   },
   "file_extension": ".py",
   "mimetype": "text/x-python",
   "name": "python",
   "nbconvert_exporter": "python",
   "pygments_lexer": "ipython3",
   "version": "3.9.7"
  }
 },
 "nbformat": 4,
 "nbformat_minor": 5
}
