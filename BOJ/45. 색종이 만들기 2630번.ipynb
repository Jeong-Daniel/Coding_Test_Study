{
 "cells": [
  {
   "cell_type": "markdown",
   "id": "c9036679",
   "metadata": {},
   "source": [
    "https://www.acmicpc.net/problem/2630"
   ]
  },
  {
   "cell_type": "code",
   "execution_count": 3,
   "id": "fad8ae7a",
   "metadata": {},
   "outputs": [
    {
     "name": "stdout",
     "output_type": "stream",
     "text": [
      "8\n",
      "1 1 0 0 0 0 1 1\n",
      "1 1 0 0 0 0 1 1\n",
      "0 0 0 0 1 1 0 0\n",
      "0 0 0 0 1 1 0 0\n",
      "1 0 0 0 1 1 1 1\n",
      "0 1 0 0 1 1 1 1\n",
      "0 0 1 1 1 1 1 1\n",
      "0 0 1 1 1 1 1 1\n",
      "9\n",
      "7\n"
     ]
    }
   ],
   "source": [
    "global count\n",
    "count = [0,0]\n",
    "num = int(input())\n",
    "paper = []\n",
    "for i in range(num):\n",
    "    paper.append(list(map(int,input().split())))\n",
    "    \n",
    "def check(x,y,n):\n",
    "    for i in range(x,x+n):\n",
    "        for j in range(y,y+n):\n",
    "            if paper[x][y]!=paper[i][j]:\n",
    "                return False\n",
    "    return True\n",
    "\n",
    "def solve(x,y,z):\n",
    "    if check(x,y,z):\n",
    "        count[paper[x][y]] += 1\n",
    "        return\n",
    "    n = int(z/2)\n",
    "    for i in range(2):\n",
    "        for j in range(2):\n",
    "            solve(x+i*n, y+j*n, n)\n",
    "            \n",
    "solve(0,0,num)\n",
    "for i in range(2):\n",
    "    print(count[i])"
   ]
  },
  {
   "cell_type": "code",
   "execution_count": null,
   "id": "0309e075",
   "metadata": {},
   "outputs": [],
   "source": []
  }
 ],
 "metadata": {
  "kernelspec": {
   "display_name": "Python 3 (ipykernel)",
   "language": "python",
   "name": "python3"
  },
  "language_info": {
   "codemirror_mode": {
    "name": "ipython",
    "version": 3
   },
   "file_extension": ".py",
   "mimetype": "text/x-python",
   "name": "python",
   "nbconvert_exporter": "python",
   "pygments_lexer": "ipython3",
   "version": "3.9.7"
  }
 },
 "nbformat": 4,
 "nbformat_minor": 5
}
