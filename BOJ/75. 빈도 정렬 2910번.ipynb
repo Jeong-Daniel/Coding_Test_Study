{
 "cells": [
  {
   "cell_type": "markdown",
   "id": "53c9409a",
   "metadata": {},
   "source": [
    "https://www.acmicpc.net/problem/2910"
   ]
  },
  {
   "cell_type": "code",
   "execution_count": 35,
   "id": "a6231da8",
   "metadata": {
    "scrolled": false
   },
   "outputs": [
    {
     "name": "stdout",
     "output_type": "stream",
     "text": [
      "9 3\n",
      "1 3 3 3 2 2 2 1 1\n",
      "0 [0, 1, 0, 0] [0, 1, 0, 0]\n",
      "1 [0, 1, 0, 2] [0, 1, 0, 1]\n",
      "4 [0, 1, 5, 2] [0, 1, 1, 3]\n"
     ]
    }
   ],
   "source": [
    "n,m = map(int,input().split())\n",
    "num_list = list(map(int,input().split()))\n",
    "count = [0]*(m+1)\n",
    "where = [0]*(m+1)\n",
    "for i in range(n):\n",
    "    count[num_list[i]]+=1\n",
    "    if where[num_list[i]] == 0:\n",
    "        where[num_list[i]] = i+1"
   ]
  },
  {
   "cell_type": "code",
   "execution_count": 36,
   "id": "13f8fd0b",
   "metadata": {},
   "outputs": [
    {
     "name": "stdout",
     "output_type": "stream",
     "text": [
      "1 1 1 3 3 3 2 2 2 "
     ]
    }
   ],
   "source": [
    "answer = []\n",
    "for i in range(0,m+1):\n",
    "    if count[i]!=0:\n",
    "        answer.append([count[i],where[i],i])\n",
    "        \n",
    "answer.sort(key=lambda x:(-x[0],x[1]))\n",
    "for i in range(len(answer)):\n",
    "    print((str(answer[i][2])+\" \")*answer[i][0], end='')"
   ]
  },
  {
   "cell_type": "code",
   "execution_count": 45,
   "id": "88b4b28c",
   "metadata": {},
   "outputs": [
    {
     "name": "stdout",
     "output_type": "stream",
     "text": [
      "9 3\n",
      "1 3 3 3 2 2 2 1 1\n"
     ]
    }
   ],
   "source": [
    "n,m = map(int,input().split())\n",
    "num_list = list(map(int,input().split()))"
   ]
  },
  {
   "cell_type": "code",
   "execution_count": 50,
   "id": "5ba5c9f8",
   "metadata": {},
   "outputs": [
    {
     "name": "stdout",
     "output_type": "stream",
     "text": [
      "1 1 1 3 3 3 2 2 2 "
     ]
    }
   ],
   "source": [
    "number = []\n",
    "where = []\n",
    "count = []\n",
    "for i in range(n):\n",
    "    if num_list[i] not in number:\n",
    "        number.append(num_list[i])\n",
    "        count.append(1)\n",
    "        where.append(i)\n",
    "    else:\n",
    "        temp = number.index(num_list[i])\n",
    "        count[temp]+=1\n",
    "        \n",
    "answer = []\n",
    "for i in range(len(number)):\n",
    "    answer.append([count[i],where[i],number[i]])\n",
    "    \n",
    "answer.sort(key=lambda x:(-x[0],x[1]))\n",
    "for i in range(len(answer)):\n",
    "    print((str(answer[i][2])+\" \")*answer[i][0], end='')"
   ]
  }
 ],
 "metadata": {
  "kernelspec": {
   "display_name": "Python 3 (ipykernel)",
   "language": "python",
   "name": "python3"
  },
  "language_info": {
   "codemirror_mode": {
    "name": "ipython",
    "version": 3
   },
   "file_extension": ".py",
   "mimetype": "text/x-python",
   "name": "python",
   "nbconvert_exporter": "python",
   "pygments_lexer": "ipython3",
   "version": "3.9.7"
  }
 },
 "nbformat": 4,
 "nbformat_minor": 5
}
