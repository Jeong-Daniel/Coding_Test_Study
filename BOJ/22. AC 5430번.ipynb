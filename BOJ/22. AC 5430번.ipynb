{
 "cells": [
  {
   "cell_type": "markdown",
   "id": "a8dc989d",
   "metadata": {},
   "source": [
    "https://www.acmicpc.net/problem/5430"
   ]
  },
  {
   "cell_type": "code",
   "execution_count": 69,
   "id": "de0bab12",
   "metadata": {},
   "outputs": [
    {
     "name": "stdout",
     "output_type": "stream",
     "text": [
      "4\n",
      "RDD\n",
      "4\n",
      "[1,2,3,4]\n",
      "[2, 1] here\n",
      "DD\n",
      "1\n",
      "[42]\n",
      "error\n",
      "RRD\n",
      "6\n",
      "[1,1,2,3,5,8]\n",
      "[1, 2, 3, 5, 8] here\n",
      "D\n",
      "0\n",
      "[]\n",
      "error\n"
     ]
    }
   ],
   "source": [
    "from collections import deque\n",
    "num = int(input())\n",
    "for i in range(num):\n",
    "    oper = str(input())\n",
    "    lenght = int(input())\n",
    "    num_list = str(input())[1:-1].split(',')\n",
    "    count = 0\n",
    "    A=True\n",
    "    if len(num_list[0]) != 0:\n",
    "        count = 1\n",
    "        num_list = deque(map(int,num_list))\n",
    "    for j in range(len(oper)):\n",
    "        now = oper[j]\n",
    "        if now=='R':\n",
    "            num_list.reverse()\n",
    "        elif now=='D' and num_list and count==1:\n",
    "            num_list.popleft()\n",
    "        else:\n",
    "            print('error')\n",
    "            A=False\n",
    "            break\n",
    "    if A:\n",
    "        print(list(num_list))"
   ]
  },
  {
   "cell_type": "code",
   "execution_count": null,
   "id": "65da9b7c",
   "metadata": {},
   "outputs": [],
   "source": []
  }
 ],
 "metadata": {
  "kernelspec": {
   "display_name": "Python 3 (ipykernel)",
   "language": "python",
   "name": "python3"
  },
  "language_info": {
   "codemirror_mode": {
    "name": "ipython",
    "version": 3
   },
   "file_extension": ".py",
   "mimetype": "text/x-python",
   "name": "python",
   "nbconvert_exporter": "python",
   "pygments_lexer": "ipython3",
   "version": "3.9.7"
  }
 },
 "nbformat": 4,
 "nbformat_minor": 5
}
