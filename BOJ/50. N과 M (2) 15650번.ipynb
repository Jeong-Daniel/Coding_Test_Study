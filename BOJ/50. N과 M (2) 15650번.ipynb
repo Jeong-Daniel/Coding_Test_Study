{
 "cells": [
  {
   "cell_type": "markdown",
   "id": "e9e7d4cc",
   "metadata": {},
   "source": [
    "https://www.acmicpc.net/problem/15650"
   ]
  },
  {
   "cell_type": "code",
   "execution_count": 45,
   "id": "3bdd14b3",
   "metadata": {},
   "outputs": [
    {
     "name": "stdout",
     "output_type": "stream",
     "text": [
      "4 2\n",
      "1 2 \n",
      "1 3 \n",
      "1 4 \n",
      "2 3 \n",
      "2 4 \n",
      "3 4 \n"
     ]
    }
   ],
   "source": [
    "n,m = map(int,input().split())\n",
    "arr = [0]*m\n",
    "isused = [False]*(n+1)\n",
    "def func(k):\n",
    "    if k==m:\n",
    "        for i in range(m):\n",
    "            print(arr[i], end=' ')\n",
    "        print()\n",
    "        return\n",
    "    for j in range(1,n+1):\n",
    "        if not isused[j]:\n",
    "            arr[k] = j\n",
    "            isused[0:j+1] = [True]*(j+1)\n",
    "            func(k+1)\n",
    "            isused[0:j+1] = [False]*(j+1)\n",
    "\n",
    "func(0)"
   ]
  }
 ],
 "metadata": {
  "kernelspec": {
   "display_name": "Python 3 (ipykernel)",
   "language": "python",
   "name": "python3"
  },
  "language_info": {
   "codemirror_mode": {
    "name": "ipython",
    "version": 3
   },
   "file_extension": ".py",
   "mimetype": "text/x-python",
   "name": "python",
   "nbconvert_exporter": "python",
   "pygments_lexer": "ipython3",
   "version": "3.9.7"
  }
 },
 "nbformat": 4,
 "nbformat_minor": 5
}
