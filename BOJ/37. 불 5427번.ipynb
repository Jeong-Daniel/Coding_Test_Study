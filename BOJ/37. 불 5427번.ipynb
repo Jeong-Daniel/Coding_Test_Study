{
 "cells": [
  {
   "cell_type": "markdown",
   "id": "a17b7aba",
   "metadata": {},
   "source": [
    "https://www.acmicpc.net/problem/5427"
   ]
  },
  {
   "cell_type": "code",
   "execution_count": 73,
   "id": "8e32aa45",
   "metadata": {
    "scrolled": false
   },
   "outputs": [
    {
     "name": "stdout",
     "output_type": "stream",
     "text": [
      "1\n",
      "2 2\n",
      "#@\n",
      "*#\n",
      "1\n"
     ]
    }
   ],
   "source": [
    "from collections import deque\n",
    "loop = int(input())\n",
    "dx = [0,0,1,-1]\n",
    "dy = [1,-1,0,0]\n",
    "\n",
    "for a in range(loop):\n",
    "    queue_f = deque()\n",
    "    queue_j = deque()\n",
    "    n, m = map(int,input().split())\n",
    "    map_list = []\n",
    "    dist = [[0]*n for _ in range(m)]\n",
    "    for y in range(m):\n",
    "        check = list(str(input()))\n",
    "        for x in range(n):\n",
    "            if check[x]!='#':\n",
    "                dist[y][x]=-1\n",
    "            if check[x]=='*':\n",
    "                queue_f.append([y,x])\n",
    "                dist[y][x]=0\n",
    "            elif check[x]=='@':\n",
    "                queue_j.append([y,x])\n",
    "        map_list.append(check)\n",
    "    \n",
    "    while queue_f:\n",
    "        cy,cx = queue_f.popleft()\n",
    "        for k in range(4):\n",
    "            nx = cx + dx[k]\n",
    "            ny = cy + dy[k]\n",
    "            if nx>=n or nx<0 or ny>=m or ny<0:\n",
    "                continue\n",
    "            if dist[ny][nx]!=-1 or map_list[ny][nx]=='#':\n",
    "                continue\n",
    "            dist[ny][nx]=dist[cy][cx]+1\n",
    "            queue_f.append([ny,nx])\n",
    "            \n",
    "    ty, tx = queue_j[-1]\n",
    "    dist[ty][tx]=0\n",
    "    esecep = False\n",
    "    while queue_j and esecep==False:\n",
    "        ty, tx = queue_j.popleft()\n",
    "        for k in range(4):\n",
    "            nx = tx + dx[k]\n",
    "            ny = ty + dy[k]\n",
    "            if nx>=n or nx<0 or ny>=m or ny<0:\n",
    "                print(dist[ty][tx]+1)\n",
    "                esecep = True\n",
    "                break\n",
    "            if map_list[ny][nx]=='#':\n",
    "                continue\n",
    "            if dist[ny][nx]<dist[ty][tx]+1:\n",
    "                continue\n",
    "            queue_j.append([ny,nx])\n",
    "            dist[ny][nx] = dist[ty][tx] + 1\n",
    "    \n",
    "    if not esecep:\n",
    "        print(\"IMPOSSIBLE\")"
   ]
  },
  {
   "cell_type": "code",
   "execution_count": null,
   "id": "15e09d8a",
   "metadata": {},
   "outputs": [],
   "source": []
  }
 ],
 "metadata": {
  "kernelspec": {
   "display_name": "Python 3 (ipykernel)",
   "language": "python",
   "name": "python3"
  },
  "language_info": {
   "codemirror_mode": {
    "name": "ipython",
    "version": 3
   },
   "file_extension": ".py",
   "mimetype": "text/x-python",
   "name": "python",
   "nbconvert_exporter": "python",
   "pygments_lexer": "ipython3",
   "version": "3.9.7"
  }
 },
 "nbformat": 4,
 "nbformat_minor": 5
}
