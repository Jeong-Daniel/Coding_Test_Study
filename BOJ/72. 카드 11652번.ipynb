{
 "cells": [
  {
   "cell_type": "markdown",
   "id": "954e1bc3",
   "metadata": {},
   "source": [
    "https://www.acmicpc.net/problem/11652"
   ]
  },
  {
   "cell_type": "code",
   "execution_count": 3,
   "id": "453a5d1e",
   "metadata": {},
   "outputs": [
    {
     "name": "stdout",
     "output_type": "stream",
     "text": [
      "6\n",
      "1\n",
      "2\n",
      "1\n",
      "2\n",
      "1\n",
      "2\n",
      "1\n"
     ]
    }
   ],
   "source": [
    "num = int(input())\n",
    "num_list = []\n",
    "for i in range(num):\n",
    "    num_list.append(int(input()))\n",
    "print(max(num_list, key=num_list.count))"
   ]
  },
  {
   "cell_type": "code",
   "execution_count": 16,
   "id": "9ccafcca",
   "metadata": {},
   "outputs": [
    {
     "name": "stdout",
     "output_type": "stream",
     "text": [
      "5\n",
      "1\n",
      "2\n",
      "1\n",
      "2\n",
      "1\n",
      "1\n"
     ]
    }
   ],
   "source": [
    "num = int(input())\n",
    "num_list = []\n",
    "for i in range(num):\n",
    "    num_list.append(int(input()))\n",
    "\n",
    "num_list.sort()\n",
    "count = 0\n",
    "temp = num_list[0]\n",
    "answer = []\n",
    "for i in range(1,num):\n",
    "    if num_list[i]==temp:\n",
    "        count+=1\n",
    "    else:\n",
    "        answer.append([count,temp])\n",
    "        temp = num_list[i]\n",
    "        count=0\n",
    "    \n",
    "answer.append([count,temp])\n",
    "answer.sort(key=lambda x:(-x[0],x[1]))\n",
    "print(answer[0][1])"
   ]
  },
  {
   "cell_type": "code",
   "execution_count": null,
   "id": "538558b2",
   "metadata": {},
   "outputs": [],
   "source": []
  }
 ],
 "metadata": {
  "kernelspec": {
   "display_name": "Python 3 (ipykernel)",
   "language": "python",
   "name": "python3"
  },
  "language_info": {
   "codemirror_mode": {
    "name": "ipython",
    "version": 3
   },
   "file_extension": ".py",
   "mimetype": "text/x-python",
   "name": "python",
   "nbconvert_exporter": "python",
   "pygments_lexer": "ipython3",
   "version": "3.9.7"
  }
 },
 "nbformat": 4,
 "nbformat_minor": 5
}
