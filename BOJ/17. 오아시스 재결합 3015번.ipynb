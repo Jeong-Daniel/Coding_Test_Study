{
 "cells": [
  {
   "cell_type": "markdown",
   "id": "b2cbdc76",
   "metadata": {},
   "source": [
    "https://www.acmicpc.net/problem/3015"
   ]
  },
  {
   "cell_type": "code",
   "execution_count": null,
   "id": "1fe0a961",
   "metadata": {},
   "outputs": [],
   "source": [
    "num = int(input())\n",
    "stack=[]\n",
    "count = 0\n",
    "for i in range(num):\n",
    "    if len(stack)<2:\n",
    "        stack.append(int(input()))\n",
    "    \n",
    "    "
   ]
  }
 ],
 "metadata": {
  "kernelspec": {
   "display_name": "Python 3 (ipykernel)",
   "language": "python",
   "name": "python3"
  },
  "language_info": {
   "codemirror_mode": {
    "name": "ipython",
    "version": 3
   },
   "file_extension": ".py",
   "mimetype": "text/x-python",
   "name": "python",
   "nbconvert_exporter": "python",
   "pygments_lexer": "ipython3",
   "version": "3.9.7"
  }
 },
 "nbformat": 4,
 "nbformat_minor": 5
}
