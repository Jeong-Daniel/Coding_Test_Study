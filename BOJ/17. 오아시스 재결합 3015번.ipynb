{
 "cells": [
  {
   "cell_type": "markdown",
   "id": "b2cbdc76",
   "metadata": {},
   "source": [
    "https://www.acmicpc.net/problem/3015"
   ]
  },
  {
   "cell_type": "code",
   "execution_count": 22,
   "id": "1fe0a961",
   "metadata": {
    "scrolled": true
   },
   "outputs": [
    {
     "name": "stdout",
     "output_type": "stream",
     "text": [
      "7\n",
      "2\n",
      "[]\n",
      "4\n",
      "[2]\n",
      "1\n",
      "[4]\n",
      "2\n",
      "[4, 1]\n",
      "2\n",
      "[4, 2]\n",
      "5\n",
      "[4, 2, 2]\n",
      "1\n",
      "[5]\n",
      "10\n"
     ]
    }
   ],
   "source": [
    "num = int(input())\n",
    "stack=[]\n",
    "count = 0\n",
    "for i in range(num):\n",
    "    pe = int(input())\n",
    "    print(stack)\n",
    "    if stack:\n",
    "        if stack[-1] < pe:\n",
    "            count += len(stack)\n",
    "            stack.pop()\n",
    "            while stack:\n",
    "                if stack[-1]<pe:\n",
    "                    stack.pop()\n",
    "                else:\n",
    "                    break\n",
    "        elif stack[-1] == pe:\n",
    "            count += len(stack)\n",
    "        else:\n",
    "            count += 1\n",
    "    stack.append(pe)\n",
    "print(count)"
   ]
  },
  {
   "cell_type": "code",
   "execution_count": 30,
   "id": "1cb3df6c",
   "metadata": {},
   "outputs": [
    {
     "name": "stdout",
     "output_type": "stream",
     "text": [
      "7\n",
      "2\n",
      "4\n",
      "1\n",
      "2\n",
      "2\n",
      "5\n",
      "1\n",
      "10\n"
     ]
    }
   ],
   "source": [
    "num = int(input())\n",
    "stack=[]\n",
    "ans = 0\n",
    "for i in range(num):\n",
    "    pe = int(input())\n",
    "    count = 1\n",
    "    while stack and stack[-1][0]<=pe:\n",
    "        ans += stack[-1][1]\n",
    "        if stack[-1][0] == pe:\n",
    "            count += stack[-1][1]\n",
    "        stack.pop()\n",
    "    if stack:\n",
    "        ans+=1\n",
    "    stack.append([pe,count])\n",
    "print(ans)"
   ]
  },
  {
   "cell_type": "code",
   "execution_count": null,
   "id": "36537849",
   "metadata": {},
   "outputs": [],
   "source": []
  }
 ],
 "metadata": {
  "kernelspec": {
   "display_name": "Python 3 (ipykernel)",
   "language": "python",
   "name": "python3"
  },
  "language_info": {
   "codemirror_mode": {
    "name": "ipython",
    "version": 3
   },
   "file_extension": ".py",
   "mimetype": "text/x-python",
   "name": "python",
   "nbconvert_exporter": "python",
   "pygments_lexer": "ipython3",
   "version": "3.9.7"
  }
 },
 "nbformat": 4,
 "nbformat_minor": 5
}
