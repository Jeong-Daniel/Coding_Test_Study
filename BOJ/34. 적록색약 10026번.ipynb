{
 "cells": [
  {
   "cell_type": "markdown",
   "id": "cb380561",
   "metadata": {},
   "source": [
    "https://www.acmicpc.net/problem/10026"
   ]
  },
  {
   "cell_type": "code",
   "execution_count": 20,
   "id": "75f38c92",
   "metadata": {
    "scrolled": true
   },
   "outputs": [
    {
     "name": "stdout",
     "output_type": "stream",
     "text": [
      "5\n",
      "RRRBB\n",
      "GGBBB\n",
      "BBBRR\n",
      "BBRRR\n",
      "RRRRR\n"
     ]
    }
   ],
   "source": [
    "n = int(input())\n",
    "map_list = []\n",
    "for i in range(n):\n",
    "    temp = str(input())\n",
    "    num = len(temp)\n",
    "    check = []\n",
    "    for j in range(num):\n",
    "        check.append(temp[j])\n",
    "    map_list.append(check)"
   ]
  },
  {
   "cell_type": "code",
   "execution_count": 21,
   "id": "25174d49",
   "metadata": {},
   "outputs": [
    {
     "name": "stdout",
     "output_type": "stream",
     "text": [
      "7 0\n"
     ]
    }
   ],
   "source": [
    "from collections import deque\n",
    "queue = deque()\n",
    "dx=[0,0,1,-1]\n",
    "dy=[1,-1,0,0]\n",
    "count_a = 0\n",
    "dist = [[-1]*n for _ in range(n)]\n",
    "for i in range(n):\n",
    "    for j in range(n):\n",
    "        if dist[i][j] == -1:\n",
    "            dist[i][j] = 0\n",
    "            queue.append([i,j])\n",
    "            count_a += 1\n",
    "            while queue:\n",
    "                curr = queue.popleft()\n",
    "                now_color = map_list[curr[0]][curr[1]]\n",
    "                for k in range(4):\n",
    "                    nx = curr[0] + dx[k]\n",
    "                    ny = curr[1] + dy[k]\n",
    "                    if nx<0 or nx>=n or ny<0 or ny>=n :\n",
    "                        continue\n",
    "                    if map_list[nx][ny]!=now_color or dist[nx][ny] != -1:\n",
    "                        continue\n",
    "                    dist[nx][ny] = 0\n",
    "                    queue.append([nx,ny])\n",
    "\n",
    "count_b = 0\n",
    "dist = [[-1]*n for _ in range(n)]\n",
    "for i in range(n):\n",
    "    for j in range(n):\n",
    "        if dist[i][j] == -1:\n",
    "            dist[i][j] = 0\n",
    "            queue.append([i,j])\n",
    "            count_b += 1\n",
    "            while queue:\n",
    "                curr = queue.popleft()\n",
    "                now_color = map_list[curr[0]][curr[1]]\n",
    "                for k in range(4):\n",
    "                    nx = curr[0] + dx[k]\n",
    "                    ny = curr[1] + dy[k]\n",
    "                    if nx<0 or nx>=n or ny<0 or ny>=n :\n",
    "                        continue\n",
    "                    if dist[nx][ny] != -1:\n",
    "                        continue\n",
    "                    if map_list[nx][ny]!=now_color:\n",
    "                        if now_color=='R' and map_list[nx][ny]=='G':\n",
    "                            pass\n",
    "                        elif now_color=='G' and map_list[nx][ny]=='R':\n",
    "                            pass\n",
    "                        else:\n",
    "                            continue\n",
    "                    dist[nx][ny] = 0\n",
    "                    queue.append([nx,ny])\n",
    "                    \n",
    "print(count_a, count_b)"
   ]
  }
 ],
 "metadata": {
  "kernelspec": {
   "display_name": "Python 3 (ipykernel)",
   "language": "python",
   "name": "python3"
  },
  "language_info": {
   "codemirror_mode": {
    "name": "ipython",
    "version": 3
   },
   "file_extension": ".py",
   "mimetype": "text/x-python",
   "name": "python",
   "nbconvert_exporter": "python",
   "pygments_lexer": "ipython3",
   "version": "3.9.7"
  }
 },
 "nbformat": 4,
 "nbformat_minor": 5
}
