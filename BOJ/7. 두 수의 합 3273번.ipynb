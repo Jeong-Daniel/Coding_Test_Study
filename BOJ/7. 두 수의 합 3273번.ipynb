{
 "cells": [
  {
   "cell_type": "markdown",
   "id": "4c592a7c",
   "metadata": {},
   "source": [
    "https://www.acmicpc.net/problem/3273"
   ]
  },
  {
   "cell_type": "code",
   "execution_count": null,
   "id": "d88a4b1d",
   "metadata": {},
   "outputs": [],
   "source": [
    "num = int(input())\n",
    "num_list = list(map(int,input().split()))\n",
    "target = int(input())\n",
    "\n",
    "number = [0]*(max(num_list)*2)\n",
    "count = 0\n",
    "for i in range(len(num_list)):\n",
    "    number[num_list[i]] = 1\n",
    "\n",
    "print(number)"
   ]
  },
  {
   "cell_type": "code",
   "execution_count": null,
   "id": "a6ca4e01",
   "metadata": {},
   "outputs": [],
   "source": []
  }
 ],
 "metadata": {
  "kernelspec": {
   "display_name": "Python 3 (ipykernel)",
   "language": "python",
   "name": "python3"
  },
  "language_info": {
   "codemirror_mode": {
    "name": "ipython",
    "version": 3
   },
   "file_extension": ".py",
   "mimetype": "text/x-python",
   "name": "python",
   "nbconvert_exporter": "python",
   "pygments_lexer": "ipython3",
   "version": "3.9.7"
  }
 },
 "nbformat": 4,
 "nbformat_minor": 5
}
