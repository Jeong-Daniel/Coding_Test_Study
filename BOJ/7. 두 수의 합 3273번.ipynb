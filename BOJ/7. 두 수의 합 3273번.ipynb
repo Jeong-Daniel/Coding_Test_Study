{
 "cells": [
  {
   "cell_type": "markdown",
   "id": "4c592a7c",
   "metadata": {},
   "source": [
    "https://www.acmicpc.net/problem/3273"
   ]
  },
  {
   "cell_type": "code",
   "execution_count": 18,
   "id": "d88a4b1d",
   "metadata": {
    "scrolled": true
   },
   "outputs": [
    {
     "name": "stdout",
     "output_type": "stream",
     "text": [
      "9\n",
      "5 12 7 10 9 1 2 3 11\n",
      "13\n"
     ]
    }
   ],
   "source": [
    "num = int(input())\n",
    "num_list = list(map(int,input().split()))\n",
    "target = int(input())"
   ]
  },
  {
   "cell_type": "markdown",
   "id": "6ddb0392",
   "metadata": {},
   "source": [
    "방법 1 (시간 초과)"
   ]
  },
  {
   "cell_type": "code",
   "execution_count": 13,
   "id": "b0a68e05",
   "metadata": {},
   "outputs": [
    {
     "name": "stdout",
     "output_type": "stream",
     "text": [
      "[5, 12, 7, 10, 9, 2, 3, 11]\n",
      "[5, 12, 7, 10, 9, 2, 11]\n",
      "[5, 12, 7, 10, 9, 2]\n",
      "3\n"
     ]
    }
   ],
   "source": [
    "count = 0\n",
    "for idx,number in enumerate(num_list):\n",
    "    check = (target - number)\n",
    "    if check in num_list:\n",
    "        count += 1\n",
    "        num_list.remove(check)\n",
    "print(count)"
   ]
  },
  {
   "cell_type": "markdown",
   "id": "d2ca1779",
   "metadata": {},
   "source": [
    "방법 2"
   ]
  },
  {
   "cell_type": "code",
   "execution_count": 30,
   "id": "147fb7d5",
   "metadata": {},
   "outputs": [
    {
     "name": "stdout",
     "output_type": "stream",
     "text": [
      "3\n"
     ]
    }
   ],
   "source": [
    "max_num = (max(num_list)+target)*2\n",
    "    \n",
    "check_list = [0]*max_num\n",
    "count = 0\n",
    "for idx, number in enumerate(num_list):\n",
    "    if check_list[target-number]==1:\n",
    "        count+=1\n",
    "    check_list[number]=1\n",
    "    \n",
    "print(count)"
   ]
  }
 ],
 "metadata": {
  "kernelspec": {
   "display_name": "Python 3 (ipykernel)",
   "language": "python",
   "name": "python3"
  },
  "language_info": {
   "codemirror_mode": {
    "name": "ipython",
    "version": 3
   },
   "file_extension": ".py",
   "mimetype": "text/x-python",
   "name": "python",
   "nbconvert_exporter": "python",
   "pygments_lexer": "ipython3",
   "version": "3.9.7"
  }
 },
 "nbformat": 4,
 "nbformat_minor": 5
}
