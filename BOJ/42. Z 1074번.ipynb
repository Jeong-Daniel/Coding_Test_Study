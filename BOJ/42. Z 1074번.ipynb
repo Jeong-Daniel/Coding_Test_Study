{
 "cells": [
  {
   "cell_type": "markdown",
   "id": "2021672e",
   "metadata": {},
   "source": [
    "https://www.acmicpc.net/problem/1074"
   ]
  },
  {
   "cell_type": "code",
   "execution_count": 3,
   "id": "e02f258a",
   "metadata": {},
   "outputs": [
    {
     "name": "stdout",
     "output_type": "stream",
     "text": [
      "2 3 1\n",
      "11\n"
     ]
    }
   ],
   "source": [
    "n, x, y = map(int,input().split())\n",
    "def func(n,x,y):\n",
    "    if n==0:\n",
    "        return 0\n",
    "    half = 2**(n-1)\n",
    "    if x<half and y<half:\n",
    "        return func(n-1,x,y)\n",
    "    if x<half and y>=half:\n",
    "        return half*half + func(n-1,x,y-half)\n",
    "    if x>=half and y<half:\n",
    "        return 2*half*half + func(n-1,x-half,y)\n",
    "    return 3*half*half + func(n-1, x-half, y-half)\n",
    "\n",
    "print(func(n,x,y))"
   ]
  },
  {
   "cell_type": "code",
   "execution_count": null,
   "id": "dc4e1c03",
   "metadata": {},
   "outputs": [],
   "source": []
  }
 ],
 "metadata": {
  "kernelspec": {
   "display_name": "Python 3 (ipykernel)",
   "language": "python",
   "name": "python3"
  },
  "language_info": {
   "codemirror_mode": {
    "name": "ipython",
    "version": 3
   },
   "file_extension": ".py",
   "mimetype": "text/x-python",
   "name": "python",
   "nbconvert_exporter": "python",
   "pygments_lexer": "ipython3",
   "version": "3.9.7"
  }
 },
 "nbformat": 4,
 "nbformat_minor": 5
}
