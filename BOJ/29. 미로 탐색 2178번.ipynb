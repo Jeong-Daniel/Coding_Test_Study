{
 "cells": [
  {
   "cell_type": "markdown",
   "id": "a8ad8a6d",
   "metadata": {},
   "source": [
    "https://www.acmicpc.net/problem/2178"
   ]
  },
  {
   "cell_type": "code",
   "execution_count": 82,
   "id": "a77ed24d",
   "metadata": {},
   "outputs": [
    {
     "name": "stdout",
     "output_type": "stream",
     "text": [
      "4 6\n",
      "110110\n",
      "110110\n",
      "111111\n",
      "111101\n",
      "9\n"
     ]
    }
   ],
   "source": [
    "n, m = map(int,input().split())\n",
    "map_list = []\n",
    "for i in range(n):\n",
    "    append_list = []\n",
    "    temp = str(input())\n",
    "    for j in range(m):\n",
    "        append_list.append(int(temp[j]))\n",
    "    map_list.append(append_list)\n",
    "\n",
    "from collections import deque\n",
    "vist = [[0]*m for _ in range(n)]\n",
    "queue = deque()\n",
    "queue.append([0,0])\n",
    "vist[0][0] = 1\n",
    "dx = [0,0,1,-1]\n",
    "dy = [1,-1,0,0]\n",
    "\n",
    "while queue:\n",
    "    curr = queue.popleft()\n",
    "    for k in range(4):\n",
    "        nx = curr[0] + dx[k]\n",
    "        ny = curr[1] + dy[k]\n",
    "        if nx >= n or nx < 0 or ny >= m or ny < 0:\n",
    "            continue\n",
    "        if vist[nx][ny] or map_list[nx][ny]!=1:\n",
    "            continue\n",
    "        queue.append([nx,ny])\n",
    "        vist[nx][ny] = vist[curr[0]][curr[1]]+1\n",
    "    \n",
    "print(vist[n-1][m-1])"
   ]
  }
 ],
 "metadata": {
  "kernelspec": {
   "display_name": "Python 3 (ipykernel)",
   "language": "python",
   "name": "python3"
  },
  "language_info": {
   "codemirror_mode": {
    "name": "ipython",
    "version": 3
   },
   "file_extension": ".py",
   "mimetype": "text/x-python",
   "name": "python",
   "nbconvert_exporter": "python",
   "pygments_lexer": "ipython3",
   "version": "3.9.7"
  }
 },
 "nbformat": 4,
 "nbformat_minor": 5
}
