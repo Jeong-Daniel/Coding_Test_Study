{
 "cells": [
  {
   "cell_type": "markdown",
   "id": "5084535d",
   "metadata": {},
   "source": [
    "https://www.acmicpc.net/problem/10844"
   ]
  },
  {
   "cell_type": "code",
   "execution_count": null,
   "id": "c6441eeb",
   "metadata": {},
   "outputs": [],
   "source": [
    "mod = 1000000000\n",
    "num = int(input())\n",
    "dp = [0]*(num+1)\n",
    "\n",
    "for i in range()"
   ]
  }
 ],
 "metadata": {
  "kernelspec": {
   "display_name": "Python 3 (ipykernel)",
   "language": "python",
   "name": "python3"
  },
  "language_info": {
   "codemirror_mode": {
    "name": "ipython",
    "version": 3
   },
   "file_extension": ".py",
   "mimetype": "text/x-python",
   "name": "python",
   "nbconvert_exporter": "python",
   "pygments_lexer": "ipython3",
   "version": "3.9.7"
  }
 },
 "nbformat": 4,
 "nbformat_minor": 5
}
