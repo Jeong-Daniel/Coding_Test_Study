{
 "cells": [
  {
   "cell_type": "markdown",
   "id": "8d1b5d81",
   "metadata": {},
   "source": [
    "https://www.acmicpc.net/problem/11328"
   ]
  },
  {
   "cell_type": "code",
   "execution_count": 21,
   "id": "111db470",
   "metadata": {
    "scrolled": false
   },
   "outputs": [
    {
     "name": "stdout",
     "output_type": "stream",
     "text": [
      "1\n",
      "a b\n",
      "Impossible\n"
     ]
    }
   ],
   "source": [
    "num = int(input())\n",
    "\n",
    "for i in range(num):\n",
    "    first, second = map(str,input().split())\n",
    "    \n",
    "    first_list = [0]*26\n",
    "    second_list = [0]*26\n",
    "    \n",
    "    for j in range(len(first)):\n",
    "        first_list[ord(first[j])-97]+=1\n",
    "        second_list[ord(second[j])-97]+=1\n",
    "    \n",
    "    if first_list==second_list:\n",
    "        print('Possible')\n",
    "    else:\n",
    "        print('Impossible')"
   ]
  },
  {
   "cell_type": "code",
   "execution_count": null,
   "id": "e104dacc",
   "metadata": {},
   "outputs": [],
   "source": [
    "num = int(input())\n",
    "for i in range(num):\n",
    "    first, second = map(str,input().split())\n",
    "    if sorted(list(second))==sorted(list(first)):\n",
    "        print('Possible')\n",
    "    else:\n",
    "        print('Impossible')"
   ]
  }
 ],
 "metadata": {
  "kernelspec": {
   "display_name": "Python 3 (ipykernel)",
   "language": "python",
   "name": "python3"
  },
  "language_info": {
   "codemirror_mode": {
    "name": "ipython",
    "version": 3
   },
   "file_extension": ".py",
   "mimetype": "text/x-python",
   "name": "python",
   "nbconvert_exporter": "python",
   "pygments_lexer": "ipython3",
   "version": "3.9.7"
  }
 },
 "nbformat": 4,
 "nbformat_minor": 5
}
