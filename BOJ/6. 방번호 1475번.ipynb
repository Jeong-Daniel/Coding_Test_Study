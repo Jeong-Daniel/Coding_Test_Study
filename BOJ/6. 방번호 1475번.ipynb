{
 "cells": [
  {
   "cell_type": "markdown",
   "id": "486c9740",
   "metadata": {},
   "source": [
    "https://www.acmicpc.net/problem/1475"
   ]
  },
  {
   "cell_type": "code",
   "execution_count": 12,
   "id": "bc662d09",
   "metadata": {},
   "outputs": [
    {
     "name": "stdout",
     "output_type": "stream",
     "text": [
      "888888\n",
      "6\n"
     ]
    }
   ],
   "source": [
    "num_list = input()\n",
    "number = [0]*10\n",
    "for i in range(len(num_list)):\n",
    "    check = int(num_list[i])\n",
    "    if check == 9:\n",
    "        if number[9]>number[6]:\n",
    "            number[6]+=1\n",
    "            continue\n",
    "    elif check == 6:\n",
    "        if number[6]>number[9]:\n",
    "            number[9]+=1\n",
    "            continue\n",
    "    number[check]+=1\n",
    "print(max(number))"
   ]
  }
 ],
 "metadata": {
  "kernelspec": {
   "display_name": "Python 3 (ipykernel)",
   "language": "python",
   "name": "python3"
  },
  "language_info": {
   "codemirror_mode": {
    "name": "ipython",
    "version": 3
   },
   "file_extension": ".py",
   "mimetype": "text/x-python",
   "name": "python",
   "nbconvert_exporter": "python",
   "pygments_lexer": "ipython3",
   "version": "3.9.7"
  }
 },
 "nbformat": 4,
 "nbformat_minor": 5
}
