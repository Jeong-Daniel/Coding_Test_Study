{
 "cells": [
  {
   "cell_type": "markdown",
   "id": "baafe67f",
   "metadata": {},
   "source": [
    "https://www.acmicpc.net/problem/7562"
   ]
  },
  {
   "cell_type": "code",
   "execution_count": 16,
   "id": "1d3a5c92",
   "metadata": {},
   "outputs": [
    {
     "name": "stdout",
     "output_type": "stream",
     "text": [
      "3\n",
      "8\n",
      "0 0\n",
      "7 0\n",
      "6\n",
      "100\n",
      "0 0\n",
      "30 50\n",
      "29\n",
      "10\n",
      "1 1\n",
      "1 1\n",
      "1\n"
     ]
    }
   ],
   "source": [
    "from collections import deque\n",
    "loop = int(input())\n",
    "dx = [0,-2,-1,1,2,-2,-1,1,2]\n",
    "dy = [0,-1,-2,-2,-1,1,2,2,1]\n",
    "for i in range(loop):\n",
    "    num = int(input())\n",
    "    map_list = [[0]*num for _ in range(num)]\n",
    "    x,y = map(int,input().split())\n",
    "    nx,ny = map(int,input().split())\n",
    "    queue = deque([[y,x]])\n",
    "    out = True\n",
    "    while out:\n",
    "        ty,tx=queue.popleft()\n",
    "        for k in range(9):\n",
    "            nnx = tx + dx[k]\n",
    "            nny = ty + dy[k]\n",
    "            if nnx>=num or nnx<0 or nny>=num or nny<0:\n",
    "                continue\n",
    "            if map_list[nny][nnx]:\n",
    "                continue\n",
    "            if nnx==nx and nny==ny:\n",
    "                print(map_list[ty][tx])\n",
    "                out = False\n",
    "                break\n",
    "            queue.append([nny,nnx])\n",
    "            map_list[nny][nnx] = map_list[ty][tx]+1"
   ]
  }
 ],
 "metadata": {
  "kernelspec": {
   "display_name": "Python 3 (ipykernel)",
   "language": "python",
   "name": "python3"
  },
  "language_info": {
   "codemirror_mode": {
    "name": "ipython",
    "version": 3
   },
   "file_extension": ".py",
   "mimetype": "text/x-python",
   "name": "python",
   "nbconvert_exporter": "python",
   "pygments_lexer": "ipython3",
   "version": "3.9.7"
  }
 },
 "nbformat": 4,
 "nbformat_minor": 5
}
