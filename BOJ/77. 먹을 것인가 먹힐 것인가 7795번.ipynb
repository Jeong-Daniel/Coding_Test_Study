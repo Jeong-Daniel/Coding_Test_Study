{
 "cells": [
  {
   "cell_type": "markdown",
   "id": "1b676bdb",
   "metadata": {},
   "source": [
    "https://www.acmicpc.net/problem/7795"
   ]
  },
  {
   "cell_type": "code",
   "execution_count": 21,
   "id": "baf3443c",
   "metadata": {},
   "outputs": [
    {
     "name": "stdout",
     "output_type": "stream",
     "text": [
      "2\n",
      "5 3\n",
      "8 1 7 3 1\n",
      "3 6 1\n",
      "7\n",
      "3 4\n",
      "2 13 7\n",
      "103 11 290 215\n",
      "1\n"
     ]
    }
   ],
   "source": [
    "import sys\n",
    "input=sys.stdin.readline\n",
    "\n",
    "loop = int(input())\n",
    "for i in range(loop):\n",
    "    n,m = map(int,input().split())\n",
    "    a_case = list(map(int,input().split()))\n",
    "    b_case = list(map(int,input().split()))\n",
    "    print(func(a_case,b_case))"
   ]
  },
  {
   "cell_type": "code",
   "execution_count": 20,
   "id": "78e08670",
   "metadata": {},
   "outputs": [],
   "source": [
    "def func(a_case,b_case):\n",
    "    a_case.sort(reverse=True)\n",
    "    b_case.sort(reverse=True)\n",
    "    total = 0\n",
    "    minum = False\n",
    "    for i in range(n):\n",
    "        for j in range(m):\n",
    "            if a_case[i]<b_case[-1]:\n",
    "                minum=True\n",
    "                break\n",
    "            if a_case[i]>b_case[j]:\n",
    "                total+=1\n",
    "            else:\n",
    "                continue\n",
    "        if minum:\n",
    "            return total\n",
    "    return total"
   ]
  },
  {
   "cell_type": "code",
   "execution_count": null,
   "id": "b16c538b",
   "metadata": {},
   "outputs": [],
   "source": []
  }
 ],
 "metadata": {
  "kernelspec": {
   "display_name": "Python 3 (ipykernel)",
   "language": "python",
   "name": "python3"
  },
  "language_info": {
   "codemirror_mode": {
    "name": "ipython",
    "version": 3
   },
   "file_extension": ".py",
   "mimetype": "text/x-python",
   "name": "python",
   "nbconvert_exporter": "python",
   "pygments_lexer": "ipython3",
   "version": "3.9.7"
  }
 },
 "nbformat": 4,
 "nbformat_minor": 5
}
