{
 "cells": [
  {
   "cell_type": "markdown",
   "id": "35b91bf9",
   "metadata": {},
   "source": [
    "https://www.acmicpc.net/problem/1926"
   ]
  },
  {
   "cell_type": "code",
   "execution_count": 5,
   "id": "e060b1eb",
   "metadata": {
    "scrolled": true
   },
   "outputs": [
    {
     "name": "stdout",
     "output_type": "stream",
     "text": [
      "6 5\n",
      "1 1 0 1 1\n",
      "0 1 1 0 0\n",
      "0 0 0 0 0\n",
      "1 0 1 1 1\n",
      "0 0 1 1 1\n",
      "0 0 1 1 1\n"
     ]
    }
   ],
   "source": [
    "n, m = map(int,input().split())\n",
    "map_list = []\n",
    "for i in range(n):\n",
    "    map_list.append(list(map(int,input().split())))"
   ]
  },
  {
   "cell_type": "code",
   "execution_count": 30,
   "id": "b4f46b18",
   "metadata": {},
   "outputs": [
    {
     "name": "stdout",
     "output_type": "stream",
     "text": [
      "4\n",
      "9\n"
     ]
    }
   ],
   "source": [
    "from collections import deque\n",
    "dx = [1,0,-1,0]\n",
    "dy = [0,1,0,-1]\n",
    "vist = [[0]*m for _ in range(n)]\n",
    "count = 0\n",
    "mx = 0\n",
    "\n",
    "for i in range(n):\n",
    "    for j in range(m):\n",
    "        if map_list[i][j] and vist[i][j]==0:\n",
    "            vist[i][j]=1\n",
    "            count += 1\n",
    "            queue = deque()\n",
    "            queue.append([i,j])\n",
    "            max_num = 0\n",
    "            while queue:\n",
    "                max_num += 1\n",
    "                curr = queue.popleft()\n",
    "                for k in range(4):\n",
    "                    nx = curr[0]+dx[k]\n",
    "                    ny = curr[1]+dy[k]\n",
    "                    if nx<0 or nx>=n or ny<0 or ny>=m:\n",
    "                        continue\n",
    "                    if map_list[nx][ny]!=1 or vist[nx][ny]:\n",
    "                        continue\n",
    "                    vist[nx][ny] = 1\n",
    "                    queue.append([nx,ny]) \n",
    "            mx = max(mx,max_num) \n",
    "            \n",
    "print(count)\n",
    "print(mx)"
   ]
  },
  {
   "cell_type": "code",
   "execution_count": null,
   "id": "4a171219",
   "metadata": {},
   "outputs": [],
   "source": []
  }
 ],
 "metadata": {
  "kernelspec": {
   "display_name": "Python 3 (ipykernel)",
   "language": "python",
   "name": "python3"
  },
  "language_info": {
   "codemirror_mode": {
    "name": "ipython",
    "version": 3
   },
   "file_extension": ".py",
   "mimetype": "text/x-python",
   "name": "python",
   "nbconvert_exporter": "python",
   "pygments_lexer": "ipython3",
   "version": "3.9.7"
  }
 },
 "nbformat": 4,
 "nbformat_minor": 5
}
