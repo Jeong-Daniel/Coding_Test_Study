{
 "cells": [
  {
   "cell_type": "markdown",
   "id": "368522ad",
   "metadata": {},
   "source": [
    "https://www.acmicpc.net/problem/1181"
   ]
  },
  {
   "cell_type": "code",
   "execution_count": 3,
   "id": "924a0175",
   "metadata": {},
   "outputs": [
    {
     "name": "stdout",
     "output_type": "stream",
     "text": [
      "13\n",
      "but\n",
      "i\n",
      "wont\n",
      "hesitate\n",
      "no\n",
      "more\n",
      "no\n",
      "more\n",
      "it\n",
      "cannot\n",
      "wait\n",
      "im\n",
      "yours\n",
      "i\n",
      "im\n",
      "it\n",
      "no\n",
      "but\n",
      "more\n",
      "wait\n",
      "wont\n",
      "yours\n",
      "cannot\n",
      "hesitate\n"
     ]
    }
   ],
   "source": [
    "num = int(input())\n",
    "word_list = []\n",
    "for i in range(num):\n",
    "    temp = str(input())\n",
    "    lenght = len(temp)\n",
    "    if [lenght,temp] not in word_list:\n",
    "        word_list.append([lenght,temp])\n",
    "    \n",
    "word_list.sort(key=lambda x:(x[0],x[1]))\n",
    "\n",
    "for i in range(len(word_list)):\n",
    "    print(word_list[i][1])"
   ]
  },
  {
   "cell_type": "code",
   "execution_count": null,
   "id": "a34074c6",
   "metadata": {},
   "outputs": [],
   "source": []
  }
 ],
 "metadata": {
  "kernelspec": {
   "display_name": "Python 3 (ipykernel)",
   "language": "python",
   "name": "python3"
  },
  "language_info": {
   "codemirror_mode": {
    "name": "ipython",
    "version": 3
   },
   "file_extension": ".py",
   "mimetype": "text/x-python",
   "name": "python",
   "nbconvert_exporter": "python",
   "pygments_lexer": "ipython3",
   "version": "3.9.7"
  }
 },
 "nbformat": 4,
 "nbformat_minor": 5
}
