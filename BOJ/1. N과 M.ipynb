{
 "cells": [
  {
   "cell_type": "code",
   "execution_count": 15,
   "id": "91ab6635",
   "metadata": {},
   "outputs": [
    {
     "name": "stdout",
     "output_type": "stream",
     "text": [
      "3 3\n",
      "5\n"
     ]
    }
   ],
   "source": [
    "n,m = list(map(int,input().split()))\n",
    "k = int(input())\n",
    "s = []\n",
    "count = 0\n",
    "def dfs():\n",
    "    global count\n",
    "    if len(s)==m:\n",
    "        count += 1\n",
    "        if count == k:\n",
    "            print(' '.join(map(str,s)))\n",
    "            \n",
    "    for i in range(1,n+1):\n",
    "        if i not in s:\n",
    "            s.append(i)\n",
    "            dfs()\n",
    "            s.pop()"
   ]
  },
  {
   "cell_type": "code",
   "execution_count": 16,
   "id": "0756088f",
   "metadata": {},
   "outputs": [
    {
     "name": "stdout",
     "output_type": "stream",
     "text": [
      "3 1 2\n"
     ]
    }
   ],
   "source": [
    "dfs()"
   ]
  },
  {
   "cell_type": "code",
   "execution_count": 62,
   "id": "35152b05",
   "metadata": {},
   "outputs": [],
   "source": [
    "count = 0\n",
    "s = []\n",
    "answer = []\n",
    "def solution(n, k):\n",
    "    global count,s,answer \n",
    "    if len(s)==n:\n",
    "        count += 1\n",
    "        if count == k:\n",
    "            print(s)\n",
    "            return s\n",
    "    for i in range(1,n+1):\n",
    "        if i not in s:\n",
    "            s.append(i)\n",
    "            solution(n,k)\n",
    "            s.pop()"
   ]
  },
  {
   "cell_type": "code",
   "execution_count": 63,
   "id": "11455013",
   "metadata": {},
   "outputs": [
    {
     "name": "stdout",
     "output_type": "stream",
     "text": [
      "[3, 1, 2]\n",
      "None\n"
     ]
    }
   ],
   "source": [
    "print(solution(3, 5))"
   ]
  },
  {
   "cell_type": "code",
   "execution_count": null,
   "id": "4a1003b1",
   "metadata": {},
   "outputs": [],
   "source": []
  }
 ],
 "metadata": {
  "kernelspec": {
   "display_name": "Python 3 (ipykernel)",
   "language": "python",
   "name": "python3"
  },
  "language_info": {
   "codemirror_mode": {
    "name": "ipython",
    "version": 3
   },
   "file_extension": ".py",
   "mimetype": "text/x-python",
   "name": "python",
   "nbconvert_exporter": "python",
   "pygments_lexer": "ipython3",
   "version": "3.9.7"
  }
 },
 "nbformat": 4,
 "nbformat_minor": 5
}
