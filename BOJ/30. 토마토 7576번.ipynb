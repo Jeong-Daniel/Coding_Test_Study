{
 "cells": [
  {
   "cell_type": "markdown",
   "id": "1182e89d",
   "metadata": {},
   "source": [
    "https://www.acmicpc.net/problem/7576"
   ]
  },
  {
   "cell_type": "code",
   "execution_count": 113,
   "id": "485171a5",
   "metadata": {
    "scrolled": true
   },
   "outputs": [
    {
     "name": "stdout",
     "output_type": "stream",
     "text": [
      "2 2\n",
      "1 -1\n",
      "-1 1\n",
      "0\n"
     ]
    }
   ],
   "source": [
    "from collections import deque\n",
    "n, m = map(int,input().split())\n",
    "map_list = []\n",
    "vist = [[0]*n for _ in range(m)]\n",
    "queue = deque()\n",
    "for i in range(m):\n",
    "    temp = list(map(int,input().split()))\n",
    "    for j in range(n):\n",
    "        if temp[j]==1:\n",
    "            queue.append([i,j])\n",
    "        elif temp[j]==0:\n",
    "            vist[i][j] = -1\n",
    "    map_list.append(temp)\n",
    "    \n",
    "dx = [0,0,1,-1]\n",
    "dy = [1,-1,0,0]\n",
    "max_num = 0\n",
    "\n",
    "while queue:\n",
    "    curr = queue.popleft()\n",
    "    for k in range(4):\n",
    "        nx = curr[0] + dx[k]\n",
    "        ny = curr[1] + dy[k]\n",
    "        if nx >= m or nx < 0 or ny >= n or ny < 0:\n",
    "            continue\n",
    "        if vist[nx][ny]!=-1:\n",
    "            continue\n",
    "        vist[nx][ny] = vist[curr[0]][curr[1]]+1\n",
    "        queue.append([nx,ny])\n",
    "        max_num = max(max_num,vist[nx][ny])\n",
    "        \n",
    "count = 0\n",
    "for x in range(m):\n",
    "    if -1 in vist[x]:\n",
    "        print(-1)\n",
    "        count = 1\n",
    "        break\n",
    "\n",
    "if count == 0:\n",
    "    print(max_num)    "
   ]
  },
  {
   "cell_type": "code",
   "execution_count": null,
   "id": "16edcd92",
   "metadata": {},
   "outputs": [],
   "source": []
  }
 ],
 "metadata": {
  "kernelspec": {
   "display_name": "Python 3 (ipykernel)",
   "language": "python",
   "name": "python3"
  },
  "language_info": {
   "codemirror_mode": {
    "name": "ipython",
    "version": 3
   },
   "file_extension": ".py",
   "mimetype": "text/x-python",
   "name": "python",
   "nbconvert_exporter": "python",
   "pygments_lexer": "ipython3",
   "version": "3.9.7"
  }
 },
 "nbformat": 4,
 "nbformat_minor": 5
}
