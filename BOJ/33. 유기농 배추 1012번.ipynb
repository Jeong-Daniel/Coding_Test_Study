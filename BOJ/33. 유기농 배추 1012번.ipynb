{
 "cells": [
  {
   "cell_type": "markdown",
   "id": "f28f4de0",
   "metadata": {},
   "source": [
    "https://www.acmicpc.net/problem/1012"
   ]
  },
  {
   "cell_type": "code",
   "execution_count": 27,
   "id": "97c89816",
   "metadata": {
    "scrolled": true
   },
   "outputs": [
    {
     "name": "stdout",
     "output_type": "stream",
     "text": [
      "2\n",
      "10 8 17\n",
      "0 0\n",
      "1 0\n",
      "1 1\n",
      "4 2\n",
      "4 3\n",
      "4 5\n",
      "2 4\n",
      "3 4\n",
      "7 4\n",
      "8 4\n",
      "9 4\n",
      "7 5\n",
      "8 5\n",
      "9 5\n",
      "7 6\n",
      "8 6\n",
      "9 6\n",
      "5\n",
      "10 10 1\n",
      "5 5\n",
      "1\n"
     ]
    }
   ],
   "source": [
    "from collections import deque\n",
    "dx = [0,0,1,-1]\n",
    "dy = [1,-1,0,0]\n",
    "\n",
    "loop = int(input())\n",
    "for i in range(loop):\n",
    "    n, m, num = map(int,input().split())\n",
    "    map_list = [[0]*n for _ in range(m)]\n",
    "    dist = [[-1]*n for _ in range(m)]\n",
    "    for j in range(num):\n",
    "        x, y = map(int,input().split())\n",
    "        map_list[y][x] = 1\n",
    "    count = 0\n",
    "    queue = deque([])\n",
    "    for y in range(m):\n",
    "        for x in range(n):\n",
    "            if map_list[y][x] == 1 and dist[y][x] == -1:\n",
    "                count += 1\n",
    "                queue.append([y,x])\n",
    "                while queue:\n",
    "                    curr = queue.popleft()\n",
    "                    for k in range(4):\n",
    "                        nx = curr[1] + dx[k]\n",
    "                        ny = curr[0] + dy[k]\n",
    "                        if nx < 0 or nx >= n or ny < 0 or ny >= m:\n",
    "                            continue\n",
    "                        if map_list[ny][nx] != 1 or dist[ny][nx] != -1:\n",
    "                            continue\n",
    "                        queue.append([ny,nx])\n",
    "                        dist[ny][nx] = 1\n",
    "    print(count)"
   ]
  },
  {
   "cell_type": "code",
   "execution_count": null,
   "id": "c6d3351e",
   "metadata": {},
   "outputs": [],
   "source": []
  },
  {
   "cell_type": "code",
   "execution_count": null,
   "id": "7871b8c3",
   "metadata": {},
   "outputs": [],
   "source": []
  }
 ],
 "metadata": {
  "kernelspec": {
   "display_name": "Python 3 (ipykernel)",
   "language": "python",
   "name": "python3"
  },
  "language_info": {
   "codemirror_mode": {
    "name": "ipython",
    "version": 3
   },
   "file_extension": ".py",
   "mimetype": "text/x-python",
   "name": "python",
   "nbconvert_exporter": "python",
   "pygments_lexer": "ipython3",
   "version": "3.9.7"
  }
 },
 "nbformat": 4,
 "nbformat_minor": 5
}
