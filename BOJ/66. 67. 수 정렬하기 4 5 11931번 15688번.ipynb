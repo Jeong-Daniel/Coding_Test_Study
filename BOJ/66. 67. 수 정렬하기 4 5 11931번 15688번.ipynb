{
 "cells": [
  {
   "cell_type": "markdown",
   "id": "3e6da622",
   "metadata": {},
   "source": [
    "https://www.acmicpc.net/problem/11931"
   ]
  },
  {
   "cell_type": "code",
   "execution_count": null,
   "id": "28afdc49",
   "metadata": {},
   "outputs": [],
   "source": [
    "import sys\n",
    "input=sys.stdin.readline\n",
    "\n",
    "t=int(input())\n",
    "A=list()\n",
    "for i in range(t):\n",
    "    A.append(int(input()))\n",
    "A.sort(reverse=True)\n",
    "\n",
    "for i in A:\n",
    "    print(i)"
   ]
  },
  {
   "cell_type": "markdown",
   "id": "3ee9284b",
   "metadata": {},
   "source": [
    "https://www.acmicpc.net/problem/15688"
   ]
  },
  {
   "cell_type": "code",
   "execution_count": null,
   "id": "1cbb0b01",
   "metadata": {},
   "outputs": [],
   "source": [
    "import sys\n",
    "input=sys.stdin.readline\n",
    "\n",
    "t=int(input())\n",
    "A=list()\n",
    "for i in range(t):\n",
    "    A.append(int(input()))\n",
    "A.sort(reverse=False)\n",
    "\n",
    "for i in A:\n",
    "    print(i)"
   ]
  }
 ],
 "metadata": {
  "kernelspec": {
   "display_name": "Python 3 (ipykernel)",
   "language": "python",
   "name": "python3"
  },
  "language_info": {
   "codemirror_mode": {
    "name": "ipython",
    "version": 3
   },
   "file_extension": ".py",
   "mimetype": "text/x-python",
   "name": "python",
   "nbconvert_exporter": "python",
   "pygments_lexer": "ipython3",
   "version": "3.9.7"
  }
 },
 "nbformat": 4,
 "nbformat_minor": 5
}
