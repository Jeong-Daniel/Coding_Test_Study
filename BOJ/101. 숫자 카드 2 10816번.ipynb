{
 "cells": [
  {
   "cell_type": "markdown",
   "id": "9ab7ed6d",
   "metadata": {},
   "source": [
    "https://www.acmicpc.net/problem/10816"
   ]
  },
  {
   "cell_type": "code",
   "execution_count": 2,
   "id": "ae1c53eb",
   "metadata": {},
   "outputs": [
    {
     "name": "stdout",
     "output_type": "stream",
     "text": [
      "10\n",
      "6 3 2 10 10 10 -10 -10 7 3\n",
      "8\n",
      "10 9 -5 2 3 4 5 -10\n",
      "3 0 0 1 2 0 0 2 "
     ]
    }
   ],
   "source": [
    "from bisect import *\n",
    "\n",
    "n = int(input())\n",
    "num_list = list(map(int,input().split()))\n",
    "num_list.sort()\n",
    "b = int(input())\n",
    "find_num = list(map(int,input().split()))\n",
    "\n",
    "def count_by_range(array, left_value, right_value):\n",
    "    right_index = bisect_right(array, right_value)\n",
    "    left_index = bisect_left(array, left_value)\n",
    "    return right_index - left_index\n",
    "\n",
    "for i in range(b):\n",
    "    print(count_by_range(num_list,find_num[i],find_num[i]), end=' ')"
   ]
  },
  {
   "cell_type": "code",
   "execution_count": null,
   "id": "6bdbf4a0",
   "metadata": {},
   "outputs": [],
   "source": []
  }
 ],
 "metadata": {
  "kernelspec": {
   "display_name": "Python 3 (ipykernel)",
   "language": "python",
   "name": "python3"
  },
  "language_info": {
   "codemirror_mode": {
    "name": "ipython",
    "version": 3
   },
   "file_extension": ".py",
   "mimetype": "text/x-python",
   "name": "python",
   "nbconvert_exporter": "python",
   "pygments_lexer": "ipython3",
   "version": "3.9.7"
  }
 },
 "nbformat": 4,
 "nbformat_minor": 5
}
