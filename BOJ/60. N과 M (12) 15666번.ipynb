{
 "cells": [
  {
   "cell_type": "markdown",
   "id": "4ba7c3bb",
   "metadata": {},
   "source": [
    "https://www.acmicpc.net/problem/15666"
   ]
  },
  {
   "cell_type": "code",
   "execution_count": 29,
   "id": "ad0c37cc",
   "metadata": {},
   "outputs": [
    {
     "name": "stdout",
     "output_type": "stream",
     "text": [
      "4 4\n",
      "1 1 2 2\n",
      "1 0\n",
      "2 0\n",
      "3 0\n",
      "4 0\n",
      "1 1 1 1 \n",
      "4 2\n",
      "1 1 1 2 \n",
      "3 2\n",
      "4 2\n",
      "1 1 2 2 \n",
      "2 2\n",
      "3 2\n",
      "4 2\n",
      "1 2 2 2 \n",
      "1 2\n",
      "2 2\n",
      "3 2\n",
      "4 2\n",
      "2 2 2 2 \n"
     ]
    }
   ],
   "source": [
    "n,m = map(int,input().split())\n",
    "num = list(map(int,input().split()))\n",
    "num.sort()\n",
    "arr = [0]*m\n",
    "\n",
    "def func(k,st):\n",
    "    if k==m:\n",
    "        for i in range(m):\n",
    "            print(arr[i], end=' ')\n",
    "        print()\n",
    "        return\n",
    "    temp = -1\n",
    "    for i in range(st,n):\n",
    "        if num[i] != temp:\n",
    "            arr[k] = num[i]\n",
    "            temp = arr[k]\n",
    "            func(k+1,i)\n",
    "\n",
    "func(0,0)"
   ]
  },
  {
   "cell_type": "code",
   "execution_count": null,
   "id": "0d598319",
   "metadata": {},
   "outputs": [],
   "source": []
  }
 ],
 "metadata": {
  "kernelspec": {
   "display_name": "Python 3 (ipykernel)",
   "language": "python",
   "name": "python3"
  },
  "language_info": {
   "codemirror_mode": {
    "name": "ipython",
    "version": 3
   },
   "file_extension": ".py",
   "mimetype": "text/x-python",
   "name": "python",
   "nbconvert_exporter": "python",
   "pygments_lexer": "ipython3",
   "version": "3.9.7"
  }
 },
 "nbformat": 4,
 "nbformat_minor": 5
}
