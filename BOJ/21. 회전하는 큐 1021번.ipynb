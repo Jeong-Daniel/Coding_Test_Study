{
 "cells": [
  {
   "cell_type": "markdown",
   "id": "00bcdb07",
   "metadata": {},
   "source": [
    "https://www.acmicpc.net/problem/1021"
   ]
  },
  {
   "cell_type": "code",
   "execution_count": 54,
   "id": "c460dff6",
   "metadata": {},
   "outputs": [
    {
     "name": "stdout",
     "output_type": "stream",
     "text": [
      "10 10\n",
      "1 6 3 2 7 9 8 4 10 5\n"
     ]
    }
   ],
   "source": [
    "from collections import deque\n",
    "m,n = map(int,input().split())\n",
    "num_list = deque([i for i in range(1,m+1)])\n",
    "find_e = list(map(int,input().split()))"
   ]
  },
  {
   "cell_type": "code",
   "execution_count": 55,
   "id": "a4520663",
   "metadata": {},
   "outputs": [
    {
     "name": "stdout",
     "output_type": "stream",
     "text": [
      "1 0 10\n",
      "6 4 5\n",
      "3 5 3\n",
      "2 6 1\n",
      "7 2 4\n",
      "9 1 4\n",
      "8 3 1\n",
      "4 1 2\n",
      "10 1 1\n",
      "5 0 1\n",
      "14\n"
     ]
    }
   ],
   "source": [
    "lenght = len(num_list)\n",
    "count = 0\n",
    "for j in find_e:\n",
    "    left = num_list.index(j)\n",
    "    right = lenght-left\n",
    "    count += min(left,right)\n",
    "    if left<right:\n",
    "        for k in range(left):\n",
    "            num_list.append(num_list.popleft())\n",
    "    else:\n",
    "        for k in range(right):\n",
    "            num_list.appendleft(num_list.pop())\n",
    "    num_list.popleft()\n",
    "    lenght-=1\n",
    "print(count)"
   ]
  },
  {
   "cell_type": "code",
   "execution_count": null,
   "id": "e0277a4e",
   "metadata": {},
   "outputs": [],
   "source": []
  }
 ],
 "metadata": {
  "kernelspec": {
   "display_name": "Python 3 (ipykernel)",
   "language": "python",
   "name": "python3"
  },
  "language_info": {
   "codemirror_mode": {
    "name": "ipython",
    "version": 3
   },
   "file_extension": ".py",
   "mimetype": "text/x-python",
   "name": "python",
   "nbconvert_exporter": "python",
   "pygments_lexer": "ipython3",
   "version": "3.9.7"
  }
 },
 "nbformat": 4,
 "nbformat_minor": 5
}
