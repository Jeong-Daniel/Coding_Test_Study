{
 "cells": [
  {
   "cell_type": "markdown",
   "id": "35df35ec",
   "metadata": {},
   "source": [
    "https://www.acmicpc.net/problem/10807"
   ]
  },
  {
   "cell_type": "code",
   "execution_count": 1,
   "id": "dcba015a",
   "metadata": {},
   "outputs": [
    {
     "name": "stdout",
     "output_type": "stream",
     "text": [
      "11\n",
      "1 4 1 2 4 2 4 2 3 4 4\n",
      "2\n"
     ]
    }
   ],
   "source": [
    "num = int(input())\n",
    "num_list = list(map(int,input().split()))\n",
    "target = int(input())"
   ]
  },
  {
   "cell_type": "code",
   "execution_count": 5,
   "id": "16379503",
   "metadata": {},
   "outputs": [
    {
     "name": "stdout",
     "output_type": "stream",
     "text": [
      "3\n"
     ]
    }
   ],
   "source": [
    "check_list = [0]*200+1\n",
    "for idx,number in enumerate(num_list):\n",
    "    check_list[number+100]+=1\n",
    "print(check_list[target+100])"
   ]
  }
 ],
 "metadata": {
  "kernelspec": {
   "display_name": "Python 3 (ipykernel)",
   "language": "python",
   "name": "python3"
  },
  "language_info": {
   "codemirror_mode": {
    "name": "ipython",
    "version": 3
   },
   "file_extension": ".py",
   "mimetype": "text/x-python",
   "name": "python",
   "nbconvert_exporter": "python",
   "pygments_lexer": "ipython3",
   "version": "3.9.7"
  }
 },
 "nbformat": 4,
 "nbformat_minor": 5
}
