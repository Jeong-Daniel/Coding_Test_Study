{
 "cells": [
  {
   "cell_type": "markdown",
   "id": "09d296ce",
   "metadata": {},
   "source": [
    "https://www.acmicpc.net/problem/3986"
   ]
  },
  {
   "cell_type": "code",
   "execution_count": 13,
   "id": "bb0a3938",
   "metadata": {},
   "outputs": [
    {
     "name": "stdout",
     "output_type": "stream",
     "text": [
      "1\n",
      "ABBABB\n",
      "1\n"
     ]
    }
   ],
   "source": [
    "num = int(input())\n",
    "count = 0\n",
    "for i in range(num):\n",
    "    string = str(input())\n",
    "    stack = []\n",
    "    for j in range(len(string)):\n",
    "        if not stack:\n",
    "            stack.append(string[j])\n",
    "        elif (stack[-1] != string[j]):\n",
    "            stack.append(string[j])\n",
    "        elif (stack[-1] == string[j]):\n",
    "            stack.pop()       \n",
    "    if stack:\n",
    "        continue\n",
    "    else:\n",
    "        count+=1\n",
    "        \n",
    "print(count)"
   ]
  },
  {
   "cell_type": "code",
   "execution_count": null,
   "id": "207adc63",
   "metadata": {},
   "outputs": [],
   "source": []
  }
 ],
 "metadata": {
  "kernelspec": {
   "display_name": "Python 3 (ipykernel)",
   "language": "python",
   "name": "python3"
  },
  "language_info": {
   "codemirror_mode": {
    "name": "ipython",
    "version": 3
   },
   "file_extension": ".py",
   "mimetype": "text/x-python",
   "name": "python",
   "nbconvert_exporter": "python",
   "pygments_lexer": "ipython3",
   "version": "3.9.7"
  }
 },
 "nbformat": 4,
 "nbformat_minor": 5
}
