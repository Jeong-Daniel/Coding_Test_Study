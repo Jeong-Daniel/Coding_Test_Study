{
 "cells": [
  {
   "cell_type": "markdown",
   "id": "d22daeef",
   "metadata": {},
   "source": [
    "https://www.acmicpc.net/problem/17298"
   ]
  },
  {
   "cell_type": "code",
   "execution_count": 29,
   "id": "e4c147a6",
   "metadata": {},
   "outputs": [
    {
     "name": "stdout",
     "output_type": "stream",
     "text": [
      "4\n",
      "3 5 2 7\n"
     ]
    }
   ],
   "source": [
    "num = int(input())\n",
    "num_list = list(map(int,input().split()))"
   ]
  },
  {
   "cell_type": "code",
   "execution_count": 36,
   "id": "5103cef1",
   "metadata": {},
   "outputs": [
    {
     "name": "stdout",
     "output_type": "stream",
     "text": [
      "5 7 7 -1\n"
     ]
    }
   ],
   "source": [
    "stack = []\n",
    "answer = []\n",
    "for i in range(num):\n",
    "    while stack:\n",
    "        if stack[-1] > num_list[-1-i]:\n",
    "            answer.append(stack[-1])\n",
    "            break\n",
    "        else:\n",
    "            stack.pop()\n",
    "    if not stack:\n",
    "        answer.append(-1)\n",
    "    stack.append(num_list[-1-i])    \n",
    "        \n",
    "answer.reverse()\n",
    "print(\" \".join(map(str,answer)))"
   ]
  },
  {
   "cell_type": "code",
   "execution_count": null,
   "id": "cf60d8a0",
   "metadata": {},
   "outputs": [],
   "source": []
  }
 ],
 "metadata": {
  "kernelspec": {
   "display_name": "Python 3 (ipykernel)",
   "language": "python",
   "name": "python3"
  },
  "language_info": {
   "codemirror_mode": {
    "name": "ipython",
    "version": 3
   },
   "file_extension": ".py",
   "mimetype": "text/x-python",
   "name": "python",
   "nbconvert_exporter": "python",
   "pygments_lexer": "ipython3",
   "version": "3.9.7"
  }
 },
 "nbformat": 4,
 "nbformat_minor": 5
}
