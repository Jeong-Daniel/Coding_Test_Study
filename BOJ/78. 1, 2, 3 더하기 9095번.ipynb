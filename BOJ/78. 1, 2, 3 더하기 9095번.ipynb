{
 "cells": [
  {
   "cell_type": "markdown",
   "id": "9961a678",
   "metadata": {},
   "source": [
    "https://www.acmicpc.net/problem/9095"
   ]
  },
  {
   "cell_type": "code",
   "execution_count": 5,
   "id": "24582473",
   "metadata": {},
   "outputs": [
    {
     "name": "stdout",
     "output_type": "stream",
     "text": [
      "3\n",
      "4\n",
      "7\n",
      "7\n",
      "44\n",
      "10\n",
      "274\n"
     ]
    }
   ],
   "source": [
    "num = int(input())\n",
    "dp = [0]*(12)\n",
    "dp[1] = 1\n",
    "dp[2] = 2\n",
    "dp[3] = 4\n",
    "for i in range(4,12):\n",
    "    dp[i] = dp[i-1] + dp[i-2] + dp[i-3]\n",
    "for i in range(num):\n",
    "    print(dp[int(input())])"
   ]
  },
  {
   "cell_type": "code",
   "execution_count": null,
   "id": "ae17fce2",
   "metadata": {},
   "outputs": [],
   "source": []
  }
 ],
 "metadata": {
  "kernelspec": {
   "display_name": "Python 3 (ipykernel)",
   "language": "python",
   "name": "python3"
  },
  "language_info": {
   "codemirror_mode": {
    "name": "ipython",
    "version": 3
   },
   "file_extension": ".py",
   "mimetype": "text/x-python",
   "name": "python",
   "nbconvert_exporter": "python",
   "pygments_lexer": "ipython3",
   "version": "3.9.7"
  }
 },
 "nbformat": 4,
 "nbformat_minor": 5
}
