{
 "cells": [
  {
   "cell_type": "markdown",
   "id": "a7aba777",
   "metadata": {},
   "source": [
    "https://www.acmicpc.net/problem/18808"
   ]
  },
  {
   "cell_type": "code",
   "execution_count": 1,
   "id": "9f0998d3",
   "metadata": {},
   "outputs": [],
   "source": [
    "def pastable(x,y):\n",
    "    for i in range(r):\n",
    "        for j in range(c):\n",
    "            if note[y+i][x+j] == 1 and paper[i][j]==1:\n",
    "                return False\n",
    "    for i in range(r):\n",
    "        for j in range(c):\n",
    "            if paper[i][j] == 1:\n",
    "                note[y+i][x+j] = 1\n",
    "                \n",
    "    return True\n",
    "\n",
    "def rotate_2d(list_2d):\n",
    "    n = len(list_2d) # 행 길이 계산\n",
    "    m = len(list_2d[0]) # 열 길이 계산\n",
    "    new = [[0] * n for _ in range(m)]\n",
    "    for i in range(n):\n",
    "        for j in range(m):\n",
    "            new[j][n-i-1] = list_2d[i][j]\n",
    "    return new"
   ]
  },
  {
   "cell_type": "code",
   "execution_count": null,
   "id": "12218428",
   "metadata": {},
   "outputs": [],
   "source": [
    "y,x,num = map(int,input().split())\n",
    "for k in range(num):\n",
    "    nx,ny = map(int,input().split())\n",
    "    paper = []\n",
    "    for i in range(ny):\n",
    "        temp = list(map(int,input().split()))\n",
    "        paper.append(temp)\n",
    "    \n",
    "    for rot in range(4):\n",
    "        is_paste = False\n",
    "        for "
   ]
  }
 ],
 "metadata": {
  "kernelspec": {
   "display_name": "Python 3 (ipykernel)",
   "language": "python",
   "name": "python3"
  },
  "language_info": {
   "codemirror_mode": {
    "name": "ipython",
    "version": 3
   },
   "file_extension": ".py",
   "mimetype": "text/x-python",
   "name": "python",
   "nbconvert_exporter": "python",
   "pygments_lexer": "ipython3",
   "version": "3.9.7"
  }
 },
 "nbformat": 4,
 "nbformat_minor": 5
}
