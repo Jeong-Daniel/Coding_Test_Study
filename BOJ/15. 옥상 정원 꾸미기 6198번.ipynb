{
 "cells": [
  {
   "cell_type": "markdown",
   "id": "f6bd3718",
   "metadata": {},
   "source": [
    "https://www.acmicpc.net/problem/6198"
   ]
  },
  {
   "cell_type": "code",
   "execution_count": 1,
   "id": "2810e3af",
   "metadata": {},
   "outputs": [
    {
     "name": "stdout",
     "output_type": "stream",
     "text": [
      "6\n",
      "10\n",
      "3\n",
      "7\n",
      "4\n",
      "12\n",
      "2\n"
     ]
    }
   ],
   "source": [
    "num = int(input())\n",
    "garden_list = []\n",
    "for i in range(num):\n",
    "    garden_list.append(int(input()))"
   ]
  },
  {
   "cell_type": "code",
   "execution_count": 2,
   "id": "2341273d",
   "metadata": {},
   "outputs": [
    {
     "data": {
      "text/plain": [
       "[10, 3, 7, 4, 12, 2]"
      ]
     },
     "execution_count": 2,
     "metadata": {},
     "output_type": "execute_result"
    }
   ],
   "source": [
    "garden_list"
   ]
  },
  {
   "cell_type": "code",
   "execution_count": null,
   "id": "9f31e325",
   "metadata": {},
   "outputs": [],
   "source": []
  }
 ],
 "metadata": {
  "kernelspec": {
   "display_name": "Python 3 (ipykernel)",
   "language": "python",
   "name": "python3"
  },
  "language_info": {
   "codemirror_mode": {
    "name": "ipython",
    "version": 3
   },
   "file_extension": ".py",
   "mimetype": "text/x-python",
   "name": "python",
   "nbconvert_exporter": "python",
   "pygments_lexer": "ipython3",
   "version": "3.9.7"
  }
 },
 "nbformat": 4,
 "nbformat_minor": 5
}
