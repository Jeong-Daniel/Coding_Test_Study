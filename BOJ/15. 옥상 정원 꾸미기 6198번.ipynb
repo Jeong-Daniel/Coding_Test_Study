{
 "cells": [
  {
   "cell_type": "markdown",
   "id": "487e33d9",
   "metadata": {},
   "source": [
    "https://www.acmicpc.net/problem/6198"
   ]
  },
  {
   "cell_type": "code",
   "execution_count": 1,
   "id": "2c4b9033",
   "metadata": {
    "scrolled": true
   },
   "outputs": [
    {
     "name": "stdout",
     "output_type": "stream",
     "text": [
      "6\n",
      "10\n",
      "3\n",
      "7\n",
      "4\n",
      "12\n",
      "2\n"
     ]
    }
   ],
   "source": [
    "num = int(input())\n",
    "garden_list = []\n",
    "for i in range(num):\n",
    "    garden_list.append(int(input()))"
   ]
  },
  {
   "cell_type": "markdown",
   "id": "3abc827e",
   "metadata": {},
   "source": [
    "1. 완전탐색"
   ]
  },
  {
   "cell_type": "code",
   "execution_count": 20,
   "id": "7a00bd28",
   "metadata": {},
   "outputs": [
    {
     "name": "stdout",
     "output_type": "stream",
     "text": [
      "4\n"
     ]
    }
   ],
   "source": [
    "sum_list = []\n",
    "for x in range(num-1):\n",
    "    for y in range(x+1,num):\n",
    "        if garden_list[x] < garden_list[y]:\n",
    "            sum_list.append(y-x-1)\n",
    "            break\n",
    "sum_list.append(0)\n",
    "print(sum(sum_list))"
   ]
  },
  {
   "cell_type": "markdown",
   "id": "546c8c2f",
   "metadata": {},
   "source": [
    "2. 스택"
   ]
  },
  {
   "cell_type": "code",
   "execution_count": 17,
   "id": "ce9607b7",
   "metadata": {},
   "outputs": [
    {
     "name": "stdout",
     "output_type": "stream",
     "text": [
      "5\n"
     ]
    }
   ],
   "source": [
    "stack = []\n",
    "count = 0\n",
    "for i in range(num):\n",
    "    if not stack:\n",
    "        stack.append([garden_list[i],i])\n",
    "        continue\n",
    "    \n",
    "    if stack[-1][0] > garden_list[i]:\n",
    "        stack.append([garden_list[i],i])\n",
    "    else:\n",
    "        while stack:\n",
    "            if stack[-1][0] <= garden_list[i]:\n",
    "                count += (i - stack.pop()[1] - 1)\n",
    "            else:\n",
    "                break\n",
    "        stack.append([garden_list[i],i])\n",
    "                \n",
    "if len(stack)>=2 and (stack[-1][1] != stack[0][1]):\n",
    "    count += (stack[-1][1] - stack[0][1])\n",
    "\n",
    "print(count)"
   ]
  },
  {
   "cell_type": "markdown",
   "id": "b7dd902b",
   "metadata": {},
   "source": [
    "정답지"
   ]
  },
  {
   "cell_type": "code",
   "execution_count": 21,
   "id": "f1752bda",
   "metadata": {},
   "outputs": [
    {
     "name": "stdout",
     "output_type": "stream",
     "text": [
      "6\n",
      "10\n",
      "3\n",
      "7\n",
      "4\n",
      "12\n",
      "2\n",
      "5\n"
     ]
    }
   ],
   "source": [
    "num = int(input())\n",
    "stack=[]\n",
    "ans = 0\n",
    "for i in range(num):\n",
    "    h = int(input())\n",
    "    while (stack and stack[-1] <= h):\n",
    "        stack.pop()\n",
    "    ans += len(stack)\n",
    "    stack.append(h)\n",
    "print(ans)"
   ]
  }
 ],
 "metadata": {
  "kernelspec": {
   "display_name": "Python 3 (ipykernel)",
   "language": "python",
   "name": "python3"
  },
  "language_info": {
   "codemirror_mode": {
    "name": "ipython",
    "version": 3
   },
   "file_extension": ".py",
   "mimetype": "text/x-python",
   "name": "python",
   "nbconvert_exporter": "python",
   "pygments_lexer": "ipython3",
   "version": "3.9.7"
  }
 },
 "nbformat": 4,
 "nbformat_minor": 5
}
