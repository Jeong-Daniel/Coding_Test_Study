{
 "cells": [
  {
   "cell_type": "markdown",
   "id": "095fd49c",
   "metadata": {},
   "source": [
    "https://www.acmicpc.net/problem/9663"
   ]
  },
  {
   "cell_type": "code",
   "execution_count": 23,
   "id": "96c59f0e",
   "metadata": {},
   "outputs": [
    {
     "name": "stdout",
     "output_type": "stream",
     "text": [
      "8\n",
      "92\n"
     ]
    }
   ],
   "source": [
    "n = int(input())\n",
    "isused1 = [False]*(40)\n",
    "isused2 = [False]*(40)\n",
    "isused3 = [False]*(40)\n",
    "cnt = 0\n",
    "def func(cur):\n",
    "    global n, cnt\n",
    "    if cur==n:\n",
    "        cnt+=1\n",
    "        return\n",
    "    for i in range(n):\n",
    "        if isused1[i] or isused2[i+cur] or isused3[cur-i+n-1]:\n",
    "            continue\n",
    "        isused1[i] = True\n",
    "        isused2[i+cur] = True\n",
    "        isused3[cur-i+n-1] = True\n",
    "        func(cur+1)\n",
    "        isused1[i] = False\n",
    "        isused2[i+cur] = False\n",
    "        isused3[cur-i+n-1] = False\n",
    "        \n",
    "func(0)\n",
    "print(cnt)"
   ]
  }
 ],
 "metadata": {
  "kernelspec": {
   "display_name": "Python 3 (ipykernel)",
   "language": "python",
   "name": "python3"
  },
  "language_info": {
   "codemirror_mode": {
    "name": "ipython",
    "version": 3
   },
   "file_extension": ".py",
   "mimetype": "text/x-python",
   "name": "python",
   "nbconvert_exporter": "python",
   "pygments_lexer": "ipython3",
   "version": "3.9.7"
  }
 },
 "nbformat": 4,
 "nbformat_minor": 5
}
