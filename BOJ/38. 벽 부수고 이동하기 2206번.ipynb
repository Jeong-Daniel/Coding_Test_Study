{
 "cells": [
  {
   "cell_type": "markdown",
   "id": "e4ca7dfa",
   "metadata": {},
   "source": [
    "https://www.acmicpc.net/problem/2206"
   ]
  },
  {
   "cell_type": "code",
   "execution_count": 61,
   "id": "145f14b1",
   "metadata": {
    "scrolled": true
   },
   "outputs": [
    {
     "name": "stdout",
     "output_type": "stream",
     "text": [
      "6 4\n",
      "0100\n",
      "1110\n",
      "1000\n",
      "0000\n",
      "0111\n",
      "0000\n",
      "15\n"
     ]
    }
   ],
   "source": [
    "n,m = map(int,input().split())\n",
    "dist = [[-1]*m for _ in range(n)]\n",
    "map_list = []\n",
    "for i in range(n):\n",
    "    map_list.append(list(map(int,str(input()))))\n",
    "    \n",
    "from collections import deque\n",
    "boc_n=False\n",
    "queue = deque([[0, 0, boc_n]])\n",
    "dist[0][0] = 0\n",
    "dx = [0,0,1,-1]\n",
    "dy = [1,-1,0,0]\n",
    "while queue:\n",
    "    ty, tx, boc = queue.popleft()\n",
    "    for k in range(4):\n",
    "        nx = tx + dx[k]\n",
    "        ny = ty + dy[k]\n",
    "        if nx>=m or nx<0 or ny>=n or ny<0:\n",
    "            continue\n",
    "        if map_list[ny][nx]==1:\n",
    "            if boc==False:\n",
    "                boc_n=True\n",
    "            else:\n",
    "                continue\n",
    "        if dist[ny][nx]!=-1:\n",
    "            continue\n",
    "        queue.append([ny,nx,boc_n])\n",
    "        dist[ny][nx] = dist[ty][tx]+1\n",
    "\n",
    "if dist[-1][-1]==-1:\n",
    "    print(-1)\n",
    "else:\n",
    "    print(dist[n-1][m-1]+1)"
   ]
  },
  {
   "cell_type": "code",
   "execution_count": null,
   "id": "c6d21e68",
   "metadata": {},
   "outputs": [],
   "source": []
  }
 ],
 "metadata": {
  "kernelspec": {
   "display_name": "Python 3 (ipykernel)",
   "language": "python",
   "name": "python3"
  },
  "language_info": {
   "codemirror_mode": {
    "name": "ipython",
    "version": 3
   },
   "file_extension": ".py",
   "mimetype": "text/x-python",
   "name": "python",
   "nbconvert_exporter": "python",
   "pygments_lexer": "ipython3",
   "version": "3.9.7"
  }
 },
 "nbformat": 4,
 "nbformat_minor": 5
}
