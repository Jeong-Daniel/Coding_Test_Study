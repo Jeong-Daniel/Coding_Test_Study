{
 "cells": [
  {
   "cell_type": "markdown",
   "id": "f2e7828f",
   "metadata": {},
   "source": [
    "https://www.acmicpc.net/problem/9466"
   ]
  },
  {
   "cell_type": "code",
   "execution_count": 6,
   "id": "5a6a29b4",
   "metadata": {},
   "outputs": [
    {
     "name": "stdout",
     "output_type": "stream",
     "text": [
      "2\n",
      "7\n",
      "3 1 3 7 3 4 6\n",
      "3\n",
      "8\n",
      "1 2 3 4 5 6 7 8\n",
      "8\n"
     ]
    }
   ],
   "source": [
    "from collections import deque\n",
    "loop = int(input())\n",
    "for i in range(loop):\n",
    "    num = int(input())\n",
    "    f_list = list(map(int,input().split()))\n",
    "    count = num\n",
    "    for j in range(num):\n",
    "        queue = deque([j])\n",
    "        first = f_list[j]-1\n",
    "        queue.append(first)\n",
    "        cycle = False\n",
    "        while not cycle:\n",
    "            now = f_list[queue[-1]]-1\n",
    "            if now not in queue:\n",
    "                queue.append(now)\n",
    "            else:\n",
    "                if first == now:\n",
    "                    cycle=True\n",
    "                else:\n",
    "                    count-=1\n",
    "                    break\n",
    "    print(count)"
   ]
  },
  {
   "cell_type": "code",
   "execution_count": 13,
   "id": "3c2bfb99",
   "metadata": {},
   "outputs": [
    {
     "name": "stdout",
     "output_type": "stream",
     "text": [
      "2\n",
      "7\n",
      "3 1 3 7 3 4 6\n",
      "1 3 [0, 1, 0, -1, 0, 0, 0, 0]\n",
      "4 7 [0, 1, 2, -1, -1, 0, 4, 4]\n",
      "4 6 [0, 1, 2, -1, -1, 0, 4, -1]\n",
      "4 4 [0, 1, 2, -1, -1, 0, -1, -1]\n",
      "3\n",
      "8\n",
      "1 2 3 4 5 6 7 8\n",
      "1 1 [0, -1, 0, 0, 0, 0, 0, 0, 0]\n",
      "2 2 [0, -1, -1, 0, 0, 0, 0, 0, 0]\n",
      "3 3 [0, -1, -1, -1, 0, 0, 0, 0, 0]\n",
      "4 4 [0, -1, -1, -1, -1, 0, 0, 0, 0]\n",
      "5 5 [0, -1, -1, -1, -1, -1, 0, 0, 0]\n",
      "6 6 [0, -1, -1, -1, -1, -1, -1, 0, 0]\n",
      "7 7 [0, -1, -1, -1, -1, -1, -1, -1, 0]\n",
      "8 8 [0, -1, -1, -1, -1, -1, -1, -1, -1]\n",
      "0\n"
     ]
    }
   ],
   "source": [
    "NOT_VISITED = 0\n",
    "CYCLE_IN = -1\n",
    "\n",
    "def run(x):\n",
    "    curr = x\n",
    "    while True:\n",
    "        state[curr] = x\n",
    "        curr = arr[curr]\n",
    "        if state[curr]==x:\n",
    "            while state[curr] != CYCLE_IN:\n",
    "                state[curr] = CYCLE_IN\n",
    "                curr = arr[curr]\n",
    "                print(x,curr,state)\n",
    "            return\n",
    "        elif state[curr] != 0:\n",
    "            return\n",
    "        \n",
    "loop = int(input())\n",
    "for i in range(loop):\n",
    "    global arr\n",
    "    global state\n",
    "    num = int(input())\n",
    "    arr = [0] + list(map(int,input().split()))\n",
    "    state = [0]*(num+1)\n",
    "    ans = 0\n",
    "    for j in range(1,num+1):\n",
    "        if state[j]==NOT_VISITED:\n",
    "            run(j)\n",
    "    cnt = 0\n",
    "    for j in range(1,num+1):\n",
    "        if state[j] != CYCLE_IN:\n",
    "            cnt+=1\n",
    "    print(cnt)"
   ]
  }
 ],
 "metadata": {
  "kernelspec": {
   "display_name": "Python 3 (ipykernel)",
   "language": "python",
   "name": "python3"
  },
  "language_info": {
   "codemirror_mode": {
    "name": "ipython",
    "version": 3
   },
   "file_extension": ".py",
   "mimetype": "text/x-python",
   "name": "python",
   "nbconvert_exporter": "python",
   "pygments_lexer": "ipython3",
   "version": "3.9.7"
  }
 },
 "nbformat": 4,
 "nbformat_minor": 5
}
