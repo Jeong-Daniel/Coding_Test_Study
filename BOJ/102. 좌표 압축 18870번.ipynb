{
 "cells": [
  {
   "cell_type": "markdown",
   "id": "897b78fe",
   "metadata": {},
   "source": [
    "https://www.acmicpc.net/problem/18870"
   ]
  },
  {
   "cell_type": "code",
   "execution_count": 16,
   "id": "69f590e6",
   "metadata": {},
   "outputs": [
    {
     "name": "stdout",
     "output_type": "stream",
     "text": [
      "5\n",
      "2 4 -10 4 -9\n",
      "2 3 0 3 1 "
     ]
    }
   ],
   "source": [
    "import copy\n",
    "num = int(input())\n",
    "temp = list(map(int,input().split()))\n",
    "num_list = copy.deepcopy(temp)\n",
    "num_list.sort()\n",
    "now = num_list[0]\n",
    "new_list = [now]\n",
    "for i in range(1,num):\n",
    "    if now!=num_list[i]:\n",
    "        new_list.append(num_list[i])\n",
    "        now = num_list[i]\n",
    "        \n",
    "from bisect import *\n",
    "def count_by_range(array, left_value, right_value):\n",
    "    left_index = bisect_left(array, left_value)\n",
    "    return left_index\n",
    "        \n",
    "for j in range(num):\n",
    "    count = count_by_range(new_list,temp[j],temp[j])\n",
    "    print(count, end=' ')"
   ]
  },
  {
   "cell_type": "code",
   "execution_count": 27,
   "id": "963289fa",
   "metadata": {},
   "outputs": [
    {
     "name": "stdout",
     "output_type": "stream",
     "text": [
      "5\n",
      "2 4 -10 4 -9\n",
      "2 3 0 3 1 "
     ]
    }
   ],
   "source": [
    "import copy\n",
    "num = int(input())\n",
    "temp = list(map(int,input().split()))\n",
    "num_list = copy.deepcopy(temp)\n",
    "num_list = sorted(list(set(num_list)))\n",
    "from bisect import *\n",
    "def count_by_range(array, left_value, right_value):\n",
    "    left_index = bisect_left(array, left_value)\n",
    "    return left_index\n",
    "        \n",
    "for j in range(num):\n",
    "    count = count_by_range(num_list,temp[j],temp[j])\n",
    "    print(count, end=' ')"
   ]
  }
 ],
 "metadata": {
  "kernelspec": {
   "display_name": "Python 3 (ipykernel)",
   "language": "python",
   "name": "python3"
  },
  "language_info": {
   "codemirror_mode": {
    "name": "ipython",
    "version": 3
   },
   "file_extension": ".py",
   "mimetype": "text/x-python",
   "name": "python",
   "nbconvert_exporter": "python",
   "pygments_lexer": "ipython3",
   "version": "3.9.7"
  }
 },
 "nbformat": 4,
 "nbformat_minor": 5
}
