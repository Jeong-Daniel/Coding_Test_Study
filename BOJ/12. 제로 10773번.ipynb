{
 "cells": [
  {
   "cell_type": "code",
   "execution_count": 3,
   "id": "9af18570",
   "metadata": {},
   "outputs": [
    {
     "name": "stdout",
     "output_type": "stream",
     "text": [
      "4\n",
      "3\n",
      "0\n",
      "4\n",
      "0\n",
      "0\n"
     ]
    }
   ],
   "source": [
    "loop = int(input())\n",
    "\n",
    "stack_list = []\n",
    "for i in range(loop):\n",
    "    number = int(input())\n",
    "    if number!=0:\n",
    "        stack_list.append(number)\n",
    "    else:\n",
    "        stack_list.pop()\n",
    "        \n",
    "print(sum(stack_list))"
   ]
  }
 ],
 "metadata": {
  "kernelspec": {
   "display_name": "Python 3 (ipykernel)",
   "language": "python",
   "name": "python3"
  },
  "language_info": {
   "codemirror_mode": {
    "name": "ipython",
    "version": 3
   },
   "file_extension": ".py",
   "mimetype": "text/x-python",
   "name": "python",
   "nbconvert_exporter": "python",
   "pygments_lexer": "ipython3",
   "version": "3.9.7"
  }
 },
 "nbformat": 4,
 "nbformat_minor": 5
}
