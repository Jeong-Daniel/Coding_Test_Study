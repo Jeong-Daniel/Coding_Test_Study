{
 "cells": [
  {
   "cell_type": "markdown",
   "id": "800d5a39",
   "metadata": {},
   "source": [
    "https://www.acmicpc.net/problem/1874"
   ]
  },
  {
   "cell_type": "code",
   "execution_count": 80,
   "id": "80fb177d",
   "metadata": {
    "scrolled": true
   },
   "outputs": [
    {
     "name": "stdout",
     "output_type": "stream",
     "text": [
      "5\n",
      "1\n",
      "2\n",
      "5\n",
      "3\n",
      "4\n"
     ]
    }
   ],
   "source": [
    "loop = int(input())\n",
    "num_list = []\n",
    "for i in range(loop):\n",
    "    num_list.append(int(input()))"
   ]
  },
  {
   "cell_type": "code",
   "execution_count": 81,
   "id": "efd81843",
   "metadata": {
    "scrolled": false
   },
   "outputs": [
    {
     "name": "stdout",
     "output_type": "stream",
     "text": [
      "NO\n"
     ]
    }
   ],
   "source": [
    "stack_list=[]\n",
    "print_list=[]\n",
    "j=1\n",
    "while True:\n",
    "    if len(stack_list)!=0:\n",
    "        if stack_list[-1] == num_list[0]:\n",
    "            stack_list.pop()\n",
    "            num_list.pop(0)\n",
    "            print_list.append('-')\n",
    "            continue\n",
    "            \n",
    "    if j>loop:\n",
    "        break\n",
    "    stack_list.append(j)\n",
    "    print_list.append('+')\n",
    "    j+=1\n",
    "    \n",
    "    if len(stack_list)==0:\n",
    "        print(*print_list, sep='\\n')\n",
    "    else:\n",
    "        print(\"NO\")"
   ]
  },
  {
   "cell_type": "code",
   "execution_count": null,
   "id": "24f496f0",
   "metadata": {},
   "outputs": [],
   "source": []
  }
 ],
 "metadata": {
  "kernelspec": {
   "display_name": "Python 3 (ipykernel)",
   "language": "python",
   "name": "python3"
  },
  "language_info": {
   "codemirror_mode": {
    "name": "ipython",
    "version": 3
   },
   "file_extension": ".py",
   "mimetype": "text/x-python",
   "name": "python",
   "nbconvert_exporter": "python",
   "pygments_lexer": "ipython3",
   "version": "3.9.7"
  }
 },
 "nbformat": 4,
 "nbformat_minor": 5
}
